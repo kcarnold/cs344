{
 "cells": [
  {
   "cell_type": "code",
   "execution_count": 1,
   "metadata": {},
   "outputs": [
    {
     "name": "stdout",
     "output_type": "stream",
     "text": [
      "[998, 1968, 3017, 4017]\n"
     ]
    }
   ],
   "source": [
    "import random\n",
    "def sample(probs):\n",
    "    \"\"\"\n",
    "    Sample from a discrete distribution.\n",
    "    :param probs: a list of probabilities, which must sum to 1\n",
    "    :return: an index sampled from the distribution\n",
    "    \"\"\"\n",
    "\n",
    "    assert sum(probs) == 1\n",
    "    # all non-negative\n",
    "    assert all(p >= 0 for p in probs)\n",
    "\n",
    "    # pick a random number between 0 and 1\n",
    "    r = random.random()\n",
    "    # find the first index where the cumulative probability exceeds r\n",
    "    p_less = 0\n",
    "    for i, p in enumerate(probs):\n",
    "        p_less += p\n",
    "        if r < p_less:\n",
    "            return i\n",
    "    return len(probs) - 1\n",
    "\n",
    "# demo\n",
    "probs = [0.1, 0.2, 0.3, 0.4]\n",
    "counts = [0, 0, 0, 0]\n",
    "for i in range(10000):\n",
    "    counts[sample(probs)] += 1\n",
    "print(counts)\n"
   ]
  },
  {
   "cell_type": "code",
   "execution_count": null,
   "metadata": {},
   "outputs": [],
   "source": []
  }
 ],
 "metadata": {
  "kernelspec": {
   "display_name": "fa22",
   "language": "python",
   "name": "fa22"
  },
  "language_info": {
   "codemirror_mode": {
    "name": "ipython",
    "version": 3
   },
   "file_extension": ".py",
   "mimetype": "text/x-python",
   "name": "python",
   "nbconvert_exporter": "python",
   "pygments_lexer": "ipython3",
   "version": "3.10.5"
  },
  "orig_nbformat": 4
 },
 "nbformat": 4,
 "nbformat_minor": 2
}
