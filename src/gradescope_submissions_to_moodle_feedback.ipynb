{
 "cells": [
  {
   "attachments": {},
   "cell_type": "markdown",
   "metadata": {},
   "source": [
    "# Create a feedback ZIP for Moodle based on Gradescope exported submissions."
   ]
  },
  {
   "cell_type": "code",
   "execution_count": null,
   "metadata": {},
   "outputs": [],
   "source": [
    "from pathlib import Path\n",
    "import pandas as pd\n",
    "import shutil\n",
    "import yaml"
   ]
  },
  {
   "cell_type": "code",
   "execution_count": null,
   "metadata": {},
   "outputs": [],
   "source": [
    "base_dir = Path('/Users/ka37/Dropbox/Mac/Downloads/assignment_2778979_export 2')\n",
    "metadata_file = base_dir / 'submission_metadata.yml'"
   ]
  },
  {
   "cell_type": "code",
   "execution_count": null,
   "metadata": {},
   "outputs": [],
   "source": [
    "metadata = yaml.load(metadata_file.read_text(), Loader=yaml.FullLoader)\n",
    "next(iter(metadata.values()))"
   ]
  },
  {
   "cell_type": "code",
   "execution_count": null,
   "metadata": {},
   "outputs": [],
   "source": [
    "# load the Moodle offline grading spreadsheet for this assignment\n",
    "# this is needed because Moodle has participant ids that don't match the \"ID number\" in the roster\n",
    "roster = pd.read_csv('/Users/ka37/Dropbox/Mac/Downloads/Grades-23SP CS-344-A-Midterm 1-1618120.csv')\n",
    "roster.head()"
   ]
  },
  {
   "cell_type": "code",
   "execution_count": null,
   "metadata": {},
   "outputs": [],
   "source": [
    "# split out the user id from the \"Identifier\" column, which has strings like \"Participant 1234\"\n",
    "roster['user_id'] = roster['Identifier'].str.split(' ').str[1].astype(int)\n",
    "roster.head()"
   ]
  },
  {
   "cell_type": "code",
   "execution_count": null,
   "metadata": {},
   "outputs": [],
   "source": [
    "out_dir = Path('../student_data/midterm_1')\n",
    "out_dir.mkdir(exist_ok=True)"
   ]
  },
  {
   "cell_type": "code",
   "execution_count": null,
   "metadata": {},
   "outputs": [],
   "source": [
    "for filename, submission_data in metadata.items():\n",
    "    assert len(submission_data[':submitters']) == 1\n",
    "    submitter = submission_data[':submitters'][0]\n",
    "    name = submitter[':name']\n",
    "    email = submitter[':email'].replace('@students.calvin.edu', '@calvin.edu')\n",
    "    # find the student in the roster.\n",
    "    student = roster[roster['Email address'] == email]\n",
    "    assert len(student) == 1\n",
    "    student = student.iloc[0]\n",
    "    # create the output directory.\n",
    "    student_dir = out_dir / f\"{name}_{student['user_id']}_assignsubmission_file_\"\n",
    "    student_dir.mkdir(exist_ok=True)\n",
    "    # copy the submission file.\n",
    "    submission_file = base_dir / filename\n",
    "    shutil.copy(submission_file, student_dir / 'feedback.pdf')"
   ]
  }
 ],
 "metadata": {
  "kernelspec": {
   "display_name": "fa22",
   "language": "python",
   "name": "fa22"
  },
  "language_info": {
   "codemirror_mode": {
    "name": "ipython",
    "version": 3
   },
   "file_extension": ".py",
   "mimetype": "text/x-python",
   "name": "python",
   "nbconvert_exporter": "python",
   "pygments_lexer": "ipython3",
   "version": "3.10.5"
  },
  "orig_nbformat": 4
 },
 "nbformat": 4,
 "nbformat_minor": 2
}
