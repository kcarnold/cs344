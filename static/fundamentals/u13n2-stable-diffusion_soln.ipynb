{
 "cells": [
  {
   "cell_type": "markdown",
   "id": "5dcb2f23-7bcb-42d6-ae00-c336222dcd93",
   "metadata": {},
   "source": [
    "# Stable Diffusion Deep Dive\n",
    "\n",
    "Stable Diffusion is a powerful text-to-image model. There are various websites and tools to make using it as easy as possible. It is also [integrated into the Huggingface diffusers library](https://huggingface.co/blog/stable_diffusion) where generating images can be as simple as:\n",
    "```python\n",
    "from diffusers import StableDiffusionPipeline\n",
    "pipe = StableDiffusionPipeline.from_pretrained(\"CompVis/stable-diffusion-v1-4\", revision=\"fp16\", torch_dtype=torch.float16, use_auth_token=True).to(\"cuda\")\n",
    "image = pipe(\"An astronaught scuba diving\").images[0]\n",
    "\n",
    "```\n",
    "\n",
    "In this notebook we're going to dig into the code behind these easy-to-use interfaces, to see what is going on under the hood. We'll begin by re-creating the functionality above as a scary chunk of code, and then one by one we'll inspect the different components and figure out what they do. By the end of this notebook that same sampling loop should feel like something you can tweak and modify as you like. "
   ]
  },
  {
   "cell_type": "markdown",
   "id": "4435401f-aa50-442b-91bd-bbdc17c81f5c",
   "metadata": {},
   "source": [
    "## Setup & Imports\n",
    "\n",
    "You'll need to log into huggingface and accept the terms of the licence for this model - see the [model card](https://huggingface.co/CompVis/stable-diffusion-v1-4) for details. And when you first run this notebook you need to uncomment the following two cells to install the requirements and log in to huggingface with an access token."
   ]
  },
  {
   "cell_type": "code",
   "execution_count": null,
   "id": "8bf2d5ca",
   "metadata": {
    "ExecuteTime": {
     "end_time": "2023-04-14T13:52:23.261928Z",
     "start_time": "2023-04-14T13:52:21.275938Z"
    }
   },
   "outputs": [],
   "source": [
    "#!pip install --upgrade transformers diffusers ftfy\n",
    "!pip install diffusers==0.11.1 accelerate ftfy"
   ]
  },
  {
   "cell_type": "markdown",
   "id": "d7a63a73",
   "metadata": {},
   "source": [
    "CS 344 in lab: let's make sure that you've got the path set up and it's not going to try to download the model into your network homedir."
   ]
  },
  {
   "cell_type": "code",
   "execution_count": null,
   "id": "0c89855f",
   "metadata": {
    "ExecuteTime": {
     "end_time": "2023-04-14T13:52:23.373602Z",
     "start_time": "2023-04-14T13:52:23.266819Z"
    }
   },
   "outputs": [],
   "source": [
    "import huggingface_hub\n",
    "assert str(huggingface_hub.cached_assets_path('diffusers')).startswith('/scratch'), \"Scratch path not set. Uncomment the following line, then log out and log back in.\"\n",
    "#!/home/cs/344/setup-cs344.sh"
   ]
  },
  {
   "cell_type": "code",
   "execution_count": null,
   "id": "650e1224-d757-45e9-a7cc-67d608bd73bd",
   "metadata": {
    "ExecuteTime": {
     "end_time": "2023-04-14T13:52:27.090901Z",
     "start_time": "2023-04-14T13:52:23.511455Z"
    }
   },
   "outputs": [],
   "source": [
    "from base64 import b64encode\n",
    "\n",
    "import numpy\n",
    "import torch\n",
    "from diffusers import AutoencoderKL, LMSDiscreteScheduler, UNet2DConditionModel\n",
    "from huggingface_hub import notebook_login\n",
    "\n",
    "# For video display:\n",
    "from IPython.display import HTML\n",
    "from matplotlib import pyplot as plt\n",
    "from pathlib import Path\n",
    "from PIL import Image\n",
    "from torch import autocast\n",
    "from torchvision import transforms as tfms\n",
    "from tqdm.auto import tqdm\n",
    "from transformers import CLIPTextModel, CLIPTokenizer, logging\n",
    "\n",
    "torch.manual_seed(1)\n",
    "if not (Path.home()/'.huggingface'/'token').exists(): notebook_login()\n",
    "\n",
    "# Supress some unnecessary warnings when loading the CLIPTextModel\n",
    "logging.set_verbosity_error()\n",
    "\n",
    "# Set device\n",
    "torch_device = \"cuda\" if torch.cuda.is_available() else \"cpu\""
   ]
  },
  {
   "cell_type": "markdown",
   "id": "c1e4e75b-21fc-496f-8b0c-371353b145f4",
   "metadata": {},
   "source": [
    "## Loading the models\n",
    "\n",
    "This code (and that in the next section) comes from the [Huggingface example notebook](https://colab.research.google.com/github/huggingface/notebooks/blob/main/diffusers/stable_diffusion.ipynb). \n",
    "\n",
    "This will download and set up the relevant models and components we'll be using. Let's just run this for now and move on to the next section to check that it all works before diving deeper.\n",
    "\n",
    "If you've loaded a pipeline, you can also access these components using `pipe.unet`, `pipe.vae` and so on.\n",
    "\n",
    "In this notebook we aren't doing any memory-saving tricks - if you find yourself running out of GPU RAM, look at the pipeline code for inspiration with things like attention slicing, switching to half precision (fp16), keeping the VAE on the CPU and other modifications."
   ]
  },
  {
   "cell_type": "code",
   "execution_count": null,
   "id": "eb58f35f-dde0-428f-92d8-606fd3c0676d",
   "metadata": {
    "ExecuteTime": {
     "end_time": "2023-04-14T13:52:31.612031Z",
     "start_time": "2023-04-14T13:52:27.091933Z"
    }
   },
   "outputs": [],
   "source": [
    "# Load the autoencoder model which will be used to decode the latents into image space. \n",
    "vae = AutoencoderKL.from_pretrained(\"CompVis/stable-diffusion-v1-4\", subfolder=\"vae\")\n",
    "\n",
    "# Load the tokenizer and text encoder to tokenize and encode the text. \n",
    "tokenizer = CLIPTokenizer.from_pretrained(\"openai/clip-vit-large-patch14\")\n",
    "text_encoder = CLIPTextModel.from_pretrained(\"openai/clip-vit-large-patch14\")\n",
    "\n",
    "# The UNet model for generating the latents.\n",
    "unet = UNet2DConditionModel.from_pretrained(\"CompVis/stable-diffusion-v1-4\", subfolder=\"unet\")\n",
    "\n",
    "# The noise scheduler\n",
    "scheduler = LMSDiscreteScheduler(beta_start=0.00085, beta_end=0.012, beta_schedule=\"scaled_linear\", num_train_timesteps=1000)\n",
    "\n",
    "# To the GPU we go!\n",
    "vae = vae.to(torch_device)\n",
    "text_encoder = text_encoder.to(torch_device)\n",
    "unet = unet.to(torch_device);"
   ]
  },
  {
   "cell_type": "markdown",
   "id": "4e6c78e1-f013-4926-9022-c0b3916b5bde",
   "metadata": {},
   "source": [
    "## A diffusion loop\n",
    "\n",
    "If all you want is to make a picture with some text, you could ignore this notebook and use one of the existing tools (such as [DreamStudio](https://beta.dreamstudio.ai/)) or use the simplified pipeline from huggingface, as documented [here](https://huggingface.co/blog/stable_diffusion).\n",
    "\n",
    "What we want to do in this notebook is dig a little deeper into how this works, so we'll start by checking that the example code runs. Again, this is adapted from the [HF notebook](https://colab.research.google.com/github/huggingface/notebooks/blob/main/diffusers/stable_diffusion.ipynb) and looks very similar to what you'll find if you inspect [the `__call__()` method of the stable diffusion pipeline](https://github.com/huggingface/diffusers/blob/main/src/diffusers/pipelines/stable_diffusion/pipeline_stable_diffusion.py#L200).  "
   ]
  },
  {
   "cell_type": "code",
   "execution_count": null,
   "id": "ac073f3e-37b4-464e-bc19-69370b5719c3",
   "metadata": {
    "ExecuteTime": {
     "end_time": "2023-04-14T13:52:39.309811Z",
     "start_time": "2023-04-14T13:52:31.612763Z"
    }
   },
   "outputs": [],
   "source": [
    "# Some settings\n",
    "prompt = [\"A watercolor painting of an otter\"]\n",
    "height = 512                        # default height of Stable Diffusion\n",
    "width = 512                         # default width of Stable Diffusion\n",
    "num_inference_steps = 30            # Number of denoising steps\n",
    "guidance_scale = 7.5                # Scale for classifier-free guidance\n",
    "generator = torch.manual_seed(32)   # Seed generator to create the inital latent noise\n",
    "batch_size = 1\n",
    "\n",
    "# Prep text \n",
    "text_input = tokenizer(prompt, padding=\"max_length\", max_length=tokenizer.model_max_length, truncation=True, return_tensors=\"pt\")\n",
    "with torch.no_grad():\n",
    "    text_embeddings = text_encoder(text_input.input_ids.to(torch_device))[0]\n",
    "max_length = text_input.input_ids.shape[-1]\n",
    "uncond_input = tokenizer(\n",
    "    [\"\"] * batch_size, padding=\"max_length\", max_length=max_length, return_tensors=\"pt\"\n",
    ")\n",
    "with torch.no_grad():\n",
    "    uncond_embeddings = text_encoder(uncond_input.input_ids.to(torch_device))[0] \n",
    "text_embeddings = torch.cat([uncond_embeddings, text_embeddings])\n",
    "\n",
    "# Prep Scheduler\n",
    "scheduler.set_timesteps(num_inference_steps)\n",
    "\n",
    "# Prep latents\n",
    "latents = torch.randn(\n",
    "  (batch_size, unet.in_channels, height // 8, width // 8),\n",
    "  generator=generator,\n",
    ")\n",
    "latents = latents.to(torch_device)\n",
    "latents = latents * scheduler.init_noise_sigma # Scaling (previous versions did latents = latents * self.scheduler.sigmas[0]\n",
    "\n",
    "# Loop\n",
    "with autocast(\"cuda\"):\n",
    "    for i, t in tqdm(enumerate(scheduler.timesteps)):\n",
    "        # expand the latents if we are doing classifier-free guidance to avoid doing two forward passes.\n",
    "        latent_model_input = torch.cat([latents] * 2)\n",
    "        sigma = scheduler.sigmas[i]\n",
    "        # Scale the latents (preconditioning):\n",
    "        # latent_model_input = latent_model_input / ((sigma**2 + 1) ** 0.5) # Diffusers 0.3 and below\n",
    "        latent_model_input = scheduler.scale_model_input(latent_model_input, t)\n",
    "\n",
    "        # predict the noise residual\n",
    "        with torch.no_grad():\n",
    "            noise_pred = unet(latent_model_input, t, encoder_hidden_states=text_embeddings).sample\n",
    "\n",
    "        # perform guidance\n",
    "        noise_pred_uncond, noise_pred_text = noise_pred.chunk(2)\n",
    "        noise_pred = noise_pred_uncond + guidance_scale * (noise_pred_text - noise_pred_uncond)\n",
    "\n",
    "        # compute the previous noisy sample x_t -> x_t-1\n",
    "        # latents = scheduler.step(noise_pred, i, latents)[\"prev_sample\"] # Diffusers 0.3 and below\n",
    "        latents = scheduler.step(noise_pred, t, latents).prev_sample\n",
    "\n",
    "# scale and decode the image latents with vae\n",
    "latents = 1 / 0.18215 * latents\n",
    "with torch.no_grad():\n",
    "    image = vae.decode(latents).sample\n",
    "\n",
    "# Display\n",
    "image = (image / 2 + 0.5).clamp(0, 1)\n",
    "image = image.detach().cpu().permute(0, 2, 3, 1).numpy()\n",
    "images = (image * 255).round().astype(\"uint8\")\n",
    "pil_images = [Image.fromarray(image) for image in images]\n",
    "pil_images[0]"
   ]
  },
  {
   "cell_type": "markdown",
   "id": "4930d82f-7624-427e-ab21-60351457967a",
   "metadata": {},
   "source": [
    "It's working, but that's quite a bit of code! Let's look at the components one by one."
   ]
  },
  {
   "cell_type": "markdown",
   "id": "ea3e8718-0b64-490e-82db-304e039bece5",
   "metadata": {},
   "source": [
    "## The Autoencoder (AE)\n",
    "\n",
    "The AE can 'encode' an image into some sort of latent representation, and decode this back into an image. I've wrapped the code for this into a couple of functions here so we can see what this looks like in action:"
   ]
  },
  {
   "cell_type": "code",
   "execution_count": null,
   "id": "42d594a2-cc70-4daf-81eb-005e906118d3",
   "metadata": {
    "ExecuteTime": {
     "end_time": "2023-04-14T13:52:39.313590Z",
     "start_time": "2023-04-14T13:52:39.310564Z"
    }
   },
   "outputs": [],
   "source": [
    "def pil_to_latent(input_im):\n",
    "    # Single image -> single latent in a batch (so size 1, 4, 64, 64)\n",
    "    with torch.no_grad():\n",
    "        latent = vae.encode(tfms.ToTensor()(input_im).unsqueeze(0).to(torch_device)*2-1) # Note scaling\n",
    "    return 0.18215 * latent.latent_dist.sample()\n",
    "\n",
    "def latents_to_pil(latents):\n",
    "    # bath of latents -> list of images\n",
    "    latents = (1 / 0.18215) * latents\n",
    "    with torch.no_grad():\n",
    "        image = vae.decode(latents).sample\n",
    "    image = (image / 2 + 0.5).clamp(0, 1)\n",
    "    image = image.detach().cpu().permute(0, 2, 3, 1).numpy()\n",
    "    images = (image * 255).round().astype(\"uint8\")\n",
    "    pil_images = [Image.fromarray(image) for image in images]\n",
    "    return pil_images"
   ]
  },
  {
   "cell_type": "markdown",
   "id": "dbaab337-7514-4efa-815e-b80478205499",
   "metadata": {},
   "source": [
    "We'll use a pic from the web here, but you can load your own instead by uploading it and editing the filename in the next cell. "
   ]
  },
  {
   "cell_type": "code",
   "execution_count": null,
   "id": "6359ddd6-8275-4922-b6ec-fbc4f1ed03db",
   "metadata": {
    "ExecuteTime": {
     "end_time": "2023-04-14T13:52:40.265292Z",
     "start_time": "2023-04-14T13:52:39.314302Z"
    }
   },
   "outputs": [],
   "source": [
    "# Download a demo Image\n",
    "!curl --output macaw.jpg 'https://lafeber.com/pet-birds/wp-content/uploads/2018/06/Scarlet-Macaw-2.jpg'"
   ]
  },
  {
   "cell_type": "code",
   "execution_count": null,
   "id": "93e3ede1-cbc0-4050-8e81-021c8dbe6aa7",
   "metadata": {
    "ExecuteTime": {
     "end_time": "2023-04-14T13:52:40.410837Z",
     "start_time": "2023-04-14T13:52:40.269900Z"
    }
   },
   "outputs": [],
   "source": [
    "# Load the image with PIL\n",
    "input_image = Image.open('macaw.jpg').resize((512, 512))\n",
    "input_image"
   ]
  },
  {
   "cell_type": "markdown",
   "id": "9c925a72-36fc-4b2b-8a65-b3794c34fe92",
   "metadata": {},
   "source": [
    "Encoding this into the latent space of the AE with the function defined above looks like this:"
   ]
  },
  {
   "cell_type": "code",
   "execution_count": null,
   "id": "063ddf64-a028-4b2b-b300-8970151d5fce",
   "metadata": {
    "ExecuteTime": {
     "end_time": "2023-04-14T13:52:40.528174Z",
     "start_time": "2023-04-14T13:52:40.412243Z"
    }
   },
   "outputs": [],
   "source": [
    "# Encode to the latent space\n",
    "encoded = pil_to_latent(input_image)\n",
    "encoded.shape"
   ]
  },
  {
   "cell_type": "code",
   "execution_count": null,
   "id": "a519d92b-7fd3-4b1b-bc98-fae8cdb8819d",
   "metadata": {
    "ExecuteTime": {
     "end_time": "2023-04-14T13:52:40.929589Z",
     "start_time": "2023-04-14T13:52:40.529114Z"
    }
   },
   "outputs": [],
   "source": [
    "# Let's visualize the four channels of this latent representation:\n",
    "fig, axs = plt.subplots(1, 4, figsize=(16, 4))\n",
    "for c in range(4):\n",
    "    axs[c].imshow(encoded[0][c].cpu(), cmap='Greys')"
   ]
  },
  {
   "cell_type": "markdown",
   "id": "1b21fa66-1cad-461e-9d60-99045397fca0",
   "metadata": {},
   "source": [
    "This 4x64x64 tensor captures lots of information about the image, hopefully enough that when we feed it through the decoder we get back something very close to our input image:"
   ]
  },
  {
   "cell_type": "code",
   "execution_count": null,
   "id": "923be103-ef7c-4bfa-9015-86e085f636b5",
   "metadata": {
    "ExecuteTime": {
     "end_time": "2023-04-14T13:52:41.569707Z",
     "start_time": "2023-04-14T13:52:40.930443Z"
    }
   },
   "outputs": [],
   "source": [
    "# Decode this latent representation back into an image\n",
    "decoded = latents_to_pil(encoded)[0]\n",
    "decoded"
   ]
  },
  {
   "cell_type": "markdown",
   "id": "5b781601-b799-4103-b39a-5411d07ed035",
   "metadata": {},
   "source": [
    "You'll see some small differences if you squint! Forcus on the eye if you can't see anything obvious. This is pretty impressive - that 4x64x64 latent seems to hold a lot more information that a 64px image...\n",
    "\n",
    "This autoencoder has been trained to squish down an image to a smaller representation and then re-create the image back from this compressed version again.\n",
    "\n",
    "In this particular case the compression factor is 48, we start with a 3x512x512(chxhtxwd) image and it get compressed to a latent vector 4x64x64. Each 3x8x8 pixel volume in the input image gets compressed down to just 4 numbers(4x1x1). You can find AEs with a higher compression ratio (eg f16 like some popular VQGAN models) but at some point they begin to introduce artifacts that we don't want. \n",
    "\n",
    "Why do we even use an autoencoder? We can do diffusion in pixel space - where the model gets all the image data as inputs and produces an output prediction of the same shape. But this means processing a LOT of data, and make high-resolution generation very computationally expensive. Some solutions to this involve doing diffusion at low resolution (64px for eg) and then training a separate model to upscale repeatedly (as with D2/Imagen). But latent diffusion instead does the diffusion process in this 'latent space', using the compressed representations from our AE rather than raw images. These representations are information rich, and can be small enough to handle manageably on consumer hardware. Once we've generated a new 'image' as a latent representation, the autoencoder can take those final latent outputs and turn them into actual pixels. "
   ]
  },
  {
   "cell_type": "markdown",
   "id": "029515ea-f0dc-4adb-987d-8362314a3dc7",
   "metadata": {},
   "source": [
    "# The Scheduler\n",
    "Now we need to talk about adding noise...\n",
    "\n",
    "During training, we add some noise to an image an then have the model try to predict the noise. If we always added a ton of noise, the model might not have much to work with. If we only add a tiny amount, the model won't be able to do much with the random starting points we use for sampling. So during training the amount is varied, according to some distribution.\n",
    "\n",
    "During sampling, we want to 'denoise' over a number of steps. How many steps and how much noise we should aim for at each step are going to affect the final result.\n",
    "\n",
    "The scheduler is in charge of handling all of these details. For example: `scheduler = LMSDiscreteScheduler(beta_start=0.00085, beta_end=0.012, beta_schedule=\"scaled_linear\", num_train_timesteps=1000)` sets up a scheduler that matches the one used to train this model. When we want to sample over a smaller number of steps, we set this up with `scheduler.set_timesteps`:"
   ]
  },
  {
   "cell_type": "code",
   "execution_count": null,
   "id": "de106057-3fc9-498e-a929-9d93a226b94d",
   "metadata": {
    "ExecuteTime": {
     "end_time": "2023-04-14T13:52:41.572549Z",
     "start_time": "2023-04-14T13:52:41.570505Z"
    }
   },
   "outputs": [],
   "source": [
    "# Setting the number of sampling steps:\n",
    "scheduler.set_timesteps(15)"
   ]
  },
  {
   "cell_type": "markdown",
   "id": "d4c9ca1b-0949-458d-aaed-7fab872ae4ab",
   "metadata": {},
   "source": [
    "You can see how our new set of steps corresponds to those used in training:"
   ]
  },
  {
   "cell_type": "code",
   "execution_count": null,
   "id": "ef2ab06a-d544-4b3b-a94d-7b9c56465d63",
   "metadata": {
    "ExecuteTime": {
     "end_time": "2023-04-14T13:52:41.826826Z",
     "start_time": "2023-04-14T13:52:41.573253Z"
    }
   },
   "outputs": [],
   "source": [
    "# See these in terms of the original 1000 steps used for training:\n",
    "print(scheduler.timesteps)"
   ]
  },
  {
   "cell_type": "markdown",
   "id": "f87a1f89-a9fa-40f2-8001-b70d42c35f4e",
   "metadata": {},
   "source": [
    "And how much noise is present at each:"
   ]
  },
  {
   "cell_type": "code",
   "execution_count": null,
   "id": "8730371e-befa-4648-bfaf-295c397b036e",
   "metadata": {
    "ExecuteTime": {
     "end_time": "2023-04-14T13:52:42.066525Z",
     "start_time": "2023-04-14T13:52:41.831036Z"
    }
   },
   "outputs": [],
   "source": [
    "# Look at the equivalent noise levels:\n",
    "print(scheduler.sigmas)"
   ]
  },
  {
   "cell_type": "markdown",
   "id": "f88415d0-93c5-43fe-b8f3-8c3550bd9811",
   "metadata": {},
   "source": [
    "During sampling, we'll start at a high noise level (in fact, our input will be pure noise) and gradually 'denoise' down to an image, according to this schedule."
   ]
  },
  {
   "cell_type": "code",
   "execution_count": null,
   "id": "310e72ea-0900-4a29-85a2-2bf150d4cce3",
   "metadata": {
    "ExecuteTime": {
     "end_time": "2023-04-14T13:52:42.369383Z",
     "start_time": "2023-04-14T13:52:42.070049Z"
    }
   },
   "outputs": [],
   "source": [
    "# Plotting this noise schedule:\n",
    "plt.plot(scheduler.sigmas)\n",
    "plt.title('Noise Schedule')\n",
    "plt.xlabel('Sampling step')\n",
    "plt.ylabel('sigma')\n",
    "plt.show()"
   ]
  },
  {
   "cell_type": "code",
   "execution_count": null,
   "id": "6e780d9c-b7b1-412e-a67d-c186b3680b0e",
   "metadata": {
    "ExecuteTime": {
     "end_time": "2023-04-14T13:52:42.542200Z",
     "start_time": "2023-04-14T13:52:42.370203Z"
    }
   },
   "outputs": [],
   "source": [
    "# TODO maybe show timestep as well"
   ]
  },
  {
   "cell_type": "markdown",
   "id": "594326d6-6909-4a33-9110-e93730c3167c",
   "metadata": {},
   "source": [
    "This 'sigma' is the amount of noise added to the latent representation. Let's visualize what this looks like by adding a bit of noise to our encoded image and then decoding this noised version:"
   ]
  },
  {
   "cell_type": "code",
   "execution_count": null,
   "id": "37a106fc-671d-4782-a675-923b148bafdb",
   "metadata": {
    "ExecuteTime": {
     "end_time": "2023-04-14T13:52:43.100342Z",
     "start_time": "2023-04-14T13:52:42.546609Z"
    }
   },
   "outputs": [],
   "source": [
    "noise = torch.randn_like(encoded) # Random noise\n",
    "sampling_step = 10 # Equivalent to step 10 out of 15 in the schedule above\n",
    "# encoded_and_noised = scheduler.add_noise(encoded, noise, timestep) # Diffusers 0.3 and below\n",
    "encoded_and_noised = scheduler.add_noise(encoded, noise, timesteps=torch.tensor([scheduler.timesteps[sampling_step]]))\n",
    "latents_to_pil(encoded_and_noised.float())[0] # Display"
   ]
  },
  {
   "cell_type": "markdown",
   "id": "5ef72722-f320-40f3-b591-c5334d539b76",
   "metadata": {},
   "source": [
    "What does this look like at different timesteps? Experiment and see for yourself!\n",
    "\n",
    "If you uncomment the cell below you'll see that in this case the `scheduler.add_noise` function literally just adds noise scaled by sigma: `noisy_samples = original_samples + noise * sigmas`"
   ]
  },
  {
   "cell_type": "code",
   "execution_count": null,
   "id": "795ee8ae-a8da-4a5b-9fdb-ae2d16f675d9",
   "metadata": {
    "ExecuteTime": {
     "end_time": "2023-04-14T13:52:43.102611Z",
     "start_time": "2023-04-14T13:52:43.101200Z"
    }
   },
   "outputs": [],
   "source": [
    "# ??scheduler.add_noise"
   ]
  },
  {
   "cell_type": "markdown",
   "id": "69d837f0-a3bf-4703-a4d6-153236fd0636",
   "metadata": {},
   "source": [
    "Other diffusion models may be trained with different noising and scheduling approaches, some of which keep the variance fairly constant across noise levels ('variance preserving') with different scaling and mixing tricks instead of having noisy latents with higher and higher variance as more noise is added ('variance exploding'). \n",
    "\n",
    "If we want to start from random noise instead of a noised image, we need to scale it by the largest sigma value used during training, ~14 in this case. And before these noisy latents are fed to the model they are scaled again in the so-called pre-conditioning step:\n",
    "`latent_model_input = latent_model_input / ((sigma**2 + 1) ** 0.5)` (now handled by `latent_model_input = scheduler.scale_model_input(latent_model_input, t)`).\n",
    "\n",
    "Again, this scaling/pre-conditioning differs between papers and implementations, so keep an eye out for this if you work with a different type of diffusion model."
   ]
  },
  {
   "cell_type": "markdown",
   "id": "e6310e29-7a19-4999-8b1b-d1b77c2530dd",
   "metadata": {},
   "source": [
    "## Loop starting from noised version of input (AKA image2image)\n",
    "\n",
    "Let's see what happens when we use our image as a starting point, adding some noise and then doing the final few denoising steps in the loop with a new prompt.\n",
    "\n",
    "We'll use a similar loop to the first demo, but we'll skip the first `start_step` steps.\n",
    "\n",
    "To noise our image we'll use code like that shown above, using the scheduler to noise it to a level equivalent to step 10 (`start_step`)."
   ]
  },
  {
   "cell_type": "code",
   "execution_count": null,
   "id": "9c76bde3-a33f-4c43-ae18-24dffb93b56d",
   "metadata": {
    "ExecuteTime": {
     "end_time": "2023-04-14T13:52:54.532344Z",
     "start_time": "2023-04-14T13:52:43.103350Z"
    }
   },
   "outputs": [],
   "source": [
    "# Settings (same as before except for the new prompt)\n",
    "prompt = [\"A colorful dancer, nat geo photo\"]\n",
    "height = 512                        # default height of Stable Diffusion\n",
    "width = 512                         # default width of Stable Diffusion\n",
    "num_inference_steps = 50            # Number of denoising steps\n",
    "guidance_scale = 8                  # Scale for classifier-free guidance\n",
    "generator = torch.manual_seed(32)   # Seed generator to create the inital latent noise\n",
    "batch_size = 1\n",
    "\n",
    "# Prep text (same as before)\n",
    "text_input = tokenizer(prompt, padding=\"max_length\", max_length=tokenizer.model_max_length, truncation=True, return_tensors=\"pt\")\n",
    "with torch.no_grad():\n",
    "    text_embeddings = text_encoder(text_input.input_ids.to(torch_device))[0]\n",
    "max_length = text_input.input_ids.shape[-1]\n",
    "uncond_input = tokenizer(\n",
    "    [\"\"] * batch_size, padding=\"max_length\", max_length=max_length, return_tensors=\"pt\"\n",
    ")\n",
    "with torch.no_grad():\n",
    "    uncond_embeddings = text_encoder(uncond_input.input_ids.to(torch_device))[0] \n",
    "text_embeddings = torch.cat([uncond_embeddings, text_embeddings])\n",
    "\n",
    "# Prep Scheduler (setting the number of inference steps)\n",
    "scheduler.set_timesteps(num_inference_steps)\n",
    "\n",
    "# Prep latents (noising appropriately for start_step)\n",
    "start_step = 10\n",
    "start_sigma = scheduler.sigmas[start_step]\n",
    "noise = torch.randn_like(encoded)\n",
    "latents = scheduler.add_noise(encoded, noise, timesteps=torch.tensor([scheduler.timesteps[start_step]]))\n",
    "latents = latents.to(torch_device).float()\n",
    "\n",
    "# Loop\n",
    "for i, t in tqdm(enumerate(scheduler.timesteps)):\n",
    "    if i >= start_step: # << This is the only modification to the loop we do\n",
    "        \n",
    "        # expand the latents if we are doing classifier-free guidance to avoid doing two forward passes.\n",
    "        latent_model_input = torch.cat([latents] * 2)\n",
    "        sigma = scheduler.sigmas[i]\n",
    "        latent_model_input = scheduler.scale_model_input(latent_model_input, t)\n",
    "\n",
    "        # predict the noise residual\n",
    "        with torch.no_grad():\n",
    "            noise_pred = unet(latent_model_input, t, encoder_hidden_states=text_embeddings)[\"sample\"]\n",
    "\n",
    "        # perform guidance\n",
    "        noise_pred_uncond, noise_pred_text = noise_pred.chunk(2)\n",
    "        noise_pred = noise_pred_uncond + guidance_scale * (noise_pred_text - noise_pred_uncond)\n",
    "\n",
    "        # compute the previous noisy sample x_t -> x_t-1\n",
    "        latents = scheduler.step(noise_pred, t, latents).prev_sample\n",
    "\n",
    "latents_to_pil(latents)[0]"
   ]
  },
  {
   "cell_type": "markdown",
   "id": "b06c1728-e908-43c1-8cf5-ce6f07f1ad57",
   "metadata": {},
   "source": [
    "You can see that some colours and structure from the image are kept, but we now have a new picture! The more noise you add and the more steps you do, the further away it gets from the input image. \n",
    "\n",
    "This is how the popular img2img pipeline works. Again, if this is your end goal there are tools to make this easy!\n",
    "\n",
    "But you can see that under the hood this is the same as the generation loop just skipping the first few steps and starting from a noised image rather than pure noise.\n",
    "\n",
    "Explore changing how many steps are skipped and see how this affects the amount the image changes from the input."
   ]
  },
  {
   "cell_type": "markdown",
   "id": "2af6ad7b-d054-44bd-b92e-7eb5b3b34924",
   "metadata": {},
   "source": [
    "## Exploring the text -> embedding pipeline\n",
    "\n",
    "We use a text encoder model to turn our text into a set of 'embeddings' which are fed to the diffusion model as conditioning. Let's follow a piece of text through this process and see how it works."
   ]
  },
  {
   "cell_type": "code",
   "execution_count": null,
   "id": "c4386c94-d518-4e70-b2b0-beb93281a5b8",
   "metadata": {
    "ExecuteTime": {
     "end_time": "2023-04-14T13:52:54.534673Z",
     "start_time": "2023-04-14T13:52:54.533168Z"
    }
   },
   "outputs": [],
   "source": [
    "# Our text prompt\n",
    "prompt = 'A picture of a puppy'"
   ]
  },
  {
   "cell_type": "markdown",
   "id": "e5f3c352-5d5a-4e63-8a50-3295960d3c0b",
   "metadata": {},
   "source": [
    "We begin with tokenization:"
   ]
  },
  {
   "cell_type": "code",
   "execution_count": null,
   "id": "297340b2-08ef-4fa4-a19a-0beffff7701b",
   "metadata": {
    "ExecuteTime": {
     "end_time": "2023-04-14T13:52:54.786522Z",
     "start_time": "2023-04-14T13:52:54.535478Z"
    }
   },
   "outputs": [],
   "source": [
    "# Turn the text into a sequnce of tokens:\n",
    "text_input = tokenizer(prompt, padding=\"max_length\", max_length=tokenizer.model_max_length, truncation=True, return_tensors=\"pt\")\n",
    "text_input['input_ids'][0] # View the tokens"
   ]
  },
  {
   "cell_type": "code",
   "execution_count": null,
   "id": "e7d7b883-0395-4cc8-82fc-f3dcd517cf58",
   "metadata": {
    "ExecuteTime": {
     "end_time": "2023-04-14T13:52:55.020708Z",
     "start_time": "2023-04-14T13:52:54.789971Z"
    }
   },
   "outputs": [],
   "source": [
    "# See the individual tokens\n",
    "for t in text_input['input_ids'][0][:8]: # We'll just look at the first 7 to save you from a wall of '<|endoftext|>'\n",
    "    print(t, tokenizer.decoder.get(int(t)))"
   ]
  },
  {
   "cell_type": "code",
   "execution_count": null,
   "id": "5ae2e3ae-f5e9-4a5b-a000-5fd0ba0c0035",
   "metadata": {
    "ExecuteTime": {
     "end_time": "2023-04-14T13:52:55.466843Z",
     "start_time": "2023-04-14T13:52:55.021475Z"
    }
   },
   "outputs": [],
   "source": [
    "# TODO call out that 6829 is puppy"
   ]
  },
  {
   "cell_type": "markdown",
   "id": "e5049441-e66a-44a8-bbbc-a2f2acded23f",
   "metadata": {},
   "source": [
    "We can jump straight to the final (output) embeddings like so:"
   ]
  },
  {
   "cell_type": "code",
   "execution_count": null,
   "id": "199dfda4-317c-40f7-a7e3-0badc5b870c1",
   "metadata": {
    "ExecuteTime": {
     "end_time": "2023-04-14T13:52:55.713929Z",
     "start_time": "2023-04-14T13:52:55.470609Z"
    }
   },
   "outputs": [],
   "source": [
    "# Grab the output embeddings\n",
    "output_embeddings = text_encoder(text_input.input_ids.to(torch_device))[0]\n",
    "print('Shape:', output_embeddings.shape)\n",
    "output_embeddings"
   ]
  },
  {
   "cell_type": "markdown",
   "id": "67c3719a-fe21-4476-ae36-28291a54d3a3",
   "metadata": {},
   "source": [
    "We pass our tokens through the text_encoder and we magically get some numbers we can feed to the model.\n",
    "\n",
    "How are these generated? The tokens are transformed into a set of input embeddings, which are then fed through the transformer model to get the final output embeddings. \n",
    "\n",
    "To get these input embeddings, there are actually two steps - as revealed by inspecting `text_encoder.text_model.embeddings`:"
   ]
  },
  {
   "cell_type": "code",
   "execution_count": null,
   "id": "5e785c3c-3b82-419e-bc06-79178bfc3134",
   "metadata": {
    "ExecuteTime": {
     "end_time": "2023-04-14T13:52:55.926357Z",
     "start_time": "2023-04-14T13:52:55.714629Z"
    }
   },
   "outputs": [],
   "source": [
    "text_encoder.text_model.embeddings"
   ]
  },
  {
   "cell_type": "markdown",
   "id": "dc75a74e-6ddf-4ccb-be05-ec6632843ae8",
   "metadata": {},
   "source": [
    "### Token embeddings\n",
    "\n",
    "The token is fed to the `token_embedding` to transform it into a vector. The function name `get_input_embeddings` here is misleading since these token embeddings need to be combined with the position embeddings before they are actually used as inputs to the model! Anyway, let's look at just the token embedding part first\n",
    "\n",
    "We can look at the embedding layer:"
   ]
  },
  {
   "cell_type": "code",
   "execution_count": null,
   "id": "c6e6493d-da7d-4737-b466-15a919091ff8",
   "metadata": {
    "ExecuteTime": {
     "end_time": "2023-04-14T13:52:56.167566Z",
     "start_time": "2023-04-14T13:52:55.928034Z"
    }
   },
   "outputs": [],
   "source": [
    "# Access the embedding layer\n",
    "token_emb_layer = text_encoder.text_model.embeddings.token_embedding\n",
    "token_emb_layer # Vocab size 49408, emb_dim 768"
   ]
  },
  {
   "cell_type": "markdown",
   "id": "4b4d26ee-36b4-467b-89ef-76ce46c14488",
   "metadata": {},
   "source": [
    "And embed a token like so:"
   ]
  },
  {
   "cell_type": "code",
   "execution_count": null,
   "id": "73707b6d-be31-455d-a583-24cac5068140",
   "metadata": {
    "ExecuteTime": {
     "end_time": "2023-04-14T13:52:56.403918Z",
     "start_time": "2023-04-14T13:52:56.176453Z"
    }
   },
   "outputs": [],
   "source": [
    "# Embed a token - in this case the one for 'puppy'\n",
    "embedding = token_emb_layer(torch.tensor(6829, device=torch_device))\n",
    "embedding.shape # 768-dim representation"
   ]
  },
  {
   "cell_type": "markdown",
   "id": "ae413af2-f4ed-4787-911b-cd46f5e4bee2",
   "metadata": {},
   "source": [
    "This single token has been mapped to a 768-dimensional vector - the token embedding.\n",
    "\n",
    "We can do the same with all of the tokens in the prompt to get all the token embeddings:"
   ]
  },
  {
   "cell_type": "code",
   "execution_count": null,
   "id": "4ab2ad70-35a2-46cd-b75b-00793c10f606",
   "metadata": {
    "ExecuteTime": {
     "end_time": "2023-04-14T13:52:56.642798Z",
     "start_time": "2023-04-14T13:52:56.407469Z"
    }
   },
   "outputs": [],
   "source": [
    "token_embeddings = token_emb_layer(text_input.input_ids.to(torch_device))\n",
    "print(token_embeddings.shape) # batch size 1, 77 tokens, 768 values for each\n",
    "token_embeddings"
   ]
  },
  {
   "cell_type": "markdown",
   "id": "c9e93a5a-4c9b-44dd-a928-34f0a8e9bb99",
   "metadata": {},
   "source": [
    "### Positional Embeddings\n",
    "\n",
    "Positional embeddings tell the model where in a sequence a token is. Much like the token embedding, this is a set of (optionally learnable) parameters. But now instead of dealing with ~50k tokens we just need one for each position (77 total):"
   ]
  },
  {
   "cell_type": "code",
   "execution_count": null,
   "id": "f35e0549-c5e9-4efb-abf0-e2390815ce06",
   "metadata": {
    "ExecuteTime": {
     "end_time": "2023-04-14T13:52:56.883245Z",
     "start_time": "2023-04-14T13:52:56.646034Z"
    }
   },
   "outputs": [],
   "source": [
    "pos_emb_layer = text_encoder.text_model.embeddings.position_embedding\n",
    "pos_emb_layer"
   ]
  },
  {
   "cell_type": "markdown",
   "id": "d4e03498-e021-4f1b-aec3-dd17ed0050d3",
   "metadata": {},
   "source": [
    "We can get the positional embedding for each position:"
   ]
  },
  {
   "cell_type": "code",
   "execution_count": null,
   "id": "880facca",
   "metadata": {
    "ExecuteTime": {
     "end_time": "2023-04-14T13:52:57.350016Z",
     "start_time": "2023-04-14T13:52:56.886689Z"
    }
   },
   "outputs": [],
   "source": [
    "position_ids = text_encoder.text_model.embeddings.position_ids[:, :77]\n",
    "position_embeddings = pos_emb_layer(position_ids)\n",
    "print(position_embeddings.shape)\n",
    "position_embeddings"
   ]
  },
  {
   "cell_type": "code",
   "execution_count": null,
   "id": "da4b876e",
   "metadata": {
    "ExecuteTime": {
     "end_time": "2023-04-14T13:52:57.579984Z",
     "start_time": "2023-04-14T13:52:57.353215Z"
    }
   },
   "outputs": [],
   "source": [
    "position_ids"
   ]
  },
  {
   "cell_type": "markdown",
   "id": "67c25701-817a-4bda-a93d-8b06fa6da1b1",
   "metadata": {},
   "source": [
    "### Combining token and position embeddings\n",
    "\n",
    "Time to combine the two. How do we do this? Just add them! Other approaches are possible but for this model this is how it is done.\n",
    "\n",
    "Combining them in this way gives us the final input embeddings ready to feed through the transformer model:"
   ]
  },
  {
   "cell_type": "code",
   "execution_count": null,
   "id": "6164a32c-b6ec-434b-90a0-7f8c80da0f30",
   "metadata": {
    "ExecuteTime": {
     "end_time": "2023-04-14T13:52:57.819950Z",
     "start_time": "2023-04-14T13:52:57.583460Z"
    }
   },
   "outputs": [],
   "source": [
    "# And combining them we get the final input embeddings\n",
    "input_embeddings = token_embeddings + position_embeddings\n",
    "print(input_embeddings.shape)\n",
    "input_embeddings"
   ]
  },
  {
   "cell_type": "markdown",
   "id": "f6bc3d81-1297-442e-8aff-bafd989b24f9",
   "metadata": {},
   "source": [
    "We can check that these are the same as the result we'd get from `text_encoder.text_model.embeddings`:"
   ]
  },
  {
   "cell_type": "code",
   "execution_count": null,
   "id": "1f3e6071-70a8-4246-96cb-e43b93a7a059",
   "metadata": {
    "ExecuteTime": {
     "end_time": "2023-04-14T13:52:58.056400Z",
     "start_time": "2023-04-14T13:52:57.823055Z"
    }
   },
   "outputs": [],
   "source": [
    "# The following combines all the above steps (but doesn't let us fiddle with them!)\n",
    "text_encoder.text_model.embeddings(text_input.input_ids.to(torch_device))"
   ]
  },
  {
   "cell_type": "markdown",
   "id": "1d2974fb-d960-4508-8395-8ba0bc3ce7f7",
   "metadata": {},
   "source": [
    "### Feeding these through the transformer model\n",
    "\n",
    "![transformer diagram](https://github.com/johnowhitaker/tglcourse/raw/main/images/text_encoder_noborder.png)"
   ]
  },
  {
   "cell_type": "markdown",
   "id": "a3c57e55-6940-4f0e-bdde-de951a4e04dd",
   "metadata": {},
   "source": [
    "We want to mess with these input embeddings (specifically the token embeddings) before we send them through the rest of the model, but first we should check that we know how to do that. I read the code of the text_encoders `forward` method, and based on that the code for the `forward` method of the text_model that the text_encoder wraps. To inspect it yourself, type `??text_encoder.text_model.forward` and you'll get the function info and source code - a useful debugging trick! \n",
    "\n",
    "Anyway, based on that we can copy in the bits we need to get the so-called 'last hidden state' and thus generate our final embeddings:"
   ]
  },
  {
   "cell_type": "code",
   "execution_count": null,
   "id": "2d7eeeb3",
   "metadata": {
    "ExecuteTime": {
     "end_time": "2023-04-14T13:52:58.562457Z",
     "start_time": "2023-04-14T13:52:58.057192Z"
    }
   },
   "outputs": [],
   "source": [
    "#text_encoder.text_model??"
   ]
  },
  {
   "cell_type": "code",
   "execution_count": null,
   "id": "36d56527-99df-4c03-bd64-869f578cb722",
   "metadata": {
    "ExecuteTime": {
     "end_time": "2023-04-14T13:53:44.887797Z",
     "start_time": "2023-04-14T13:53:44.855841Z"
    }
   },
   "outputs": [],
   "source": [
    "def get_output_embeds(input_embeddings):\n",
    "    # CLIP's text model uses causal mask, so we prepare it here:\n",
    "    bsz, seq_len = input_embeddings.shape[:2]\n",
    "    causal_attention_mask = text_encoder.text_model._build_causal_attention_mask(bsz, seq_len).to(input_embeddings.dtype)\n",
    "\n",
    "    # Getting the output embeddings involves calling the model with passing output_hidden_states=True \n",
    "    # so that it doesn't just return the pooled final predictions:\n",
    "    encoder_outputs = text_encoder.text_model.encoder(\n",
    "        inputs_embeds=input_embeddings,\n",
    "        attention_mask=None, # We aren't using an attention mask so that can be None\n",
    "        causal_attention_mask=causal_attention_mask.to(torch_device),\n",
    "        output_attentions=None,\n",
    "        output_hidden_states=True, # We want the output embs not the final output\n",
    "        return_dict=None,\n",
    "    )\n",
    "\n",
    "    # We're interested in the output hidden state only\n",
    "    output = encoder_outputs[0]\n",
    "\n",
    "    # There is a final layer norm we need to pass these through\n",
    "    output = text_encoder.text_model.final_layer_norm(output)\n",
    "\n",
    "    # And now they're ready!\n",
    "    return output\n",
    "\n",
    "out_embs_test = get_output_embeds(input_embeddings) # Feed through the model with our new function\n",
    "print(out_embs_test.shape) # Check the output shape\n",
    "out_embs_test # Inspect the output"
   ]
  },
  {
   "cell_type": "markdown",
   "id": "c2b70ad0-345b-4003-9d4c-7f6f5d1e0da8",
   "metadata": {},
   "source": [
    "Note that these match the `output_embeddings` we saw near the start - we've figured out how to split up that one step (\"get the text embeddings\") into multiple sub-steps ready for us to modify.\n",
    "\n",
    "Now that we have this process in place, we can replace the input embedding of a token with a new one of our choice - which in our final use-case will be something we learn. To demonstrate the concept though, let's replace the input embedding for 'puppy' in the prompt we've been playing with with the embedding for token 2368, get a new set of output embeddings based on this, and use these to generate an image to see what we get:"
   ]
  },
  {
   "cell_type": "code",
   "execution_count": null,
   "id": "3a69d39d-4f1e-43fc-b7f2-dd52cd34248c",
   "metadata": {
    "ExecuteTime": {
     "end_time": "2023-04-14T13:53:51.814628Z",
     "start_time": "2023-04-14T13:53:51.790032Z"
    }
   },
   "outputs": [],
   "source": [
    "prompt = 'A picture of a puppy'\n",
    "\n",
    "# Tokenize\n",
    "text_input = tokenizer(prompt, padding=\"max_length\", max_length=tokenizer.model_max_length, truncation=True, return_tensors=\"pt\")\n",
    "input_ids = text_input.input_ids.to(torch_device)\n",
    "\n",
    "# Get token embeddings\n",
    "token_embeddings = token_emb_layer(input_ids)\n",
    "\n",
    "# The new embedding. In this case just the input embedding of token 2368...\n",
    "replacement_token_embedding = text_encoder.get_input_embeddings()(torch.tensor(2368, device=torch_device))\n",
    "\n",
    "# Insert this into the token embeddings (\n",
    "token_embeddings[0, torch.where(input_ids[0]==6829)] = replacement_token_embedding.to(torch_device)\n",
    "\n",
    "# Combine with pos embs\n",
    "input_embeddings = token_embeddings + position_embeddings\n",
    "\n",
    "#  Feed through to get final output embs\n",
    "modified_output_embeddings = get_output_embeds(input_embeddings)\n",
    "\n",
    "print(modified_output_embeddings.shape)\n",
    "modified_output_embeddings"
   ]
  },
  {
   "cell_type": "markdown",
   "id": "25de1b57-0b2a-4436-8004-ae0d971fcbd0",
   "metadata": {},
   "source": [
    "The first few are the same, the last aren't. Everything at and after the position of the token we're replacing will be affected.\n",
    "\n",
    "If all went well, we should see something other than a puppy when we use these to generate an image. And sure enough, we do!"
   ]
  },
  {
   "cell_type": "code",
   "execution_count": null,
   "id": "8355b706-f169-4e06-b887-bdbe6a263658",
   "metadata": {
    "ExecuteTime": {
     "end_time": "2023-04-14T13:53:52.415537Z",
     "start_time": "2023-04-14T13:53:52.406594Z"
    }
   },
   "outputs": [],
   "source": [
    "#Generating an image with these modified embeddings\n",
    "\n",
    "def generate_with_embs(text_embeddings):\n",
    "    height = 512                        # default height of Stable Diffusion\n",
    "    width = 512                         # default width of Stable Diffusion\n",
    "    num_inference_steps = 30            # Number of denoising steps\n",
    "    guidance_scale = 7.5                # Scale for classifier-free guidance\n",
    "    generator = torch.manual_seed(32)   # Seed generator to create the inital latent noise\n",
    "    batch_size = 1\n",
    "\n",
    "    max_length = text_input.input_ids.shape[-1]\n",
    "    uncond_input = tokenizer(\n",
    "      [\"\"] * batch_size, padding=\"max_length\", max_length=max_length, return_tensors=\"pt\"\n",
    "    )\n",
    "    with torch.no_grad():\n",
    "        uncond_embeddings = text_encoder(uncond_input.input_ids.to(torch_device))[0] \n",
    "    text_embeddings = torch.cat([uncond_embeddings, text_embeddings])\n",
    "\n",
    "    # Prep Scheduler\n",
    "    scheduler.set_timesteps(num_inference_steps)\n",
    "\n",
    "    # Prep latents\n",
    "    latents = torch.randn(\n",
    "    (batch_size, unet.in_channels, height // 8, width // 8),\n",
    "    generator=generator,\n",
    "    )\n",
    "    latents = latents.to(torch_device)\n",
    "    latents = latents * scheduler.init_noise_sigma\n",
    "\n",
    "    # Loop\n",
    "    for i, t in tqdm(enumerate(scheduler.timesteps)):\n",
    "        # expand the latents if we are doing classifier-free guidance to avoid doing two forward passes.\n",
    "        latent_model_input = torch.cat([latents] * 2)\n",
    "        sigma = scheduler.sigmas[i]\n",
    "        latent_model_input = scheduler.scale_model_input(latent_model_input, t)\n",
    "\n",
    "        # predict the noise residual\n",
    "        with torch.no_grad():\n",
    "            noise_pred = unet(latent_model_input, t, encoder_hidden_states=text_embeddings)[\"sample\"]\n",
    "\n",
    "        # perform guidance\n",
    "        noise_pred_uncond, noise_pred_text = noise_pred.chunk(2)\n",
    "        noise_pred = noise_pred_uncond + guidance_scale * (noise_pred_text - noise_pred_uncond)\n",
    "\n",
    "        # compute the previous noisy sample x_t -> x_t-1\n",
    "        latents = scheduler.step(noise_pred, t, latents).prev_sample\n",
    "\n",
    "    return latents_to_pil(latents)[0]\n"
   ]
  },
  {
   "cell_type": "code",
   "execution_count": null,
   "id": "43568a5d-6dac-4814-a600-64bc4fa1c83c",
   "metadata": {
    "ExecuteTime": {
     "end_time": "2023-04-14T13:54:01.142234Z",
     "start_time": "2023-04-14T13:53:52.715817Z"
    }
   },
   "outputs": [],
   "source": [
    "generate_with_embs(modified_output_embeddings)"
   ]
  },
  {
   "cell_type": "markdown",
   "id": "37a18aa9-3637-4ab4-b8b7-566d340b9dc1",
   "metadata": {},
   "source": [
    "Suprise! Now you know what token 2368 means ;)"
   ]
  },
  {
   "cell_type": "markdown",
   "id": "c15125dd-32dc-44b0-aaac-a717e7dff3ef",
   "metadata": {},
   "source": [
    "**What can we do with this?** Why did we go to all of this trouble? Well, we'll see a more compelling use-case shortly but the tl;dr is that once we can access and modify the token embeddings we can do tricks like replacing them with something else. In the example we just did, that was just another token embedding from the model's vocabulary, equivalent to just editing the prompt. But we can also mix tokens - for example, here's a half-puppy-half-skunk:"
   ]
  },
  {
   "cell_type": "code",
   "execution_count": null,
   "id": "ebbbec1b-69c5-4f6a-bde2-5786c5fc04ed",
   "metadata": {
    "ExecuteTime": {
     "end_time": "2023-04-14T13:54:05.112611Z",
     "start_time": "2023-04-14T13:54:05.106578Z"
    }
   },
   "outputs": [],
   "source": [
    "# In case you're wondering how to get the token for a word, or the embedding for a token:\n",
    "prompt = 'skunk'\n",
    "print('tokenizer(prompt):', tokenizer(prompt))\n",
    "print('token_emb_layer([token_id]) shape:', token_emb_layer(torch.tensor([8797], device=torch_device)).shape)"
   ]
  },
  {
   "cell_type": "code",
   "execution_count": null,
   "id": "87419ded-7300-4bfe-942a-27743b1dd28c",
   "metadata": {
    "ExecuteTime": {
     "end_time": "2023-04-14T13:54:13.805633Z",
     "start_time": "2023-04-14T13:54:05.113404Z"
    }
   },
   "outputs": [],
   "source": [
    "prompt = 'A picture of a puppy'\n",
    "\n",
    "# Tokenize\n",
    "text_input = tokenizer(prompt, padding=\"max_length\", max_length=tokenizer.model_max_length, truncation=True, return_tensors=\"pt\")\n",
    "input_ids = text_input.input_ids.to(torch_device)\n",
    "\n",
    "# Get token embeddings\n",
    "token_embeddings = token_emb_layer(input_ids)\n",
    "\n",
    "# The new embedding. Which is now a mixture of the token embeddings for 'puppy' and 'skunk'\n",
    "puppy_token_embedding = token_emb_layer(torch.tensor(6829, device=torch_device))\n",
    "skunk_token_embedding = token_emb_layer(torch.tensor(42194, device=torch_device))\n",
    "replacement_token_embedding = 0.5*puppy_token_embedding + 0.5*skunk_token_embedding\n",
    "\n",
    "# Insert this into the token embeddings (\n",
    "token_embeddings[0, torch.where(input_ids[0]==6829)] = replacement_token_embedding.to(torch_device)\n",
    "\n",
    "# Combine with pos embs\n",
    "input_embeddings = token_embeddings + position_embeddings\n",
    "\n",
    "#  Feed through to get final output embs\n",
    "modified_output_embeddings = get_output_embeds(input_embeddings)\n",
    "\n",
    "# Generate an image with these\n",
    "generate_with_embs(modified_output_embeddings)"
   ]
  },
  {
   "cell_type": "markdown",
   "id": "014f240e-8da7-44e6-842b-1374cee7b4f8",
   "metadata": {},
   "source": [
    "### Textual Inversion\n",
    "\n",
    "OK, so we can slip in a modified token embedding, and use this to generate an image. We used the token embedding for 'cat' in the above example, but what if instead could 'learn' a new token embedding for a specific concept? This is the idea behind 'Textual Inversion', in which a few example images are used to create a new token embedding:\n",
    "\n",
    "![Overview image from the blog post](https://textual-inversion.github.io/static/images/training/training.JPG)\n",
    "_Diagram from the [textual inversion blog post](https://textual-inversion.github.io/static/images/training/training.JPG) - note it doesn't show the positional embeddings step for simplicity_\n",
    "\n",
    "We won't cover how this training works, but we can try loading one of these new 'concepts' from the [community-created SD concepts library](https://huggingface.co/sd-concepts-library) and see how it fits in with our example above. I'll use https://huggingface.co/sd-concepts-library/birb-style since it was the first one I made :) Download the learned_embeds.bin file from there and upload the file to wherever this notebook is before running this next cell:"
   ]
  },
  {
   "cell_type": "code",
   "execution_count": null,
   "id": "687eb2d4-be9c-418c-8b31-91387aa5e40e",
   "metadata": {
    "ExecuteTime": {
     "end_time": "2023-04-14T13:54:13.848126Z",
     "start_time": "2023-04-14T13:54:13.806402Z"
    }
   },
   "outputs": [],
   "source": [
    "birb_embed = torch.load('learned_embeds.bin')\n",
    "birb_embed.keys(), birb_embed['<birb-style>'].shape"
   ]
  },
  {
   "cell_type": "markdown",
   "id": "935ac76e-c1d3-4f0f-b330-94905d67f9fa",
   "metadata": {},
   "source": [
    "We get a dictionary with a key (the special placeholder I used, <birb-style>) and the corresponding token embedding. As in the previous example, let's replace the 'puppy' token embedding with this and see what happens:"
   ]
  },
  {
   "cell_type": "code",
   "execution_count": null,
   "id": "33aa690d-eac8-4b9e-b6af-d4c992d8279e",
   "metadata": {
    "ExecuteTime": {
     "end_time": "2023-04-14T13:54:22.467292Z",
     "start_time": "2023-04-14T13:54:13.851144Z"
    }
   },
   "outputs": [],
   "source": [
    "prompt = 'A mouse in the style of puppy'\n",
    "\n",
    "# Tokenize\n",
    "text_input = tokenizer(prompt, padding=\"max_length\", max_length=tokenizer.model_max_length, truncation=True, return_tensors=\"pt\")\n",
    "input_ids = text_input.input_ids.to(torch_device)\n",
    "\n",
    "# Get token embeddings\n",
    "token_embeddings = token_emb_layer(input_ids)\n",
    "\n",
    "# The new embedding - our special birb word\n",
    "replacement_token_embedding = birb_embed['<birb-style>'].to(torch_device)\n",
    "\n",
    "# Insert this into the token embeddings\n",
    "token_embeddings[0, torch.where(input_ids[0]==6829)] = replacement_token_embedding.to(torch_device)\n",
    "\n",
    "# Combine with pos embs\n",
    "input_embeddings = token_embeddings + position_embeddings\n",
    "\n",
    "#  Feed through to get final output embs\n",
    "modified_output_embeddings = get_output_embeds(input_embeddings)\n",
    "\n",
    "# And generate an image with this:\n",
    "generate_with_embs(modified_output_embeddings)"
   ]
  },
  {
   "cell_type": "markdown",
   "id": "6c58c7f7-079a-4560-b4b7-9a5d3c757729",
   "metadata": {},
   "source": [
    "The token for 'puppy' was replaced with one that captures a particular style of painting, but it could just as easily represent a specific object or class of objects. "
   ]
  },
  {
   "cell_type": "markdown",
   "id": "61d86d2c-ca39-4a94-87b4-b6b1b12df6ef",
   "metadata": {},
   "source": [
    "Again, there is [a nice inference notebook ](https://colab.research.google.com/github/huggingface/notebooks/blob/main/diffusers/stable_conceptualizer_inference.ipynb) from hf to make it easy to use the different concepts, that properly handles using the names in prompts (\"A \\<cat-toy> in the style of \\<birb-style>\") without worrying about all this manual stuff. The goal of this notebook is to pull back the curtain a bit so you know what is going on behind the scenes :)"
   ]
  },
  {
   "cell_type": "markdown",
   "id": "60bc5986-d205-4313-b043-e1ab51fc4a0e",
   "metadata": {},
   "source": [
    "## Messing with Embeddings\n",
    "\n",
    "Besides just replacing the token embedding of a single word, there are various other tricks we can try. For example, what if we create a 'chimera' by averaging the embeddings of two different prompts?"
   ]
  },
  {
   "cell_type": "code",
   "execution_count": null,
   "id": "1729eda5-db91-4d00-9c8a-22d2e6b43297",
   "metadata": {
    "ExecuteTime": {
     "end_time": "2023-04-14T13:54:30.934206Z",
     "start_time": "2023-04-14T13:54:22.468334Z"
    }
   },
   "outputs": [],
   "source": [
    "# Embed two prompts\n",
    "text_input1 = tokenizer([\"A mouse\"], padding=\"max_length\", max_length=tokenizer.model_max_length, truncation=True, return_tensors=\"pt\")\n",
    "text_input2 = tokenizer([\"A leopard\"], padding=\"max_length\", max_length=tokenizer.model_max_length, truncation=True, return_tensors=\"pt\")\n",
    "with torch.no_grad():\n",
    "    text_embeddings1 = text_encoder(text_input1.input_ids.to(torch_device))[0]\n",
    "    text_embeddings2 = text_encoder(text_input2.input_ids.to(torch_device))[0]\n",
    "\n",
    "# Mix them together\n",
    "mix_factor = 0.35\n",
    "mixed_embeddings = (text_embeddings1*mix_factor + \\\n",
    "                   text_embeddings2*(1-mix_factor))\n",
    "\n",
    "# Generate!\n",
    "generate_with_embs(mixed_embeddings)"
   ]
  },
  {
   "cell_type": "markdown",
   "id": "b1093401-600e-45fe-bf86-24359c05999e",
   "metadata": {},
   "source": [
    "## The UNET and CFG\n",
    "\n",
    "Now it's time we looked at the actual diffusion model. This is typically a Unet that takes in the noisy latents (x) and predicts the noise. We use a conditional model that also takes in the timestep (t) and our text embedding (aka encoder_hidden_states) as conditioning. Feeding all of these into the model looks like this:\n",
    "`noise_pred = unet(latents, t, encoder_hidden_states=text_embeddings)[\"sample\"]`\n",
    "\n",
    "We can try it out and see what the output looks like:"
   ]
  },
  {
   "cell_type": "code",
   "execution_count": null,
   "id": "0ffcd693-f26c-4e15-ae51-6cac3886c542",
   "metadata": {
    "ExecuteTime": {
     "end_time": "2023-04-14T13:54:30.991963Z",
     "start_time": "2023-04-14T13:54:30.934987Z"
    }
   },
   "outputs": [],
   "source": [
    "# Prep Scheduler\n",
    "scheduler.set_timesteps(num_inference_steps)\n",
    "\n",
    "# What is our timestep\n",
    "t = scheduler.timesteps[0]\n",
    "sigma = scheduler.sigmas[0]\n",
    "\n",
    "# A noisy latent\n",
    "latents = torch.randn(\n",
    "  (batch_size, unet.in_channels, height // 8, width // 8),\n",
    "  generator=generator,\n",
    ")\n",
    "latents = latents.to(torch_device)\n",
    "latents = latents * scheduler.init_noise_sigma\n",
    "\n",
    "# Text embedding\n",
    "text_input = tokenizer(['A macaw'], padding=\"max_length\", max_length=tokenizer.model_max_length, truncation=True, return_tensors=\"pt\")\n",
    "with torch.no_grad():\n",
    "    text_embeddings = text_encoder(text_input.input_ids.to(torch_device))[0]\n",
    "\n",
    "# Run this through the unet to predict the noise residual\n",
    "with torch.no_grad():\n",
    "    noise_pred = unet(latents, t, encoder_hidden_states=text_embeddings)[\"sample\"]\n",
    "\n",
    "latents.shape, noise_pred.shape # We get preds in the same shape as the input"
   ]
  },
  {
   "cell_type": "markdown",
   "id": "00303a9b-8a51-4c7f-9a1c-2946b645ce4e",
   "metadata": {},
   "source": [
    "Given a set of noisy latents, the model predicts the noise component. We can remove this noise from the noisy latents to see what the output image looks like (`latents_x0 = latents - sigma * noise_pred`). And we can add most of the noise back to this predicted output to get the (slightly less noisy hopefully) input for the next diffusion step. To visualize this let's generate another image, saving both the predicted output (x0) and the next step (xt-1) after every step:"
   ]
  },
  {
   "cell_type": "code",
   "execution_count": null,
   "id": "14abedcb-aa02-4ece-8a1e-22cde7161227",
   "metadata": {
    "ExecuteTime": {
     "end_time": "2023-04-14T13:55:17.502441Z",
     "start_time": "2023-04-14T13:54:30.992761Z"
    }
   },
   "outputs": [],
   "source": [
    "prompt = 'Oil painting of an otter in a top hat'\n",
    "height = 512                      \n",
    "width = 512                        \n",
    "num_inference_steps = 50\n",
    "guidance_scale = 8    \n",
    "generator = torch.manual_seed(32)\n",
    "batch_size = 1\n",
    "\n",
    "# Make a folder to store results\n",
    "!rm -rf steps/\n",
    "!mkdir -p steps/\n",
    "\n",
    "# Prep text \n",
    "text_input = tokenizer([prompt], padding=\"max_length\", max_length=tokenizer.model_max_length, truncation=True, return_tensors=\"pt\")\n",
    "with torch.no_grad():\n",
    "    text_embeddings = text_encoder(text_input.input_ids.to(torch_device))[0]\n",
    "max_length = text_input.input_ids.shape[-1]\n",
    "uncond_input = tokenizer(\n",
    "    [\"\"] * batch_size, padding=\"max_length\", max_length=max_length, return_tensors=\"pt\"\n",
    ")\n",
    "with torch.no_grad():\n",
    "    uncond_embeddings = text_encoder(uncond_input.input_ids.to(torch_device))[0] \n",
    "text_embeddings = torch.cat([uncond_embeddings, text_embeddings])\n",
    "\n",
    "# Prep Scheduler\n",
    "scheduler.set_timesteps(num_inference_steps)\n",
    "\n",
    "# Prep latents\n",
    "latents = torch.randn(\n",
    "  (batch_size, unet.in_channels, height // 8, width // 8),\n",
    "  generator=generator,\n",
    ")\n",
    "latents = latents.to(torch_device)\n",
    "latents = latents * scheduler.init_noise_sigma\n",
    "\n",
    "# Loop\n",
    "for i, t in tqdm(enumerate(scheduler.timesteps)):\n",
    "    # expand the latents if we are doing classifier-free guidance to avoid doing two forward passes.\n",
    "    latent_model_input = torch.cat([latents] * 2)\n",
    "    sigma = scheduler.sigmas[i]\n",
    "    latent_model_input = scheduler.scale_model_input(latent_model_input, t)\n",
    "\n",
    "    # predict the noise residual\n",
    "    with torch.no_grad():\n",
    "        noise_pred = unet(latent_model_input, t, encoder_hidden_states=text_embeddings)[\"sample\"]\n",
    "\n",
    "    # perform guidance\n",
    "    noise_pred_uncond, noise_pred_text = noise_pred.chunk(2)\n",
    "    noise_pred = noise_pred_uncond + guidance_scale * (noise_pred_text - noise_pred_uncond)\n",
    "    \n",
    "    # Get the predicted x0:\n",
    "    # latents_x0 = latents - sigma * noise_pred # Calculating ourselves\n",
    "    latents_x0 = scheduler.step(noise_pred, t, latents).pred_original_sample # Using the scheduler (Diffusers 0.4 and above)\n",
    "\n",
    "    # compute the previous noisy sample x_t -> x_t-1\n",
    "    latents = scheduler.step(noise_pred, t, latents).prev_sample\n",
    "\n",
    "    # To PIL Images\n",
    "    im_t0 = latents_to_pil(latents_x0)[0]\n",
    "    im_next = latents_to_pil(latents)[0]\n",
    "\n",
    "    # Combine the two images and save for later viewing\n",
    "    im = Image.new('RGB', (1024, 512))\n",
    "    im.paste(im_next, (0, 0))\n",
    "    im.paste(im_t0, (512, 0))\n",
    "    im.save(f'steps/{i:04}.jpeg')"
   ]
  },
  {
   "cell_type": "code",
   "execution_count": null,
   "id": "28964087-e363-4de9-9632-fdaf12b97d46",
   "metadata": {
    "ExecuteTime": {
     "end_time": "2023-04-14T13:55:19.852093Z",
     "start_time": "2023-04-14T13:55:17.506348Z"
    }
   },
   "outputs": [],
   "source": [
    "# Make and show the progress video (change width to 1024 for full res)\n",
    "!ffmpeg -v 1 -y -f image2 -framerate 12 -i steps/%04d.jpeg -c:v libx264 -preset slow -qp 18 -pix_fmt yuv420p out.mp4\n",
    "mp4 = open('out.mp4','rb').read()\n",
    "data_url = \"data:video/mp4;base64,\" + b64encode(mp4).decode()\n",
    "HTML(\"\"\"\n",
    "<video width=600 controls>\n",
    "      <source src=\"%s\" type=\"video/mp4\">\n",
    "</video>\n",
    "\"\"\" % data_url)"
   ]
  },
  {
   "cell_type": "markdown",
   "id": "7bb57d57-e28d-4812-a94a-7a3b66fd0209",
   "metadata": {},
   "source": [
    "The version on the right shows the predicted 'final output' (x0) at each step, and this is what is usually used for progress videos etc. The version on the left is the 'next step'. I found it interesteing to compare the two - watching the progress videos only you'd think drastic changes are happening expecially at early stages, but since the changes made per-step are relatively small the actual process is much more gradual.\n",
    "\n"
   ]
  },
  {
   "cell_type": "markdown",
   "id": "9bcd509a-d7df-41f6-bfa9-5ef2b233edb2",
   "metadata": {},
   "source": [
    "### Classifier Free Guidance\n",
    "\n",
    "By default, the model doesn't often do what we ask. If we want it to follow the prompt better, we use a hack called CFG. There's a good explanation in this video (AI coffee break GLIDE).\n",
    "\n",
    "In the code, this comes down to us doing:\n",
    "\n",
    "`noise_pred = noise_pred_uncond + guidance_scale * (noise_pred_text - noise_pred_uncond)`\n",
    "\n",
    "This works suprisingly well :) Explore changing the guidance_scale in the code above and see how this affects the results. How high can you push it before the results get worse?"
   ]
  },
  {
   "cell_type": "markdown",
   "id": "02ae7ca9-8c4c-4976-b274-5a8e1110c2a5",
   "metadata": {},
   "source": [
    "## Sampling\n",
    "\n",
    "There is still some complexity hidden from us inside `latents = scheduler.step(noise_pred, i, latents)[\"prev_sample\"]`. How exactly does the sampler go from the current noisy latents to a slightly less noisy version? Why don't we just use the model in a single step? Are there other ways to view this?\n",
    "\n",
    "The model tries to predict the noise in an image. For low noise values, we assume it does a pretty good job. For higher noise levels, it has a hard task! So instead of producing a perfect image, the results tend to look like a blurry mess - see the start of the video above for a visual! So, samplers use the model predictions to move a small amount towards the model prediction (removing some of the noise) and then get another prediction based on this marginally-less-rubbish input, and hope that this iteratively improves the result. \n",
    "\n",
    "Different samplers do this in different ways. You can try to inspect the code for the default LMS sampler with:"
   ]
  },
  {
   "cell_type": "code",
   "execution_count": null,
   "id": "b619e66a-8c08-4bfe-8784-202a8e09de20",
   "metadata": {
    "ExecuteTime": {
     "end_time": "2023-04-14T13:55:19.855112Z",
     "start_time": "2023-04-14T13:55:19.853614Z"
    }
   },
   "outputs": [],
   "source": [
    "# ??scheduler.step"
   ]
  },
  {
   "cell_type": "markdown",
   "id": "cec8cc24-e818-473b-a6d3-4d14c8f3b009",
   "metadata": {},
   "source": [
    "**Time to draw some diagrams!** (Whiteboard/paper interlude)"
   ]
  },
  {
   "cell_type": "markdown",
   "id": "07c982ae-2286-48f0-b4e9-7a7651db56ec",
   "metadata": {},
   "source": [
    "# Guidance\n",
    "\n",
    "\n",
    "OK, final trick! How can we add some extra control to this generation process?\n",
    "\n",
    "At each step, we're going to use our model as before to predict the noise component of x. Then we'll use this to produce a predicted output image, and apply some loss function to this image. \n",
    "\n",
    "This function can be anything, but let's demo with a super simple example. If we want images that have a lot of blue, we can craft a loss function that gives a high loss if pixels have a low blue component:"
   ]
  },
  {
   "cell_type": "code",
   "execution_count": null,
   "id": "b20a3505-83b3-44f7-8943-f8bd57c74375",
   "metadata": {
    "ExecuteTime": {
     "end_time": "2023-04-14T13:55:20.096707Z",
     "start_time": "2023-04-14T13:55:19.855698Z"
    }
   },
   "outputs": [],
   "source": [
    "def blue_loss(images):\n",
    "    # How far are the blue channel values to 0.9:\n",
    "    error = torch.abs(images[:,2] - 0.9).mean() # [:,2] -> all images in batch, only the blue channel\n",
    "    return error"
   ]
  },
  {
   "cell_type": "markdown",
   "id": "b5ff7db4-c791-42b5-824e-d17c4fef0b67",
   "metadata": {},
   "source": [
    "During each update step, we find the gradient of the loss with respect to the current noisy latents, and tweak them in the direction that reduces this loss as well as performing the normal update step:"
   ]
  },
  {
   "cell_type": "code",
   "execution_count": null,
   "id": "7c8020ed-36cb-42e9-a108-8b53ef247f4c",
   "metadata": {
    "ExecuteTime": {
     "end_time": "2023-04-14T13:55:21.010263Z",
     "start_time": "2023-04-14T13:55:20.100639Z"
    }
   },
   "outputs": [],
   "source": [
    "prompt = 'A campfire (oil on canvas)' #@param\n",
    "height = 512                        # default height of Stable Diffusion\n",
    "width = 512                         # default width of Stable Diffusion\n",
    "num_inference_steps = 50  #@param           # Number of denoising steps\n",
    "guidance_scale = 8 #@param               # Scale for classifier-free guidance\n",
    "generator = torch.manual_seed(32)   # Seed generator to create the inital latent noise\n",
    "batch_size = 1\n",
    "blue_loss_scale = 200 #@param\n",
    "\n",
    "# Prep text \n",
    "text_input = tokenizer([prompt], padding=\"max_length\", max_length=tokenizer.model_max_length, truncation=True, return_tensors=\"pt\")\n",
    "with torch.no_grad():\n",
    "    text_embeddings = text_encoder(text_input.input_ids.to(torch_device))[0]\n",
    "\n",
    "# And the uncond. input as before:\n",
    "max_length = text_input.input_ids.shape[-1]\n",
    "uncond_input = tokenizer(\n",
    "    [\"\"] * batch_size, padding=\"max_length\", max_length=max_length, return_tensors=\"pt\"\n",
    ")\n",
    "with torch.no_grad():\n",
    "    uncond_embeddings = text_encoder(uncond_input.input_ids.to(torch_device))[0] \n",
    "text_embeddings = torch.cat([uncond_embeddings, text_embeddings])\n",
    "\n",
    "# Prep Scheduler\n",
    "scheduler.set_timesteps(num_inference_steps)\n",
    "\n",
    "# Prep latents\n",
    "latents = torch.randn(\n",
    "  (batch_size, unet.in_channels, height // 8, width // 8),\n",
    "  generator=generator,\n",
    ")\n",
    "latents = latents.to(torch_device)\n",
    "latents = latents * scheduler.init_noise_sigma\n",
    "\n",
    "# Loop\n",
    "for i, t in tqdm(enumerate(scheduler.timesteps)):\n",
    "    # expand the latents if we are doing classifier-free guidance to avoid doing two forward passes.\n",
    "    latent_model_input = torch.cat([latents] * 2)\n",
    "    sigma = scheduler.sigmas[i]\n",
    "    latent_model_input = scheduler.scale_model_input(latent_model_input, t)\n",
    "\n",
    "    # predict the noise residual\n",
    "    with torch.no_grad():\n",
    "        noise_pred = unet(latent_model_input, t, encoder_hidden_states=text_embeddings)[\"sample\"]\n",
    "\n",
    "    # perform CFG\n",
    "    noise_pred_uncond, noise_pred_text = noise_pred.chunk(2)\n",
    "    noise_pred = noise_pred_uncond + guidance_scale * (noise_pred_text - noise_pred_uncond)\n",
    "    \n",
    "    #### ADDITIONAL GUIDANCE ###\n",
    "    if i%5 == 0:\n",
    "        # Requires grad on the latents\n",
    "        latents = latents.detach().requires_grad_()\n",
    "\n",
    "        # Get the predicted x0:\n",
    "        # latents_x0 = latents - sigma * noise_pred\n",
    "        latents_x0 = scheduler.step(noise_pred, t, latents).pred_original_sample\n",
    "\n",
    "        # Decode to image space\n",
    "        denoised_images = vae.decode((1 / 0.18215) * latents_x0).sample / 2 + 0.5 # range (0, 1)\n",
    "\n",
    "        # Calculate loss\n",
    "        loss = blue_loss(denoised_images) * blue_loss_scale\n",
    "        \n",
    "        # Occasionally print it out\n",
    "        if i%10==0:\n",
    "            print(i, 'loss:', loss.item())\n",
    "\n",
    "        # Get gradient\n",
    "        cond_grad = torch.autograd.grad(loss, latents)[0]\n",
    "\n",
    "        # Modify the latents based on this gradient\n",
    "        latents = latents.detach() - cond_grad * sigma**2\n",
    "    \n",
    "    # Now step with scheduler\n",
    "    latents = scheduler.step(noise_pred, t, latents).prev_sample\n",
    "\n",
    "\n",
    "latents_to_pil(latents)[0]"
   ]
  },
  {
   "cell_type": "markdown",
   "id": "32256c70-3839-4c4f-8a48-aaeeee312e79",
   "metadata": {},
   "source": [
    "Tweak the scale (`blue_loss_scale`) - at low values, the image is mostly red and orange thanks to the prompt. At higher values, it is mostly bluish! Too high and we get a plain blue image.\n",
    "\n",
    "Since this is slow, you'll notice that I only apply this loss once every 5 iterations - this was a suggestion from Jeremy and we left it in because for this demo it saves time and still works. For your own tests you may want to explore using a lower scale for the loss and applying it every iteration instead :)"
   ]
  },
  {
   "cell_type": "markdown",
   "id": "624ea2e9-6e55-491c-8ae8-cb8cebc68800",
   "metadata": {},
   "source": [
    "NB: We should set latents requires_grad=True **before** we do the forward pass of the unet (removing `with torch.no_grad()`) if we want mode accurate gradients. BUT this requires a lot of extra memory. You'll see both approaches used depending on whose implementation you're looking at. \n",
    "\n",
    "Guiding with classifier models can give you images of a specific class. Guiding with a model like CLIP can help better match a text prompt. Guiding with a style loss can help add a particular style. Guiding with some sort of perceptual loss can force it towards the overall look af a target image. And so on."
   ]
  },
  {
   "cell_type": "markdown",
   "id": "4b24ddf8-46e5-4d64-ab6c-e00f2d35ac4b",
   "metadata": {},
   "source": [
    "# Conclusions\n",
    "\n",
    "Hopefully now you have a slightly better idea of what is happening when you make an image with one of these models, and how you can modify the process in creative ways. I hope you're inspired to make something fun :)\n",
    "\n",
    "This notebook was written by Jonathan Whitaker, adapted from ['Grokking Stable Diffusion'](https://colab.research.google.com/drive/1dlgggNa5Mz8sEAGU0wFCHhGLFooW_pf1?usp=sharing) which was my early attempts to understand these components for myself. If you spot bugs or have questions, feel free to reach out to me @johnowhitaker :) Enjoy!"
   ]
  }
 ],
 "metadata": {
  "kernelspec": {
   "display_name": "Python 3 (ipykernel)",
   "language": "python",
   "name": "python3"
  },
  "language_info": {
   "codemirror_mode": {
    "name": "ipython",
    "version": 3
   },
   "file_extension": ".py",
   "mimetype": "text/x-python",
   "name": "python",
   "nbconvert_exporter": "python",
   "pygments_lexer": "ipython3",
   "version": "3.9.12"
  },
  "toc": {
   "base_numbering": 1,
   "nav_menu": {},
   "number_sections": true,
   "sideBar": true,
   "skip_h1_title": false,
   "title_cell": "Table of Contents",
   "title_sidebar": "Contents",
   "toc_cell": false,
   "toc_position": {},
   "toc_section_display": true,
   "toc_window_display": false
  }
 },
 "nbformat": 4,
 "nbformat_minor": 5
}
