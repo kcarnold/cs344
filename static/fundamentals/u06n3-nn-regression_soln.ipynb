{
 "cells": [
  {
   "cell_type": "markdown",
   "metadata": {},
   "source": [
    "# Lab 4: Nonlinear Regression\n",
    "\n",
    "Task: Use `nn.Sequential` to add layers to a model; use a nonlinearity between layers to increase the model's capacity."
   ]
  },
  {
   "cell_type": "markdown",
   "metadata": {},
   "source": [
    "## Setup"
   ]
  },
  {
   "cell_type": "code",
   "execution_count": 1,
   "metadata": {},
   "outputs": [],
   "source": [
    "from fastai.vision.all import *"
   ]
  },
  {
   "cell_type": "markdown",
   "metadata": {},
   "source": [
    "This function will make a `DataLoaders` object out of an arary dataset."
   ]
  },
  {
   "cell_type": "code",
   "execution_count": 2,
   "metadata": {},
   "outputs": [],
   "source": [
    "def make_dataloaders(x, y_true, splitter, batch_size):\n",
    "    data = L(zip(x, y_true))\n",
    "    train_indices, valid_indices = splitter(data)\n",
    "    return DataLoaders(\n",
    "        DataLoader(data[train_indices], batch_size=batch_size, shuffle=True),\n",
    "        DataLoader(data[valid_indices], batch_size=batch_size)\n",
    "    )   "
   ]
  },
  {
   "cell_type": "markdown",
   "metadata": {},
   "source": [
    "Here are utility functions to plot the first axis of a dataset and a model's predictions."
   ]
  },
  {
   "cell_type": "code",
   "execution_count": 3,
   "metadata": {},
   "outputs": [],
   "source": [
    "def plot_data(x, y): plt.scatter(x[:, 0], y[:, 0], s=.5, color='#bbbbbb')\n",
    "def plot_model(x, model):\n",
    "    x = x.sort(dim=0).values\n",
    "    y_pred = model(x).detach()\n",
    "    plt.plot(x[:, 0], y_pred[:, 0], 'r')"
   ]
  },
  {
   "cell_type": "markdown",
   "metadata": {},
   "source": [
    "The following `Callback` can be added to your `Learner` to plot the data and model after each epoch:\n",
    "\n",
    "```\n",
    "learner = Learner(\n",
    "    ...\n",
    "    cbs=[ShowPredictions(), ShowGraphCallback()],\n",
    "    ...\n",
    "```"
   ]
  },
  {
   "cell_type": "code",
   "execution_count": 4,
   "metadata": {},
   "outputs": [],
   "source": [
    "# Inspired by https://gist.github.com/oguiza/c7559da6de0e036f01d7dee15e2f15e4\n",
    "class ShowPredictions(Callback):\n",
    "    def __init__(self): self.graph_fig = None # keep a reference to a figure object to update\n",
    "    def before_fit(self):\n",
    "        self.run = not hasattr(self.learn, 'lr_finder') and not hasattr(self, 'gather_preds')\n",
    "    def after_fit(self): plt.close(self.graph_fig)\n",
    "    def after_epoch(self):\n",
    "        if self.graph_fig is None:\n",
    "            self.graph_fig, self.graph_ax = plt.subplots(1)\n",
    "            self.graph_out = display(self.graph_ax.figure, display_id=True)\n",
    "        plt.sca(self.graph_ax)\n",
    "        self.graph_ax.clear()\n",
    "        # Plot code. Replace this if needed:\n",
    "        plot_data(x, y_true)\n",
    "        plot_model(x, model)\n",
    "        # Update the graph.\n",
    "        self.graph_out.update(self.graph_ax.figure)\n"
   ]
  },
  {
   "cell_type": "markdown",
   "metadata": {},
   "source": [
    "## Task"
   ]
  },
  {
   "cell_type": "markdown",
   "metadata": {},
   "source": [
    "Most applications of neural net models work in very high dimensions (e.g., each individual pixel in an image!) so it's hard to visualize what the model is actually learning. Here, we'll revisit the simple linear model that we looked at in Fundamentals `006` and `009`, which learned to predict a single continuous outcome variable `y` from a single continuous input feature `x`. So we can visualize the network's behavior just like any other univariate function: by plotting y vs x.\n",
    "\n",
    "But this time the data isn't just a straight line; it's a fancy function of `x`."
   ]
  },
  {
   "cell_type": "code",
   "execution_count": 5,
   "metadata": {},
   "outputs": [
    {
     "data": {
      "image/png": "[encoded data removed]",
      "text/plain": [
       "<Figure size 432x288 with 1 Axes>"
      ]
     },
     "metadata": {
      "needs_background": "light"
     },
     "output_type": "display_data"
    }
   ],
   "source": [
    "num_points = 5000\n",
    "\n",
    "set_seed(40)\n",
    "x = torch.rand(num_points, 1)\n",
    "noise = torch.rand_like(x) * 1.\n",
    "y_true = .5 * (x*6).sin() + x + (x - .75) * noise\n",
    "# standardize y, just to make it well behaved.\n",
    "y_true -= y_true.mean()\n",
    "y_true /= y_true.std()\n",
    "\n",
    "plot_data(x, y_true)"
   ]
  },
  {
   "cell_type": "markdown",
   "metadata": {},
   "source": [
    "In `006` and `009`, we dealt with models that could only ever make straight lines. They couldn't even make a curve like `3 * x**2 + 2*x + 1`, yet alone that one!\n",
    "\n",
    "But you may remember from your math or stats studies that a curve like that is actually linear if you transform your data, e.g., using `z = [x, x**2]` as the input; then the model is `3 * z[1] + 2 * z[0] + 1`, which is linear in `z`.\n",
    "\n",
    "So if we transform our data before giving it to the linear model, we can actually get interesting functions from a linear model. But how do we transform the data?\n",
    "\n",
    "The classic approach is to specify what transformation to make. e.g., in *polynomial regression* we put in a bunch of powers of `x` (`x**2`, `x**3`, ..., `x**10`, ...), but that gets numerically unstable with high powers. There are other \"basis functions\" that are better behaved, like *splines*.\n",
    "\n",
    "But neural nets take a different approach: they *learn* the transformation based on what is needed to accomplish its objective."
   ]
  },
  {
   "cell_type": "markdown",
   "metadata": {},
   "source": [
    "**Instructions**:\n",
    "\n",
    "1. **Fit a line to this data** (minimizing the MSE). Evaluate the MSE. By eye, how well does it fit?\n",
    "2. **Add a layer**: Use `nn.Sequential` to put two `nn.Linear` layers back to back. Use 500 dimensions as the hidden dimension (the `out_features` of the first and the `in_features` of the second). Evaluate the MSE. How well does it fit?\n",
    "3. **Add a nonlinearity**: Add a `nn.ReLU` between the two linear layers. Evaluate the MSE. How well does it fit?\n",
    "\n",
    "Details and tips are given inline below."
   ]
  },
  {
   "cell_type": "markdown",
   "metadata": {},
   "source": [
    "## Solution"
   ]
  },
  {
   "cell_type": "markdown",
   "metadata": {},
   "source": [
    "**Make a `DataLoaders` for this data**. This step has been done for you. \n",
    "\n",
    "We increased the dataset size and the batch size to make the learning better-behaved. Once you get this to work, you might see if you can deal with a smaller batch size or less data overall."
   ]
  },
  {
   "cell_type": "code",
   "execution_count": 7,
   "metadata": {},
   "outputs": [],
   "source": [
    "splitter = RandomSplitter(valid_pct=0.2, seed=42)\n",
    "batch_size = 100\n",
    "dataloaders = make_dataloaders(x, y_true, splitter, batch_size=batch_size)"
   ]
  },
  {
   "cell_type": "markdown",
   "metadata": {},
   "source": [
    "### Step 1: Fit a Line\n",
    "\n",
    "**Fit a line to this data (minimizing the MSE).**\n",
    "\n",
    "* Use a `nn.Linear` module as your `model`\n",
    "* Use `Learner` with `opt_func=SGD`, as you did in `009`.\n",
    "* Pass `cbs=[ShowPredictions(), ShowGraphCallback()]` to the `Learner` to show the training progress.\n",
    "\n",
    "Tune the learning rate and number of epochs until you reliably get an MSE below 0.76."
   ]
  },
  {
   "cell_type": "code",
   "execution_count": 8,
   "metadata": {},
   "outputs": [
    {
     "data": {
      "text/plain": [
       "0.7543805"
      ]
     },
     "execution_count": 8,
     "metadata": {},
     "output_type": "execute_result"
    }
   ],
   "source": [
    "# To determine the ideal MSE of a linear model, one approach is:\n",
    "# from sklearn.linear_model import LinearRegression\n",
    "# from sklearn.metrics import mean_squared_error\n",
    "# mean_squared_error(\n",
    "#     to_np(y_true),\n",
    "#     LinearRegression().fit(x, y_true).predict(to_np(x))\n",
    "# )"
   ]
  },
  {
   "cell_type": "code",
   "execution_count": 9,
   "metadata": {},
   "outputs": [
    {
     "data": {
      "text/html": [
       "<table border=\"1\" class=\"dataframe\">\n",
       "  <thead>\n",
       "    <tr style=\"text-align: left;\">\n",
       "      <th>epoch</th>\n",
       "      <th>train_loss</th>\n",
       "      <th>valid_loss</th>\n",
       "      <th>mae</th>\n",
       "      <th>time</th>\n",
       "    </tr>\n",
       "  </thead>\n",
       "  <tbody>\n",
       "    <tr>\n",
       "      <td>0</td>\n",
       "      <td>0.950252</td>\n",
       "      <td>0.885827</td>\n",
       "      <td>0.719921</td>\n",
       "      <td>00:00</td>\n",
       "    </tr>\n",
       "    <tr>\n",
       "      <td>1</td>\n",
       "      <td>0.859075</td>\n",
       "      <td>0.808779</td>\n",
       "      <td>0.712994</td>\n",
       "      <td>00:00</td>\n",
       "    </tr>\n",
       "    <tr>\n",
       "      <td>2</td>\n",
       "      <td>0.807587</td>\n",
       "      <td>0.781937</td>\n",
       "      <td>0.713865</td>\n",
       "      <td>00:00</td>\n",
       "    </tr>\n",
       "    <tr>\n",
       "      <td>3</td>\n",
       "      <td>0.783546</td>\n",
       "      <td>0.768974</td>\n",
       "      <td>0.715225</td>\n",
       "      <td>00:00</td>\n",
       "    </tr>\n",
       "    <tr>\n",
       "      <td>4</td>\n",
       "      <td>0.768208</td>\n",
       "      <td>0.763778</td>\n",
       "      <td>0.716662</td>\n",
       "      <td>00:00</td>\n",
       "    </tr>\n",
       "    <tr>\n",
       "      <td>5</td>\n",
       "      <td>0.760159</td>\n",
       "      <td>0.762300</td>\n",
       "      <td>0.718045</td>\n",
       "      <td>00:00</td>\n",
       "    </tr>\n",
       "    <tr>\n",
       "      <td>6</td>\n",
       "      <td>0.753892</td>\n",
       "      <td>0.761404</td>\n",
       "      <td>0.719000</td>\n",
       "      <td>00:00</td>\n",
       "    </tr>\n",
       "    <tr>\n",
       "      <td>7</td>\n",
       "      <td>0.758386</td>\n",
       "      <td>0.763348</td>\n",
       "      <td>0.720821</td>\n",
       "      <td>00:00</td>\n",
       "    </tr>\n",
       "    <tr>\n",
       "      <td>8</td>\n",
       "      <td>0.751313</td>\n",
       "      <td>0.760574</td>\n",
       "      <td>0.719598</td>\n",
       "      <td>00:00</td>\n",
       "    </tr>\n",
       "    <tr>\n",
       "      <td>9</td>\n",
       "      <td>0.748924</td>\n",
       "      <td>0.760591</td>\n",
       "      <td>0.719648</td>\n",
       "      <td>00:00</td>\n",
       "    </tr>\n",
       "  </tbody>\n",
       "</table>"
      ],
      "text/plain": [
       "<IPython.core.display.HTML object>"
      ]
     },
     "metadata": {},
     "output_type": "display_data"
    },
    {
     "data": {
      "image/png": "[encoded data removed]",
      "text/plain": [
       "<Figure size 432x288 with 1 Axes>"
      ]
     },
     "metadata": {},
     "output_type": "display_data"
    },
    {
     "data": {
      "image/png": "[encoded data removed]",
      "text/plain": [
       "<Figure size 432x288 with 1 Axes>"
      ]
     },
     "metadata": {},
     "output_type": "display_data"
    }
   ],
   "source": [
    "# # your code here <<EOF\n",
    "model = nn.Linear(in_features=1, out_features=1, bias=True)\n",
    "loss_func = nn.MSELoss()\n",
    "\n",
    "learner = Learner(\n",
    "    dls=dataloaders,\n",
    "    model=model,\n",
    "    loss_func=loss_func,\n",
    "    opt_func=SGD,\n",
    "    metrics=[mae],\n",
    "    cbs=[ShowPredictions(), ShowGraphCallback()],\n",
    ")\n",
    "\n",
    "learner.fit(n_epoch=10, lr=1e-1)\n",
    "# EOF"
   ]
  },
  {
   "cell_type": "markdown",
   "metadata": {},
   "source": [
    "Evaluate the MSE. By eye, how well does it fit?"
   ]
  },
  {
   "cell_type": "markdown",
   "metadata": {},
   "source": [
    "*Your narrative response here*"
   ]
  },
  {
   "cell_type": "markdown",
   "metadata": {},
   "source": [
    "### Step 2: Add a Layer\n",
    "\n",
    "**Use `nn.Sequential` to put two `nn.Linear` layers back to back.**\n",
    "\n",
    "Use 500 dimensions as the hidden dimension (the `out_features` of the first and the `in_features` of the second).\n",
    "\n",
    "You may notice that the training is much less stable, and is rather sensitive to initializations (run the same thing multiple times and see that it will sometimes converge much better than other times). To improve training, try the following:\n",
    "\n",
    "* Instead of `learner.fit`, use `learner.fit_one_cycle`. This starts the learning rate low, gradually ramps it up, then ramps it back down. It also enables *momentum*, which tends to make gradient descent both faster and more stable. **Can `fit_one_cycle` handle a larger learning rate (`lr_max=XXX`) than `fit` (`lr=XXX`)?**\n",
    "* Instead of `opt_func=SGD`, omit the `opt_func` parameter so it uses the default \"Adam\" optimizer. Adam adapts the effective learning rate for every parameter based on how big its gradients have been recently. As Sebastian Ruder [puts it](https://ruder.io/optimizing-gradient-descent/index.html#adam): \"Whereas momentum can be seen as a ball running down a slope, Adam behaves like a heavy ball with friction, which thus prefers flat minima in the error surface.\" **Does changing to Adam have much effect here?**"
   ]
  },
  {
   "cell_type": "code",
   "execution_count": 10,
   "metadata": {},
   "outputs": [
    {
     "data": {
      "text/html": [
       "<table border=\"1\" class=\"dataframe\">\n",
       "  <thead>\n",
       "    <tr style=\"text-align: left;\">\n",
       "      <th>epoch</th>\n",
       "      <th>train_loss</th>\n",
       "      <th>valid_loss</th>\n",
       "      <th>mae</th>\n",
       "      <th>time</th>\n",
       "    </tr>\n",
       "  </thead>\n",
       "  <tbody>\n",
       "    <tr>\n",
       "      <td>0</td>\n",
       "      <td>0.920632</td>\n",
       "      <td>0.789066</td>\n",
       "      <td>0.750009</td>\n",
       "      <td>00:00</td>\n",
       "    </tr>\n",
       "    <tr>\n",
       "      <td>1</td>\n",
       "      <td>0.825186</td>\n",
       "      <td>0.832955</td>\n",
       "      <td>0.750558</td>\n",
       "      <td>00:00</td>\n",
       "    </tr>\n",
       "    <tr>\n",
       "      <td>2</td>\n",
       "      <td>0.965909</td>\n",
       "      <td>1.005041</td>\n",
       "      <td>0.817890</td>\n",
       "      <td>00:00</td>\n",
       "    </tr>\n",
       "    <tr>\n",
       "      <td>3</td>\n",
       "      <td>0.863089</td>\n",
       "      <td>0.779145</td>\n",
       "      <td>0.721426</td>\n",
       "      <td>00:00</td>\n",
       "    </tr>\n",
       "    <tr>\n",
       "      <td>4</td>\n",
       "      <td>0.829559</td>\n",
       "      <td>0.824151</td>\n",
       "      <td>0.726931</td>\n",
       "      <td>00:00</td>\n",
       "    </tr>\n",
       "    <tr>\n",
       "      <td>5</td>\n",
       "      <td>0.809385</td>\n",
       "      <td>0.768478</td>\n",
       "      <td>0.728267</td>\n",
       "      <td>00:00</td>\n",
       "    </tr>\n",
       "    <tr>\n",
       "      <td>6</td>\n",
       "      <td>0.801617</td>\n",
       "      <td>0.829258</td>\n",
       "      <td>0.718980</td>\n",
       "      <td>00:00</td>\n",
       "    </tr>\n",
       "    <tr>\n",
       "      <td>7</td>\n",
       "      <td>0.783818</td>\n",
       "      <td>0.797611</td>\n",
       "      <td>0.752593</td>\n",
       "      <td>00:00</td>\n",
       "    </tr>\n",
       "    <tr>\n",
       "      <td>8</td>\n",
       "      <td>0.784719</td>\n",
       "      <td>0.797029</td>\n",
       "      <td>0.719279</td>\n",
       "      <td>00:00</td>\n",
       "    </tr>\n",
       "    <tr>\n",
       "      <td>9</td>\n",
       "      <td>0.795053</td>\n",
       "      <td>0.774839</td>\n",
       "      <td>0.742119</td>\n",
       "      <td>00:00</td>\n",
       "    </tr>\n",
       "    <tr>\n",
       "      <td>10</td>\n",
       "      <td>0.783517</td>\n",
       "      <td>0.781589</td>\n",
       "      <td>0.717142</td>\n",
       "      <td>00:00</td>\n",
       "    </tr>\n",
       "    <tr>\n",
       "      <td>11</td>\n",
       "      <td>0.771781</td>\n",
       "      <td>0.792023</td>\n",
       "      <td>0.723107</td>\n",
       "      <td>00:00</td>\n",
       "    </tr>\n",
       "    <tr>\n",
       "      <td>12</td>\n",
       "      <td>0.767133</td>\n",
       "      <td>0.764769</td>\n",
       "      <td>0.728470</td>\n",
       "      <td>00:00</td>\n",
       "    </tr>\n",
       "    <tr>\n",
       "      <td>13</td>\n",
       "      <td>0.768351</td>\n",
       "      <td>0.760104</td>\n",
       "      <td>0.720836</td>\n",
       "      <td>00:00</td>\n",
       "    </tr>\n",
       "    <tr>\n",
       "      <td>14</td>\n",
       "      <td>0.765217</td>\n",
       "      <td>0.760157</td>\n",
       "      <td>0.723078</td>\n",
       "      <td>00:00</td>\n",
       "    </tr>\n",
       "    <tr>\n",
       "      <td>15</td>\n",
       "      <td>0.763762</td>\n",
       "      <td>0.764044</td>\n",
       "      <td>0.716706</td>\n",
       "      <td>00:00</td>\n",
       "    </tr>\n",
       "    <tr>\n",
       "      <td>16</td>\n",
       "      <td>0.762276</td>\n",
       "      <td>0.760031</td>\n",
       "      <td>0.720895</td>\n",
       "      <td>00:00</td>\n",
       "    </tr>\n",
       "    <tr>\n",
       "      <td>17</td>\n",
       "      <td>0.757698</td>\n",
       "      <td>0.761009</td>\n",
       "      <td>0.719210</td>\n",
       "      <td>00:00</td>\n",
       "    </tr>\n",
       "    <tr>\n",
       "      <td>18</td>\n",
       "      <td>0.756880</td>\n",
       "      <td>0.762340</td>\n",
       "      <td>0.718883</td>\n",
       "      <td>00:00</td>\n",
       "    </tr>\n",
       "    <tr>\n",
       "      <td>19</td>\n",
       "      <td>0.754772</td>\n",
       "      <td>0.761380</td>\n",
       "      <td>0.719282</td>\n",
       "      <td>00:00</td>\n",
       "    </tr>\n",
       "  </tbody>\n",
       "</table>"
      ],
      "text/plain": [
       "<IPython.core.display.HTML object>"
      ]
     },
     "metadata": {},
     "output_type": "display_data"
    },
    {
     "data": {
      "image/png": "[encoded data removed]",
      "text/plain": [
       "<Figure size 432x288 with 1 Axes>"
      ]
     },
     "metadata": {},
     "output_type": "display_data"
    },
    {
     "data": {
      "image/png": "[encoded data removed]",
      "text/plain": [
       "<Figure size 432x288 with 1 Axes>"
      ]
     },
     "metadata": {},
     "output_type": "display_data"
    }
   ],
   "source": [
    "model = nn.Sequential(\n",
    "    # ...\n",
    "    nn.Linear(in_features=1, out_features=500, bias=True),\n",
    "    # ...\n",
    "    nn.Linear(in_features=500, out_features=1, bias=True),\n",
    ")\n",
    "# ... <<EOF\n",
    "loss_func = nn.MSELoss()\n",
    "\n",
    "learner = Learner(\n",
    "    dls=dataloaders,\n",
    "    model=model,\n",
    "    loss_func=loss_func,\n",
    "    #opt_func=SGD,\n",
    "    metrics=[mae],\n",
    "    cbs=[ShowPredictions(), ShowGraphCallback()],\n",
    ")\n",
    "\n",
    "learner.fit_one_cycle(n_epoch=20, lr_max=1e-1)\n",
    "# EOF"
   ]
  },
  {
   "cell_type": "markdown",
   "metadata": {},
   "source": [
    "Evaluate the MSE. By eye, how well does it fit?"
   ]
  },
  {
   "cell_type": "markdown",
   "metadata": {},
   "source": [
    "*Your narrative response here*"
   ]
  },
  {
   "cell_type": "markdown",
   "metadata": {},
   "source": [
    "### Step 3: **Add a nonlinearity**\n",
    "\n",
    "Add a `nn.ReLU` between the two linear layers.\n",
    "\n",
    "* Definitely use `fit_one_cycle` here!\n",
    "* You will probably need more epochs to fit this model.\n",
    "* Try several different `set_seed`s here to ensure that your results aren't a fluke."
   ]
  },
  {
   "cell_type": "code",
   "execution_count": 11,
   "metadata": {},
   "outputs": [
    {
     "data": {
      "text/html": [
       "<table border=\"1\" class=\"dataframe\">\n",
       "  <thead>\n",
       "    <tr style=\"text-align: left;\">\n",
       "      <th>epoch</th>\n",
       "      <th>train_loss</th>\n",
       "      <th>valid_loss</th>\n",
       "      <th>mae</th>\n",
       "      <th>time</th>\n",
       "    </tr>\n",
       "  </thead>\n",
       "  <tbody>\n",
       "    <tr>\n",
       "      <td>0</td>\n",
       "      <td>0.693079</td>\n",
       "      <td>0.550056</td>\n",
       "      <td>0.593399</td>\n",
       "      <td>00:00</td>\n",
       "    </tr>\n",
       "    <tr>\n",
       "      <td>1</td>\n",
       "      <td>0.435455</td>\n",
       "      <td>0.226713</td>\n",
       "      <td>0.368506</td>\n",
       "      <td>00:00</td>\n",
       "    </tr>\n",
       "    <tr>\n",
       "      <td>2</td>\n",
       "      <td>0.318465</td>\n",
       "      <td>0.289056</td>\n",
       "      <td>0.387823</td>\n",
       "      <td>00:00</td>\n",
       "    </tr>\n",
       "    <tr>\n",
       "      <td>3</td>\n",
       "      <td>0.279852</td>\n",
       "      <td>0.261593</td>\n",
       "      <td>0.415863</td>\n",
       "      <td>00:00</td>\n",
       "    </tr>\n",
       "    <tr>\n",
       "      <td>4</td>\n",
       "      <td>0.232801</td>\n",
       "      <td>0.195240</td>\n",
       "      <td>0.315986</td>\n",
       "      <td>00:00</td>\n",
       "    </tr>\n",
       "    <tr>\n",
       "      <td>5</td>\n",
       "      <td>0.211104</td>\n",
       "      <td>0.184315</td>\n",
       "      <td>0.320228</td>\n",
       "      <td>00:00</td>\n",
       "    </tr>\n",
       "    <tr>\n",
       "      <td>6</td>\n",
       "      <td>0.208310</td>\n",
       "      <td>0.211015</td>\n",
       "      <td>0.375118</td>\n",
       "      <td>00:00</td>\n",
       "    </tr>\n",
       "    <tr>\n",
       "      <td>7</td>\n",
       "      <td>0.199087</td>\n",
       "      <td>0.211851</td>\n",
       "      <td>0.360161</td>\n",
       "      <td>00:00</td>\n",
       "    </tr>\n",
       "    <tr>\n",
       "      <td>8</td>\n",
       "      <td>0.207838</td>\n",
       "      <td>0.207093</td>\n",
       "      <td>0.346923</td>\n",
       "      <td>00:00</td>\n",
       "    </tr>\n",
       "    <tr>\n",
       "      <td>9</td>\n",
       "      <td>0.201181</td>\n",
       "      <td>0.173332</td>\n",
       "      <td>0.298741</td>\n",
       "      <td>00:00</td>\n",
       "    </tr>\n",
       "    <tr>\n",
       "      <td>10</td>\n",
       "      <td>0.202531</td>\n",
       "      <td>0.222609</td>\n",
       "      <td>0.324228</td>\n",
       "      <td>00:00</td>\n",
       "    </tr>\n",
       "    <tr>\n",
       "      <td>11</td>\n",
       "      <td>0.198644</td>\n",
       "      <td>0.256327</td>\n",
       "      <td>0.406994</td>\n",
       "      <td>00:00</td>\n",
       "    </tr>\n",
       "    <tr>\n",
       "      <td>12</td>\n",
       "      <td>0.202352</td>\n",
       "      <td>0.198207</td>\n",
       "      <td>0.331616</td>\n",
       "      <td>00:00</td>\n",
       "    </tr>\n",
       "    <tr>\n",
       "      <td>13</td>\n",
       "      <td>0.194324</td>\n",
       "      <td>0.255945</td>\n",
       "      <td>0.427632</td>\n",
       "      <td>00:00</td>\n",
       "    </tr>\n",
       "    <tr>\n",
       "      <td>14</td>\n",
       "      <td>0.196672</td>\n",
       "      <td>0.173948</td>\n",
       "      <td>0.308988</td>\n",
       "      <td>00:00</td>\n",
       "    </tr>\n",
       "    <tr>\n",
       "      <td>15</td>\n",
       "      <td>0.189098</td>\n",
       "      <td>0.215841</td>\n",
       "      <td>0.320294</td>\n",
       "      <td>00:00</td>\n",
       "    </tr>\n",
       "    <tr>\n",
       "      <td>16</td>\n",
       "      <td>0.185658</td>\n",
       "      <td>0.173194</td>\n",
       "      <td>0.298018</td>\n",
       "      <td>00:00</td>\n",
       "    </tr>\n",
       "    <tr>\n",
       "      <td>17</td>\n",
       "      <td>0.180072</td>\n",
       "      <td>0.177394</td>\n",
       "      <td>0.303801</td>\n",
       "      <td>00:00</td>\n",
       "    </tr>\n",
       "    <tr>\n",
       "      <td>18</td>\n",
       "      <td>0.178259</td>\n",
       "      <td>0.181867</td>\n",
       "      <td>0.302603</td>\n",
       "      <td>00:00</td>\n",
       "    </tr>\n",
       "    <tr>\n",
       "      <td>19</td>\n",
       "      <td>0.175262</td>\n",
       "      <td>0.174144</td>\n",
       "      <td>0.299257</td>\n",
       "      <td>00:00</td>\n",
       "    </tr>\n",
       "    <tr>\n",
       "      <td>20</td>\n",
       "      <td>0.173036</td>\n",
       "      <td>0.180167</td>\n",
       "      <td>0.323992</td>\n",
       "      <td>00:00</td>\n",
       "    </tr>\n",
       "    <tr>\n",
       "      <td>21</td>\n",
       "      <td>0.171939</td>\n",
       "      <td>0.169455</td>\n",
       "      <td>0.295680</td>\n",
       "      <td>00:00</td>\n",
       "    </tr>\n",
       "    <tr>\n",
       "      <td>22</td>\n",
       "      <td>0.170063</td>\n",
       "      <td>0.169196</td>\n",
       "      <td>0.297448</td>\n",
       "      <td>00:00</td>\n",
       "    </tr>\n",
       "    <tr>\n",
       "      <td>23</td>\n",
       "      <td>0.169878</td>\n",
       "      <td>0.169218</td>\n",
       "      <td>0.297110</td>\n",
       "      <td>00:00</td>\n",
       "    </tr>\n",
       "    <tr>\n",
       "      <td>24</td>\n",
       "      <td>0.167490</td>\n",
       "      <td>0.168323</td>\n",
       "      <td>0.293499</td>\n",
       "      <td>00:00</td>\n",
       "    </tr>\n",
       "    <tr>\n",
       "      <td>25</td>\n",
       "      <td>0.166276</td>\n",
       "      <td>0.169995</td>\n",
       "      <td>0.296735</td>\n",
       "      <td>00:00</td>\n",
       "    </tr>\n",
       "    <tr>\n",
       "      <td>26</td>\n",
       "      <td>0.164923</td>\n",
       "      <td>0.168415</td>\n",
       "      <td>0.293780</td>\n",
       "      <td>00:00</td>\n",
       "    </tr>\n",
       "    <tr>\n",
       "      <td>27</td>\n",
       "      <td>0.164030</td>\n",
       "      <td>0.168199</td>\n",
       "      <td>0.293551</td>\n",
       "      <td>00:00</td>\n",
       "    </tr>\n",
       "    <tr>\n",
       "      <td>28</td>\n",
       "      <td>0.163613</td>\n",
       "      <td>0.168040</td>\n",
       "      <td>0.293115</td>\n",
       "      <td>00:00</td>\n",
       "    </tr>\n",
       "    <tr>\n",
       "      <td>29</td>\n",
       "      <td>0.163334</td>\n",
       "      <td>0.167990</td>\n",
       "      <td>0.293041</td>\n",
       "      <td>00:00</td>\n",
       "    </tr>\n",
       "  </tbody>\n",
       "</table>"
      ],
      "text/plain": [
       "<IPython.core.display.HTML object>"
      ]
     },
     "metadata": {},
     "output_type": "display_data"
    },
    {
     "data": {
      "image/png": "[encoded data removed]",
      "text/plain": [
       "<Figure size 432x288 with 1 Axes>"
      ]
     },
     "metadata": {},
     "output_type": "display_data"
    },
    {
     "data": {
      "image/png": "[encoded data removed]",
      "text/plain": [
       "<Figure size 432x288 with 1 Axes>"
      ]
     },
     "metadata": {},
     "output_type": "display_data"
    }
   ],
   "source": [
    "# set_seed(...)\n",
    "set_seed(10)\n",
    "# ... << EOF\n",
    "model = nn.Sequential(\n",
    "    nn.Linear(1, 500),\n",
    "    nn.ReLU(),\n",
    "    nn.Linear(500, 1)\n",
    ")\n",
    "\n",
    "learner = Learner(\n",
    "    dls=dataloaders,\n",
    "    model=model,\n",
    "    loss_func=loss_func,\n",
    "    metrics=[mae],\n",
    "    cbs=[ShowPredictions(), ShowGraphCallback()]\n",
    ")\n",
    "learner.fit_one_cycle(n_epoch=30, lr_max=.1)\n",
    "# EOF\n"
   ]
  },
  {
   "cell_type": "markdown",
   "metadata": {},
   "source": [
    "Evaluate the MSE. How well does it fit?"
   ]
  },
  {
   "cell_type": "markdown",
   "metadata": {},
   "source": [
    "*your narrative response here*"
   ]
  },
  {
   "cell_type": "markdown",
   "metadata": {},
   "source": [
    "## Analysis"
   ]
  },
  {
   "cell_type": "markdown",
   "metadata": {},
   "source": [
    "Despite having a hidden layer like the final model, the second model never gave us anything more than a straight line. Why not?"
   ]
  },
  {
   "cell_type": "markdown",
   "metadata": {},
   "source": [
    "*your narrative response here*"
   ]
  },
  {
   "cell_type": "markdown",
   "metadata": {},
   "source": [
    "Watch the model plot in Step 3 as the model fits (use at least 30 epochs to be able to watch this clearly). What do you notice about the plot during three regimes of training:\n",
    "\n",
    "1. Within the first epoch (right at the start of training)\n",
    "2. Mid-training\n",
    "3. In the last epoch or two"
   ]
  },
  {
   "cell_type": "markdown",
   "metadata": {},
   "source": [
    "*your narrative response here*"
   ]
  },
  {
   "cell_type": "markdown",
   "metadata": {},
   "source": [
    "## Extension (optional)"
   ]
  },
  {
   "cell_type": "markdown",
   "metadata": {},
   "source": [
    "What effect does the size of the hidden layer have on the quality of the fit?"
   ]
  },
  {
   "cell_type": "markdown",
   "metadata": {},
   "source": [
    "What effect does the choice of nonlinearity (\"activation function\") have? Try a few others: `Tanh`, `Sigmoid`, `LeakyReLU`,  `PReLU`, ... Early research in neural nets used smooth functions like `Tanh` and `Sigmoid` almost exclusively; do you think the `ReLU` was a good idea?"
   ]
  }
 ],
 "metadata": {
  "kernelspec": {
   "display_name": "Python 3",
   "language": "python",
   "name": "python3"
  },
  "language_info": {
   "codemirror_mode": {
    "name": "ipython",
    "version": 3
   },
   "file_extension": ".py",
   "mimetype": "text/x-python",
   "name": "python",
   "nbconvert_exporter": "python",
   "pygments_lexer": "ipython3",
   "version": "3.8.5"
  }
 },
 "nbformat": 4,
 "nbformat_minor": 4
}
