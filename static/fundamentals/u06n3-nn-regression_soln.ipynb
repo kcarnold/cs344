{
 "cells": [
  {
   "attachments": {},
   "cell_type": "markdown",
   "metadata": {},
   "source": [
    "# Nonlinear Regression\n",
    "\n",
    "Task: Use `nn.Sequential` to add layers to a model; use a nonlinearity between layers to increase the model's capacity; train using *Stochastic Gradient Descent* (SGD)."
   ]
  },
  {
   "cell_type": "markdown",
   "metadata": {},
   "source": [
    "## Setup"
   ]
  },
  {
   "cell_type": "code",
   "execution_count": 1,
   "metadata": {},
   "outputs": [],
   "source": [
    "from fastai.vision.all import *"
   ]
  },
  {
   "cell_type": "markdown",
   "metadata": {},
   "source": [
    "This function will make a `DataLoaders` object out of an arary dataset."
   ]
  },
  {
   "cell_type": "code",
   "execution_count": 2,
   "metadata": {},
   "outputs": [],
   "source": [
    "def make_dataloaders(x, y_true, splitter, batch_size):\n",
    "    data = L(zip(x, y_true))\n",
    "    train_indices, valid_indices = splitter(data)\n",
    "    return DataLoaders(\n",
    "        DataLoader(data[train_indices], batch_size=batch_size, shuffle=True),\n",
    "        DataLoader(data[valid_indices], batch_size=batch_size)\n",
    "    )   "
   ]
  },
  {
   "cell_type": "markdown",
   "metadata": {},
   "source": [
    "Here are utility functions to plot the first axis of a dataset and a model's predictions."
   ]
  },
  {
   "cell_type": "code",
   "execution_count": 3,
   "metadata": {},
   "outputs": [],
   "source": [
    "def plot_data(x, y): plt.scatter(x[:, 0], y[:, 0], s=.5, color='#bbbbbb')\n",
    "def plot_model(x, model):\n",
    "    x = x.sort(dim=0).values\n",
    "    y_pred = model(x).detach()\n",
    "    plt.plot(x[:, 0], y_pred[:, 0], 'r')"
   ]
  },
  {
   "cell_type": "markdown",
   "metadata": {},
   "source": [
    "The following `Callback` can be added to your `Learner` to plot the data and model after each epoch:\n",
    "\n",
    "```\n",
    "learner = Learner(\n",
    "    ...\n",
    "    cbs=[ShowPredictions(), ShowGraphCallback()],\n",
    "    ...\n",
    "```"
   ]
  },
  {
   "cell_type": "code",
   "execution_count": 20,
   "metadata": {},
   "outputs": [],
   "source": [
    "# Inspired by https://gist.github.com/oguiza/c7559da6de0e036f01d7dee15e2f15e4\n",
    "class ShowPredictions(Callback):\n",
    "    def __init__(self): self.graph_fig = None # keep a reference to a figure object to update\n",
    "    def before_fit(self):\n",
    "        self.run = not hasattr(self.learn, 'lr_finder') and not hasattr(self, 'gather_preds')\n",
    "    def after_fit(self): plt.close(self.graph_fig)\n",
    "    def after_epoch(self):\n",
    "        if self.graph_fig is None:\n",
    "            self.graph_fig, self.graph_ax = plt.subplots(1)\n",
    "            self.graph_out = display(self.graph_ax.figure, display_id=True)\n",
    "        plt.sca(self.graph_ax)\n",
    "        self.graph_ax.clear()\n",
    "        # Plot code. Replace this if needed:\n",
    "        plot_data(x, y_true)\n",
    "        plot_model(x, model)\n",
    "        # Update the graph.\n",
    "        self.graph_out.update(self.graph_ax.figure)\n"
   ]
  },
  {
   "cell_type": "markdown",
   "metadata": {},
   "source": [
    "## Task"
   ]
  },
  {
   "cell_type": "markdown",
   "metadata": {},
   "source": [
    "Most applications of neural net models work in very high dimensions (e.g., each individual pixel in an image!) so it's hard to visualize what the model is actually learning. Here, we'll revisit the simple linear model that we looked at in Fundamentals `006` and `009`, which learned to predict a single continuous outcome variable `y` from a single continuous input feature `x`. So we can visualize the network's behavior just like any other univariate function: by plotting y vs x.\n",
    "\n",
    "But this time the data isn't just a straight line; it's a fancy function of `x`."
   ]
  },
  {
   "cell_type": "code",
   "execution_count": 21,
   "metadata": {},
   "outputs": [
    {
     "data": {
      "image/png": "[encoded data removed]",
      "text/plain": [
       "<Figure size 432x288 with 1 Axes>"
      ]
     },
     "metadata": {
      "needs_background": "light"
     },
     "output_type": "display_data"
    }
   ],
   "source": [
    "num_points = 5000\n",
    "\n",
    "set_seed(40)\n",
    "x = torch.rand(num_points, 1)\n",
    "noise = torch.rand_like(x) * 1.\n",
    "y_true = .5 * (x*6).sin() + x + (x - .75) * noise\n",
    "# standardize y, just to make it well behaved.\n",
    "y_true -= y_true.mean()\n",
    "y_true /= y_true.std()\n",
    "\n",
    "plot_data(x, y_true)"
   ]
  },
  {
   "attachments": {},
   "cell_type": "markdown",
   "metadata": {},
   "source": [
    "In previous notebooks, we dealt with models that could only ever make straight lines. They couldn't even make a curve like `3 * x**2 + 2*x + 1`, yet alone that one!\n",
    "\n",
    "But you may remember from your math or stats studies that a curve like that is actually linear if you transform your data, e.g., using `z = [x, x**2]` as the input; then the model is `3 * z[1] + 2 * z[0] + 1`, which is linear in `z`.\n",
    "\n",
    "So if we transform our data before giving it to the linear model, we can actually get interesting functions from a linear model. But how do we transform the data?\n",
    "\n",
    "The classic approach is to specify what transformation to make. e.g., in *polynomial regression* we put in a bunch of powers of `x` (`x**2`, `x**3`, ..., `x**10`, ...), but that gets numerically unstable with high powers. There are other \"basis functions\" that are better behaved, like *splines*.\n",
    "\n",
    "But neural nets take a different approach: they *learn* the transformation based on what is needed to accomplish its objective."
   ]
  },
  {
   "cell_type": "markdown",
   "metadata": {},
   "source": [
    "**Instructions**:\n",
    "\n",
    "1. **Fit a line to this data** (minimizing the MSE). Evaluate the MSE. By eye, how well does it fit?\n",
    "2. **Add a layer**: Use `nn.Sequential` to put two `nn.Linear` layers back to back. Use 500 dimensions as the hidden dimension (the `out_features` of the first and the `in_features` of the second). Evaluate the MSE. How well does it fit?\n",
    "3. **Add a nonlinearity**: Add a `nn.ReLU` between the two linear layers. Evaluate the MSE. How well does it fit?\n",
    "\n",
    "Details and tips are given inline below."
   ]
  },
  {
   "cell_type": "markdown",
   "metadata": {},
   "source": [
    "## Solution"
   ]
  },
  {
   "cell_type": "markdown",
   "metadata": {},
   "source": [
    "**Make a `DataLoaders` for this data**. This step has been done for you. \n",
    "\n",
    "We increased the dataset size and the batch size to make the learning better-behaved. Once you get this to work, you might see if you can deal with a smaller batch size or less data overall."
   ]
  },
  {
   "cell_type": "code",
   "execution_count": 22,
   "metadata": {},
   "outputs": [],
   "source": [
    "splitter = RandomSplitter(valid_pct=0.2, seed=42)\n",
    "batch_size = 100\n",
    "dataloaders = make_dataloaders(x, y_true, splitter, batch_size=batch_size)"
   ]
  },
  {
   "cell_type": "markdown",
   "metadata": {},
   "source": [
    "### Step 1: Fit a Line\n",
    "\n",
    "**Fit a line to this data (minimizing the MSE).**\n",
    "\n",
    "* Use a `nn.Linear` module as your `model`\n",
    "* Use `Learner` with `opt_func=SGD`, as you did in `009`.\n",
    "* Pass `cbs=[ShowPredictions(), ShowGraphCallback()]` to the `Learner` to show the training progress.\n",
    "\n",
    "Tune the learning rate and number of epochs until you reliably get an MSE below 0.76."
   ]
  },
  {
   "cell_type": "code",
   "execution_count": 24,
   "metadata": {},
   "outputs": [
    {
     "data": {
      "text/html": [
       "<table border=\"1\" class=\"dataframe\">\n",
       "  <thead>\n",
       "    <tr style=\"text-align: left;\">\n",
       "      <th>epoch</th>\n",
       "      <th>train_loss</th>\n",
       "      <th>valid_loss</th>\n",
       "      <th>mae</th>\n",
       "      <th>time</th>\n",
       "    </tr>\n",
       "  </thead>\n",
       "  <tbody>\n",
       "    <tr>\n",
       "      <td>0</td>\n",
       "      <td>0.792520</td>\n",
       "      <td>0.793244</td>\n",
       "      <td>0.713663</td>\n",
       "      <td>00:00</td>\n",
       "    </tr>\n",
       "    <tr>\n",
       "      <td>1</td>\n",
       "      <td>0.768427</td>\n",
       "      <td>0.779011</td>\n",
       "      <td>0.716697</td>\n",
       "      <td>00:00</td>\n",
       "    </tr>\n",
       "    <tr>\n",
       "      <td>2</td>\n",
       "      <td>0.759131</td>\n",
       "      <td>0.765685</td>\n",
       "      <td>0.715370</td>\n",
       "      <td>00:00</td>\n",
       "    </tr>\n",
       "    <tr>\n",
       "      <td>3</td>\n",
       "      <td>0.757969</td>\n",
       "      <td>0.765160</td>\n",
       "      <td>0.718357</td>\n",
       "      <td>00:00</td>\n",
       "    </tr>\n",
       "    <tr>\n",
       "      <td>4</td>\n",
       "      <td>0.756275</td>\n",
       "      <td>0.765439</td>\n",
       "      <td>0.720378</td>\n",
       "      <td>00:00</td>\n",
       "    </tr>\n",
       "    <tr>\n",
       "      <td>5</td>\n",
       "      <td>0.759342</td>\n",
       "      <td>0.760824</td>\n",
       "      <td>0.719402</td>\n",
       "      <td>00:00</td>\n",
       "    </tr>\n",
       "    <tr>\n",
       "      <td>6</td>\n",
       "      <td>0.752607</td>\n",
       "      <td>0.761617</td>\n",
       "      <td>0.720006</td>\n",
       "      <td>00:00</td>\n",
       "    </tr>\n",
       "    <tr>\n",
       "      <td>7</td>\n",
       "      <td>0.752541</td>\n",
       "      <td>0.762031</td>\n",
       "      <td>0.720603</td>\n",
       "      <td>00:00</td>\n",
       "    </tr>\n",
       "    <tr>\n",
       "      <td>8</td>\n",
       "      <td>0.752617</td>\n",
       "      <td>0.760692</td>\n",
       "      <td>0.720267</td>\n",
       "      <td>00:00</td>\n",
       "    </tr>\n",
       "    <tr>\n",
       "      <td>9</td>\n",
       "      <td>0.753349</td>\n",
       "      <td>0.760356</td>\n",
       "      <td>0.720308</td>\n",
       "      <td>00:00</td>\n",
       "    </tr>\n",
       "  </tbody>\n",
       "</table>"
      ],
      "text/plain": [
       "<IPython.core.display.HTML object>"
      ]
     },
     "metadata": {},
     "output_type": "display_data"
    },
    {
     "data": {
      "image/png": "[encoded data removed]",
      "text/plain": [
       "<Figure size 432x288 with 1 Axes>"
      ]
     },
     "metadata": {
      "needs_background": "light"
     },
     "output_type": "display_data"
    }
   ],
   "source": [
    "# # your code here <<EOF\n",
    "model = nn.Linear(in_features=1, out_features=1, bias=True)\n",
    "loss_func = nn.MSELoss()\n",
    "\n",
    "learner = Learner(\n",
    "    dls=dataloaders,\n",
    "    model=model,\n",
    "    loss_func=loss_func,\n",
    "    opt_func=SGD,\n",
    "    metrics=[mae],\n",
    "    cbs=[ShowPredictions(), ShowGraphCallback()],\n",
    ")\n",
    "\n",
    "learner.fit(n_epoch=10, lr=1e-1)\n",
    "# EOF\n",
    "\n",
    "# For some reason, the graph sometimes disappears after training is done. Show it again.\n",
    "plt.figure()\n",
    "plot_data(x, y_true)\n",
    "plot_model(x, model)\n"
   ]
  },
  {
   "cell_type": "markdown",
   "metadata": {},
   "source": [
    "Evaluate the MSE. By eye, how well does it fit?"
   ]
  },
  {
   "cell_type": "markdown",
   "metadata": {},
   "source": [
    "*Your narrative response here*"
   ]
  },
  {
   "cell_type": "code",
   "execution_count": 8,
   "metadata": {},
   "outputs": [],
   "source": [
    "# aside: is this the best possible line?\n",
    "# To determine the ideal MSE of a linear model, one approach is:\n",
    "# from sklearn.linear_model import LinearRegression\n",
    "# from sklearn.metrics import mean_squared_error\n",
    "# mean_squared_error(\n",
    "#     to_np(y_true),\n",
    "#     LinearRegression().fit(x, y_true).predict(to_np(x))\n",
    "# )"
   ]
  },
  {
   "cell_type": "markdown",
   "metadata": {},
   "source": [
    "### Step 2: Add a Layer\n",
    "\n",
    "**Use `nn.Sequential` to put two `nn.Linear` layers back to back.**\n",
    "\n",
    "Use 500 dimensions as the hidden dimension (the `out_features` of the first and the `in_features` of the second).\n",
    "\n",
    "You may notice that the training is much less stable, and is rather sensitive to initializations (run the same thing multiple times and see that it will sometimes converge much better than other times). To improve training, try the following:\n",
    "\n",
    "* Instead of `learner.fit`, use `learner.fit_one_cycle`. This starts the learning rate low, gradually ramps it up, then ramps it back down. It also enables *momentum*, which tends to make gradient descent both faster and more stable. **Can `fit_one_cycle` handle a larger learning rate (`lr_max=XXX`) than `fit` (`lr=XXX`)?**\n",
    "* Instead of `opt_func=SGD`, omit the `opt_func` parameter so it uses the default \"Adam\" optimizer. Adam adapts the effective learning rate for every parameter based on how big its gradients have been recently. As Sebastian Ruder [puts it](https://ruder.io/optimizing-gradient-descent/index.html#adam): \"Whereas momentum can be seen as a ball running down a slope, Adam behaves like a heavy ball with friction, which thus prefers flat minima in the error surface.\" **Does changing to Adam have much effect here?**"
   ]
  },
  {
   "cell_type": "code",
   "execution_count": 25,
   "metadata": {},
   "outputs": [
    {
     "data": {
      "text/html": [
       "<table border=\"1\" class=\"dataframe\">\n",
       "  <thead>\n",
       "    <tr style=\"text-align: left;\">\n",
       "      <th>epoch</th>\n",
       "      <th>train_loss</th>\n",
       "      <th>valid_loss</th>\n",
       "      <th>mae</th>\n",
       "      <th>time</th>\n",
       "    </tr>\n",
       "  </thead>\n",
       "  <tbody>\n",
       "    <tr>\n",
       "      <td>0</td>\n",
       "      <td>0.881897</td>\n",
       "      <td>0.888324</td>\n",
       "      <td>0.760854</td>\n",
       "      <td>00:00</td>\n",
       "    </tr>\n",
       "    <tr>\n",
       "      <td>1</td>\n",
       "      <td>0.860030</td>\n",
       "      <td>0.791239</td>\n",
       "      <td>0.747454</td>\n",
       "      <td>00:00</td>\n",
       "    </tr>\n",
       "    <tr>\n",
       "      <td>2</td>\n",
       "      <td>0.883733</td>\n",
       "      <td>0.801535</td>\n",
       "      <td>0.713188</td>\n",
       "      <td>00:00</td>\n",
       "    </tr>\n",
       "    <tr>\n",
       "      <td>3</td>\n",
       "      <td>0.878961</td>\n",
       "      <td>0.847611</td>\n",
       "      <td>0.754376</td>\n",
       "      <td>00:00</td>\n",
       "    </tr>\n",
       "    <tr>\n",
       "      <td>4</td>\n",
       "      <td>0.853636</td>\n",
       "      <td>0.780523</td>\n",
       "      <td>0.729532</td>\n",
       "      <td>00:00</td>\n",
       "    </tr>\n",
       "    <tr>\n",
       "      <td>5</td>\n",
       "      <td>0.818214</td>\n",
       "      <td>0.805286</td>\n",
       "      <td>0.711994</td>\n",
       "      <td>00:00</td>\n",
       "    </tr>\n",
       "    <tr>\n",
       "      <td>6</td>\n",
       "      <td>0.798787</td>\n",
       "      <td>0.766968</td>\n",
       "      <td>0.717160</td>\n",
       "      <td>00:00</td>\n",
       "    </tr>\n",
       "    <tr>\n",
       "      <td>7</td>\n",
       "      <td>0.776527</td>\n",
       "      <td>0.765761</td>\n",
       "      <td>0.732977</td>\n",
       "      <td>00:00</td>\n",
       "    </tr>\n",
       "    <tr>\n",
       "      <td>8</td>\n",
       "      <td>0.769157</td>\n",
       "      <td>0.759975</td>\n",
       "      <td>0.721092</td>\n",
       "      <td>00:00</td>\n",
       "    </tr>\n",
       "    <tr>\n",
       "      <td>9</td>\n",
       "      <td>0.770513</td>\n",
       "      <td>0.761324</td>\n",
       "      <td>0.727016</td>\n",
       "      <td>00:00</td>\n",
       "    </tr>\n",
       "    <tr>\n",
       "      <td>10</td>\n",
       "      <td>0.789522</td>\n",
       "      <td>0.817542</td>\n",
       "      <td>0.722459</td>\n",
       "      <td>00:00</td>\n",
       "    </tr>\n",
       "    <tr>\n",
       "      <td>11</td>\n",
       "      <td>0.787567</td>\n",
       "      <td>0.774875</td>\n",
       "      <td>0.720349</td>\n",
       "      <td>00:00</td>\n",
       "    </tr>\n",
       "    <tr>\n",
       "      <td>12</td>\n",
       "      <td>0.775697</td>\n",
       "      <td>0.759934</td>\n",
       "      <td>0.722407</td>\n",
       "      <td>00:00</td>\n",
       "    </tr>\n",
       "    <tr>\n",
       "      <td>13</td>\n",
       "      <td>0.768402</td>\n",
       "      <td>0.760206</td>\n",
       "      <td>0.725636</td>\n",
       "      <td>00:00</td>\n",
       "    </tr>\n",
       "    <tr>\n",
       "      <td>14</td>\n",
       "      <td>0.769978</td>\n",
       "      <td>0.794281</td>\n",
       "      <td>0.731347</td>\n",
       "      <td>00:00</td>\n",
       "    </tr>\n",
       "    <tr>\n",
       "      <td>15</td>\n",
       "      <td>0.763640</td>\n",
       "      <td>0.775074</td>\n",
       "      <td>0.713740</td>\n",
       "      <td>00:00</td>\n",
       "    </tr>\n",
       "    <tr>\n",
       "      <td>16</td>\n",
       "      <td>0.760103</td>\n",
       "      <td>0.763059</td>\n",
       "      <td>0.717389</td>\n",
       "      <td>00:00</td>\n",
       "    </tr>\n",
       "    <tr>\n",
       "      <td>17</td>\n",
       "      <td>0.755117</td>\n",
       "      <td>0.761190</td>\n",
       "      <td>0.721262</td>\n",
       "      <td>00:00</td>\n",
       "    </tr>\n",
       "    <tr>\n",
       "      <td>18</td>\n",
       "      <td>0.752194</td>\n",
       "      <td>0.760884</td>\n",
       "      <td>0.721110</td>\n",
       "      <td>00:00</td>\n",
       "    </tr>\n",
       "    <tr>\n",
       "      <td>19</td>\n",
       "      <td>0.752251</td>\n",
       "      <td>0.762052</td>\n",
       "      <td>0.720924</td>\n",
       "      <td>00:00</td>\n",
       "    </tr>\n",
       "  </tbody>\n",
       "</table>"
      ],
      "text/plain": [
       "<IPython.core.display.HTML object>"
      ]
     },
     "metadata": {},
     "output_type": "display_data"
    },
    {
     "data": {
      "image/png": "[encoded data removed]",
      "text/plain": [
       "<Figure size 432x288 with 1 Axes>"
      ]
     },
     "metadata": {
      "needs_background": "light"
     },
     "output_type": "display_data"
    }
   ],
   "source": [
    "model = nn.Sequential(\n",
    "    # ...\n",
    "    nn.Linear(in_features=1, out_features=500, bias=True),\n",
    "    # ...\n",
    "    nn.Linear(in_features=500, out_features=1, bias=True),\n",
    ")\n",
    "# ... <<EOF\n",
    "loss_func = nn.MSELoss()\n",
    "\n",
    "learner = Learner(\n",
    "    dls=dataloaders,\n",
    "    model=model,\n",
    "    loss_func=loss_func,\n",
    "    #opt_func=SGD,\n",
    "    metrics=[mae],\n",
    "    cbs=[ShowPredictions(), ShowGraphCallback()],\n",
    ")\n",
    "\n",
    "learner.fit_one_cycle(n_epoch=20, lr_max=1e-1)\n",
    "# EOF\n",
    "\n",
    "plt.figure()\n",
    "plot_data(x, y_true)\n",
    "plot_model(x, model)"
   ]
  },
  {
   "attachments": {},
   "cell_type": "markdown",
   "metadata": {},
   "source": [
    "What does your function look like? Evaluate the MSE. By eye, how well does it fit? **Was this worth it at all???**"
   ]
  },
  {
   "cell_type": "markdown",
   "metadata": {},
   "source": [
    "*Your narrative response here*"
   ]
  },
  {
   "cell_type": "markdown",
   "metadata": {},
   "source": [
    "### Step 3: **Add a nonlinearity**\n",
    "\n",
    "Add a `nn.ReLU` between the two linear layers.\n",
    "\n",
    "* Definitely use `fit_one_cycle` here!\n",
    "* You will probably need more epochs to fit this model.\n",
    "* Try several different `set_seed`s here to ensure that your results aren't a fluke."
   ]
  },
  {
   "cell_type": "code",
   "execution_count": 10,
   "metadata": {},
   "outputs": [
    {
     "data": {
      "text/html": [
       "<table border=\"1\" class=\"dataframe\">\n",
       "  <thead>\n",
       "    <tr style=\"text-align: left;\">\n",
       "      <th>epoch</th>\n",
       "      <th>train_loss</th>\n",
       "      <th>valid_loss</th>\n",
       "      <th>mae</th>\n",
       "      <th>time</th>\n",
       "    </tr>\n",
       "  </thead>\n",
       "  <tbody>\n",
       "    <tr>\n",
       "      <td>0</td>\n",
       "      <td>0.693079</td>\n",
       "      <td>0.550056</td>\n",
       "      <td>0.593399</td>\n",
       "      <td>00:00</td>\n",
       "    </tr>\n",
       "    <tr>\n",
       "      <td>1</td>\n",
       "      <td>0.435455</td>\n",
       "      <td>0.226713</td>\n",
       "      <td>0.368506</td>\n",
       "      <td>00:00</td>\n",
       "    </tr>\n",
       "    <tr>\n",
       "      <td>2</td>\n",
       "      <td>0.318465</td>\n",
       "      <td>0.289057</td>\n",
       "      <td>0.387824</td>\n",
       "      <td>00:00</td>\n",
       "    </tr>\n",
       "    <tr>\n",
       "      <td>3</td>\n",
       "      <td>0.279852</td>\n",
       "      <td>0.261588</td>\n",
       "      <td>0.415857</td>\n",
       "      <td>00:00</td>\n",
       "    </tr>\n",
       "    <tr>\n",
       "      <td>4</td>\n",
       "      <td>0.232800</td>\n",
       "      <td>0.195237</td>\n",
       "      <td>0.315977</td>\n",
       "      <td>00:00</td>\n",
       "    </tr>\n",
       "    <tr>\n",
       "      <td>5</td>\n",
       "      <td>0.211107</td>\n",
       "      <td>0.184718</td>\n",
       "      <td>0.320578</td>\n",
       "      <td>00:00</td>\n",
       "    </tr>\n",
       "    <tr>\n",
       "      <td>6</td>\n",
       "      <td>0.207967</td>\n",
       "      <td>0.208245</td>\n",
       "      <td>0.371720</td>\n",
       "      <td>00:00</td>\n",
       "    </tr>\n",
       "    <tr>\n",
       "      <td>7</td>\n",
       "      <td>0.199220</td>\n",
       "      <td>0.208629</td>\n",
       "      <td>0.352883</td>\n",
       "      <td>00:00</td>\n",
       "    </tr>\n",
       "    <tr>\n",
       "      <td>8</td>\n",
       "      <td>0.204271</td>\n",
       "      <td>0.186888</td>\n",
       "      <td>0.312731</td>\n",
       "      <td>00:00</td>\n",
       "    </tr>\n",
       "    <tr>\n",
       "      <td>9</td>\n",
       "      <td>0.197728</td>\n",
       "      <td>0.178172</td>\n",
       "      <td>0.315533</td>\n",
       "      <td>00:00</td>\n",
       "    </tr>\n",
       "    <tr>\n",
       "      <td>10</td>\n",
       "      <td>0.205566</td>\n",
       "      <td>0.211955</td>\n",
       "      <td>0.342188</td>\n",
       "      <td>00:00</td>\n",
       "    </tr>\n",
       "    <tr>\n",
       "      <td>11</td>\n",
       "      <td>0.194989</td>\n",
       "      <td>0.214756</td>\n",
       "      <td>0.348866</td>\n",
       "      <td>00:00</td>\n",
       "    </tr>\n",
       "    <tr>\n",
       "      <td>12</td>\n",
       "      <td>0.202221</td>\n",
       "      <td>0.208816</td>\n",
       "      <td>0.360789</td>\n",
       "      <td>00:00</td>\n",
       "    </tr>\n",
       "    <tr>\n",
       "      <td>13</td>\n",
       "      <td>0.193474</td>\n",
       "      <td>0.183452</td>\n",
       "      <td>0.332429</td>\n",
       "      <td>00:00</td>\n",
       "    </tr>\n",
       "    <tr>\n",
       "      <td>14</td>\n",
       "      <td>0.189247</td>\n",
       "      <td>0.171670</td>\n",
       "      <td>0.301975</td>\n",
       "      <td>00:00</td>\n",
       "    </tr>\n",
       "    <tr>\n",
       "      <td>15</td>\n",
       "      <td>0.184903</td>\n",
       "      <td>0.223630</td>\n",
       "      <td>0.323864</td>\n",
       "      <td>00:00</td>\n",
       "    </tr>\n",
       "    <tr>\n",
       "      <td>16</td>\n",
       "      <td>0.183019</td>\n",
       "      <td>0.179633</td>\n",
       "      <td>0.313592</td>\n",
       "      <td>00:00</td>\n",
       "    </tr>\n",
       "    <tr>\n",
       "      <td>17</td>\n",
       "      <td>0.180727</td>\n",
       "      <td>0.178126</td>\n",
       "      <td>0.304168</td>\n",
       "      <td>00:00</td>\n",
       "    </tr>\n",
       "    <tr>\n",
       "      <td>18</td>\n",
       "      <td>0.178300</td>\n",
       "      <td>0.180524</td>\n",
       "      <td>0.301803</td>\n",
       "      <td>00:00</td>\n",
       "    </tr>\n",
       "    <tr>\n",
       "      <td>19</td>\n",
       "      <td>0.175831</td>\n",
       "      <td>0.174160</td>\n",
       "      <td>0.298026</td>\n",
       "      <td>00:00</td>\n",
       "    </tr>\n",
       "    <tr>\n",
       "      <td>20</td>\n",
       "      <td>0.174609</td>\n",
       "      <td>0.184159</td>\n",
       "      <td>0.331842</td>\n",
       "      <td>00:00</td>\n",
       "    </tr>\n",
       "    <tr>\n",
       "      <td>21</td>\n",
       "      <td>0.173953</td>\n",
       "      <td>0.169220</td>\n",
       "      <td>0.295720</td>\n",
       "      <td>00:00</td>\n",
       "    </tr>\n",
       "    <tr>\n",
       "      <td>22</td>\n",
       "      <td>0.170504</td>\n",
       "      <td>0.168455</td>\n",
       "      <td>0.296375</td>\n",
       "      <td>00:00</td>\n",
       "    </tr>\n",
       "    <tr>\n",
       "      <td>23</td>\n",
       "      <td>0.169364</td>\n",
       "      <td>0.169647</td>\n",
       "      <td>0.297159</td>\n",
       "      <td>00:00</td>\n",
       "    </tr>\n",
       "    <tr>\n",
       "      <td>24</td>\n",
       "      <td>0.167237</td>\n",
       "      <td>0.168937</td>\n",
       "      <td>0.293691</td>\n",
       "      <td>00:00</td>\n",
       "    </tr>\n",
       "    <tr>\n",
       "      <td>25</td>\n",
       "      <td>0.166529</td>\n",
       "      <td>0.169108</td>\n",
       "      <td>0.295270</td>\n",
       "      <td>00:00</td>\n",
       "    </tr>\n",
       "    <tr>\n",
       "      <td>26</td>\n",
       "      <td>0.165032</td>\n",
       "      <td>0.168947</td>\n",
       "      <td>0.293757</td>\n",
       "      <td>00:00</td>\n",
       "    </tr>\n",
       "    <tr>\n",
       "      <td>27</td>\n",
       "      <td>0.164108</td>\n",
       "      <td>0.167879</td>\n",
       "      <td>0.293340</td>\n",
       "      <td>00:00</td>\n",
       "    </tr>\n",
       "    <tr>\n",
       "      <td>28</td>\n",
       "      <td>0.163583</td>\n",
       "      <td>0.167814</td>\n",
       "      <td>0.292970</td>\n",
       "      <td>00:00</td>\n",
       "    </tr>\n",
       "    <tr>\n",
       "      <td>29</td>\n",
       "      <td>0.163312</td>\n",
       "      <td>0.167758</td>\n",
       "      <td>0.292808</td>\n",
       "      <td>00:00</td>\n",
       "    </tr>\n",
       "  </tbody>\n",
       "</table>"
      ],
      "text/plain": [
       "<IPython.core.display.HTML object>"
      ]
     },
     "metadata": {},
     "output_type": "display_data"
    }
   ],
   "source": [
    "# set_seed(...)\n",
    "set_seed(10)\n",
    "# ... << EOF\n",
    "model = nn.Sequential(\n",
    "    nn.Linear(1, 500),\n",
    "    nn.ReLU(),\n",
    "    nn.Linear(500, 1)\n",
    ")\n",
    "\n",
    "learner = Learner(\n",
    "    dls=dataloaders,\n",
    "    model=model,\n",
    "    loss_func=loss_func,\n",
    "    metrics=[mae],\n",
    "    cbs=[ShowPredictions(), ShowGraphCallback()]\n",
    ")\n",
    "learner.fit_one_cycle(n_epoch=30, lr_max=.1)\n",
    "# EOF\n",
    "\n",
    "plt.figure()\n",
    "plot_data(x, y_true)\n",
    "plot_model(x, model)"
   ]
  },
  {
   "cell_type": "markdown",
   "metadata": {},
   "source": [
    "Evaluate the MSE. How well does it fit?"
   ]
  },
  {
   "cell_type": "markdown",
   "metadata": {},
   "source": [
    "*your narrative response here*"
   ]
  },
  {
   "cell_type": "markdown",
   "metadata": {},
   "source": [
    "## Analysis"
   ]
  },
  {
   "cell_type": "markdown",
   "metadata": {},
   "source": [
    "Despite having a hidden layer like the final model, the second model never gave us anything more than a straight line. Why not?"
   ]
  },
  {
   "cell_type": "markdown",
   "metadata": {},
   "source": [
    "*your narrative response here*"
   ]
  },
  {
   "cell_type": "markdown",
   "metadata": {},
   "source": [
    "Watch the model plot in Step 3 as the model fits (use at least 30 epochs to be able to watch this clearly). What do you notice about the plot during three regimes of training:\n",
    "\n",
    "1. Within the first epoch (right at the start of training)\n",
    "2. Mid-training\n",
    "3. In the last epoch or two"
   ]
  },
  {
   "cell_type": "markdown",
   "metadata": {},
   "source": [
    "*your narrative response here*"
   ]
  },
  {
   "cell_type": "markdown",
   "metadata": {},
   "source": [
    "## Extension (optional)"
   ]
  },
  {
   "cell_type": "markdown",
   "metadata": {},
   "source": [
    "What effect does the size of the hidden layer have on the quality of the fit?"
   ]
  },
  {
   "cell_type": "markdown",
   "metadata": {},
   "source": [
    "What effect does the choice of nonlinearity (\"activation function\") have? Try a few others: `Tanh`, `Sigmoid`, `LeakyReLU`,  `PReLU`, ... Early research in neural nets used smooth functions like `Tanh` and `Sigmoid` almost exclusively; do you think the `ReLU` was a good idea?"
   ]
  }
 ],
 "metadata": {
  "kernelspec": {
   "display_name": "Python 3",
   "language": "python",
   "name": "python3"
  },
  "language_info": {
   "codemirror_mode": {
    "name": "ipython",
    "version": 3
   },
   "file_extension": ".py",
   "mimetype": "text/x-python",
   "name": "python",
   "nbconvert_exporter": "python",
   "pygments_lexer": "ipython3",
   "version": "3.8.13"
  },
  "vscode": {
   "interpreter": {
    "hash": "11622c42cb37888a547668029ca17ab350054836018afc09937c9989e42ce9d0"
   }
  }
 },
 "nbformat": 4,
 "nbformat_minor": 4
}
