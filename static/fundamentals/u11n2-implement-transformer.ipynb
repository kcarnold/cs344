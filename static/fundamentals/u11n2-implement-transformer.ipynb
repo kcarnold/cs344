{
 "cells": [
  {
   "attachments": {},
   "cell_type": "markdown",
   "metadata": {},
   "source": [
    "# Implementing self-attention\n",
    "\n",
    "Let's implement a Transformer. Don't worry, we can do this."
   ]
  },
  {
   "cell_type": "markdown",
   "metadata": {},
   "source": [
    "## Setup"
   ]
  },
  {
   "cell_type": "code",
   "execution_count": 27,
   "metadata": {},
   "outputs": [],
   "source": [
    "import torch\n",
    "import torch.nn as nn\n",
    "import torch.nn.functional as F\n",
    "import pandas as pd\n",
    "import matplotlib.pyplot as plt\n",
    "from IPython.display import display\n",
    "\n",
    "def num_parameters(model):\n",
    "    \"\"\"Count the number of trainable parameters in a model\"\"\"\n",
    "    return sum(param.numel() for param in model.parameters() if param.requires_grad)"
   ]
  },
  {
   "cell_type": "markdown",
   "metadata": {},
   "source": [
    "## Getting started\n",
    "\n",
    "Let's start with an input sequence."
   ]
  },
  {
   "cell_type": "code",
   "execution_count": 28,
   "metadata": {},
   "outputs": [],
   "source": [
    "sentence = \"Transformed.\""
   ]
  },
  {
   "attachments": {},
   "cell_type": "markdown",
   "metadata": {},
   "source": [
    "Let's turn it into numbers by using the Unicode code point for each character. To keep things simple, we won't batch anything."
   ]
  },
  {
   "cell_type": "code",
   "execution_count": 29,
   "metadata": {},
   "outputs": [
    {
     "data": {
      "text/plain": [
       "tensor([ 84, 114,  97, 110, 115, 102, 111, 114, 109, 101, 100,  46])"
      ]
     },
     "execution_count": 29,
     "metadata": {},
     "output_type": "execute_result"
    }
   ],
   "source": [
    "sentence_tensor = torch.tensor([ord(x) for x in sentence])\n",
    "sentence_tensor"
   ]
  },
  {
   "cell_type": "code",
   "execution_count": 30,
   "metadata": {},
   "outputs": [
    {
     "data": {
      "text/plain": [
       "'Transformed.'"
      ]
     },
     "execution_count": 30,
     "metadata": {},
     "output_type": "execute_result"
    }
   ],
   "source": [
    "def decode(x):\n",
    "    return ''.join(chr(x) for x in x.numpy())\n",
    "decode(sentence_tensor)"
   ]
  },
  {
   "cell_type": "markdown",
   "metadata": {},
   "source": [
    "We'll make this an autoregressive language model, so our goal will be to predict the next character. So we'll need to shift the targets left, so each character should output the next one."
   ]
  },
  {
   "cell_type": "code",
   "execution_count": 31,
   "metadata": {},
   "outputs": [],
   "source": [
    "targets = sentence_tensor[1:]\n",
    "input_ids = sentence_tensor[:-1]\n",
    "assert input_ids.shape == targets.shape"
   ]
  },
  {
   "cell_type": "markdown",
   "metadata": {},
   "source": [
    "Now let's make those numbers into vectors using an embedding. Note that we're just going to use the random initialization right now; we're not yet training this model."
   ]
  },
  {
   "cell_type": "markdown",
   "metadata": {},
   "source": [
    "# Embeddings"
   ]
  },
  {
   "cell_type": "markdown",
   "metadata": {},
   "source": [
    "A big chunk of the parameters of a model come from the *word embeddings*. Let's see an example.\n",
    "\n",
    "We'll use a vocabulary size of 256 (very small, but enough to store individual *bytes*) and an embedding dimensionality of 5 (also *very* small).\n",
    "\n",
    "(Note: we'll still call these *word* embeddings even though we'll actually use them as embeddings for individual *characters*.)"
   ]
  },
  {
   "cell_type": "code",
   "execution_count": 32,
   "metadata": {},
   "outputs": [
    {
     "data": {
      "text/plain": [
       "torch.Size([256, 5])"
      ]
     },
     "execution_count": 32,
     "metadata": {},
     "output_type": "execute_result"
    }
   ],
   "source": [
    "n_vocab = 256\n",
    "emb_dim = 5\n",
    "embedder = nn.Embedding(n_vocab, emb_dim)\n",
    "embedder.weight.shape"
   ]
  },
  {
   "cell_type": "markdown",
   "metadata": {},
   "source": [
    "How many parameters are needed for the word embeddings?"
   ]
  },
  {
   "cell_type": "code",
   "execution_count": 33,
   "metadata": {},
   "outputs": [
    {
     "data": {
      "text/plain": [
       "1280"
      ]
     },
     "execution_count": 33,
     "metadata": {},
     "output_type": "execute_result"
    }
   ],
   "source": [
    "num_parameters(embedder)"
   ]
  },
  {
   "cell_type": "markdown",
   "metadata": {},
   "source": [
    "## Complete but vacuous model"
   ]
  },
  {
   "cell_type": "markdown",
   "metadata": {},
   "source": [
    "We'll now define a model that has the outward structure of a language model, but without any internal processing."
   ]
  },
  {
   "cell_type": "code",
   "execution_count": 34,
   "metadata": {},
   "outputs": [
    {
     "data": {
      "text/plain": [
       "1280"
      ]
     },
     "execution_count": 34,
     "metadata": {},
     "output_type": "execute_result"
    }
   ],
   "source": [
    "class BareBonesLM(nn.Module):\n",
    "    def __init__(self, n_vocab, emb_dim, tie_weights=True, bias=False):\n",
    "        super().__init__()\n",
    "        self.word_to_embedding = nn.Embedding(n_vocab, emb_dim)\n",
    "        self.lm_head = nn.Linear(emb_dim, n_vocab, bias=bias)\n",
    "\n",
    "        if tie_weights:\n",
    "            assert self.lm_head.weight.shape == self.word_to_embedding.weight.shape\n",
    "            self.lm_head.weight = self.word_to_embedding.weight\n",
    "    \n",
    "    def forward(self, input_ids):\n",
    "        input_embeds = self.word_to_embedding(input_ids)\n",
    "        x = input_embeds # model would go here\n",
    "        logits = self.lm_head(x)\n",
    "        return logits\n",
    "\n",
    "\n",
    "num_parameters(BareBonesLM(n_vocab=n_vocab, emb_dim=emb_dim))"
   ]
  },
  {
   "cell_type": "markdown",
   "metadata": {},
   "source": [
    "## Multi-Layer Perceptron\n",
    "\n",
    "Now let's start putting a model in there. Let's start with the simple MLP that we looked at in previous Fundamentals. We'll define it as a PyTorch `Module`:"
   ]
  },
  {
   "cell_type": "code",
   "execution_count": 35,
   "metadata": {},
   "outputs": [
    {
     "data": {
      "text/plain": [
       "181"
      ]
     },
     "execution_count": 35,
     "metadata": {},
     "output_type": "execute_result"
    }
   ],
   "source": [
    "class MLP(nn.Module):\n",
    "    def __init__(self, emb_dim, n_hidden):\n",
    "        super().__init__()\n",
    "\n",
    "        self.model = nn.Sequential(\n",
    "            nn.Linear(in_features=emb_dim, out_features=...),\n",
    "            nn.ReLU(), # or nn.GELU() or others\n",
    "            nn.Linear(in_features=..., out_features=emb_dim)\n",
    "        )\n",
    "\n",
    "    def forward(self, x):\n",
    "        return self.model(x)\n",
    "\n",
    "num_parameters(MLP(emb_dim=emb_dim, n_hidden=16))"
   ]
  },
  {
   "cell_type": "markdown",
   "metadata": {},
   "source": [
    "### Complete Language Model with MLP\n",
    "\n",
    "Now let's put that into an LM. Notice what's similar and what's different between this and the `BareBonesLM` above."
   ]
  },
  {
   "cell_type": "code",
   "execution_count": 36,
   "metadata": {},
   "outputs": [
    {
     "data": {
      "text/plain": [
       "1461"
      ]
     },
     "execution_count": 36,
     "metadata": {},
     "output_type": "execute_result"
    }
   ],
   "source": [
    "class FeedForwardLM(nn.Module):\n",
    "    def __init__(self, n_vocab, emb_dim, n_hidden, tie_weights=True):\n",
    "        super().__init__()\n",
    "        self.word_to_embedding = nn.Embedding(n_vocab, emb_dim)\n",
    "        self.model = MLP(emb_dim=emb_dim, n_hidden=n_hidden)\n",
    "        self.lm_head = nn.Linear(emb_dim, n_vocab, bias=False)\n",
    "\n",
    "        if tie_weights:\n",
    "            assert self.lm_head.weight.shape == self.word_to_embedding.weight.shape\n",
    "            self.lm_head.weight = self.word_to_embedding.weight\n",
    "    \n",
    "    def forward(self, input_ids):\n",
    "        input_embeds = self.word_to_embedding(input_ids)\n",
    "        x = self.model(input_embeds)\n",
    "        return self.lm_head(x)\n",
    "\n",
    "\n",
    "ff_lm = FeedForwardLM(n_vocab=n_vocab, emb_dim=emb_dim, n_hidden=16)\n",
    "num_parameters(ff_lm)"
   ]
  },
  {
   "attachments": {},
   "cell_type": "markdown",
   "metadata": {},
   "source": [
    "## Self-Attention\n",
    "\n",
    "We're going to implement an oversimplified Self-Attention layer. If you're interested, here are a few reference implementations of the real thing:\n",
    "\n",
    "- https://github.com/jaymody/picoGPT/\n",
    "- [Annotated Transformer](https://nlp.seas.harvard.edu/2018/04/03/attention.html)\n",
    "- PyTorch's builtin implementation: [`TransformerEncoderLayer`](https://pytorch.org/docs/stable/_modules/torch/nn/modules/transformer.html#TransformerEncoderLayer) and [`MultiheadAttention`](https://pytorch.org/docs/stable/generated/torch.nn.MultiheadAttention.html#torch.nn.MultiheadAttention).\n",
    "- [minGPT](https://github.com/karpathy/minGPT/blob/master/mingpt/model.py)"
   ]
  },
  {
   "attachments": {},
   "cell_type": "markdown",
   "metadata": {},
   "source": [
    "First we'll do it step-by-step, then we'll bundle it into a module.\n",
    "\n",
    "To show what's going on, let's get some example input embeddings."
   ]
  },
  {
   "cell_type": "code",
   "execution_count": 37,
   "metadata": {},
   "outputs": [
    {
     "data": {
      "text/plain": [
       "torch.Size([11, 5])"
      ]
     },
     "execution_count": 37,
     "metadata": {},
     "output_type": "execute_result"
    }
   ],
   "source": [
    "example_embeddings = embedder(input_ids)\n",
    "example_embeddings.shape"
   ]
  },
  {
   "attachments": {},
   "cell_type": "markdown",
   "metadata": {},
   "source": [
    "**Stop**: Can you explain that shape?"
   ]
  },
  {
   "attachments": {},
   "cell_type": "markdown",
   "metadata": {},
   "source": [
    "We're going to implement a single attention head. Recall that we need to compute three things for each token: a **query** (q), which then gets compared with all of the **key**s (k), and if matches, we add up the **value**s (v). Let's do that. First, let's define linear layers to compute q, k, and v."
   ]
  },
  {
   "cell_type": "code",
   "execution_count": 38,
   "metadata": {},
   "outputs": [],
   "source": [
    "# In the real model, this will be defined in the __init__ method\n",
    "# Note: some models include biases here, others don't.\n",
    "get_query = nn.Linear(emb_dim, emb_dim, bias=False)\n",
    "get_key = nn.Linear(emb_dim, emb_dim, bias=False)\n",
    "get_value = nn.Linear(emb_dim, emb_dim, bias=False)"
   ]
  },
  {
   "attachments": {},
   "cell_type": "markdown",
   "metadata": {},
   "source": [
    "Then, when we do a forward pass, we compute q, k, and v for each token. We do that by passing the input embeddings through the linear layers."
   ]
  },
  {
   "cell_type": "code",
   "execution_count": 39,
   "metadata": {},
   "outputs": [],
   "source": [
    "queries = get_query(example_embeddings)\n",
    "keys = get_key(example_embeddings)\n",
    "values = get_value(example_embeddings)"
   ]
  },
  {
   "attachments": {},
   "cell_type": "markdown",
   "metadata": {},
   "source": [
    "**Stop**: What shape will `queries` have? What about `keys` and `values`? Check your answers by printing them out."
   ]
  },
  {
   "attachments": {},
   "cell_type": "markdown",
   "metadata": {},
   "source": [
    "Now, let's compute how how much each token's query matches each token's key. We do that by computing the dot product of each query with each key. We could do something like:"
   ]
  },
  {
   "cell_type": "code",
   "execution_count": 40,
   "metadata": {},
   "outputs": [],
   "source": [
    "query_2_key_1 = queries[2] @ keys[1]"
   ]
  },
  {
   "attachments": {},
   "cell_type": "markdown",
   "metadata": {},
   "source": [
    "But that would be tedious and require looping. Instead, we can just compute a matrix multiplication."
   ]
  },
  {
   "cell_type": "code",
   "execution_count": 41,
   "metadata": {},
   "outputs": [
    {
     "data": {
      "text/plain": [
       "torch.Size([11, 11])"
      ]
     },
     "execution_count": 41,
     "metadata": {},
     "output_type": "execute_result"
    }
   ],
   "source": [
    "query_key_products = queries @ keys.T\n",
    "query_key_products.shape"
   ]
  },
  {
   "cell_type": "code",
   "execution_count": 42,
   "metadata": {},
   "outputs": [],
   "source": [
    "# Check that it's computing the same thing.\n",
    "assert torch.allclose(query_2_key_1, query_key_products[2, 1])"
   ]
  },
  {
   "attachments": {},
   "cell_type": "markdown",
   "metadata": {},
   "source": [
    "The result is a matrix of dot products. Let's look at it. (Note: since the embeddings and the linear layers are random, your values will be different.)"
   ]
  },
  {
   "cell_type": "code",
   "execution_count": 43,
   "metadata": {},
   "outputs": [
    {
     "data": {
      "image/png": "[encoded data removed]",
      "text/plain": [
       "<Figure size 640x480 with 2 Axes>"
      ]
     },
     "metadata": {},
     "output_type": "display_data"
    }
   ],
   "source": [
    "# center the color scale on 0.\n",
    "plt.imshow(query_key_products.detach().numpy(), cmap=\"RdBu\", vmin=-2, vmax=2)\n",
    "plt.title(\"Query-key dot products\")\n",
    "plt.xlabel(\"Key token index\")\n",
    "plt.ylabel(\"Query token index\")\n",
    "plt.colorbar();"
   ]
  },
  {
   "attachments": {},
   "cell_type": "markdown",
   "metadata": {},
   "source": [
    "We then use the softmax function to compute how much to actually pay attention to each token. It turns out that to stabilize the computation, it helps to use a temperature proportional to the square root of the dimensionality of the keys."
   ]
  },
  {
   "cell_type": "code",
   "execution_count": 44,
   "metadata": {},
   "outputs": [],
   "source": [
    "attention_weights = F.softmax(query_key_products / emb_dim**0.5, dim=-1)"
   ]
  },
  {
   "attachments": {},
   "cell_type": "markdown",
   "metadata": {},
   "source": [
    "What do the attention weights look like?"
   ]
  },
  {
   "cell_type": "code",
   "execution_count": 45,
   "metadata": {},
   "outputs": [
    {
     "data": {
      "image/png": "[encoded data removed]",
      "text/plain": [
       "<Figure size 640x480 with 2 Axes>"
      ]
     },
     "metadata": {},
     "output_type": "display_data"
    }
   ],
   "source": [
    "plt.imshow(attention_weights.detach().numpy(), cmap=\"cividis\", vmin=0)\n",
    "plt.title(\"Attention weights\")\n",
    "plt.xlabel(\"Key token index\")\n",
    "plt.ylabel(\"Query token index\")\n",
    "plt.colorbar();"
   ]
  },
  {
   "attachments": {},
   "cell_type": "markdown",
   "metadata": {},
   "source": [
    "Those weights determine, for each token, how much of each other token's `value` to add up. We can compute that by multiplying the weights by the values."
   ]
  },
  {
   "cell_type": "code",
   "execution_count": 46,
   "metadata": {},
   "outputs": [
    {
     "data": {
      "text/plain": [
       "torch.Size([5])"
      ]
     },
     "execution_count": 46,
     "metadata": {},
     "output_type": "execute_result"
    }
   ],
   "source": [
    "first_token_output = attention_weights[0] @ values\n",
    "first_token_output.shape # notice that this is the same shape as the input embeddings"
   ]
  },
  {
   "attachments": {},
   "cell_type": "markdown",
   "metadata": {},
   "source": [
    "Again, we can io the computation all at once by computing a matrix multiplication."
   ]
  },
  {
   "cell_type": "code",
   "execution_count": 47,
   "metadata": {},
   "outputs": [],
   "source": [
    "head_output = attention_weights @ values\n",
    "assert torch.allclose(first_token_output, head_output[0])"
   ]
  },
  {
   "attachments": {},
   "cell_type": "markdown",
   "metadata": {},
   "source": [
    "The full attention mechanism has this go through another linear layer, but we'll skip that for now."
   ]
  },
  {
   "attachments": {},
   "cell_type": "markdown",
   "metadata": {},
   "source": [
    "But wait! Tokens shouldn't be able to attend to tokens that come after them. We need to mask out the attention weights for those tokens.\n",
    "\n",
    "A simple way to do that is to set the dot products to a very small value for tokens that come after the current token. That way, when we apply the softmax, the attention weights will be very close to zero."
   ]
  },
  {
   "cell_type": "code",
   "execution_count": 48,
   "metadata": {},
   "outputs": [
    {
     "data": {
      "text/plain": [
       "<matplotlib.image.AxesImage at 0x11f2804f0>"
      ]
     },
     "execution_count": 48,
     "metadata": {},
     "output_type": "execute_result"
    },
    {
     "data": {
      "image/png": "[encoded data removed]",
      "text/plain": [
       "<Figure size 640x480 with 1 Axes>"
      ]
     },
     "metadata": {},
     "output_type": "display_data"
    }
   ],
   "source": [
    "sequence_len = input_ids.shape[0]\n",
    "causal_mask = (1 - torch.tril(torch.ones(sequence_len, sequence_len))) * -1e9\n",
    "plt.imshow(causal_mask.detach().numpy(), cmap=\"cividis\", vmin=-1e9)"
   ]
  },
  {
   "cell_type": "code",
   "execution_count": 49,
   "metadata": {},
   "outputs": [
    {
     "data": {
      "image/png": "[encoded data removed]",
      "text/plain": [
       "<Figure size 640x480 with 2 Axes>"
      ]
     },
     "metadata": {},
     "output_type": "display_data"
    }
   ],
   "source": [
    "attention_weights = F.softmax((query_key_products + causal_mask) / emb_dim**0.5, dim=-1)\n",
    "plt.imshow(attention_weights.detach().numpy(), cmap=\"cividis\", vmin=0)\n",
    "plt.title(\"Attention weights\")\n",
    "plt.xlabel(\"Key token index\")\n",
    "plt.ylabel(\"Query token index\")\n",
    "plt.colorbar();"
   ]
  },
  {
   "attachments": {},
   "cell_type": "markdown",
   "metadata": {},
   "source": [
    "Now we can bundle that into a `Module`. Your task: add the causal masking."
   ]
  },
  {
   "cell_type": "code",
   "execution_count": 50,
   "metadata": {},
   "outputs": [
    {
     "data": {
      "text/plain": [
       "torch.Size([12, 5])"
      ]
     },
     "execution_count": 50,
     "metadata": {},
     "output_type": "execute_result"
    }
   ],
   "source": [
    "class BareBonesAttentionHead(nn.Module):\n",
    "    '''Implements *single-head* attention, no masking, no dropout, no init'''\n",
    "    def __init__(self, emb_dim, head_dim):\n",
    "        super().__init__()\n",
    "        self.head_dim = head_dim\n",
    "        self.get_query = nn.Linear(emb_dim, head_dim, bias=False)\n",
    "        self.get_key = nn.Linear(emb_dim, head_dim, bias=False)\n",
    "        self.get_value = nn.Linear(emb_dim, head_dim, bias=False)\n",
    "\n",
    "    def forward(self, x):\n",
    "        seq_len, emb_dim = x.shape\n",
    "\n",
    "        # Compute query, key, and value vectors.\n",
    "        q = self.get_query(x) # (seq_len, head_dim)\n",
    "        k = self.get_key(x)\n",
    "        v = self.get_value(x)\n",
    "\n",
    "        # Compute attention weights\n",
    "        k_transpose = k.transpose(-2, -1)\n",
    "        assert k_transpose.shape == (self.head_dim, seq_len)\n",
    "        scores = q @ k_transpose\n",
    "        assert scores.shape == (seq_len, seq_len)\n",
    "        attention_weights = scores.softmax(dim=-1)\n",
    "\n",
    "        # Compute weighted sum of values.\n",
    "        out = attention_weights @ v\n",
    "        return out\n",
    "\n",
    "class BareBonesSelfAttention(nn.Module):\n",
    "    def __init__(self, emb_dim, head_dim, n_heads):\n",
    "        super().__init__()\n",
    "        self.heads = nn.ModuleList([\n",
    "            BareBonesAttentionHead(emb_dim, head_dim)\n",
    "            for i in range(n_heads)\n",
    "        ]) # we need a ModuleList to make sure the heads are counted as children.\n",
    "        self.to_output = nn.Linear(n_heads * head_dim, emb_dim, bias=False)\n",
    "\n",
    "    def forward(self, x):\n",
    "        head_outputs = [head(x) for head in self.heads]\n",
    "        concats = torch.cat(head_outputs, dim=-1)\n",
    "        out = self.to_output(concats)\n",
    "        assert out.shape == x.shape\n",
    "        return out\n",
    "\n",
    "input_embeds = embedder(sentence_tensor)\n",
    "self_attn = BareBonesSelfAttention(emb_dim, head_dim=256, n_heads=2)\n",
    "self_attn(input_embeds).shape\n"
   ]
  },
  {
   "cell_type": "markdown",
   "metadata": {},
   "source": [
    "Now we'll define a Transformer. Well, we'll just define a single layer. A true Transformer will have many (32, 64, 118, ...) such layers. But it's just running a bunch of copies of this layer in sequence.\n",
    "\n",
    "One new thing here is the *layer norm*. It basically rescales the activations to be mean 0 variance 1, then scales and shifts by learnable constants. So each one adds 2 * emb_dim parameters to the model, and there's one after each part (self-attention and MLP)."
   ]
  },
  {
   "cell_type": "code",
   "execution_count": 51,
   "metadata": {},
   "outputs": [
    {
     "data": {
      "text/plain": [
       "torch.Size([12, 5])"
      ]
     },
     "execution_count": 51,
     "metadata": {},
     "output_type": "execute_result"
    }
   ],
   "source": [
    "class BareBonesTransformerLayer(nn.Module):\n",
    "    '''Implements bare-bones self-attention transformer layer, no residual connections, no dropout'''\n",
    "    def __init__(self, emb_dim, head_dim, n_heads, dim_feedforward):\n",
    "        super().__init__()\n",
    "        self.self_attention = BareBonesSelfAttention(emb_dim, head_dim=head_dim, n_heads=n_heads)\n",
    "        self.mlp = MLP(emb_dim, n_hidden=dim_feedforward)\n",
    "        self.norm_after_attn = nn.LayerNorm(emb_dim)\n",
    "        self.norm_after_mlp = nn.LayerNorm(emb_dim)\n",
    "    \n",
    "    def forward(self, x):\n",
    "        x = self.self_attention(x)\n",
    "        x = self.norm_after_attn(x)\n",
    "        x = self.mlp(x)\n",
    "        x = self.norm_after_mlp(x)\n",
    "        return x\n",
    "\n",
    "xformer_layer = BareBonesTransformerLayer(emb_dim, dim_feedforward=emb_dim, head_dim=256, n_heads=2)\n",
    "xformer_layer(input_embeds).shape"
   ]
  },
  {
   "cell_type": "markdown",
   "metadata": {},
   "source": [
    "Now, at long last, let's make a complete Transformer-based language model.\n",
    "\n",
    "A big new aspect here is the *position embeddings*. We'll implement *learned absolute position embeddings*, which do add parameters to the model. A cool new approach, called *Rotary Position Embeddings* ([RoPE](https://blog.eleuther.ai/rotary-embeddings/)), gets comparable or better performance without adding parameters; for an implementation of that, see [x-transformers](https://github.com/lucidrains/x-transformers/blob/75afacae30c3a6c9a9daf6f9403c3fc22f6bc945/x_transformers/x_transformers.py#L310)."
   ]
  },
  {
   "cell_type": "code",
   "execution_count": 52,
   "metadata": {},
   "outputs": [
    {
     "data": {
      "text/plain": [
       "11971"
      ]
     },
     "execution_count": 52,
     "metadata": {},
     "output_type": "execute_result"
    }
   ],
   "source": [
    "class TransformerLM(nn.Module):\n",
    "    def __init__(self, n_vocab, max_len, emb_dim, n_hidden, head_dim=256, n_heads=2):\n",
    "        super().__init__()\n",
    "        self.word_to_embedding = nn.Embedding(n_vocab, emb_dim)\n",
    "        self.pos_to_embedding = nn.Embedding(max_len, emb_dim)\n",
    "        self.model = BareBonesTransformerLayer(\n",
    "            emb_dim=emb_dim, dim_feedforward=n_hidden,\n",
    "            head_dim=head_dim, n_heads=n_heads)\n",
    "        self.lm_head = nn.Linear(emb_dim, n_vocab, bias=False)\n",
    "\n",
    "        assert self.lm_head.weight.shape == self.word_to_embedding.weight.shape\n",
    "        self.lm_head.weight = self.word_to_embedding.weight\n",
    "    \n",
    "    def forward(self, input_ids):\n",
    "        input_embeds = self.word_to_embedding(input_ids)\n",
    "        # Compute position embeddings.\n",
    "        position_ids = torch.arange(input_ids.shape[-1])\n",
    "        pos_embeds = self.pos_to_embedding(position_ids)\n",
    "        x = input_embeds + pos_embeds\n",
    "        x = self.model(x)\n",
    "        return self.lm_head(x)\n",
    "\n",
    "\n",
    "xformer_lm = TransformerLM(n_vocab=n_vocab, max_len=50, emb_dim=emb_dim, n_hidden=16)\n",
    "num_parameters(xformer_lm)"
   ]
  }
 ],
 "metadata": {
  "interpreter": {
   "hash": "e8f4b6a4c38f2085446f7f3f791a848eb62f1444c2c1b7234c3e9244444f9b89"
  },
  "kernelspec": {
   "display_name": "Python 3",
   "language": "python",
   "name": "python3"
  },
  "language_info": {
   "codemirror_mode": {
    "name": "ipython",
    "version": 3
   },
   "file_extension": ".py",
   "mimetype": "text/x-python",
   "name": "python",
   "nbconvert_exporter": "python",
   "pygments_lexer": "ipython3",
   "version": "3.10.5"
  }
 },
 "nbformat": 4,
 "nbformat_minor": 2
}
