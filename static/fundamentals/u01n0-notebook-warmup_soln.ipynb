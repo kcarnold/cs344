{
 "cells": [
  {
   "attachments": {},
   "cell_type": "markdown",
   "id": "f22c40bb",
   "metadata": {},
   "source": [
    "# Jupyter Notebook Warmup\n",
    "\n",
    "The instructions for this Fundamentals notebook are found on the Lab 1 instructions page. (In general the instructions will be within the notebook itself.)"
   ]
  },
  {
   "attachments": {},
   "cell_type": "markdown",
   "id": "267023a4",
   "metadata": {},
   "source": [
    "## Environment check\n",
    "\n",
    "Run the following cell to check that your environment is set up properly. If this fails:\n",
    "\n",
    "1. Make sure you've run `/home/cs/344/setup-cs344.sh` on a Terminal, logged off, and logged back in.\n",
    "2. If you're using VS Code, make sure you've selected the `base` kernel (click the Select Kernel or \"Python\" button in the top-right corner of the notebook window). (**do not install `ipykernel`**, unless you're setting up your own system and you know what you're doing)"
   ]
  },
  {
   "cell_type": "code",
   "execution_count": 1,
   "id": "366c98f1",
   "metadata": {},
   "outputs": [
    {
     "name": "stdout",
     "output_type": "stream",
     "text": [
      "Found a GPU\n"
     ]
    }
   ],
   "source": [
    "from fastbook import *\n",
    "pip_path = !which pip\n",
    "assert 'conda' in pip_path[0], \"pip path should include conda\"\n",
    "if torch.cuda.is_available():\n",
    "    print(\"Found a GPU\")\n",
    "else:\n",
    "    print(\"No GPU.\")"
   ]
  },
  {
   "attachments": {},
   "cell_type": "markdown",
   "id": "e3312381",
   "metadata": {},
   "source": [
    "On the lab computers, the above code should find a GPU."
   ]
  },
  {
   "attachments": {},
   "cell_type": "markdown",
   "id": "9be596c7",
   "metadata": {},
   "source": [
    "Anyone running locally on macOS CPU may need this code; generally you should be using the lab machines or Kaggle/Colab though:"
   ]
  },
  {
   "cell_type": "code",
   "execution_count": 2,
   "id": "2349e595",
   "metadata": {},
   "outputs": [],
   "source": [
    "import sys\n",
    "if sys.platform == \"darwin\":\n",
    "    # https://stackoverflow.com/a/64855500/69707\n",
    "    import os\n",
    "    os.environ['OMP_NUM_THREADS'] = '1'"
   ]
  },
  {
   "cell_type": "markdown",
   "id": "076d3d3e",
   "metadata": {},
   "source": [
    "## Jupyter Notebooks"
   ]
  },
  {
   "cell_type": "markdown",
   "id": "9af9bc54",
   "metadata": {},
   "source": [
    "Add your code and Markdown cells here. Delete this cell."
   ]
  }
 ],
 "metadata": {
  "kernelspec": {
   "display_name": "base",
   "language": "python",
   "name": "python3"
  },
  "language_info": {
   "codemirror_mode": {
    "name": "ipython",
    "version": 3
   },
   "file_extension": ".py",
   "mimetype": "text/x-python",
   "name": "python",
   "nbconvert_exporter": "python",
   "pygments_lexer": "ipython3",
   "version": "3.9.12 | packaged by conda-forge | (main, Mar 24 2022, 23:25:59) \n[GCC 10.3.0]"
  },
  "vscode": {
   "interpreter": {
    "hash": "586ad1ed5c97141e2437e681efbf1ec0adcd17d830cf5af2ca3d2819e743e158"
   }
  }
 },
 "nbformat": 4,
 "nbformat_minor": 5
}
