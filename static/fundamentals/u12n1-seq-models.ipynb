{
 "cells": [
  {
   "cell_type": "markdown",
   "metadata": {},
   "source": [
    "# Sequence Models"
   ]
  },
  {
   "cell_type": "code",
   "execution_count": 92,
   "metadata": {},
   "outputs": [],
   "source": [
    "import torch\n",
    "import torch.nn as nn\n",
    "import torch.nn.functional as F\n",
    "import pandas as pd\n",
    "from IPython.display import display\n",
    "\n",
    "def highlight_values(x):\n",
    "    \"\"\"Show a 2D tensor with background highlighted\"\"\"\n",
    "    x = x.squeeze() # collapse singleton dimensions, like batch.\n",
    "    assert len(x.shape) == 2, \"Can only handle 2D data\"\n",
    "    display(pd.DataFrame(x.numpy()).style.background_gradient(axis=None))\n",
    "\n",
    "def num_parameters(model):\n",
    "    \"\"\"Count the number of trainable parameters in a model\"\"\"\n",
    "    return sum(param.numel() for param in model.parameters() if param.requires_grad)\n",
    "\n",
    "def time_trial(model, embeddings, concat_on_axis=1):\n",
    "    '''Time how long a forward pass of the model takes on embeddings, varying the sequence length.'''\n",
    "    for i in range(5):\n",
    "        num_reps = 2 ** i\n",
    "        x = torch.cat([embeddings] * num_reps, axis=concat_on_axis)\n",
    "        print(f'{num_reps} repetitions of the original sequence, shape = {tuple(x.shape)}')\n",
    "        %timeit -r 3 model(x)\n"
   ]
  },
  {
   "cell_type": "markdown",
   "metadata": {},
   "source": [
    "## Getting started\n",
    "\n",
    "Let's start with an input sequence."
   ]
  },
  {
   "cell_type": "code",
   "execution_count": 78,
   "metadata": {},
   "outputs": [],
   "source": [
    "sentence = \"The quick brown fox jumped over the lazy dogs.\""
   ]
  },
  {
   "cell_type": "markdown",
   "metadata": {},
   "source": [
    "Let's turn it into numbers by using the Unicode code point for each character."
   ]
  },
  {
   "cell_type": "code",
   "execution_count": 79,
   "metadata": {},
   "outputs": [
    {
     "data": {
      "text/plain": [
       "tensor([[ 84, 104, 101,  32, 113, 117, 105,  99, 107,  32,  98, 114, 111, 119,\n",
       "         110,  32, 102, 111, 120,  32, 106, 117, 109, 112, 101, 100,  32, 111,\n",
       "         118, 101, 114,  32, 116, 104, 101,  32, 108,  97, 122, 121,  32, 100,\n",
       "         111, 103, 115,  46]])"
      ]
     },
     "execution_count": 79,
     "metadata": {},
     "output_type": "execute_result"
    }
   ],
   "source": [
    "sentence_tensor = torch.tensor([[ord(x) for x in sentence]])\n",
    "sentence_tensor"
   ]
  },
  {
   "cell_type": "code",
   "execution_count": 80,
   "metadata": {},
   "outputs": [
    {
     "data": {
      "text/plain": [
       "'The quick brown fox jumped over the lazy dogs.'"
      ]
     },
     "execution_count": 80,
     "metadata": {},
     "output_type": "execute_result"
    }
   ],
   "source": [
    "def decode(x):\n",
    "    return ''.join(chr(x) for x in x.numpy())\n",
    "decode(sentence_tensor[0])"
   ]
  },
  {
   "cell_type": "markdown",
   "metadata": {},
   "source": [
    "We'll make this an autoregressive language model, so our goal will be to predict the next character. So we'll need to shift the targets left, so each character should output the next one."
   ]
  },
  {
   "cell_type": "code",
   "execution_count": 81,
   "metadata": {},
   "outputs": [],
   "source": [
    "input_ids = sentence_tensor[:, :-1]\n",
    "targets = sentence_tensor[:, 1:]\n",
    "assert input_ids.shape == targets.shape"
   ]
  },
  {
   "cell_type": "markdown",
   "metadata": {},
   "source": [
    "Now let's make those numbers into vectors using an embedding. Note that we're just going to use the random initialization right now; we're not yet training this model."
   ]
  },
  {
   "cell_type": "code",
   "execution_count": 82,
   "metadata": {},
   "outputs": [
    {
     "data": {
      "text/plain": [
       "torch.Size([256, 5])"
      ]
     },
     "execution_count": 82,
     "metadata": {},
     "output_type": "execute_result"
    }
   ],
   "source": [
    "n_vocab = 256\n",
    "emb_dim = 5\n",
    "embedder = nn.Embedding(n_vocab, emb_dim)\n",
    "embedder.weight.shape"
   ]
  },
  {
   "cell_type": "markdown",
   "metadata": {},
   "source": [
    "Now we compute the embeddings for our string. **Make sure you can explain the shape of this result.**"
   ]
  },
  {
   "cell_type": "code",
   "execution_count": 83,
   "metadata": {},
   "outputs": [
    {
     "data": {
      "text/plain": [
       "torch.Size([1, 45, 5])"
      ]
     },
     "execution_count": 83,
     "metadata": {},
     "output_type": "execute_result"
    }
   ],
   "source": [
    "embeddings = embedder(input_ids)\n",
    "embeddings.retain_grad()\n",
    "embeddings.shape"
   ]
  },
  {
   "cell_type": "markdown",
   "metadata": {},
   "source": [
    "Now we'll define the *output* linear layer. We'll *tie the weights* with the embedding layer."
   ]
  },
  {
   "cell_type": "code",
   "execution_count": 84,
   "metadata": {},
   "outputs": [],
   "source": [
    "lm_head = nn.Linear(emb_dim, n_vocab)\n",
    "assert lm_head.weight.shape == embedder.weight.shape\n",
    "lm_head.weight = embedder.weight"
   ]
  },
  {
   "cell_type": "markdown",
   "metadata": {},
   "source": [
    "Here's what the output of the model will look like. We haven't trained anything yet, though, so this will be garbage."
   ]
  },
  {
   "cell_type": "code",
   "execution_count": 85,
   "metadata": {},
   "outputs": [
    {
     "data": {
      "text/plain": [
       "torch.Size([1, 45, 256])"
      ]
     },
     "execution_count": 85,
     "metadata": {},
     "output_type": "execute_result"
    }
   ],
   "source": [
    "x = embeddings # pretend that this is the model...\n",
    "logits = lm_head(x)\n",
    "logits.shape"
   ]
  },
  {
   "cell_type": "markdown",
   "metadata": {},
   "source": [
    "Then we'll compute the cross-entropy loss as usual.\n",
    "\n",
    "Note: we need to `transpose` the `logits` so that the time steps are on the last dimension, so the last dimensions line up with `targets`. I suspect PyTorch uses this convention because it could extend to 2D `targets` (e.g., images), but I admit I'm not entirely sure why."
   ]
  },
  {
   "cell_type": "code",
   "execution_count": 86,
   "metadata": {},
   "outputs": [
    {
     "data": {
      "text/plain": [
       "torch.Size([1, 45])"
      ]
     },
     "execution_count": 86,
     "metadata": {},
     "output_type": "execute_result"
    }
   ],
   "source": [
    "loss = F.cross_entropy(logits.transpose(1, 2), targets, reduction='none')\n",
    "loss.shape"
   ]
  },
  {
   "cell_type": "markdown",
   "metadata": {},
   "source": [
    "## Feed-Forward Network"
   ]
  },
  {
   "cell_type": "markdown",
   "metadata": {},
   "source": [
    "Here's the simplest model we can make: a multi-layer perceptron. Fill in the blanks here so our model has *one hidden layer* with a *relu activation* (`nn.ReLU`).\n",
    "\n",
    "- The output should have the same dimensionality as the embeddings\n",
    "- Set `n_hidden` so that there are about 180 parameters."
   ]
  },
  {
   "cell_type": "markdown",
   "metadata": {},
   "source": [
    "### Create the model"
   ]
  },
  {
   "cell_type": "code",
   "execution_count": 87,
   "metadata": {},
   "outputs": [
    {
     "data": {
      "text/plain": [
       "181"
      ]
     },
     "execution_count": 87,
     "metadata": {},
     "output_type": "execute_result"
    }
   ],
   "source": [
    "# n_hidden = ...\n",
    "n_hidden = 16\n",
    "mlp = nn.Sequential(\n",
    "    # nn.Linear(in_features=..., out_features=n_hidden),\n",
    "    nn.Linear(in_features=emb_dim, out_features=n_hidden),\n",
    "    # nn...,\n",
    "    nn.ReLU(),\n",
    "    # nn...\n",
    "    nn.Linear(in_features=n_hidden, out_features=emb_dim)\n",
    ")\n",
    "\n",
    "num_parameters(mlp)"
   ]
  },
  {
   "cell_type": "markdown",
   "metadata": {},
   "source": [
    "### Check its output shape"
   ]
  },
  {
   "cell_type": "code",
   "execution_count": 88,
   "metadata": {},
   "outputs": [
    {
     "data": {
      "text/plain": [
       "torch.Size([1, 45, 5])"
      ]
     },
     "execution_count": 88,
     "metadata": {},
     "output_type": "execute_result"
    }
   ],
   "source": [
    "output = mlp(embeddings)\n",
    "output.shape"
   ]
  },
  {
   "cell_type": "markdown",
   "metadata": {},
   "source": [
    "### Check its speed"
   ]
  },
  {
   "cell_type": "code",
   "execution_count": 89,
   "metadata": {},
   "outputs": [
    {
     "name": "stdout",
     "output_type": "stream",
     "text": [
      "1 repetitions of the original sequence, shape = (1, 45, 5)\n",
      "46.7 µs ± 2.04 µs per loop (mean ± std. dev. of 3 runs, 10000 loops each)\n",
      "2 repetitions of the original sequence, shape = (1, 90, 5)\n",
      "49 µs ± 2.06 µs per loop (mean ± std. dev. of 3 runs, 10000 loops each)\n",
      "4 repetitions of the original sequence, shape = (1, 180, 5)\n",
      "50.6 µs ± 1.94 µs per loop (mean ± std. dev. of 3 runs, 10000 loops each)\n",
      "8 repetitions of the original sequence, shape = (1, 360, 5)\n",
      "55.3 µs ± 1.23 µs per loop (mean ± std. dev. of 3 runs, 10000 loops each)\n",
      "16 repetitions of the original sequence, shape = (1, 720, 5)\n",
      "71.1 µs ± 1.8 µs per loop (mean ± std. dev. of 3 runs, 10000 loops each)\n"
     ]
    }
   ],
   "source": [
    "time_trial(mlp, embeddings)"
   ]
  },
  {
   "cell_type": "markdown",
   "metadata": {},
   "source": [
    "### Check how gradients flow"
   ]
  },
  {
   "cell_type": "code",
   "execution_count": 93,
   "metadata": {},
   "outputs": [
    {
     "data": {
      "text/html": [
       "<style type=\"text/css\">\n",
       "#T_08197_row0_col0, #T_08197_row0_col1, #T_08197_row0_col2, #T_08197_row0_col3, #T_08197_row0_col4, #T_08197_row1_col0, #T_08197_row1_col1, #T_08197_row1_col2, #T_08197_row1_col3, #T_08197_row1_col4, #T_08197_row2_col0, #T_08197_row2_col1, #T_08197_row2_col2, #T_08197_row2_col3, #T_08197_row2_col4, #T_08197_row3_col0, #T_08197_row3_col1, #T_08197_row3_col2, #T_08197_row3_col3, #T_08197_row3_col4, #T_08197_row4_col0, #T_08197_row4_col1, #T_08197_row4_col2, #T_08197_row4_col3, #T_08197_row4_col4, #T_08197_row5_col0, #T_08197_row5_col1, #T_08197_row5_col2, #T_08197_row5_col3, #T_08197_row5_col4, #T_08197_row6_col0, #T_08197_row6_col1, #T_08197_row6_col2, #T_08197_row6_col3, #T_08197_row6_col4, #T_08197_row7_col0, #T_08197_row7_col1, #T_08197_row7_col2, #T_08197_row7_col3, #T_08197_row7_col4, #T_08197_row8_col0, #T_08197_row8_col1, #T_08197_row8_col2, #T_08197_row8_col3, #T_08197_row8_col4, #T_08197_row9_col0, #T_08197_row9_col1, #T_08197_row9_col2, #T_08197_row9_col3, #T_08197_row9_col4, #T_08197_row10_col0, #T_08197_row10_col1, #T_08197_row10_col2, #T_08197_row10_col3, #T_08197_row10_col4, #T_08197_row11_col0, #T_08197_row11_col1, #T_08197_row11_col2, #T_08197_row11_col3, #T_08197_row11_col4, #T_08197_row12_col0, #T_08197_row12_col1, #T_08197_row12_col2, #T_08197_row12_col3, #T_08197_row12_col4, #T_08197_row13_col0, #T_08197_row13_col1, #T_08197_row13_col2, #T_08197_row13_col3, #T_08197_row13_col4, #T_08197_row14_col0, #T_08197_row14_col1, #T_08197_row14_col2, #T_08197_row14_col3, #T_08197_row14_col4, #T_08197_row15_col0, #T_08197_row15_col1, #T_08197_row15_col2, #T_08197_row15_col3, #T_08197_row15_col4, #T_08197_row16_col0, #T_08197_row16_col1, #T_08197_row16_col2, #T_08197_row16_col3, #T_08197_row16_col4, #T_08197_row17_col0, #T_08197_row17_col1, #T_08197_row17_col2, #T_08197_row17_col3, #T_08197_row17_col4, #T_08197_row18_col0, #T_08197_row18_col1, #T_08197_row18_col2, #T_08197_row18_col3, #T_08197_row18_col4, #T_08197_row19_col0, #T_08197_row19_col1, #T_08197_row19_col2, #T_08197_row19_col3, #T_08197_row19_col4, #T_08197_row21_col0, #T_08197_row21_col1, #T_08197_row21_col2, #T_08197_row21_col3, #T_08197_row21_col4, #T_08197_row22_col0, #T_08197_row22_col1, #T_08197_row22_col2, #T_08197_row22_col3, #T_08197_row22_col4, #T_08197_row23_col0, #T_08197_row23_col1, #T_08197_row23_col2, #T_08197_row23_col3, #T_08197_row23_col4, #T_08197_row24_col0, #T_08197_row24_col1, #T_08197_row24_col2, #T_08197_row24_col3, #T_08197_row24_col4, #T_08197_row25_col0, #T_08197_row25_col1, #T_08197_row25_col2, #T_08197_row25_col3, #T_08197_row25_col4, #T_08197_row26_col0, #T_08197_row26_col1, #T_08197_row26_col2, #T_08197_row26_col3, #T_08197_row26_col4, #T_08197_row27_col0, #T_08197_row27_col1, #T_08197_row27_col2, #T_08197_row27_col3, #T_08197_row27_col4, #T_08197_row28_col0, #T_08197_row28_col1, #T_08197_row28_col2, #T_08197_row28_col3, #T_08197_row28_col4, #T_08197_row29_col0, #T_08197_row29_col1, #T_08197_row29_col2, #T_08197_row29_col3, #T_08197_row29_col4, #T_08197_row30_col0, #T_08197_row30_col1, #T_08197_row30_col2, #T_08197_row30_col3, #T_08197_row30_col4, #T_08197_row31_col0, #T_08197_row31_col1, #T_08197_row31_col2, #T_08197_row31_col3, #T_08197_row31_col4, #T_08197_row32_col0, #T_08197_row32_col1, #T_08197_row32_col2, #T_08197_row32_col3, #T_08197_row32_col4, #T_08197_row33_col0, #T_08197_row33_col1, #T_08197_row33_col2, #T_08197_row33_col3, #T_08197_row33_col4, #T_08197_row34_col0, #T_08197_row34_col1, #T_08197_row34_col2, #T_08197_row34_col3, #T_08197_row34_col4, #T_08197_row35_col0, #T_08197_row35_col1, #T_08197_row35_col2, #T_08197_row35_col3, #T_08197_row35_col4, #T_08197_row36_col0, #T_08197_row36_col1, #T_08197_row36_col2, #T_08197_row36_col3, #T_08197_row36_col4, #T_08197_row37_col0, #T_08197_row37_col1, #T_08197_row37_col2, #T_08197_row37_col3, #T_08197_row37_col4, #T_08197_row38_col0, #T_08197_row38_col1, #T_08197_row38_col2, #T_08197_row38_col3, #T_08197_row38_col4, #T_08197_row39_col0, #T_08197_row39_col1, #T_08197_row39_col2, #T_08197_row39_col3, #T_08197_row39_col4, #T_08197_row40_col0, #T_08197_row40_col1, #T_08197_row40_col2, #T_08197_row40_col3, #T_08197_row40_col4, #T_08197_row41_col0, #T_08197_row41_col1, #T_08197_row41_col2, #T_08197_row41_col3, #T_08197_row41_col4, #T_08197_row42_col0, #T_08197_row42_col1, #T_08197_row42_col2, #T_08197_row42_col3, #T_08197_row42_col4, #T_08197_row43_col0, #T_08197_row43_col1, #T_08197_row43_col2, #T_08197_row43_col3, #T_08197_row43_col4, #T_08197_row44_col0, #T_08197_row44_col1, #T_08197_row44_col2, #T_08197_row44_col3, #T_08197_row44_col4 {\n",
       "  background-color: #056ead;\n",
       "  color: #f1f1f1;\n",
       "}\n",
       "#T_08197_row20_col0 {\n",
       "  background-color: #023858;\n",
       "  color: #f1f1f1;\n",
       "}\n",
       "#T_08197_row20_col1 {\n",
       "  background-color: #4c99c5;\n",
       "  color: #f1f1f1;\n",
       "}\n",
       "#T_08197_row20_col2 {\n",
       "  background-color: #83afd3;\n",
       "  color: #f1f1f1;\n",
       "}\n",
       "#T_08197_row20_col3 {\n",
       "  background-color: #fff7fb;\n",
       "  color: #000000;\n",
       "}\n",
       "#T_08197_row20_col4 {\n",
       "  background-color: #034369;\n",
       "  color: #f1f1f1;\n",
       "}\n",
       "</style>\n",
       "<table id=\"T_08197_\">\n",
       "  <thead>\n",
       "    <tr>\n",
       "      <th class=\"blank level0\" >&nbsp;</th>\n",
       "      <th class=\"col_heading level0 col0\" >0</th>\n",
       "      <th class=\"col_heading level0 col1\" >1</th>\n",
       "      <th class=\"col_heading level0 col2\" >2</th>\n",
       "      <th class=\"col_heading level0 col3\" >3</th>\n",
       "      <th class=\"col_heading level0 col4\" >4</th>\n",
       "    </tr>\n",
       "  </thead>\n",
       "  <tbody>\n",
       "    <tr>\n",
       "      <th id=\"T_08197_level0_row0\" class=\"row_heading level0 row0\" >0</th>\n",
       "      <td id=\"T_08197_row0_col0\" class=\"data row0 col0\" >0.000000</td>\n",
       "      <td id=\"T_08197_row0_col1\" class=\"data row0 col1\" >0.000000</td>\n",
       "      <td id=\"T_08197_row0_col2\" class=\"data row0 col2\" >0.000000</td>\n",
       "      <td id=\"T_08197_row0_col3\" class=\"data row0 col3\" >0.000000</td>\n",
       "      <td id=\"T_08197_row0_col4\" class=\"data row0 col4\" >0.000000</td>\n",
       "    </tr>\n",
       "    <tr>\n",
       "      <th id=\"T_08197_level0_row1\" class=\"row_heading level0 row1\" >1</th>\n",
       "      <td id=\"T_08197_row1_col0\" class=\"data row1 col0\" >0.000000</td>\n",
       "      <td id=\"T_08197_row1_col1\" class=\"data row1 col1\" >0.000000</td>\n",
       "      <td id=\"T_08197_row1_col2\" class=\"data row1 col2\" >0.000000</td>\n",
       "      <td id=\"T_08197_row1_col3\" class=\"data row1 col3\" >0.000000</td>\n",
       "      <td id=\"T_08197_row1_col4\" class=\"data row1 col4\" >0.000000</td>\n",
       "    </tr>\n",
       "    <tr>\n",
       "      <th id=\"T_08197_level0_row2\" class=\"row_heading level0 row2\" >2</th>\n",
       "      <td id=\"T_08197_row2_col0\" class=\"data row2 col0\" >0.000000</td>\n",
       "      <td id=\"T_08197_row2_col1\" class=\"data row2 col1\" >0.000000</td>\n",
       "      <td id=\"T_08197_row2_col2\" class=\"data row2 col2\" >0.000000</td>\n",
       "      <td id=\"T_08197_row2_col3\" class=\"data row2 col3\" >0.000000</td>\n",
       "      <td id=\"T_08197_row2_col4\" class=\"data row2 col4\" >0.000000</td>\n",
       "    </tr>\n",
       "    <tr>\n",
       "      <th id=\"T_08197_level0_row3\" class=\"row_heading level0 row3\" >3</th>\n",
       "      <td id=\"T_08197_row3_col0\" class=\"data row3 col0\" >0.000000</td>\n",
       "      <td id=\"T_08197_row3_col1\" class=\"data row3 col1\" >0.000000</td>\n",
       "      <td id=\"T_08197_row3_col2\" class=\"data row3 col2\" >0.000000</td>\n",
       "      <td id=\"T_08197_row3_col3\" class=\"data row3 col3\" >0.000000</td>\n",
       "      <td id=\"T_08197_row3_col4\" class=\"data row3 col4\" >0.000000</td>\n",
       "    </tr>\n",
       "    <tr>\n",
       "      <th id=\"T_08197_level0_row4\" class=\"row_heading level0 row4\" >4</th>\n",
       "      <td id=\"T_08197_row4_col0\" class=\"data row4 col0\" >0.000000</td>\n",
       "      <td id=\"T_08197_row4_col1\" class=\"data row4 col1\" >0.000000</td>\n",
       "      <td id=\"T_08197_row4_col2\" class=\"data row4 col2\" >0.000000</td>\n",
       "      <td id=\"T_08197_row4_col3\" class=\"data row4 col3\" >0.000000</td>\n",
       "      <td id=\"T_08197_row4_col4\" class=\"data row4 col4\" >0.000000</td>\n",
       "    </tr>\n",
       "    <tr>\n",
       "      <th id=\"T_08197_level0_row5\" class=\"row_heading level0 row5\" >5</th>\n",
       "      <td id=\"T_08197_row5_col0\" class=\"data row5 col0\" >0.000000</td>\n",
       "      <td id=\"T_08197_row5_col1\" class=\"data row5 col1\" >0.000000</td>\n",
       "      <td id=\"T_08197_row5_col2\" class=\"data row5 col2\" >0.000000</td>\n",
       "      <td id=\"T_08197_row5_col3\" class=\"data row5 col3\" >0.000000</td>\n",
       "      <td id=\"T_08197_row5_col4\" class=\"data row5 col4\" >0.000000</td>\n",
       "    </tr>\n",
       "    <tr>\n",
       "      <th id=\"T_08197_level0_row6\" class=\"row_heading level0 row6\" >6</th>\n",
       "      <td id=\"T_08197_row6_col0\" class=\"data row6 col0\" >0.000000</td>\n",
       "      <td id=\"T_08197_row6_col1\" class=\"data row6 col1\" >0.000000</td>\n",
       "      <td id=\"T_08197_row6_col2\" class=\"data row6 col2\" >0.000000</td>\n",
       "      <td id=\"T_08197_row6_col3\" class=\"data row6 col3\" >0.000000</td>\n",
       "      <td id=\"T_08197_row6_col4\" class=\"data row6 col4\" >0.000000</td>\n",
       "    </tr>\n",
       "    <tr>\n",
       "      <th id=\"T_08197_level0_row7\" class=\"row_heading level0 row7\" >7</th>\n",
       "      <td id=\"T_08197_row7_col0\" class=\"data row7 col0\" >0.000000</td>\n",
       "      <td id=\"T_08197_row7_col1\" class=\"data row7 col1\" >0.000000</td>\n",
       "      <td id=\"T_08197_row7_col2\" class=\"data row7 col2\" >0.000000</td>\n",
       "      <td id=\"T_08197_row7_col3\" class=\"data row7 col3\" >0.000000</td>\n",
       "      <td id=\"T_08197_row7_col4\" class=\"data row7 col4\" >0.000000</td>\n",
       "    </tr>\n",
       "    <tr>\n",
       "      <th id=\"T_08197_level0_row8\" class=\"row_heading level0 row8\" >8</th>\n",
       "      <td id=\"T_08197_row8_col0\" class=\"data row8 col0\" >0.000000</td>\n",
       "      <td id=\"T_08197_row8_col1\" class=\"data row8 col1\" >0.000000</td>\n",
       "      <td id=\"T_08197_row8_col2\" class=\"data row8 col2\" >0.000000</td>\n",
       "      <td id=\"T_08197_row8_col3\" class=\"data row8 col3\" >0.000000</td>\n",
       "      <td id=\"T_08197_row8_col4\" class=\"data row8 col4\" >0.000000</td>\n",
       "    </tr>\n",
       "    <tr>\n",
       "      <th id=\"T_08197_level0_row9\" class=\"row_heading level0 row9\" >9</th>\n",
       "      <td id=\"T_08197_row9_col0\" class=\"data row9 col0\" >0.000000</td>\n",
       "      <td id=\"T_08197_row9_col1\" class=\"data row9 col1\" >0.000000</td>\n",
       "      <td id=\"T_08197_row9_col2\" class=\"data row9 col2\" >0.000000</td>\n",
       "      <td id=\"T_08197_row9_col3\" class=\"data row9 col3\" >0.000000</td>\n",
       "      <td id=\"T_08197_row9_col4\" class=\"data row9 col4\" >0.000000</td>\n",
       "    </tr>\n",
       "    <tr>\n",
       "      <th id=\"T_08197_level0_row10\" class=\"row_heading level0 row10\" >10</th>\n",
       "      <td id=\"T_08197_row10_col0\" class=\"data row10 col0\" >0.000000</td>\n",
       "      <td id=\"T_08197_row10_col1\" class=\"data row10 col1\" >0.000000</td>\n",
       "      <td id=\"T_08197_row10_col2\" class=\"data row10 col2\" >0.000000</td>\n",
       "      <td id=\"T_08197_row10_col3\" class=\"data row10 col3\" >0.000000</td>\n",
       "      <td id=\"T_08197_row10_col4\" class=\"data row10 col4\" >0.000000</td>\n",
       "    </tr>\n",
       "    <tr>\n",
       "      <th id=\"T_08197_level0_row11\" class=\"row_heading level0 row11\" >11</th>\n",
       "      <td id=\"T_08197_row11_col0\" class=\"data row11 col0\" >0.000000</td>\n",
       "      <td id=\"T_08197_row11_col1\" class=\"data row11 col1\" >0.000000</td>\n",
       "      <td id=\"T_08197_row11_col2\" class=\"data row11 col2\" >0.000000</td>\n",
       "      <td id=\"T_08197_row11_col3\" class=\"data row11 col3\" >0.000000</td>\n",
       "      <td id=\"T_08197_row11_col4\" class=\"data row11 col4\" >0.000000</td>\n",
       "    </tr>\n",
       "    <tr>\n",
       "      <th id=\"T_08197_level0_row12\" class=\"row_heading level0 row12\" >12</th>\n",
       "      <td id=\"T_08197_row12_col0\" class=\"data row12 col0\" >0.000000</td>\n",
       "      <td id=\"T_08197_row12_col1\" class=\"data row12 col1\" >0.000000</td>\n",
       "      <td id=\"T_08197_row12_col2\" class=\"data row12 col2\" >0.000000</td>\n",
       "      <td id=\"T_08197_row12_col3\" class=\"data row12 col3\" >0.000000</td>\n",
       "      <td id=\"T_08197_row12_col4\" class=\"data row12 col4\" >0.000000</td>\n",
       "    </tr>\n",
       "    <tr>\n",
       "      <th id=\"T_08197_level0_row13\" class=\"row_heading level0 row13\" >13</th>\n",
       "      <td id=\"T_08197_row13_col0\" class=\"data row13 col0\" >0.000000</td>\n",
       "      <td id=\"T_08197_row13_col1\" class=\"data row13 col1\" >0.000000</td>\n",
       "      <td id=\"T_08197_row13_col2\" class=\"data row13 col2\" >0.000000</td>\n",
       "      <td id=\"T_08197_row13_col3\" class=\"data row13 col3\" >0.000000</td>\n",
       "      <td id=\"T_08197_row13_col4\" class=\"data row13 col4\" >0.000000</td>\n",
       "    </tr>\n",
       "    <tr>\n",
       "      <th id=\"T_08197_level0_row14\" class=\"row_heading level0 row14\" >14</th>\n",
       "      <td id=\"T_08197_row14_col0\" class=\"data row14 col0\" >0.000000</td>\n",
       "      <td id=\"T_08197_row14_col1\" class=\"data row14 col1\" >0.000000</td>\n",
       "      <td id=\"T_08197_row14_col2\" class=\"data row14 col2\" >0.000000</td>\n",
       "      <td id=\"T_08197_row14_col3\" class=\"data row14 col3\" >0.000000</td>\n",
       "      <td id=\"T_08197_row14_col4\" class=\"data row14 col4\" >0.000000</td>\n",
       "    </tr>\n",
       "    <tr>\n",
       "      <th id=\"T_08197_level0_row15\" class=\"row_heading level0 row15\" >15</th>\n",
       "      <td id=\"T_08197_row15_col0\" class=\"data row15 col0\" >0.000000</td>\n",
       "      <td id=\"T_08197_row15_col1\" class=\"data row15 col1\" >0.000000</td>\n",
       "      <td id=\"T_08197_row15_col2\" class=\"data row15 col2\" >0.000000</td>\n",
       "      <td id=\"T_08197_row15_col3\" class=\"data row15 col3\" >0.000000</td>\n",
       "      <td id=\"T_08197_row15_col4\" class=\"data row15 col4\" >0.000000</td>\n",
       "    </tr>\n",
       "    <tr>\n",
       "      <th id=\"T_08197_level0_row16\" class=\"row_heading level0 row16\" >16</th>\n",
       "      <td id=\"T_08197_row16_col0\" class=\"data row16 col0\" >0.000000</td>\n",
       "      <td id=\"T_08197_row16_col1\" class=\"data row16 col1\" >0.000000</td>\n",
       "      <td id=\"T_08197_row16_col2\" class=\"data row16 col2\" >0.000000</td>\n",
       "      <td id=\"T_08197_row16_col3\" class=\"data row16 col3\" >0.000000</td>\n",
       "      <td id=\"T_08197_row16_col4\" class=\"data row16 col4\" >0.000000</td>\n",
       "    </tr>\n",
       "    <tr>\n",
       "      <th id=\"T_08197_level0_row17\" class=\"row_heading level0 row17\" >17</th>\n",
       "      <td id=\"T_08197_row17_col0\" class=\"data row17 col0\" >0.000000</td>\n",
       "      <td id=\"T_08197_row17_col1\" class=\"data row17 col1\" >0.000000</td>\n",
       "      <td id=\"T_08197_row17_col2\" class=\"data row17 col2\" >0.000000</td>\n",
       "      <td id=\"T_08197_row17_col3\" class=\"data row17 col3\" >0.000000</td>\n",
       "      <td id=\"T_08197_row17_col4\" class=\"data row17 col4\" >0.000000</td>\n",
       "    </tr>\n",
       "    <tr>\n",
       "      <th id=\"T_08197_level0_row18\" class=\"row_heading level0 row18\" >18</th>\n",
       "      <td id=\"T_08197_row18_col0\" class=\"data row18 col0\" >0.000000</td>\n",
       "      <td id=\"T_08197_row18_col1\" class=\"data row18 col1\" >0.000000</td>\n",
       "      <td id=\"T_08197_row18_col2\" class=\"data row18 col2\" >0.000000</td>\n",
       "      <td id=\"T_08197_row18_col3\" class=\"data row18 col3\" >0.000000</td>\n",
       "      <td id=\"T_08197_row18_col4\" class=\"data row18 col4\" >0.000000</td>\n",
       "    </tr>\n",
       "    <tr>\n",
       "      <th id=\"T_08197_level0_row19\" class=\"row_heading level0 row19\" >19</th>\n",
       "      <td id=\"T_08197_row19_col0\" class=\"data row19 col0\" >0.000000</td>\n",
       "      <td id=\"T_08197_row19_col1\" class=\"data row19 col1\" >0.000000</td>\n",
       "      <td id=\"T_08197_row19_col2\" class=\"data row19 col2\" >0.000000</td>\n",
       "      <td id=\"T_08197_row19_col3\" class=\"data row19 col3\" >0.000000</td>\n",
       "      <td id=\"T_08197_row19_col4\" class=\"data row19 col4\" >0.000000</td>\n",
       "    </tr>\n",
       "    <tr>\n",
       "      <th id=\"T_08197_level0_row20\" class=\"row_heading level0 row20\" >20</th>\n",
       "      <td id=\"T_08197_row20_col0\" class=\"data row20 col0\" >0.075477</td>\n",
       "      <td id=\"T_08197_row20_col1\" class=\"data row20 col1\" >-0.057422</td>\n",
       "      <td id=\"T_08197_row20_col2\" class=\"data row20 col2\" >-0.093749</td>\n",
       "      <td id=\"T_08197_row20_col3\" class=\"data row20 col3\" >-0.240353</td>\n",
       "      <td id=\"T_08197_row20_col4\" class=\"data row20 col4\" >0.062027</td>\n",
       "    </tr>\n",
       "    <tr>\n",
       "      <th id=\"T_08197_level0_row21\" class=\"row_heading level0 row21\" >21</th>\n",
       "      <td id=\"T_08197_row21_col0\" class=\"data row21 col0\" >0.000000</td>\n",
       "      <td id=\"T_08197_row21_col1\" class=\"data row21 col1\" >0.000000</td>\n",
       "      <td id=\"T_08197_row21_col2\" class=\"data row21 col2\" >0.000000</td>\n",
       "      <td id=\"T_08197_row21_col3\" class=\"data row21 col3\" >0.000000</td>\n",
       "      <td id=\"T_08197_row21_col4\" class=\"data row21 col4\" >0.000000</td>\n",
       "    </tr>\n",
       "    <tr>\n",
       "      <th id=\"T_08197_level0_row22\" class=\"row_heading level0 row22\" >22</th>\n",
       "      <td id=\"T_08197_row22_col0\" class=\"data row22 col0\" >0.000000</td>\n",
       "      <td id=\"T_08197_row22_col1\" class=\"data row22 col1\" >0.000000</td>\n",
       "      <td id=\"T_08197_row22_col2\" class=\"data row22 col2\" >0.000000</td>\n",
       "      <td id=\"T_08197_row22_col3\" class=\"data row22 col3\" >0.000000</td>\n",
       "      <td id=\"T_08197_row22_col4\" class=\"data row22 col4\" >0.000000</td>\n",
       "    </tr>\n",
       "    <tr>\n",
       "      <th id=\"T_08197_level0_row23\" class=\"row_heading level0 row23\" >23</th>\n",
       "      <td id=\"T_08197_row23_col0\" class=\"data row23 col0\" >0.000000</td>\n",
       "      <td id=\"T_08197_row23_col1\" class=\"data row23 col1\" >0.000000</td>\n",
       "      <td id=\"T_08197_row23_col2\" class=\"data row23 col2\" >0.000000</td>\n",
       "      <td id=\"T_08197_row23_col3\" class=\"data row23 col3\" >0.000000</td>\n",
       "      <td id=\"T_08197_row23_col4\" class=\"data row23 col4\" >0.000000</td>\n",
       "    </tr>\n",
       "    <tr>\n",
       "      <th id=\"T_08197_level0_row24\" class=\"row_heading level0 row24\" >24</th>\n",
       "      <td id=\"T_08197_row24_col0\" class=\"data row24 col0\" >0.000000</td>\n",
       "      <td id=\"T_08197_row24_col1\" class=\"data row24 col1\" >0.000000</td>\n",
       "      <td id=\"T_08197_row24_col2\" class=\"data row24 col2\" >0.000000</td>\n",
       "      <td id=\"T_08197_row24_col3\" class=\"data row24 col3\" >0.000000</td>\n",
       "      <td id=\"T_08197_row24_col4\" class=\"data row24 col4\" >0.000000</td>\n",
       "    </tr>\n",
       "    <tr>\n",
       "      <th id=\"T_08197_level0_row25\" class=\"row_heading level0 row25\" >25</th>\n",
       "      <td id=\"T_08197_row25_col0\" class=\"data row25 col0\" >0.000000</td>\n",
       "      <td id=\"T_08197_row25_col1\" class=\"data row25 col1\" >0.000000</td>\n",
       "      <td id=\"T_08197_row25_col2\" class=\"data row25 col2\" >0.000000</td>\n",
       "      <td id=\"T_08197_row25_col3\" class=\"data row25 col3\" >0.000000</td>\n",
       "      <td id=\"T_08197_row25_col4\" class=\"data row25 col4\" >0.000000</td>\n",
       "    </tr>\n",
       "    <tr>\n",
       "      <th id=\"T_08197_level0_row26\" class=\"row_heading level0 row26\" >26</th>\n",
       "      <td id=\"T_08197_row26_col0\" class=\"data row26 col0\" >0.000000</td>\n",
       "      <td id=\"T_08197_row26_col1\" class=\"data row26 col1\" >0.000000</td>\n",
       "      <td id=\"T_08197_row26_col2\" class=\"data row26 col2\" >0.000000</td>\n",
       "      <td id=\"T_08197_row26_col3\" class=\"data row26 col3\" >0.000000</td>\n",
       "      <td id=\"T_08197_row26_col4\" class=\"data row26 col4\" >0.000000</td>\n",
       "    </tr>\n",
       "    <tr>\n",
       "      <th id=\"T_08197_level0_row27\" class=\"row_heading level0 row27\" >27</th>\n",
       "      <td id=\"T_08197_row27_col0\" class=\"data row27 col0\" >0.000000</td>\n",
       "      <td id=\"T_08197_row27_col1\" class=\"data row27 col1\" >0.000000</td>\n",
       "      <td id=\"T_08197_row27_col2\" class=\"data row27 col2\" >0.000000</td>\n",
       "      <td id=\"T_08197_row27_col3\" class=\"data row27 col3\" >0.000000</td>\n",
       "      <td id=\"T_08197_row27_col4\" class=\"data row27 col4\" >0.000000</td>\n",
       "    </tr>\n",
       "    <tr>\n",
       "      <th id=\"T_08197_level0_row28\" class=\"row_heading level0 row28\" >28</th>\n",
       "      <td id=\"T_08197_row28_col0\" class=\"data row28 col0\" >0.000000</td>\n",
       "      <td id=\"T_08197_row28_col1\" class=\"data row28 col1\" >0.000000</td>\n",
       "      <td id=\"T_08197_row28_col2\" class=\"data row28 col2\" >0.000000</td>\n",
       "      <td id=\"T_08197_row28_col3\" class=\"data row28 col3\" >0.000000</td>\n",
       "      <td id=\"T_08197_row28_col4\" class=\"data row28 col4\" >0.000000</td>\n",
       "    </tr>\n",
       "    <tr>\n",
       "      <th id=\"T_08197_level0_row29\" class=\"row_heading level0 row29\" >29</th>\n",
       "      <td id=\"T_08197_row29_col0\" class=\"data row29 col0\" >0.000000</td>\n",
       "      <td id=\"T_08197_row29_col1\" class=\"data row29 col1\" >0.000000</td>\n",
       "      <td id=\"T_08197_row29_col2\" class=\"data row29 col2\" >0.000000</td>\n",
       "      <td id=\"T_08197_row29_col3\" class=\"data row29 col3\" >0.000000</td>\n",
       "      <td id=\"T_08197_row29_col4\" class=\"data row29 col4\" >0.000000</td>\n",
       "    </tr>\n",
       "    <tr>\n",
       "      <th id=\"T_08197_level0_row30\" class=\"row_heading level0 row30\" >30</th>\n",
       "      <td id=\"T_08197_row30_col0\" class=\"data row30 col0\" >0.000000</td>\n",
       "      <td id=\"T_08197_row30_col1\" class=\"data row30 col1\" >0.000000</td>\n",
       "      <td id=\"T_08197_row30_col2\" class=\"data row30 col2\" >0.000000</td>\n",
       "      <td id=\"T_08197_row30_col3\" class=\"data row30 col3\" >0.000000</td>\n",
       "      <td id=\"T_08197_row30_col4\" class=\"data row30 col4\" >0.000000</td>\n",
       "    </tr>\n",
       "    <tr>\n",
       "      <th id=\"T_08197_level0_row31\" class=\"row_heading level0 row31\" >31</th>\n",
       "      <td id=\"T_08197_row31_col0\" class=\"data row31 col0\" >0.000000</td>\n",
       "      <td id=\"T_08197_row31_col1\" class=\"data row31 col1\" >0.000000</td>\n",
       "      <td id=\"T_08197_row31_col2\" class=\"data row31 col2\" >0.000000</td>\n",
       "      <td id=\"T_08197_row31_col3\" class=\"data row31 col3\" >0.000000</td>\n",
       "      <td id=\"T_08197_row31_col4\" class=\"data row31 col4\" >0.000000</td>\n",
       "    </tr>\n",
       "    <tr>\n",
       "      <th id=\"T_08197_level0_row32\" class=\"row_heading level0 row32\" >32</th>\n",
       "      <td id=\"T_08197_row32_col0\" class=\"data row32 col0\" >0.000000</td>\n",
       "      <td id=\"T_08197_row32_col1\" class=\"data row32 col1\" >0.000000</td>\n",
       "      <td id=\"T_08197_row32_col2\" class=\"data row32 col2\" >0.000000</td>\n",
       "      <td id=\"T_08197_row32_col3\" class=\"data row32 col3\" >0.000000</td>\n",
       "      <td id=\"T_08197_row32_col4\" class=\"data row32 col4\" >0.000000</td>\n",
       "    </tr>\n",
       "    <tr>\n",
       "      <th id=\"T_08197_level0_row33\" class=\"row_heading level0 row33\" >33</th>\n",
       "      <td id=\"T_08197_row33_col0\" class=\"data row33 col0\" >0.000000</td>\n",
       "      <td id=\"T_08197_row33_col1\" class=\"data row33 col1\" >0.000000</td>\n",
       "      <td id=\"T_08197_row33_col2\" class=\"data row33 col2\" >0.000000</td>\n",
       "      <td id=\"T_08197_row33_col3\" class=\"data row33 col3\" >0.000000</td>\n",
       "      <td id=\"T_08197_row33_col4\" class=\"data row33 col4\" >0.000000</td>\n",
       "    </tr>\n",
       "    <tr>\n",
       "      <th id=\"T_08197_level0_row34\" class=\"row_heading level0 row34\" >34</th>\n",
       "      <td id=\"T_08197_row34_col0\" class=\"data row34 col0\" >0.000000</td>\n",
       "      <td id=\"T_08197_row34_col1\" class=\"data row34 col1\" >0.000000</td>\n",
       "      <td id=\"T_08197_row34_col2\" class=\"data row34 col2\" >0.000000</td>\n",
       "      <td id=\"T_08197_row34_col3\" class=\"data row34 col3\" >0.000000</td>\n",
       "      <td id=\"T_08197_row34_col4\" class=\"data row34 col4\" >0.000000</td>\n",
       "    </tr>\n",
       "    <tr>\n",
       "      <th id=\"T_08197_level0_row35\" class=\"row_heading level0 row35\" >35</th>\n",
       "      <td id=\"T_08197_row35_col0\" class=\"data row35 col0\" >0.000000</td>\n",
       "      <td id=\"T_08197_row35_col1\" class=\"data row35 col1\" >0.000000</td>\n",
       "      <td id=\"T_08197_row35_col2\" class=\"data row35 col2\" >0.000000</td>\n",
       "      <td id=\"T_08197_row35_col3\" class=\"data row35 col3\" >0.000000</td>\n",
       "      <td id=\"T_08197_row35_col4\" class=\"data row35 col4\" >0.000000</td>\n",
       "    </tr>\n",
       "    <tr>\n",
       "      <th id=\"T_08197_level0_row36\" class=\"row_heading level0 row36\" >36</th>\n",
       "      <td id=\"T_08197_row36_col0\" class=\"data row36 col0\" >0.000000</td>\n",
       "      <td id=\"T_08197_row36_col1\" class=\"data row36 col1\" >0.000000</td>\n",
       "      <td id=\"T_08197_row36_col2\" class=\"data row36 col2\" >0.000000</td>\n",
       "      <td id=\"T_08197_row36_col3\" class=\"data row36 col3\" >0.000000</td>\n",
       "      <td id=\"T_08197_row36_col4\" class=\"data row36 col4\" >0.000000</td>\n",
       "    </tr>\n",
       "    <tr>\n",
       "      <th id=\"T_08197_level0_row37\" class=\"row_heading level0 row37\" >37</th>\n",
       "      <td id=\"T_08197_row37_col0\" class=\"data row37 col0\" >0.000000</td>\n",
       "      <td id=\"T_08197_row37_col1\" class=\"data row37 col1\" >0.000000</td>\n",
       "      <td id=\"T_08197_row37_col2\" class=\"data row37 col2\" >0.000000</td>\n",
       "      <td id=\"T_08197_row37_col3\" class=\"data row37 col3\" >0.000000</td>\n",
       "      <td id=\"T_08197_row37_col4\" class=\"data row37 col4\" >0.000000</td>\n",
       "    </tr>\n",
       "    <tr>\n",
       "      <th id=\"T_08197_level0_row38\" class=\"row_heading level0 row38\" >38</th>\n",
       "      <td id=\"T_08197_row38_col0\" class=\"data row38 col0\" >0.000000</td>\n",
       "      <td id=\"T_08197_row38_col1\" class=\"data row38 col1\" >0.000000</td>\n",
       "      <td id=\"T_08197_row38_col2\" class=\"data row38 col2\" >0.000000</td>\n",
       "      <td id=\"T_08197_row38_col3\" class=\"data row38 col3\" >0.000000</td>\n",
       "      <td id=\"T_08197_row38_col4\" class=\"data row38 col4\" >0.000000</td>\n",
       "    </tr>\n",
       "    <tr>\n",
       "      <th id=\"T_08197_level0_row39\" class=\"row_heading level0 row39\" >39</th>\n",
       "      <td id=\"T_08197_row39_col0\" class=\"data row39 col0\" >0.000000</td>\n",
       "      <td id=\"T_08197_row39_col1\" class=\"data row39 col1\" >0.000000</td>\n",
       "      <td id=\"T_08197_row39_col2\" class=\"data row39 col2\" >0.000000</td>\n",
       "      <td id=\"T_08197_row39_col3\" class=\"data row39 col3\" >0.000000</td>\n",
       "      <td id=\"T_08197_row39_col4\" class=\"data row39 col4\" >0.000000</td>\n",
       "    </tr>\n",
       "    <tr>\n",
       "      <th id=\"T_08197_level0_row40\" class=\"row_heading level0 row40\" >40</th>\n",
       "      <td id=\"T_08197_row40_col0\" class=\"data row40 col0\" >0.000000</td>\n",
       "      <td id=\"T_08197_row40_col1\" class=\"data row40 col1\" >0.000000</td>\n",
       "      <td id=\"T_08197_row40_col2\" class=\"data row40 col2\" >0.000000</td>\n",
       "      <td id=\"T_08197_row40_col3\" class=\"data row40 col3\" >0.000000</td>\n",
       "      <td id=\"T_08197_row40_col4\" class=\"data row40 col4\" >0.000000</td>\n",
       "    </tr>\n",
       "    <tr>\n",
       "      <th id=\"T_08197_level0_row41\" class=\"row_heading level0 row41\" >41</th>\n",
       "      <td id=\"T_08197_row41_col0\" class=\"data row41 col0\" >0.000000</td>\n",
       "      <td id=\"T_08197_row41_col1\" class=\"data row41 col1\" >0.000000</td>\n",
       "      <td id=\"T_08197_row41_col2\" class=\"data row41 col2\" >0.000000</td>\n",
       "      <td id=\"T_08197_row41_col3\" class=\"data row41 col3\" >0.000000</td>\n",
       "      <td id=\"T_08197_row41_col4\" class=\"data row41 col4\" >0.000000</td>\n",
       "    </tr>\n",
       "    <tr>\n",
       "      <th id=\"T_08197_level0_row42\" class=\"row_heading level0 row42\" >42</th>\n",
       "      <td id=\"T_08197_row42_col0\" class=\"data row42 col0\" >0.000000</td>\n",
       "      <td id=\"T_08197_row42_col1\" class=\"data row42 col1\" >0.000000</td>\n",
       "      <td id=\"T_08197_row42_col2\" class=\"data row42 col2\" >0.000000</td>\n",
       "      <td id=\"T_08197_row42_col3\" class=\"data row42 col3\" >0.000000</td>\n",
       "      <td id=\"T_08197_row42_col4\" class=\"data row42 col4\" >0.000000</td>\n",
       "    </tr>\n",
       "    <tr>\n",
       "      <th id=\"T_08197_level0_row43\" class=\"row_heading level0 row43\" >43</th>\n",
       "      <td id=\"T_08197_row43_col0\" class=\"data row43 col0\" >0.000000</td>\n",
       "      <td id=\"T_08197_row43_col1\" class=\"data row43 col1\" >0.000000</td>\n",
       "      <td id=\"T_08197_row43_col2\" class=\"data row43 col2\" >0.000000</td>\n",
       "      <td id=\"T_08197_row43_col3\" class=\"data row43 col3\" >0.000000</td>\n",
       "      <td id=\"T_08197_row43_col4\" class=\"data row43 col4\" >0.000000</td>\n",
       "    </tr>\n",
       "    <tr>\n",
       "      <th id=\"T_08197_level0_row44\" class=\"row_heading level0 row44\" >44</th>\n",
       "      <td id=\"T_08197_row44_col0\" class=\"data row44 col0\" >0.000000</td>\n",
       "      <td id=\"T_08197_row44_col1\" class=\"data row44 col1\" >0.000000</td>\n",
       "      <td id=\"T_08197_row44_col2\" class=\"data row44 col2\" >0.000000</td>\n",
       "      <td id=\"T_08197_row44_col3\" class=\"data row44 col3\" >0.000000</td>\n",
       "      <td id=\"T_08197_row44_col4\" class=\"data row44 col4\" >0.000000</td>\n",
       "    </tr>\n",
       "  </tbody>\n",
       "</table>\n"
      ],
      "text/plain": [
       "<pandas.io.formats.style.Styler at 0x111f733d0>"
      ]
     },
     "metadata": {},
     "output_type": "display_data"
    },
    {
     "data": {
      "text/plain": [
       "tensor([[0.0000, 0.0000, 0.0000, 0.0000, 0.0000, 0.0000, 0.0000, 0.0000, 0.0000,\n",
       "         0.0000, 0.0000, 0.0000, 0.0000, 0.0000, 0.0000, 0.0000, 0.0000, 0.0000,\n",
       "         0.0000, 0.0000, 0.2818, 0.0000, 0.0000, 0.0000, 0.0000, 0.0000, 0.0000,\n",
       "         0.0000, 0.0000, 0.0000, 0.0000, 0.0000, 0.0000, 0.0000, 0.0000, 0.0000,\n",
       "         0.0000, 0.0000, 0.0000, 0.0000, 0.0000, 0.0000, 0.0000, 0.0000, 0.0000]])"
      ]
     },
     "execution_count": 93,
     "metadata": {},
     "output_type": "execute_result"
    }
   ],
   "source": [
    "# Recreate the embeddings\n",
    "embeddings = embedder(input_ids)\n",
    "embeddings.retain_grad() # Tell Torch we want to know what the gradients are here.\n",
    "# Pass the embeddings through the model and language modeling head.\n",
    "output = mlp(embeddings)\n",
    "logits = lm_head(output)\n",
    "# Compute the loss\n",
    "loss = F.cross_entropy(logits.transpose(1, 2), targets, reduction='none')\n",
    "# Let the model learn from one single character (the one at index 20)\n",
    "loss[0, 20].backward()\n",
    "# Show the results\n",
    "highlight_values(embeddings.grad)\n",
    "# Show how big the gradient is (the \"norm\") \n",
    "embeddings.grad.norm(dim=2)"
   ]
  },
  {
   "cell_type": "markdown",
   "metadata": {},
   "source": [
    "## GRU"
   ]
  },
  {
   "cell_type": "code",
   "execution_count": 14,
   "metadata": {},
   "outputs": [],
   "source": [
    "gru = nn.GRU(emb_dim, emb_dim, batch_first=True)"
   ]
  },
  {
   "cell_type": "code",
   "execution_count": 15,
   "metadata": {},
   "outputs": [
    {
     "data": {
      "text/plain": [
       "(torch.Size([1, 45, 5]), torch.Size([1, 1, 5]))"
      ]
     },
     "execution_count": 15,
     "metadata": {},
     "output_type": "execute_result"
    }
   ],
   "source": [
    "output, hidden = gru(embeddings)\n",
    "output.shape, hidden.shape"
   ]
  },
  {
   "cell_type": "markdown",
   "metadata": {},
   "source": [
    "Note that `hidden` is just another name for the output at the last state (since GRU is simple)."
   ]
  },
  {
   "cell_type": "code",
   "execution_count": 16,
   "metadata": {},
   "outputs": [
    {
     "data": {
      "text/plain": [
       "tensor(True)"
      ]
     },
     "execution_count": 16,
     "metadata": {},
     "output_type": "execute_result"
    }
   ],
   "source": [
    "(output[:, -1, :] == hidden).all()"
   ]
  },
  {
   "cell_type": "code",
   "execution_count": 30,
   "metadata": {},
   "outputs": [
    {
     "name": "stdout",
     "output_type": "stream",
     "text": [
      "1 reps, shape = (1, 45, 5)\n",
      "1.61 ms ± 9.9 µs per loop (mean ± std. dev. of 3 runs, 1000 loops each)\n",
      "2 reps, shape = (1, 90, 5)\n",
      "3.14 ms ± 32.1 µs per loop (mean ± std. dev. of 3 runs, 100 loops each)\n",
      "4 reps, shape = (1, 180, 5)\n",
      "6.51 ms ± 67.5 µs per loop (mean ± std. dev. of 3 runs, 100 loops each)\n",
      "8 reps, shape = (1, 360, 5)\n",
      "14.7 ms ± 92.2 µs per loop (mean ± std. dev. of 3 runs, 100 loops each)\n",
      "16 reps, shape = (1, 720, 5)\n",
      "32.6 ms ± 658 µs per loop (mean ± std. dev. of 3 runs, 10 loops each)\n"
     ]
    }
   ],
   "source": [
    "time_trial(gru, embeddings)"
   ]
  },
  {
   "cell_type": "code",
   "execution_count": 18,
   "metadata": {},
   "outputs": [
    {
     "data": {
      "text/plain": [
       "180"
      ]
     },
     "execution_count": 18,
     "metadata": {},
     "output_type": "execute_result"
    }
   ],
   "source": [
    "num_parameters(gru)"
   ]
  },
  {
   "cell_type": "markdown",
   "metadata": {},
   "source": [
    "## Convolution"
   ]
  },
  {
   "cell_type": "code",
   "execution_count": 19,
   "metadata": {},
   "outputs": [],
   "source": [
    "conv = nn.Conv1d(emb_dim, emb_dim, kernel_size=7)"
   ]
  },
  {
   "cell_type": "markdown",
   "metadata": {},
   "source": [
    "Unfortunately Conv expects its inputs to be (batch size, *channel*, sequence length), where they think of embedding dimensions as being \"channels\" -- confusing. Fortunately, this is easily solved by a `transpose`."
   ]
  },
  {
   "cell_type": "code",
   "execution_count": 20,
   "metadata": {},
   "outputs": [
    {
     "data": {
      "text/plain": [
       "torch.Size([1, 5, 45])"
      ]
     },
     "execution_count": 20,
     "metadata": {},
     "output_type": "execute_result"
    }
   ],
   "source": [
    "embeddings_for_conv = embeddings.transpose(1, 2)\n",
    "embeddings_for_conv.shape"
   ]
  },
  {
   "cell_type": "code",
   "execution_count": 21,
   "metadata": {},
   "outputs": [],
   "source": [
    "output = conv(embeddings_for_conv)"
   ]
  },
  {
   "cell_type": "code",
   "execution_count": 22,
   "metadata": {},
   "outputs": [
    {
     "data": {
      "text/plain": [
       "torch.Size([1, 5, 39])"
      ]
     },
     "execution_count": 22,
     "metadata": {},
     "output_type": "execute_result"
    }
   ],
   "source": [
    "output.shape"
   ]
  },
  {
   "cell_type": "code",
   "execution_count": 23,
   "metadata": {},
   "outputs": [
    {
     "name": "stdout",
     "output_type": "stream",
     "text": [
      "1 reps, shape = (1, 5, 45)\n",
      "29 µs ± 774 ns per loop (mean ± std. dev. of 3 runs, 10000 loops each)\n",
      "2 reps, shape = (1, 5, 90)\n",
      "28.5 µs ± 305 ns per loop (mean ± std. dev. of 3 runs, 10000 loops each)\n",
      "4 reps, shape = (1, 5, 180)\n",
      "29.8 µs ± 528 ns per loop (mean ± std. dev. of 3 runs, 10000 loops each)\n",
      "8 reps, shape = (1, 5, 360)\n",
      "32.6 µs ± 255 ns per loop (mean ± std. dev. of 3 runs, 10000 loops each)\n",
      "16 reps, shape = (1, 5, 720)\n",
      "35.7 µs ± 354 ns per loop (mean ± std. dev. of 3 runs, 10000 loops each)\n"
     ]
    }
   ],
   "source": [
    "time_trial(conv, embeddings_for_conv, concat_on_axis=2)"
   ]
  },
  {
   "cell_type": "code",
   "execution_count": 24,
   "metadata": {},
   "outputs": [
    {
     "data": {
      "text/plain": [
       "180"
      ]
     },
     "execution_count": 24,
     "metadata": {},
     "output_type": "execute_result"
    }
   ],
   "source": [
    "sum(param.numel() for param in conv.parameters())"
   ]
  },
  {
   "cell_type": "markdown",
   "metadata": {},
   "source": [
    "## Transformer"
   ]
  },
  {
   "cell_type": "code",
   "execution_count": 25,
   "metadata": {},
   "outputs": [],
   "source": [
    "xformer = nn.TransformerEncoderLayer(\n",
    "    d_model=emb_dim,\n",
    "    nhead=1,\n",
    "    dim_feedforward=emb_dim,\n",
    "    batch_first=True)"
   ]
  },
  {
   "cell_type": "code",
   "execution_count": 26,
   "metadata": {},
   "outputs": [
    {
     "data": {
      "text/plain": [
       "torch.Size([1, 45, 5])"
      ]
     },
     "execution_count": 26,
     "metadata": {},
     "output_type": "execute_result"
    }
   ],
   "source": [
    "output = xformer(embeddings)\n",
    "output.shape"
   ]
  },
  {
   "cell_type": "code",
   "execution_count": 29,
   "metadata": {},
   "outputs": [
    {
     "name": "stdout",
     "output_type": "stream",
     "text": [
      "1 reps, shape = (1, 45, 5)\n",
      "576 µs ± 7.28 µs per loop (mean ± std. dev. of 3 runs, 1000 loops each)\n",
      "2 reps, shape = (1, 90, 5)\n",
      "674 µs ± 6.94 µs per loop (mean ± std. dev. of 3 runs, 1000 loops each)\n",
      "4 reps, shape = (1, 180, 5)\n",
      "866 µs ± 45.3 µs per loop (mean ± std. dev. of 3 runs, 1000 loops each)\n",
      "8 reps, shape = (1, 360, 5)\n",
      "1.07 ms ± 24.6 µs per loop (mean ± std. dev. of 3 runs, 1000 loops each)\n",
      "16 reps, shape = (1, 720, 5)\n",
      "1.97 ms ± 109 µs per loop (mean ± std. dev. of 3 runs, 1000 loops each)\n"
     ]
    }
   ],
   "source": [
    "time_trial(xformer, embeddings)"
   ]
  },
  {
   "cell_type": "code",
   "execution_count": null,
   "metadata": {},
   "outputs": [
    {
     "data": {
      "text/plain": [
       "200"
      ]
     },
     "execution_count": 28,
     "metadata": {},
     "output_type": "execute_result"
    }
   ],
   "source": [
    "num_parameters(xformer)"
   ]
  },
  {
   "cell_type": "code",
   "execution_count": null,
   "metadata": {},
   "outputs": [],
   "source": []
  }
 ],
 "metadata": {
  "interpreter": {
   "hash": "e8f4b6a4c38f2085446f7f3f791a848eb62f1444c2c1b7234c3e9244444f9b89"
  },
  "kernelspec": {
   "display_name": "Python 3.9.9 ('sp22')",
   "language": "python",
   "name": "python3"
  },
  "language_info": {
   "codemirror_mode": {
    "name": "ipython",
    "version": 3
   },
   "file_extension": ".py",
   "mimetype": "text/x-python",
   "name": "python",
   "nbconvert_exporter": "python",
   "pygments_lexer": "ipython3",
   "version": "3.9.9"
  },
  "orig_nbformat": 4
 },
 "nbformat": 4,
 "nbformat_minor": 2
}
