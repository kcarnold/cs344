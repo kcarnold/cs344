{
  "cells": [
    {
      "cell_type": "markdown",
      "metadata": {
        "id": "3jc8Qlh1TEgC"
      },
      "source": [
        "# Logits in Causal Language Models\n",
        "\n",
        "Task: Ask a language model for how likely each token is to be the next one."
      ]
    },
    {
      "cell_type": "markdown",
      "metadata": {
        "id": "f8_8RWp3TX-8"
      },
      "source": [
        "## Setup"
      ]
    },
    {
      "cell_type": "markdown",
      "metadata": {},
      "source": [
        "We start in the same way as the tokenization notebook:"
      ]
    },
    {
      "cell_type": "code",
      "execution_count": 1,
      "metadata": {
        "id": "osKgPaDwhaN4"
      },
      "outputs": [],
      "source": [
        "# If the import fails, uncomment the following line\n",
        "# !pip install transformers\n",
        "import torch\n",
        "from torch import tensor\n",
        "from transformers import AutoTokenizer, AutoModelForCausalLM\n",
        "import pandas as pd"
      ]
    },
    {
      "cell_type": "markdown",
      "metadata": {},
      "source": [
        "One step in this notebook will ask you to write a function. The most common error when function-ifying notebook code is accidentally using a global variable instead of a value computed in the function. This is a quick and dirty little utility to check for that mistake. (For a more polished version, check out [`localscope`](https://localscope.readthedocs.io/en/latest/README.html).)"
      ]
    },
    {
      "cell_type": "code",
      "execution_count": 2,
      "metadata": {},
      "outputs": [],
      "source": [
        "def check_global_vars(func, allowed_globals):\n",
        "    import inspect\n",
        "    used_globals = set(inspect.getclosurevars(func).globals.keys())\n",
        "    disallowed_globals = used_globals - set(allowed_globals)\n",
        "    if len(disallowed_globals) > 0:\n",
        "        raise AssertionError(f\"The function {func.__name__} used unexpected global variables: {list(disallowed_globals)}\")"
      ]
    },
    {
      "cell_type": "markdown",
      "metadata": {
        "id": "UiNKbIh8hyDg"
      },
      "source": [
        "Download and load the model."
      ]
    },
    {
      "cell_type": "code",
      "execution_count": 3,
      "metadata": {
        "id": "IM5o_4w1hfyV"
      },
      "outputs": [],
      "source": [
        "tokenizer = AutoTokenizer.from_pretrained(\"distilgpt2\", add_prefix_space=True) # smaller version of GPT-2\n",
        "# Alternative to add_prefix_space is to use `is_split_into_words=True`\n",
        "# add the EOS token as PAD token to avoid warnings\n",
        "model = AutoModelForCausalLM.from_pretrained(\"distilgpt2\", pad_token_id=tokenizer.eos_token_id)"
      ]
    },
    {
      "cell_type": "code",
      "execution_count": 4,
      "metadata": {
        "colab": {
          "base_uri": "https://localhost:8080/"
        },
        "id": "m-Z9_U0LUEVQ",
        "outputId": "cb7d4eb7-bc54-4583-dd10-e0cb185494da"
      },
      "outputs": [
        {
          "name": "stdout",
          "output_type": "stream",
          "text": [
            "The tokenizer has 50257 strings in its vocabulary.\n",
            "The model has 81,912,576 parameters.\n"
          ]
        }
      ],
      "source": [
        "print(f\"The tokenizer has {len(tokenizer.get_vocab())} strings in its vocabulary.\")\n",
        "print(f\"The model has {model.num_parameters():,d} parameters.\")"
      ]
    },
    {
      "cell_type": "markdown",
      "metadata": {
        "id": "OOUiz_PsUZgS"
      },
      "source": [
        "## Task\n",
        "\n",
        "In the tokenization notebook, we simply used the `generate` method to have the model generate some text. Now we'll do it ourselves.\n",
        "\n",
        "Consider the following phrase:"
      ]
    },
    {
      "cell_type": "code",
      "execution_count": 6,
      "metadata": {
        "id": "JS7Z-DjoUiLK"
      },
      "outputs": [],
      "source": [
        "phrase = \"This weekend I plan to\"\n",
        "# Another one to try later. This was a famous early example of the GPT-2 model:\n",
        "# phrase = \"In a shocking finding, scientists discovered a herd of unicorns living in\""
      ]
    },
    {
      "cell_type": "markdown",
      "metadata": {},
      "source": [
        "1: Call the `tokenizer` on the phrase to get a `batch` that includes `input_ids`."
      ]
    },
    {
      "cell_type": "code",
      "execution_count": 9,
      "metadata": {
        "id": "QpyeKakrjfpt"
      },
      "outputs": [],
      "source": [
        "# batch = tokenizer(ph..., return_tensors='pt')\n",
        "batch = tokenizer(phrase, return_tensors='pt')\n",
        "# input_ids = batch['in...']\n",
        "input_ids = batch['input_ids']"
      ]
    },
    {
      "cell_type": "markdown",
      "metadata": {},
      "source": [
        "2: Call the `model` on the `input_ids`. Examine the shape of the logits."
      ]
    },
    {
      "cell_type": "code",
      "execution_count": 10,
      "metadata": {
        "colab": {
          "base_uri": "https://localhost:8080/"
        },
        "id": "ZEy1QBTDotjU",
        "outputId": "70a3312b-1bc7-47b0-c1d6-4739c93f56c0"
      },
      "outputs": [
        {
          "name": "stdout",
          "output_type": "stream",
          "text": [
            "logits shape: [1, 5, 50257]\n"
          ]
        }
      ],
      "source": [
        "with torch.no_grad(): # This tells PyTorch we don't need it to compute gradients for us.\n",
        "    # model_output = model(...)\n",
        "    model_output = model(input_ids = input_ids)\n",
        "# print(f\"logits shape: {list(model_output.lo...)}\")\n",
        "print(f\"logits shape: {list(model_output.logits.shape)}\")"
      ]
    },
    {
      "attachments": {},
      "cell_type": "markdown",
      "metadata": {},
      "source": [
        "3: Pull out the logits corresponding to the *last* token in the input phrase. Hint: Think about what each number in the shape means.\n",
        "\n",
        "Note: The `model` returns a dictionary-like object. The `logits` are in `model_output.logits`."
      ]
    },
    {
      "cell_type": "code",
      "execution_count": 11,
      "metadata": {},
      "outputs": [],
      "source": [
        "# last_token_logits = model_output.logits[...]\n",
        "last_token_logits = model_output.logits[0, -1]\n",
        "assert last_token_logits.shape == (len(tokenizer.get_vocab()),)"
      ]
    },
    {
      "attachments": {},
      "cell_type": "markdown",
      "metadata": {},
      "source": [
        "4: Identify the token id and corresponding string of the most likely next token.\n",
        "\n",
        "To find the most likely token, we need to find the *index* of the *largest value* in the `last_token_logits`. The method that does this is called `argmax`. (It's a common enough operation that it's built into PyTorch.)\n",
        "\n",
        "Note: The `tokenizer` has a `decode` method that takes a token id, or a list of token ids, and returns the corresponding string."
      ]
    },
    {
      "cell_type": "code",
      "execution_count": 20,
      "metadata": {},
      "outputs": [
        {
          "name": "stdout",
          "output_type": "stream",
          "text": [
            "For the phrase: This weekend I plan to\n",
            "Most likely next token: 467, which corresponds to ' go', with probability 5.98%\n"
          ]
        }
      ],
      "source": [
        "# compute the probability distribution over the next token\n",
        "# next_token_probabilities = last_token_logits.sof...(dim=-1)\n",
        "next_token_probabilities = last_token_logits.softmax(dim=-1)\n",
        "# dim=-1 means to compute the softmax over the last dimension\n",
        "# most_likely_token_id = ...\n",
        "most_likely_token_id = last_token_logits.argmax()\n",
        "decoded_token = tokenizer.decode(most_likely_token_id)\n",
        "# probability_of_most_likely_token = next_token_probabilities[...]\n",
        "probability_of_most_likely_token = next_token_probabilities[most_likely_token_id]\n",
        "\n",
        "print(\"For the phrase:\", phrase)\n",
        "print(f\"Most likely next token: {most_likely_token_id}, which corresponds to {repr(decoded_token)}, with probability {probability_of_most_likely_token:.2%}\")"
      ]
    },
    {
      "attachments": {},
      "cell_type": "markdown",
      "metadata": {},
      "source": [
        "5: Use the `topk` method to find the top-10 most likely choices for the next token.\n",
        "\n",
        "See the documentation for [`torch.topk`](https://pytorch.org/docs/stable/generated/torch.topk.html). Calling `topk` on a tensor returns a named tuple with two tensors: `values` and `indices`. The `values` are the top-k values, and the `indices` are the indices of those values in the original tensor. (In this case, the indices are the token ids.)\n",
        "\n",
        "*Note*: This uses Pandas to make a nicely displayed table, and a *list comprehension* to decode the tokens. You don't *need* to understand how this all works, but I highly encourage thinking about what's going on."
      ]
    },
    {
      "cell_type": "code",
      "execution_count": 26,
      "metadata": {},
      "outputs": [
        {
          "name": "stdout",
          "output_type": "stream",
          "text": [
            "most likely token index from topk is 467\n"
          ]
        },
        {
          "name": "stderr",
          "output_type": "stream",
          "text": [
            "/var/folders/1d/bxcn0jrn65b1ry6v3vb2124r0000gp/T/ipykernel_61566/1348614770.py:15: FutureWarning: this method is deprecated in favour of `Styler.hide(axis='index')`\n",
            "  most_likely_tokens_df.style.hide_index().background_gradient()\n"
          ]
        },
        {
          "data": {
            "text/html": [
              "<style type=\"text/css\">\n",
              "#T_8f301_row0_col1 {\n",
              "  background-color: #023858;\n",
              "  color: #f1f1f1;\n",
              "}\n",
              "#T_8f301_row1_col1 {\n",
              "  background-color: #4897c4;\n",
              "  color: #f1f1f1;\n",
              "}\n",
              "#T_8f301_row2_col1 {\n",
              "  background-color: #c9cee4;\n",
              "  color: #000000;\n",
              "}\n",
              "#T_8f301_row3_col1 {\n",
              "  background-color: #d2d2e7;\n",
              "  color: #000000;\n",
              "}\n",
              "#T_8f301_row4_col1 {\n",
              "  background-color: #d9d8ea;\n",
              "  color: #000000;\n",
              "}\n",
              "#T_8f301_row5_col1 {\n",
              "  background-color: #e0dded;\n",
              "  color: #000000;\n",
              "}\n",
              "#T_8f301_row6_col1, #T_8f301_row7_col1 {\n",
              "  background-color: #ece7f2;\n",
              "  color: #000000;\n",
              "}\n",
              "#T_8f301_row8_col1 {\n",
              "  background-color: #fbf3f9;\n",
              "  color: #000000;\n",
              "}\n",
              "#T_8f301_row9_col1 {\n",
              "  background-color: #fff7fb;\n",
              "  color: #000000;\n",
              "}\n",
              "</style>\n",
              "<table id=\"T_8f301\">\n",
              "  <thead>\n",
              "    <tr>\n",
              "      <th id=\"T_8f301_level0_col0\" class=\"col_heading level0 col0\" >tokens</th>\n",
              "      <th id=\"T_8f301_level0_col1\" class=\"col_heading level0 col1\" >probabilities</th>\n",
              "    </tr>\n",
              "  </thead>\n",
              "  <tbody>\n",
              "    <tr>\n",
              "      <td id=\"T_8f301_row0_col0\" class=\"data row0 col0\" > go</td>\n",
              "      <td id=\"T_8f301_row0_col1\" class=\"data row0 col1\" >0.059828</td>\n",
              "    </tr>\n",
              "    <tr>\n",
              "      <td id=\"T_8f301_row1_col0\" class=\"data row1 col0\" > take</td>\n",
              "      <td id=\"T_8f301_row1_col1\" class=\"data row1 col1\" >0.043880</td>\n",
              "    </tr>\n",
              "    <tr>\n",
              "      <td id=\"T_8f301_row2_col0\" class=\"data row2 col0\" > spend</td>\n",
              "      <td id=\"T_8f301_row2_col1\" class=\"data row2 col1\" >0.031570</td>\n",
              "    </tr>\n",
              "    <tr>\n",
              "      <td id=\"T_8f301_row3_col0\" class=\"data row3 col0\" > make</td>\n",
              "      <td id=\"T_8f301_row3_col1\" class=\"data row3 col1\" >0.030519</td>\n",
              "    </tr>\n",
              "    <tr>\n",
              "      <td id=\"T_8f301_row4_col0\" class=\"data row4 col0\" > do</td>\n",
              "      <td id=\"T_8f301_row4_col1\" class=\"data row4 col1\" >0.029206</td>\n",
              "    </tr>\n",
              "    <tr>\n",
              "      <td id=\"T_8f301_row5_col0\" class=\"data row5 col0\" > be</td>\n",
              "      <td id=\"T_8f301_row5_col1\" class=\"data row5 col1\" >0.027960</td>\n",
              "    </tr>\n",
              "    <tr>\n",
              "      <td id=\"T_8f301_row6_col0\" class=\"data row6 col0\" > attend</td>\n",
              "      <td id=\"T_8f301_row6_col1\" class=\"data row6 col1\" >0.025886</td>\n",
              "    </tr>\n",
              "    <tr>\n",
              "      <td id=\"T_8f301_row7_col0\" class=\"data row7 col0\" > visit</td>\n",
              "      <td id=\"T_8f301_row7_col1\" class=\"data row7 col1\" >0.025827</td>\n",
              "    </tr>\n",
              "    <tr>\n",
              "      <td id=\"T_8f301_row8_col0\" class=\"data row8 col0\" > run</td>\n",
              "      <td id=\"T_8f301_row8_col1\" class=\"data row8 col1\" >0.022074</td>\n",
              "    </tr>\n",
              "    <tr>\n",
              "      <td id=\"T_8f301_row9_col0\" class=\"data row9 col0\" > have</td>\n",
              "      <td id=\"T_8f301_row9_col1\" class=\"data row9 col1\" >0.020954</td>\n",
              "    </tr>\n",
              "  </tbody>\n",
              "</table>\n"
            ],
            "text/plain": [
              "<pandas.io.formats.style.Styler at 0x1279d04f0>"
            ]
          },
          "execution_count": 26,
          "metadata": {},
          "output_type": "execute_result"
        }
      ],
      "source": [
        "# most_likely_tokens = last_token_logits.topk(...)\n",
        "most_likely_tokens = last_token_logits.topk(10)\n",
        "print(f\"most likely token index from topk is {most_likely_tokens.indices[0]}\") # this should be the same as argmax\n",
        "# decoded_tokens = [tokenizer.decode(...) for ... in most_likely_tokens.indices]\n",
        "decoded_tokens = [tokenizer.decode(token_id) for token_id in most_likely_tokens.indices]\n",
        "probabilities_of_most_likely_tokens = next_token_probabilities[most_likely_tokens.indices]\n",
        "\n",
        "# Make a nice table to show the results\n",
        "most_likely_tokens_df = pd.DataFrame({\n",
        "    'tokens': decoded_tokens,\n",
        "    'probabilities': probabilities_of_most_likely_tokens,\n",
        "})\n",
        "# Show the table, in a nice formatted way (see https://pandas.pydata.org/pandas-docs/stable/user_guide/style.html#Builtin-Styles)\n",
        "# Caution: this \"gradient\" has *nothing* to do with gradient descent! (It's a color gradient.)\n",
        "most_likely_tokens_df.style.hide_index().background_gradient()"
      ]
    },
    {
      "attachments": {},
      "cell_type": "markdown",
      "metadata": {},
      "source": [
        "6. Write a function that is given a phrase and a *k* and returns the top *k* most likely next tokens.\n",
        "\n",
        "Build this function using only code that you've already filled in above. Clean up the code so that it doesn't do or display anything extraneous. Add comments about what each step does.\n"
      ]
    },
    {
      "cell_type": "code",
      "execution_count": 27,
      "metadata": {
        "colab": {
          "base_uri": "https://localhost:8080/"
        },
        "id": "kJWXqQLLkCyP",
        "outputId": "b969f2ed-2289-48c2-e717-b4802a493c5d"
      },
      "outputs": [],
      "source": [
        "# def predict_next_tokens(...):\n",
        "def predict_next_tokens(phrase, k):\n",
        "    # # your code here <<EOF\n",
        "    batch = tokenizer(phrase, return_tensors='pt')\n",
        "    input_ids = batch['input_ids']\n",
        "    with torch.no_grad(): # This tells PyTorch we don't need it to compute gradients for us.\n",
        "        model_output = model(input_ids = input_ids)\n",
        "    last_token_logits = model_output.logits[0, -1]\n",
        "    assert len(last_token_logits.shape) == 1\n",
        "    most_likely_tokens = last_token_logits.topk(k)\n",
        "    return pd.DataFrame({\n",
        "        'tokens': [tokenizer.decode(token_id) for token_id in most_likely_tokens.indices],\n",
        "        'probabilities': most_likely_tokens.values.softmax(dim=0),\n",
        "    })\n",
        "    # EOF\n",
        "\n",
        "check_global_vars(predict_next_tokens, [\"torch\", \"tokenizer\", \"pd\", \"model\"])"
      ]
    },
    {
      "cell_type": "code",
      "execution_count": 28,
      "metadata": {},
      "outputs": [
        {
          "name": "stderr",
          "output_type": "stream",
          "text": [
            "/var/folders/1d/bxcn0jrn65b1ry6v3vb2124r0000gp/T/ipykernel_61566/1600815326.py:1: FutureWarning: this method is deprecated in favour of `Styler.hide(axis='index')`\n",
            "  predict_next_tokens(\"This weekend I plan to\", 5).style.hide_index().background_gradient()\n"
          ]
        },
        {
          "data": {
            "text/html": [
              "<style type=\"text/css\">\n",
              "#T_8b70e_row0_col1 {\n",
              "  background-color: #023858;\n",
              "  color: #f1f1f1;\n",
              "}\n",
              "#T_8b70e_row1_col1 {\n",
              "  background-color: #7dacd1;\n",
              "  color: #f1f1f1;\n",
              "}\n",
              "#T_8b70e_row2_col1 {\n",
              "  background-color: #f4edf6;\n",
              "  color: #000000;\n",
              "}\n",
              "#T_8b70e_row3_col1 {\n",
              "  background-color: #f9f2f8;\n",
              "  color: #000000;\n",
              "}\n",
              "#T_8b70e_row4_col1 {\n",
              "  background-color: #fff7fb;\n",
              "  color: #000000;\n",
              "}\n",
              "</style>\n",
              "<table id=\"T_8b70e\">\n",
              "  <thead>\n",
              "    <tr>\n",
              "      <th id=\"T_8b70e_level0_col0\" class=\"col_heading level0 col0\" >tokens</th>\n",
              "      <th id=\"T_8b70e_level0_col1\" class=\"col_heading level0 col1\" >probabilities</th>\n",
              "    </tr>\n",
              "  </thead>\n",
              "  <tbody>\n",
              "    <tr>\n",
              "      <td id=\"T_8b70e_row0_col0\" class=\"data row0 col0\" > go</td>\n",
              "      <td id=\"T_8b70e_row0_col1\" class=\"data row0 col1\" >0.306805</td>\n",
              "    </tr>\n",
              "    <tr>\n",
              "      <td id=\"T_8b70e_row1_col0\" class=\"data row1 col0\" > take</td>\n",
              "      <td id=\"T_8b70e_row1_col1\" class=\"data row1 col1\" >0.225022</td>\n",
              "    </tr>\n",
              "    <tr>\n",
              "      <td id=\"T_8b70e_row2_col0\" class=\"data row2 col0\" > spend</td>\n",
              "      <td id=\"T_8b70e_row2_col1\" class=\"data row2 col1\" >0.161895</td>\n",
              "    </tr>\n",
              "    <tr>\n",
              "      <td id=\"T_8b70e_row3_col0\" class=\"data row3 col0\" > make</td>\n",
              "      <td id=\"T_8b70e_row3_col1\" class=\"data row3 col1\" >0.156505</td>\n",
              "    </tr>\n",
              "    <tr>\n",
              "      <td id=\"T_8b70e_row4_col0\" class=\"data row4 col0\" > do</td>\n",
              "      <td id=\"T_8b70e_row4_col1\" class=\"data row4 col1\" >0.149773</td>\n",
              "    </tr>\n",
              "  </tbody>\n",
              "</table>\n"
            ],
            "text/plain": [
              "<pandas.io.formats.style.Styler at 0x189f90880>"
            ]
          },
          "execution_count": 28,
          "metadata": {},
          "output_type": "execute_result"
        }
      ],
      "source": [
        "predict_next_tokens(\"This weekend I plan to\", 5).style.hide_index().background_gradient()"
      ]
    },
    {
      "cell_type": "code",
      "execution_count": 29,
      "metadata": {},
      "outputs": [
        {
          "name": "stderr",
          "output_type": "stream",
          "text": [
            "/var/folders/1d/bxcn0jrn65b1ry6v3vb2124r0000gp/T/ipykernel_61566/479713111.py:1: FutureWarning: this method is deprecated in favour of `Styler.hide(axis='index')`\n",
            "  predict_next_tokens(\"To be or not to\", 5).style.hide_index().background_gradient()\n"
          ]
        },
        {
          "data": {
            "text/html": [
              "<style type=\"text/css\">\n",
              "#T_f5ea9_row0_col1 {\n",
              "  background-color: #023858;\n",
              "  color: #f1f1f1;\n",
              "}\n",
              "#T_f5ea9_row1_col1 {\n",
              "  background-color: #fcf4fa;\n",
              "  color: #000000;\n",
              "}\n",
              "#T_f5ea9_row2_col1 {\n",
              "  background-color: #fef6fa;\n",
              "  color: #000000;\n",
              "}\n",
              "#T_f5ea9_row3_col1, #T_f5ea9_row4_col1 {\n",
              "  background-color: #fff7fb;\n",
              "  color: #000000;\n",
              "}\n",
              "</style>\n",
              "<table id=\"T_f5ea9\">\n",
              "  <thead>\n",
              "    <tr>\n",
              "      <th id=\"T_f5ea9_level0_col0\" class=\"col_heading level0 col0\" >tokens</th>\n",
              "      <th id=\"T_f5ea9_level0_col1\" class=\"col_heading level0 col1\" >probabilities</th>\n",
              "    </tr>\n",
              "  </thead>\n",
              "  <tbody>\n",
              "    <tr>\n",
              "      <td id=\"T_f5ea9_row0_col0\" class=\"data row0 col0\" > be</td>\n",
              "      <td id=\"T_f5ea9_row0_col1\" class=\"data row0 col1\" >0.926792</td>\n",
              "    </tr>\n",
              "    <tr>\n",
              "      <td id=\"T_f5ea9_row1_col0\" class=\"data row1 col0\" > have</td>\n",
              "      <td id=\"T_f5ea9_row1_col1\" class=\"data row1 col1\" >0.030508</td>\n",
              "    </tr>\n",
              "    <tr>\n",
              "      <td id=\"T_f5ea9_row2_col0\" class=\"data row2 col0\" > the</td>\n",
              "      <td id=\"T_f5ea9_row2_col1\" class=\"data row2 col1\" >0.018525</td>\n",
              "    </tr>\n",
              "    <tr>\n",
              "      <td id=\"T_f5ea9_row3_col0\" class=\"data row3 col0\" > do</td>\n",
              "      <td id=\"T_f5ea9_row3_col1\" class=\"data row3 col1\" >0.013536</td>\n",
              "    </tr>\n",
              "    <tr>\n",
              "      <td id=\"T_f5ea9_row4_col0\" class=\"data row4 col0\" >,</td>\n",
              "      <td id=\"T_f5ea9_row4_col1\" class=\"data row4 col1\" >0.010639</td>\n",
              "    </tr>\n",
              "  </tbody>\n",
              "</table>\n"
            ],
            "text/plain": [
              "<pandas.io.formats.style.Styler at 0x189faaad0>"
            ]
          },
          "execution_count": 29,
          "metadata": {},
          "output_type": "execute_result"
        }
      ],
      "source": [
        "predict_next_tokens(\"To be or not to\", 5).style.hide_index().background_gradient()"
      ]
    },
    {
      "cell_type": "code",
      "execution_count": 30,
      "metadata": {},
      "outputs": [
        {
          "name": "stderr",
          "output_type": "stream",
          "text": [
            "/var/folders/1d/bxcn0jrn65b1ry6v3vb2124r0000gp/T/ipykernel_61566/2329754532.py:1: FutureWarning: this method is deprecated in favour of `Styler.hide(axis='index')`\n",
            "  predict_next_tokens(\"For God so loved the\", 5).style.hide_index().background_gradient() #-out\n"
          ]
        },
        {
          "data": {
            "text/html": [
              "<style type=\"text/css\">\n",
              "#T_5319e_row0_col1 {\n",
              "  background-color: #023858;\n",
              "  color: #f1f1f1;\n",
              "}\n",
              "#T_5319e_row1_col1 {\n",
              "  background-color: #79abd0;\n",
              "  color: #f1f1f1;\n",
              "}\n",
              "#T_5319e_row2_col1 {\n",
              "  background-color: #d0d1e6;\n",
              "  color: #000000;\n",
              "}\n",
              "#T_5319e_row3_col1 {\n",
              "  background-color: #e2dfee;\n",
              "  color: #000000;\n",
              "}\n",
              "#T_5319e_row4_col1 {\n",
              "  background-color: #fff7fb;\n",
              "  color: #000000;\n",
              "}\n",
              "</style>\n",
              "<table id=\"T_5319e\">\n",
              "  <thead>\n",
              "    <tr>\n",
              "      <th id=\"T_5319e_level0_col0\" class=\"col_heading level0 col0\" >tokens</th>\n",
              "      <th id=\"T_5319e_level0_col1\" class=\"col_heading level0 col1\" >probabilities</th>\n",
              "    </tr>\n",
              "  </thead>\n",
              "  <tbody>\n",
              "    <tr>\n",
              "      <td id=\"T_5319e_row0_col0\" class=\"data row0 col0\" > world</td>\n",
              "      <td id=\"T_5319e_row0_col1\" class=\"data row0 col1\" >0.384820</td>\n",
              "    </tr>\n",
              "    <tr>\n",
              "      <td id=\"T_5319e_row1_col0\" class=\"data row1 col0\" > Lord</td>\n",
              "      <td id=\"T_5319e_row1_col1\" class=\"data row1 col1\" >0.231493</td>\n",
              "    </tr>\n",
              "    <tr>\n",
              "      <td id=\"T_5319e_row2_col0\" class=\"data row2 col0\" > people</td>\n",
              "      <td id=\"T_5319e_row2_col1\" class=\"data row2 col1\" >0.160956</td>\n",
              "    </tr>\n",
              "    <tr>\n",
              "      <td id=\"T_5319e_row3_col0\" class=\"data row3 col0\" > earth</td>\n",
              "      <td id=\"T_5319e_row3_col1\" class=\"data row3 col1\" >0.136998</td>\n",
              "    </tr>\n",
              "    <tr>\n",
              "      <td id=\"T_5319e_row4_col0\" class=\"data row4 col0\" > children</td>\n",
              "      <td id=\"T_5319e_row4_col1\" class=\"data row4 col1\" >0.085733</td>\n",
              "    </tr>\n",
              "  </tbody>\n",
              "</table>\n"
            ],
            "text/plain": [
              "<pandas.io.formats.style.Styler at 0x189f90b50>"
            ]
          },
          "execution_count": 30,
          "metadata": {},
          "output_type": "execute_result"
        }
      ],
      "source": [
        "predict_next_tokens(\"For God so loved the\", 5).style.hide_index().background_gradient() #-out"
      ]
    },
    {
      "cell_type": "markdown",
      "metadata": {
        "id": "PsI_Tz0ipglx"
      },
      "source": [
        "## Analysis\n"
      ]
    },
    {
      "cell_type": "markdown",
      "metadata": {},
      "source": [
        "Q1: Explain the shape of `model_output.logits`."
      ]
    },
    {
      "attachments": {},
      "cell_type": "markdown",
      "metadata": {},
      "source": [
        "Q2: The method in this notebook only get the scores for one next-token at a time. What if we wanted to do a whole sentence? We’d have to generate a token for each word in that sentence. What are a few different ways we could we adapt the approach used in this notebook to generate a complete sentence?\n",
        "\n",
        "To think about different ways to do this, think about what decision(s) you have to make when generating each token.\n",
        "\n",
        "Note: you don't have to write any code to answer this question."
      ]
    }
  ],
  "metadata": {
    "colab": {
      "authorship_tag": "ABX9TyOVes22Uvu4sPkNN1/P8/pg",
      "collapsed_sections": [],
      "include_colab_link": true,
      "name": "013-lm-logits",
      "provenance": []
    },
    "kernelspec": {
      "display_name": "fa22",
      "language": "python",
      "name": "fa22"
    },
    "language_info": {
      "codemirror_mode": {
        "name": "ipython",
        "version": 3
      },
      "file_extension": ".py",
      "mimetype": "text/x-python",
      "name": "python",
      "nbconvert_exporter": "python",
      "pygments_lexer": "ipython3",
      "version": "3.10.5"
    }
  },
  "nbformat": 4,
  "nbformat_minor": 0
}
