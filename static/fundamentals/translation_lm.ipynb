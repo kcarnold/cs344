{
  "nbformat": 4,
  "nbformat_minor": 0,
  "metadata": {
    "colab": {
      "name": "Translation as Language Modeling using Transformers.ipynb",
      "provenance": [],
      "collapsed_sections": []
    },
    "kernelspec": {
      "name": "python3",
      "display_name": "Python 3"
    },
    "language_info": {
      "name": "python"
    },
    "widgets": {
      "application/vnd.jupyter.widget-state+json": {
        "103cf625273e437a861ffcb276b60417": {
          "model_module": "@jupyter-widgets/controls",
          "model_name": "HBoxModel",
          "model_module_version": "1.5.0",
          "state": {
            "_dom_classes": [],
            "_model_module": "@jupyter-widgets/controls",
            "_model_module_version": "1.5.0",
            "_model_name": "HBoxModel",
            "_view_count": null,
            "_view_module": "@jupyter-widgets/controls",
            "_view_module_version": "1.5.0",
            "_view_name": "HBoxView",
            "box_style": "",
            "children": [
              "IPY_MODEL_fb4ee74914264c6295cdb25de47bedf7",
              "IPY_MODEL_0d4ce5f06380422ab6993cfeca1f4d0e",
              "IPY_MODEL_37f25e16709041b9bd15f6e28e1a67aa"
            ],
            "layout": "IPY_MODEL_aa08d2af16854091bcd504138d5a23ed"
          }
        },
        "fb4ee74914264c6295cdb25de47bedf7": {
          "model_module": "@jupyter-widgets/controls",
          "model_name": "HTMLModel",
          "model_module_version": "1.5.0",
          "state": {
            "_dom_classes": [],
            "_model_module": "@jupyter-widgets/controls",
            "_model_module_version": "1.5.0",
            "_model_name": "HTMLModel",
            "_view_count": null,
            "_view_module": "@jupyter-widgets/controls",
            "_view_module_version": "1.5.0",
            "_view_name": "HTMLView",
            "description": "",
            "description_tooltip": null,
            "layout": "IPY_MODEL_1165bfd84f33441ba7b826c6ea738404",
            "placeholder": "​",
            "style": "IPY_MODEL_022e7d42a69349579a0c318fe8ce3456",
            "value": "Downloading: 100%"
          }
        },
        "0d4ce5f06380422ab6993cfeca1f4d0e": {
          "model_module": "@jupyter-widgets/controls",
          "model_name": "FloatProgressModel",
          "model_module_version": "1.5.0",
          "state": {
            "_dom_classes": [],
            "_model_module": "@jupyter-widgets/controls",
            "_model_module_version": "1.5.0",
            "_model_name": "FloatProgressModel",
            "_view_count": null,
            "_view_module": "@jupyter-widgets/controls",
            "_view_module_version": "1.5.0",
            "_view_name": "ProgressView",
            "bar_style": "success",
            "description": "",
            "description_tooltip": null,
            "layout": "IPY_MODEL_bda12f7ee05547aa89bc8cd9e6ebe766",
            "max": 800087,
            "min": 0,
            "orientation": "horizontal",
            "style": "IPY_MODEL_1bafd8ae8bb34371a30c5e1a98aa2c7f",
            "value": 800087
          }
        },
        "37f25e16709041b9bd15f6e28e1a67aa": {
          "model_module": "@jupyter-widgets/controls",
          "model_name": "HTMLModel",
          "model_module_version": "1.5.0",
          "state": {
            "_dom_classes": [],
            "_model_module": "@jupyter-widgets/controls",
            "_model_module_version": "1.5.0",
            "_model_name": "HTMLModel",
            "_view_count": null,
            "_view_module": "@jupyter-widgets/controls",
            "_view_module_version": "1.5.0",
            "_view_name": "HTMLView",
            "description": "",
            "description_tooltip": null,
            "layout": "IPY_MODEL_d31617a865c04430a4fd9d89fd463c9d",
            "placeholder": "​",
            "style": "IPY_MODEL_743458816ed4438e95a350acb77a1ed9",
            "value": " 781k/781k [00:01&lt;00:00, 1.14MB/s]"
          }
        },
        "aa08d2af16854091bcd504138d5a23ed": {
          "model_module": "@jupyter-widgets/base",
          "model_name": "LayoutModel",
          "model_module_version": "1.2.0",
          "state": {
            "_model_module": "@jupyter-widgets/base",
            "_model_module_version": "1.2.0",
            "_model_name": "LayoutModel",
            "_view_count": null,
            "_view_module": "@jupyter-widgets/base",
            "_view_module_version": "1.2.0",
            "_view_name": "LayoutView",
            "align_content": null,
            "align_items": null,
            "align_self": null,
            "border": null,
            "bottom": null,
            "display": null,
            "flex": null,
            "flex_flow": null,
            "grid_area": null,
            "grid_auto_columns": null,
            "grid_auto_flow": null,
            "grid_auto_rows": null,
            "grid_column": null,
            "grid_gap": null,
            "grid_row": null,
            "grid_template_areas": null,
            "grid_template_columns": null,
            "grid_template_rows": null,
            "height": null,
            "justify_content": null,
            "justify_items": null,
            "left": null,
            "margin": null,
            "max_height": null,
            "max_width": null,
            "min_height": null,
            "min_width": null,
            "object_fit": null,
            "object_position": null,
            "order": null,
            "overflow": null,
            "overflow_x": null,
            "overflow_y": null,
            "padding": null,
            "right": null,
            "top": null,
            "visibility": null,
            "width": null
          }
        },
        "1165bfd84f33441ba7b826c6ea738404": {
          "model_module": "@jupyter-widgets/base",
          "model_name": "LayoutModel",
          "model_module_version": "1.2.0",
          "state": {
            "_model_module": "@jupyter-widgets/base",
            "_model_module_version": "1.2.0",
            "_model_name": "LayoutModel",
            "_view_count": null,
            "_view_module": "@jupyter-widgets/base",
            "_view_module_version": "1.2.0",
            "_view_name": "LayoutView",
            "align_content": null,
            "align_items": null,
            "align_self": null,
            "border": null,
            "bottom": null,
            "display": null,
            "flex": null,
            "flex_flow": null,
            "grid_area": null,
            "grid_auto_columns": null,
            "grid_auto_flow": null,
            "grid_auto_rows": null,
            "grid_column": null,
            "grid_gap": null,
            "grid_row": null,
            "grid_template_areas": null,
            "grid_template_columns": null,
            "grid_template_rows": null,
            "height": null,
            "justify_content": null,
            "justify_items": null,
            "left": null,
            "margin": null,
            "max_height": null,
            "max_width": null,
            "min_height": null,
            "min_width": null,
            "object_fit": null,
            "object_position": null,
            "order": null,
            "overflow": null,
            "overflow_x": null,
            "overflow_y": null,
            "padding": null,
            "right": null,
            "top": null,
            "visibility": null,
            "width": null
          }
        },
        "022e7d42a69349579a0c318fe8ce3456": {
          "model_module": "@jupyter-widgets/controls",
          "model_name": "DescriptionStyleModel",
          "model_module_version": "1.5.0",
          "state": {
            "_model_module": "@jupyter-widgets/controls",
            "_model_module_version": "1.5.0",
            "_model_name": "DescriptionStyleModel",
            "_view_count": null,
            "_view_module": "@jupyter-widgets/base",
            "_view_module_version": "1.2.0",
            "_view_name": "StyleView",
            "description_width": ""
          }
        },
        "bda12f7ee05547aa89bc8cd9e6ebe766": {
          "model_module": "@jupyter-widgets/base",
          "model_name": "LayoutModel",
          "model_module_version": "1.2.0",
          "state": {
            "_model_module": "@jupyter-widgets/base",
            "_model_module_version": "1.2.0",
            "_model_name": "LayoutModel",
            "_view_count": null,
            "_view_module": "@jupyter-widgets/base",
            "_view_module_version": "1.2.0",
            "_view_name": "LayoutView",
            "align_content": null,
            "align_items": null,
            "align_self": null,
            "border": null,
            "bottom": null,
            "display": null,
            "flex": null,
            "flex_flow": null,
            "grid_area": null,
            "grid_auto_columns": null,
            "grid_auto_flow": null,
            "grid_auto_rows": null,
            "grid_column": null,
            "grid_gap": null,
            "grid_row": null,
            "grid_template_areas": null,
            "grid_template_columns": null,
            "grid_template_rows": null,
            "height": null,
            "justify_content": null,
            "justify_items": null,
            "left": null,
            "margin": null,
            "max_height": null,
            "max_width": null,
            "min_height": null,
            "min_width": null,
            "object_fit": null,
            "object_position": null,
            "order": null,
            "overflow": null,
            "overflow_x": null,
            "overflow_y": null,
            "padding": null,
            "right": null,
            "top": null,
            "visibility": null,
            "width": null
          }
        },
        "1bafd8ae8bb34371a30c5e1a98aa2c7f": {
          "model_module": "@jupyter-widgets/controls",
          "model_name": "ProgressStyleModel",
          "model_module_version": "1.5.0",
          "state": {
            "_model_module": "@jupyter-widgets/controls",
            "_model_module_version": "1.5.0",
            "_model_name": "ProgressStyleModel",
            "_view_count": null,
            "_view_module": "@jupyter-widgets/base",
            "_view_module_version": "1.2.0",
            "_view_name": "StyleView",
            "bar_color": null,
            "description_width": ""
          }
        },
        "d31617a865c04430a4fd9d89fd463c9d": {
          "model_module": "@jupyter-widgets/base",
          "model_name": "LayoutModel",
          "model_module_version": "1.2.0",
          "state": {
            "_model_module": "@jupyter-widgets/base",
            "_model_module_version": "1.2.0",
            "_model_name": "LayoutModel",
            "_view_count": null,
            "_view_module": "@jupyter-widgets/base",
            "_view_module_version": "1.2.0",
            "_view_name": "LayoutView",
            "align_content": null,
            "align_items": null,
            "align_self": null,
            "border": null,
            "bottom": null,
            "display": null,
            "flex": null,
            "flex_flow": null,
            "grid_area": null,
            "grid_auto_columns": null,
            "grid_auto_flow": null,
            "grid_auto_rows": null,
            "grid_column": null,
            "grid_gap": null,
            "grid_row": null,
            "grid_template_areas": null,
            "grid_template_columns": null,
            "grid_template_rows": null,
            "height": null,
            "justify_content": null,
            "justify_items": null,
            "left": null,
            "margin": null,
            "max_height": null,
            "max_width": null,
            "min_height": null,
            "min_width": null,
            "object_fit": null,
            "object_position": null,
            "order": null,
            "overflow": null,
            "overflow_x": null,
            "overflow_y": null,
            "padding": null,
            "right": null,
            "top": null,
            "visibility": null,
            "width": null
          }
        },
        "743458816ed4438e95a350acb77a1ed9": {
          "model_module": "@jupyter-widgets/controls",
          "model_name": "DescriptionStyleModel",
          "model_module_version": "1.5.0",
          "state": {
            "_model_module": "@jupyter-widgets/controls",
            "_model_module_version": "1.5.0",
            "_model_name": "DescriptionStyleModel",
            "_view_count": null,
            "_view_module": "@jupyter-widgets/base",
            "_view_module_version": "1.2.0",
            "_view_name": "StyleView",
            "description_width": ""
          }
        },
        "92d425ab0b74433ca5f58ddbca5b0aac": {
          "model_module": "@jupyter-widgets/controls",
          "model_name": "HBoxModel",
          "model_module_version": "1.5.0",
          "state": {
            "_dom_classes": [],
            "_model_module": "@jupyter-widgets/controls",
            "_model_module_version": "1.5.0",
            "_model_name": "HBoxModel",
            "_view_count": null,
            "_view_module": "@jupyter-widgets/controls",
            "_view_module_version": "1.5.0",
            "_view_name": "HBoxView",
            "box_style": "",
            "children": [
              "IPY_MODEL_b79f425bff5145539e6cbc79f057a00b",
              "IPY_MODEL_ff65b9819451494f8e0fcdc18845a6eb",
              "IPY_MODEL_e50c7f1557c7416bb46332bea35a2e4c"
            ],
            "layout": "IPY_MODEL_5c23d16848cf428db6e5ab919d7f330d"
          }
        },
        "b79f425bff5145539e6cbc79f057a00b": {
          "model_module": "@jupyter-widgets/controls",
          "model_name": "HTMLModel",
          "model_module_version": "1.5.0",
          "state": {
            "_dom_classes": [],
            "_model_module": "@jupyter-widgets/controls",
            "_model_module_version": "1.5.0",
            "_model_name": "HTMLModel",
            "_view_count": null,
            "_view_module": "@jupyter-widgets/controls",
            "_view_module_version": "1.5.0",
            "_view_name": "HTMLView",
            "description": "",
            "description_tooltip": null,
            "layout": "IPY_MODEL_4e565a160f0140d8be3a3e7d3a71d5a6",
            "placeholder": "​",
            "style": "IPY_MODEL_64e238340e814e8ba68f4eb3e3f92236",
            "value": "Downloading: 100%"
          }
        },
        "ff65b9819451494f8e0fcdc18845a6eb": {
          "model_module": "@jupyter-widgets/controls",
          "model_name": "FloatProgressModel",
          "model_module_version": "1.5.0",
          "state": {
            "_dom_classes": [],
            "_model_module": "@jupyter-widgets/controls",
            "_model_module_version": "1.5.0",
            "_model_name": "FloatProgressModel",
            "_view_count": null,
            "_view_module": "@jupyter-widgets/controls",
            "_view_module_version": "1.5.0",
            "_view_name": "ProgressView",
            "bar_style": "success",
            "description": "",
            "description_tooltip": null,
            "layout": "IPY_MODEL_a89dea4aedfd47d1af3790947f235592",
            "max": 779494,
            "min": 0,
            "orientation": "horizontal",
            "style": "IPY_MODEL_bfb36fd29cf149878d3da9c52f984b2c",
            "value": 779494
          }
        },
        "e50c7f1557c7416bb46332bea35a2e4c": {
          "model_module": "@jupyter-widgets/controls",
          "model_name": "HTMLModel",
          "model_module_version": "1.5.0",
          "state": {
            "_dom_classes": [],
            "_model_module": "@jupyter-widgets/controls",
            "_model_module_version": "1.5.0",
            "_model_name": "HTMLModel",
            "_view_count": null,
            "_view_module": "@jupyter-widgets/controls",
            "_view_module_version": "1.5.0",
            "_view_name": "HTMLView",
            "description": "",
            "description_tooltip": null,
            "layout": "IPY_MODEL_7d5b4f7df1b349548c7018f7ab60eb19",
            "placeholder": "​",
            "style": "IPY_MODEL_c3ddaca006bd40598bd3d2f577d6c433",
            "value": " 761k/761k [00:00&lt;00:00, 656kB/s]"
          }
        },
        "5c23d16848cf428db6e5ab919d7f330d": {
          "model_module": "@jupyter-widgets/base",
          "model_name": "LayoutModel",
          "model_module_version": "1.2.0",
          "state": {
            "_model_module": "@jupyter-widgets/base",
            "_model_module_version": "1.2.0",
            "_model_name": "LayoutModel",
            "_view_count": null,
            "_view_module": "@jupyter-widgets/base",
            "_view_module_version": "1.2.0",
            "_view_name": "LayoutView",
            "align_content": null,
            "align_items": null,
            "align_self": null,
            "border": null,
            "bottom": null,
            "display": null,
            "flex": null,
            "flex_flow": null,
            "grid_area": null,
            "grid_auto_columns": null,
            "grid_auto_flow": null,
            "grid_auto_rows": null,
            "grid_column": null,
            "grid_gap": null,
            "grid_row": null,
            "grid_template_areas": null,
            "grid_template_columns": null,
            "grid_template_rows": null,
            "height": null,
            "justify_content": null,
            "justify_items": null,
            "left": null,
            "margin": null,
            "max_height": null,
            "max_width": null,
            "min_height": null,
            "min_width": null,
            "object_fit": null,
            "object_position": null,
            "order": null,
            "overflow": null,
            "overflow_x": null,
            "overflow_y": null,
            "padding": null,
            "right": null,
            "top": null,
            "visibility": null,
            "width": null
          }
        },
        "4e565a160f0140d8be3a3e7d3a71d5a6": {
          "model_module": "@jupyter-widgets/base",
          "model_name": "LayoutModel",
          "model_module_version": "1.2.0",
          "state": {
            "_model_module": "@jupyter-widgets/base",
            "_model_module_version": "1.2.0",
            "_model_name": "LayoutModel",
            "_view_count": null,
            "_view_module": "@jupyter-widgets/base",
            "_view_module_version": "1.2.0",
            "_view_name": "LayoutView",
            "align_content": null,
            "align_items": null,
            "align_self": null,
            "border": null,
            "bottom": null,
            "display": null,
            "flex": null,
            "flex_flow": null,
            "grid_area": null,
            "grid_auto_columns": null,
            "grid_auto_flow": null,
            "grid_auto_rows": null,
            "grid_column": null,
            "grid_gap": null,
            "grid_row": null,
            "grid_template_areas": null,
            "grid_template_columns": null,
            "grid_template_rows": null,
            "height": null,
            "justify_content": null,
            "justify_items": null,
            "left": null,
            "margin": null,
            "max_height": null,
            "max_width": null,
            "min_height": null,
            "min_width": null,
            "object_fit": null,
            "object_position": null,
            "order": null,
            "overflow": null,
            "overflow_x": null,
            "overflow_y": null,
            "padding": null,
            "right": null,
            "top": null,
            "visibility": null,
            "width": null
          }
        },
        "64e238340e814e8ba68f4eb3e3f92236": {
          "model_module": "@jupyter-widgets/controls",
          "model_name": "DescriptionStyleModel",
          "model_module_version": "1.5.0",
          "state": {
            "_model_module": "@jupyter-widgets/controls",
            "_model_module_version": "1.5.0",
            "_model_name": "DescriptionStyleModel",
            "_view_count": null,
            "_view_module": "@jupyter-widgets/base",
            "_view_module_version": "1.2.0",
            "_view_name": "StyleView",
            "description_width": ""
          }
        },
        "a89dea4aedfd47d1af3790947f235592": {
          "model_module": "@jupyter-widgets/base",
          "model_name": "LayoutModel",
          "model_module_version": "1.2.0",
          "state": {
            "_model_module": "@jupyter-widgets/base",
            "_model_module_version": "1.2.0",
            "_model_name": "LayoutModel",
            "_view_count": null,
            "_view_module": "@jupyter-widgets/base",
            "_view_module_version": "1.2.0",
            "_view_name": "LayoutView",
            "align_content": null,
            "align_items": null,
            "align_self": null,
            "border": null,
            "bottom": null,
            "display": null,
            "flex": null,
            "flex_flow": null,
            "grid_area": null,
            "grid_auto_columns": null,
            "grid_auto_flow": null,
            "grid_auto_rows": null,
            "grid_column": null,
            "grid_gap": null,
            "grid_row": null,
            "grid_template_areas": null,
            "grid_template_columns": null,
            "grid_template_rows": null,
            "height": null,
            "justify_content": null,
            "justify_items": null,
            "left": null,
            "margin": null,
            "max_height": null,
            "max_width": null,
            "min_height": null,
            "min_width": null,
            "object_fit": null,
            "object_position": null,
            "order": null,
            "overflow": null,
            "overflow_x": null,
            "overflow_y": null,
            "padding": null,
            "right": null,
            "top": null,
            "visibility": null,
            "width": null
          }
        },
        "bfb36fd29cf149878d3da9c52f984b2c": {
          "model_module": "@jupyter-widgets/controls",
          "model_name": "ProgressStyleModel",
          "model_module_version": "1.5.0",
          "state": {
            "_model_module": "@jupyter-widgets/controls",
            "_model_module_version": "1.5.0",
            "_model_name": "ProgressStyleModel",
            "_view_count": null,
            "_view_module": "@jupyter-widgets/base",
            "_view_module_version": "1.2.0",
            "_view_name": "StyleView",
            "bar_color": null,
            "description_width": ""
          }
        },
        "7d5b4f7df1b349548c7018f7ab60eb19": {
          "model_module": "@jupyter-widgets/base",
          "model_name": "LayoutModel",
          "model_module_version": "1.2.0",
          "state": {
            "_model_module": "@jupyter-widgets/base",
            "_model_module_version": "1.2.0",
            "_model_name": "LayoutModel",
            "_view_count": null,
            "_view_module": "@jupyter-widgets/base",
            "_view_module_version": "1.2.0",
            "_view_name": "LayoutView",
            "align_content": null,
            "align_items": null,
            "align_self": null,
            "border": null,
            "bottom": null,
            "display": null,
            "flex": null,
            "flex_flow": null,
            "grid_area": null,
            "grid_auto_columns": null,
            "grid_auto_flow": null,
            "grid_auto_rows": null,
            "grid_column": null,
            "grid_gap": null,
            "grid_row": null,
            "grid_template_areas": null,
            "grid_template_columns": null,
            "grid_template_rows": null,
            "height": null,
            "justify_content": null,
            "justify_items": null,
            "left": null,
            "margin": null,
            "max_height": null,
            "max_width": null,
            "min_height": null,
            "min_width": null,
            "object_fit": null,
            "object_position": null,
            "order": null,
            "overflow": null,
            "overflow_x": null,
            "overflow_y": null,
            "padding": null,
            "right": null,
            "top": null,
            "visibility": null,
            "width": null
          }
        },
        "c3ddaca006bd40598bd3d2f577d6c433": {
          "model_module": "@jupyter-widgets/controls",
          "model_name": "DescriptionStyleModel",
          "model_module_version": "1.5.0",
          "state": {
            "_model_module": "@jupyter-widgets/controls",
            "_model_module_version": "1.5.0",
            "_model_name": "DescriptionStyleModel",
            "_view_count": null,
            "_view_module": "@jupyter-widgets/base",
            "_view_module_version": "1.2.0",
            "_view_name": "StyleView",
            "description_width": ""
          }
        },
        "3379efa33ed84b8fa5198955c2763c34": {
          "model_module": "@jupyter-widgets/controls",
          "model_name": "HBoxModel",
          "model_module_version": "1.5.0",
          "state": {
            "_dom_classes": [],
            "_model_module": "@jupyter-widgets/controls",
            "_model_module_version": "1.5.0",
            "_model_name": "HBoxModel",
            "_view_count": null,
            "_view_module": "@jupyter-widgets/controls",
            "_view_module_version": "1.5.0",
            "_view_name": "HBoxView",
            "box_style": "",
            "children": [
              "IPY_MODEL_66c9f40b5445496082b7371129789db3",
              "IPY_MODEL_361c9d10105f4191a2e66ecb6f19d49a",
              "IPY_MODEL_2a7b28600cb8438790e1e05bedcd02ab"
            ],
            "layout": "IPY_MODEL_eafa8f3a00e548bda56460c1b242ba0e"
          }
        },
        "66c9f40b5445496082b7371129789db3": {
          "model_module": "@jupyter-widgets/controls",
          "model_name": "HTMLModel",
          "model_module_version": "1.5.0",
          "state": {
            "_dom_classes": [],
            "_model_module": "@jupyter-widgets/controls",
            "_model_module_version": "1.5.0",
            "_model_name": "HTMLModel",
            "_view_count": null,
            "_view_module": "@jupyter-widgets/controls",
            "_view_module_version": "1.5.0",
            "_view_name": "HTMLView",
            "description": "",
            "description_tooltip": null,
            "layout": "IPY_MODEL_6b5ae1bf6251431b826cf4a1574ccc42",
            "placeholder": "​",
            "style": "IPY_MODEL_a9410f2983f343c8b9c55096761df076",
            "value": "Downloading: 100%"
          }
        },
        "361c9d10105f4191a2e66ecb6f19d49a": {
          "model_module": "@jupyter-widgets/controls",
          "model_name": "FloatProgressModel",
          "model_module_version": "1.5.0",
          "state": {
            "_dom_classes": [],
            "_model_module": "@jupyter-widgets/controls",
            "_model_module_version": "1.5.0",
            "_model_name": "FloatProgressModel",
            "_view_count": null,
            "_view_module": "@jupyter-widgets/controls",
            "_view_module_version": "1.5.0",
            "_view_name": "ProgressView",
            "bar_style": "success",
            "description": "",
            "description_tooltip": null,
            "layout": "IPY_MODEL_f29ce9f71d0e4791a7eaeab511038c83",
            "max": 1460304,
            "min": 0,
            "orientation": "horizontal",
            "style": "IPY_MODEL_9d2d00fcf982463382d861123974d1bf",
            "value": 1460304
          }
        },
        "2a7b28600cb8438790e1e05bedcd02ab": {
          "model_module": "@jupyter-widgets/controls",
          "model_name": "HTMLModel",
          "model_module_version": "1.5.0",
          "state": {
            "_dom_classes": [],
            "_model_module": "@jupyter-widgets/controls",
            "_model_module_version": "1.5.0",
            "_model_name": "HTMLModel",
            "_view_count": null,
            "_view_module": "@jupyter-widgets/controls",
            "_view_module_version": "1.5.0",
            "_view_name": "HTMLView",
            "description": "",
            "description_tooltip": null,
            "layout": "IPY_MODEL_9e9e568d07ad4416ab3a4a13ef0c439f",
            "placeholder": "​",
            "style": "IPY_MODEL_c296ce0fe60d40eaac1b3e3d92efa7ae",
            "value": " 1.39M/1.39M [00:01&lt;00:00, 1.95MB/s]"
          }
        },
        "eafa8f3a00e548bda56460c1b242ba0e": {
          "model_module": "@jupyter-widgets/base",
          "model_name": "LayoutModel",
          "model_module_version": "1.2.0",
          "state": {
            "_model_module": "@jupyter-widgets/base",
            "_model_module_version": "1.2.0",
            "_model_name": "LayoutModel",
            "_view_count": null,
            "_view_module": "@jupyter-widgets/base",
            "_view_module_version": "1.2.0",
            "_view_name": "LayoutView",
            "align_content": null,
            "align_items": null,
            "align_self": null,
            "border": null,
            "bottom": null,
            "display": null,
            "flex": null,
            "flex_flow": null,
            "grid_area": null,
            "grid_auto_columns": null,
            "grid_auto_flow": null,
            "grid_auto_rows": null,
            "grid_column": null,
            "grid_gap": null,
            "grid_row": null,
            "grid_template_areas": null,
            "grid_template_columns": null,
            "grid_template_rows": null,
            "height": null,
            "justify_content": null,
            "justify_items": null,
            "left": null,
            "margin": null,
            "max_height": null,
            "max_width": null,
            "min_height": null,
            "min_width": null,
            "object_fit": null,
            "object_position": null,
            "order": null,
            "overflow": null,
            "overflow_x": null,
            "overflow_y": null,
            "padding": null,
            "right": null,
            "top": null,
            "visibility": null,
            "width": null
          }
        },
        "6b5ae1bf6251431b826cf4a1574ccc42": {
          "model_module": "@jupyter-widgets/base",
          "model_name": "LayoutModel",
          "model_module_version": "1.2.0",
          "state": {
            "_model_module": "@jupyter-widgets/base",
            "_model_module_version": "1.2.0",
            "_model_name": "LayoutModel",
            "_view_count": null,
            "_view_module": "@jupyter-widgets/base",
            "_view_module_version": "1.2.0",
            "_view_name": "LayoutView",
            "align_content": null,
            "align_items": null,
            "align_self": null,
            "border": null,
            "bottom": null,
            "display": null,
            "flex": null,
            "flex_flow": null,
            "grid_area": null,
            "grid_auto_columns": null,
            "grid_auto_flow": null,
            "grid_auto_rows": null,
            "grid_column": null,
            "grid_gap": null,
            "grid_row": null,
            "grid_template_areas": null,
            "grid_template_columns": null,
            "grid_template_rows": null,
            "height": null,
            "justify_content": null,
            "justify_items": null,
            "left": null,
            "margin": null,
            "max_height": null,
            "max_width": null,
            "min_height": null,
            "min_width": null,
            "object_fit": null,
            "object_position": null,
            "order": null,
            "overflow": null,
            "overflow_x": null,
            "overflow_y": null,
            "padding": null,
            "right": null,
            "top": null,
            "visibility": null,
            "width": null
          }
        },
        "a9410f2983f343c8b9c55096761df076": {
          "model_module": "@jupyter-widgets/controls",
          "model_name": "DescriptionStyleModel",
          "model_module_version": "1.5.0",
          "state": {
            "_model_module": "@jupyter-widgets/controls",
            "_model_module_version": "1.5.0",
            "_model_name": "DescriptionStyleModel",
            "_view_count": null,
            "_view_module": "@jupyter-widgets/base",
            "_view_module_version": "1.2.0",
            "_view_name": "StyleView",
            "description_width": ""
          }
        },
        "f29ce9f71d0e4791a7eaeab511038c83": {
          "model_module": "@jupyter-widgets/base",
          "model_name": "LayoutModel",
          "model_module_version": "1.2.0",
          "state": {
            "_model_module": "@jupyter-widgets/base",
            "_model_module_version": "1.2.0",
            "_model_name": "LayoutModel",
            "_view_count": null,
            "_view_module": "@jupyter-widgets/base",
            "_view_module_version": "1.2.0",
            "_view_name": "LayoutView",
            "align_content": null,
            "align_items": null,
            "align_self": null,
            "border": null,
            "bottom": null,
            "display": null,
            "flex": null,
            "flex_flow": null,
            "grid_area": null,
            "grid_auto_columns": null,
            "grid_auto_flow": null,
            "grid_auto_rows": null,
            "grid_column": null,
            "grid_gap": null,
            "grid_row": null,
            "grid_template_areas": null,
            "grid_template_columns": null,
            "grid_template_rows": null,
            "height": null,
            "justify_content": null,
            "justify_items": null,
            "left": null,
            "margin": null,
            "max_height": null,
            "max_width": null,
            "min_height": null,
            "min_width": null,
            "object_fit": null,
            "object_position": null,
            "order": null,
            "overflow": null,
            "overflow_x": null,
            "overflow_y": null,
            "padding": null,
            "right": null,
            "top": null,
            "visibility": null,
            "width": null
          }
        },
        "9d2d00fcf982463382d861123974d1bf": {
          "model_module": "@jupyter-widgets/controls",
          "model_name": "ProgressStyleModel",
          "model_module_version": "1.5.0",
          "state": {
            "_model_module": "@jupyter-widgets/controls",
            "_model_module_version": "1.5.0",
            "_model_name": "ProgressStyleModel",
            "_view_count": null,
            "_view_module": "@jupyter-widgets/base",
            "_view_module_version": "1.2.0",
            "_view_name": "StyleView",
            "bar_color": null,
            "description_width": ""
          }
        },
        "9e9e568d07ad4416ab3a4a13ef0c439f": {
          "model_module": "@jupyter-widgets/base",
          "model_name": "LayoutModel",
          "model_module_version": "1.2.0",
          "state": {
            "_model_module": "@jupyter-widgets/base",
            "_model_module_version": "1.2.0",
            "_model_name": "LayoutModel",
            "_view_count": null,
            "_view_module": "@jupyter-widgets/base",
            "_view_module_version": "1.2.0",
            "_view_name": "LayoutView",
            "align_content": null,
            "align_items": null,
            "align_self": null,
            "border": null,
            "bottom": null,
            "display": null,
            "flex": null,
            "flex_flow": null,
            "grid_area": null,
            "grid_auto_columns": null,
            "grid_auto_flow": null,
            "grid_auto_rows": null,
            "grid_column": null,
            "grid_gap": null,
            "grid_row": null,
            "grid_template_areas": null,
            "grid_template_columns": null,
            "grid_template_rows": null,
            "height": null,
            "justify_content": null,
            "justify_items": null,
            "left": null,
            "margin": null,
            "max_height": null,
            "max_width": null,
            "min_height": null,
            "min_width": null,
            "object_fit": null,
            "object_position": null,
            "order": null,
            "overflow": null,
            "overflow_x": null,
            "overflow_y": null,
            "padding": null,
            "right": null,
            "top": null,
            "visibility": null,
            "width": null
          }
        },
        "c296ce0fe60d40eaac1b3e3d92efa7ae": {
          "model_module": "@jupyter-widgets/controls",
          "model_name": "DescriptionStyleModel",
          "model_module_version": "1.5.0",
          "state": {
            "_model_module": "@jupyter-widgets/controls",
            "_model_module_version": "1.5.0",
            "_model_name": "DescriptionStyleModel",
            "_view_count": null,
            "_view_module": "@jupyter-widgets/base",
            "_view_module_version": "1.2.0",
            "_view_name": "StyleView",
            "description_width": ""
          }
        },
        "6241288e90004dceb56498272d76af14": {
          "model_module": "@jupyter-widgets/controls",
          "model_name": "HBoxModel",
          "model_module_version": "1.5.0",
          "state": {
            "_dom_classes": [],
            "_model_module": "@jupyter-widgets/controls",
            "_model_module_version": "1.5.0",
            "_model_name": "HBoxModel",
            "_view_count": null,
            "_view_module": "@jupyter-widgets/controls",
            "_view_module_version": "1.5.0",
            "_view_name": "HBoxView",
            "box_style": "",
            "children": [
              "IPY_MODEL_edffeffee7cf4da7aa006609bd01b306",
              "IPY_MODEL_3f2baff07c5e42478d49dc996fdc8222",
              "IPY_MODEL_113d9f5677e54d6587fa25b709e331af"
            ],
            "layout": "IPY_MODEL_00130d1e77a24e4cbf2b0b5263f6fdfc"
          }
        },
        "edffeffee7cf4da7aa006609bd01b306": {
          "model_module": "@jupyter-widgets/controls",
          "model_name": "HTMLModel",
          "model_module_version": "1.5.0",
          "state": {
            "_dom_classes": [],
            "_model_module": "@jupyter-widgets/controls",
            "_model_module_version": "1.5.0",
            "_model_name": "HTMLModel",
            "_view_count": null,
            "_view_module": "@jupyter-widgets/controls",
            "_view_module_version": "1.5.0",
            "_view_name": "HTMLView",
            "description": "",
            "description_tooltip": null,
            "layout": "IPY_MODEL_080060ec55934c839e97d0e200588444",
            "placeholder": "​",
            "style": "IPY_MODEL_7994b7846d7c4eeda6d32209890736e6",
            "value": "Downloading: 100%"
          }
        },
        "3f2baff07c5e42478d49dc996fdc8222": {
          "model_module": "@jupyter-widgets/controls",
          "model_name": "FloatProgressModel",
          "model_module_version": "1.5.0",
          "state": {
            "_dom_classes": [],
            "_model_module": "@jupyter-widgets/controls",
            "_model_module_version": "1.5.0",
            "_model_name": "FloatProgressModel",
            "_view_count": null,
            "_view_module": "@jupyter-widgets/controls",
            "_view_module_version": "1.5.0",
            "_view_name": "ProgressView",
            "bar_style": "success",
            "description": "",
            "description_tooltip": null,
            "layout": "IPY_MODEL_8c6d216b69ab41e29e37989fbaaf49a8",
            "max": 265,
            "min": 0,
            "orientation": "horizontal",
            "style": "IPY_MODEL_79cbcf958b9b48b1af2c12ad9d505570",
            "value": 265
          }
        },
        "113d9f5677e54d6587fa25b709e331af": {
          "model_module": "@jupyter-widgets/controls",
          "model_name": "HTMLModel",
          "model_module_version": "1.5.0",
          "state": {
            "_dom_classes": [],
            "_model_module": "@jupyter-widgets/controls",
            "_model_module_version": "1.5.0",
            "_model_name": "HTMLModel",
            "_view_count": null,
            "_view_module": "@jupyter-widgets/controls",
            "_view_module_version": "1.5.0",
            "_view_name": "HTMLView",
            "description": "",
            "description_tooltip": null,
            "layout": "IPY_MODEL_5b3740d3d7664df8bedd145dfa268e45",
            "placeholder": "​",
            "style": "IPY_MODEL_ceb7b9a6c7f147d4820b58e816a6d5b9",
            "value": " 265/265 [00:00&lt;00:00, 4.91kB/s]"
          }
        },
        "00130d1e77a24e4cbf2b0b5263f6fdfc": {
          "model_module": "@jupyter-widgets/base",
          "model_name": "LayoutModel",
          "model_module_version": "1.2.0",
          "state": {
            "_model_module": "@jupyter-widgets/base",
            "_model_module_version": "1.2.0",
            "_model_name": "LayoutModel",
            "_view_count": null,
            "_view_module": "@jupyter-widgets/base",
            "_view_module_version": "1.2.0",
            "_view_name": "LayoutView",
            "align_content": null,
            "align_items": null,
            "align_self": null,
            "border": null,
            "bottom": null,
            "display": null,
            "flex": null,
            "flex_flow": null,
            "grid_area": null,
            "grid_auto_columns": null,
            "grid_auto_flow": null,
            "grid_auto_rows": null,
            "grid_column": null,
            "grid_gap": null,
            "grid_row": null,
            "grid_template_areas": null,
            "grid_template_columns": null,
            "grid_template_rows": null,
            "height": null,
            "justify_content": null,
            "justify_items": null,
            "left": null,
            "margin": null,
            "max_height": null,
            "max_width": null,
            "min_height": null,
            "min_width": null,
            "object_fit": null,
            "object_position": null,
            "order": null,
            "overflow": null,
            "overflow_x": null,
            "overflow_y": null,
            "padding": null,
            "right": null,
            "top": null,
            "visibility": null,
            "width": null
          }
        },
        "080060ec55934c839e97d0e200588444": {
          "model_module": "@jupyter-widgets/base",
          "model_name": "LayoutModel",
          "model_module_version": "1.2.0",
          "state": {
            "_model_module": "@jupyter-widgets/base",
            "_model_module_version": "1.2.0",
            "_model_name": "LayoutModel",
            "_view_count": null,
            "_view_module": "@jupyter-widgets/base",
            "_view_module_version": "1.2.0",
            "_view_name": "LayoutView",
            "align_content": null,
            "align_items": null,
            "align_self": null,
            "border": null,
            "bottom": null,
            "display": null,
            "flex": null,
            "flex_flow": null,
            "grid_area": null,
            "grid_auto_columns": null,
            "grid_auto_flow": null,
            "grid_auto_rows": null,
            "grid_column": null,
            "grid_gap": null,
            "grid_row": null,
            "grid_template_areas": null,
            "grid_template_columns": null,
            "grid_template_rows": null,
            "height": null,
            "justify_content": null,
            "justify_items": null,
            "left": null,
            "margin": null,
            "max_height": null,
            "max_width": null,
            "min_height": null,
            "min_width": null,
            "object_fit": null,
            "object_position": null,
            "order": null,
            "overflow": null,
            "overflow_x": null,
            "overflow_y": null,
            "padding": null,
            "right": null,
            "top": null,
            "visibility": null,
            "width": null
          }
        },
        "7994b7846d7c4eeda6d32209890736e6": {
          "model_module": "@jupyter-widgets/controls",
          "model_name": "DescriptionStyleModel",
          "model_module_version": "1.5.0",
          "state": {
            "_model_module": "@jupyter-widgets/controls",
            "_model_module_version": "1.5.0",
            "_model_name": "DescriptionStyleModel",
            "_view_count": null,
            "_view_module": "@jupyter-widgets/base",
            "_view_module_version": "1.2.0",
            "_view_name": "StyleView",
            "description_width": ""
          }
        },
        "8c6d216b69ab41e29e37989fbaaf49a8": {
          "model_module": "@jupyter-widgets/base",
          "model_name": "LayoutModel",
          "model_module_version": "1.2.0",
          "state": {
            "_model_module": "@jupyter-widgets/base",
            "_model_module_version": "1.2.0",
            "_model_name": "LayoutModel",
            "_view_count": null,
            "_view_module": "@jupyter-widgets/base",
            "_view_module_version": "1.2.0",
            "_view_name": "LayoutView",
            "align_content": null,
            "align_items": null,
            "align_self": null,
            "border": null,
            "bottom": null,
            "display": null,
            "flex": null,
            "flex_flow": null,
            "grid_area": null,
            "grid_auto_columns": null,
            "grid_auto_flow": null,
            "grid_auto_rows": null,
            "grid_column": null,
            "grid_gap": null,
            "grid_row": null,
            "grid_template_areas": null,
            "grid_template_columns": null,
            "grid_template_rows": null,
            "height": null,
            "justify_content": null,
            "justify_items": null,
            "left": null,
            "margin": null,
            "max_height": null,
            "max_width": null,
            "min_height": null,
            "min_width": null,
            "object_fit": null,
            "object_position": null,
            "order": null,
            "overflow": null,
            "overflow_x": null,
            "overflow_y": null,
            "padding": null,
            "right": null,
            "top": null,
            "visibility": null,
            "width": null
          }
        },
        "79cbcf958b9b48b1af2c12ad9d505570": {
          "model_module": "@jupyter-widgets/controls",
          "model_name": "ProgressStyleModel",
          "model_module_version": "1.5.0",
          "state": {
            "_model_module": "@jupyter-widgets/controls",
            "_model_module_version": "1.5.0",
            "_model_name": "ProgressStyleModel",
            "_view_count": null,
            "_view_module": "@jupyter-widgets/base",
            "_view_module_version": "1.2.0",
            "_view_name": "StyleView",
            "bar_color": null,
            "description_width": ""
          }
        },
        "5b3740d3d7664df8bedd145dfa268e45": {
          "model_module": "@jupyter-widgets/base",
          "model_name": "LayoutModel",
          "model_module_version": "1.2.0",
          "state": {
            "_model_module": "@jupyter-widgets/base",
            "_model_module_version": "1.2.0",
            "_model_name": "LayoutModel",
            "_view_count": null,
            "_view_module": "@jupyter-widgets/base",
            "_view_module_version": "1.2.0",
            "_view_name": "LayoutView",
            "align_content": null,
            "align_items": null,
            "align_self": null,
            "border": null,
            "bottom": null,
            "display": null,
            "flex": null,
            "flex_flow": null,
            "grid_area": null,
            "grid_auto_columns": null,
            "grid_auto_flow": null,
            "grid_auto_rows": null,
            "grid_column": null,
            "grid_gap": null,
            "grid_row": null,
            "grid_template_areas": null,
            "grid_template_columns": null,
            "grid_template_rows": null,
            "height": null,
            "justify_content": null,
            "justify_items": null,
            "left": null,
            "margin": null,
            "max_height": null,
            "max_width": null,
            "min_height": null,
            "min_width": null,
            "object_fit": null,
            "object_position": null,
            "order": null,
            "overflow": null,
            "overflow_x": null,
            "overflow_y": null,
            "padding": null,
            "right": null,
            "top": null,
            "visibility": null,
            "width": null
          }
        },
        "ceb7b9a6c7f147d4820b58e816a6d5b9": {
          "model_module": "@jupyter-widgets/controls",
          "model_name": "DescriptionStyleModel",
          "model_module_version": "1.5.0",
          "state": {
            "_model_module": "@jupyter-widgets/controls",
            "_model_module_version": "1.5.0",
            "_model_name": "DescriptionStyleModel",
            "_view_count": null,
            "_view_module": "@jupyter-widgets/base",
            "_view_module_version": "1.2.0",
            "_view_name": "StyleView",
            "description_width": ""
          }
        },
        "cc5fdcf2464a4d0d83463871fbdf9c3d": {
          "model_module": "@jupyter-widgets/controls",
          "model_name": "HBoxModel",
          "model_module_version": "1.5.0",
          "state": {
            "_dom_classes": [],
            "_model_module": "@jupyter-widgets/controls",
            "_model_module_version": "1.5.0",
            "_model_name": "HBoxModel",
            "_view_count": null,
            "_view_module": "@jupyter-widgets/controls",
            "_view_module_version": "1.5.0",
            "_view_name": "HBoxView",
            "box_style": "",
            "children": [
              "IPY_MODEL_60dd1e7911e944fd94b8c58e1e39bc2a",
              "IPY_MODEL_f73b432f420e4d4cbe33202f409dc593",
              "IPY_MODEL_229e90c092c342eba32ec90ad5731b18"
            ],
            "layout": "IPY_MODEL_d3e0b17011e6438aa78c7e738701e114"
          }
        },
        "60dd1e7911e944fd94b8c58e1e39bc2a": {
          "model_module": "@jupyter-widgets/controls",
          "model_name": "HTMLModel",
          "model_module_version": "1.5.0",
          "state": {
            "_dom_classes": [],
            "_model_module": "@jupyter-widgets/controls",
            "_model_module_version": "1.5.0",
            "_model_name": "HTMLModel",
            "_view_count": null,
            "_view_module": "@jupyter-widgets/controls",
            "_view_module_version": "1.5.0",
            "_view_name": "HTMLView",
            "description": "",
            "description_tooltip": null,
            "layout": "IPY_MODEL_1ba578a93bdc44099e0bdfe4ae5b0150",
            "placeholder": "​",
            "style": "IPY_MODEL_01e4b682cc1546a8a2d564ba2332ea55",
            "value": "Downloading: 100%"
          }
        },
        "f73b432f420e4d4cbe33202f409dc593": {
          "model_module": "@jupyter-widgets/controls",
          "model_name": "FloatProgressModel",
          "model_module_version": "1.5.0",
          "state": {
            "_dom_classes": [],
            "_model_module": "@jupyter-widgets/controls",
            "_model_module_version": "1.5.0",
            "_model_name": "FloatProgressModel",
            "_view_count": null,
            "_view_module": "@jupyter-widgets/controls",
            "_view_module_version": "1.5.0",
            "_view_name": "ProgressView",
            "bar_style": "success",
            "description": "",
            "description_tooltip": null,
            "layout": "IPY_MODEL_35943f215e39476baada398fef03bd60",
            "max": 1112,
            "min": 0,
            "orientation": "horizontal",
            "style": "IPY_MODEL_c832f702d0524c9285afe01638d981dc",
            "value": 1112
          }
        },
        "229e90c092c342eba32ec90ad5731b18": {
          "model_module": "@jupyter-widgets/controls",
          "model_name": "HTMLModel",
          "model_module_version": "1.5.0",
          "state": {
            "_dom_classes": [],
            "_model_module": "@jupyter-widgets/controls",
            "_model_module_version": "1.5.0",
            "_model_name": "HTMLModel",
            "_view_count": null,
            "_view_module": "@jupyter-widgets/controls",
            "_view_module_version": "1.5.0",
            "_view_name": "HTMLView",
            "description": "",
            "description_tooltip": null,
            "layout": "IPY_MODEL_01e02eed4ae04ba9b7b5e9e27aa73863",
            "placeholder": "​",
            "style": "IPY_MODEL_06215b9e85f04655917b8292611edaae",
            "value": " 1.09k/1.09k [00:00&lt;00:00, 15.9kB/s]"
          }
        },
        "d3e0b17011e6438aa78c7e738701e114": {
          "model_module": "@jupyter-widgets/base",
          "model_name": "LayoutModel",
          "model_module_version": "1.2.0",
          "state": {
            "_model_module": "@jupyter-widgets/base",
            "_model_module_version": "1.2.0",
            "_model_name": "LayoutModel",
            "_view_count": null,
            "_view_module": "@jupyter-widgets/base",
            "_view_module_version": "1.2.0",
            "_view_name": "LayoutView",
            "align_content": null,
            "align_items": null,
            "align_self": null,
            "border": null,
            "bottom": null,
            "display": null,
            "flex": null,
            "flex_flow": null,
            "grid_area": null,
            "grid_auto_columns": null,
            "grid_auto_flow": null,
            "grid_auto_rows": null,
            "grid_column": null,
            "grid_gap": null,
            "grid_row": null,
            "grid_template_areas": null,
            "grid_template_columns": null,
            "grid_template_rows": null,
            "height": null,
            "justify_content": null,
            "justify_items": null,
            "left": null,
            "margin": null,
            "max_height": null,
            "max_width": null,
            "min_height": null,
            "min_width": null,
            "object_fit": null,
            "object_position": null,
            "order": null,
            "overflow": null,
            "overflow_x": null,
            "overflow_y": null,
            "padding": null,
            "right": null,
            "top": null,
            "visibility": null,
            "width": null
          }
        },
        "1ba578a93bdc44099e0bdfe4ae5b0150": {
          "model_module": "@jupyter-widgets/base",
          "model_name": "LayoutModel",
          "model_module_version": "1.2.0",
          "state": {
            "_model_module": "@jupyter-widgets/base",
            "_model_module_version": "1.2.0",
            "_model_name": "LayoutModel",
            "_view_count": null,
            "_view_module": "@jupyter-widgets/base",
            "_view_module_version": "1.2.0",
            "_view_name": "LayoutView",
            "align_content": null,
            "align_items": null,
            "align_self": null,
            "border": null,
            "bottom": null,
            "display": null,
            "flex": null,
            "flex_flow": null,
            "grid_area": null,
            "grid_auto_columns": null,
            "grid_auto_flow": null,
            "grid_auto_rows": null,
            "grid_column": null,
            "grid_gap": null,
            "grid_row": null,
            "grid_template_areas": null,
            "grid_template_columns": null,
            "grid_template_rows": null,
            "height": null,
            "justify_content": null,
            "justify_items": null,
            "left": null,
            "margin": null,
            "max_height": null,
            "max_width": null,
            "min_height": null,
            "min_width": null,
            "object_fit": null,
            "object_position": null,
            "order": null,
            "overflow": null,
            "overflow_x": null,
            "overflow_y": null,
            "padding": null,
            "right": null,
            "top": null,
            "visibility": null,
            "width": null
          }
        },
        "01e4b682cc1546a8a2d564ba2332ea55": {
          "model_module": "@jupyter-widgets/controls",
          "model_name": "DescriptionStyleModel",
          "model_module_version": "1.5.0",
          "state": {
            "_model_module": "@jupyter-widgets/controls",
            "_model_module_version": "1.5.0",
            "_model_name": "DescriptionStyleModel",
            "_view_count": null,
            "_view_module": "@jupyter-widgets/base",
            "_view_module_version": "1.2.0",
            "_view_name": "StyleView",
            "description_width": ""
          }
        },
        "35943f215e39476baada398fef03bd60": {
          "model_module": "@jupyter-widgets/base",
          "model_name": "LayoutModel",
          "model_module_version": "1.2.0",
          "state": {
            "_model_module": "@jupyter-widgets/base",
            "_model_module_version": "1.2.0",
            "_model_name": "LayoutModel",
            "_view_count": null,
            "_view_module": "@jupyter-widgets/base",
            "_view_module_version": "1.2.0",
            "_view_name": "LayoutView",
            "align_content": null,
            "align_items": null,
            "align_self": null,
            "border": null,
            "bottom": null,
            "display": null,
            "flex": null,
            "flex_flow": null,
            "grid_area": null,
            "grid_auto_columns": null,
            "grid_auto_flow": null,
            "grid_auto_rows": null,
            "grid_column": null,
            "grid_gap": null,
            "grid_row": null,
            "grid_template_areas": null,
            "grid_template_columns": null,
            "grid_template_rows": null,
            "height": null,
            "justify_content": null,
            "justify_items": null,
            "left": null,
            "margin": null,
            "max_height": null,
            "max_width": null,
            "min_height": null,
            "min_width": null,
            "object_fit": null,
            "object_position": null,
            "order": null,
            "overflow": null,
            "overflow_x": null,
            "overflow_y": null,
            "padding": null,
            "right": null,
            "top": null,
            "visibility": null,
            "width": null
          }
        },
        "c832f702d0524c9285afe01638d981dc": {
          "model_module": "@jupyter-widgets/controls",
          "model_name": "ProgressStyleModel",
          "model_module_version": "1.5.0",
          "state": {
            "_model_module": "@jupyter-widgets/controls",
            "_model_module_version": "1.5.0",
            "_model_name": "ProgressStyleModel",
            "_view_count": null,
            "_view_module": "@jupyter-widgets/base",
            "_view_module_version": "1.2.0",
            "_view_name": "StyleView",
            "bar_color": null,
            "description_width": ""
          }
        },
        "01e02eed4ae04ba9b7b5e9e27aa73863": {
          "model_module": "@jupyter-widgets/base",
          "model_name": "LayoutModel",
          "model_module_version": "1.2.0",
          "state": {
            "_model_module": "@jupyter-widgets/base",
            "_model_module_version": "1.2.0",
            "_model_name": "LayoutModel",
            "_view_count": null,
            "_view_module": "@jupyter-widgets/base",
            "_view_module_version": "1.2.0",
            "_view_name": "LayoutView",
            "align_content": null,
            "align_items": null,
            "align_self": null,
            "border": null,
            "bottom": null,
            "display": null,
            "flex": null,
            "flex_flow": null,
            "grid_area": null,
            "grid_auto_columns": null,
            "grid_auto_flow": null,
            "grid_auto_rows": null,
            "grid_column": null,
            "grid_gap": null,
            "grid_row": null,
            "grid_template_areas": null,
            "grid_template_columns": null,
            "grid_template_rows": null,
            "height": null,
            "justify_content": null,
            "justify_items": null,
            "left": null,
            "margin": null,
            "max_height": null,
            "max_width": null,
            "min_height": null,
            "min_width": null,
            "object_fit": null,
            "object_position": null,
            "order": null,
            "overflow": null,
            "overflow_x": null,
            "overflow_y": null,
            "padding": null,
            "right": null,
            "top": null,
            "visibility": null,
            "width": null
          }
        },
        "06215b9e85f04655917b8292611edaae": {
          "model_module": "@jupyter-widgets/controls",
          "model_name": "DescriptionStyleModel",
          "model_module_version": "1.5.0",
          "state": {
            "_model_module": "@jupyter-widgets/controls",
            "_model_module_version": "1.5.0",
            "_model_name": "DescriptionStyleModel",
            "_view_count": null,
            "_view_module": "@jupyter-widgets/base",
            "_view_module_version": "1.2.0",
            "_view_name": "StyleView",
            "description_width": ""
          }
        },
        "a24f572c83154528ad3eaaa6dfd4f040": {
          "model_module": "@jupyter-widgets/controls",
          "model_name": "HBoxModel",
          "model_module_version": "1.5.0",
          "state": {
            "_dom_classes": [],
            "_model_module": "@jupyter-widgets/controls",
            "_model_module_version": "1.5.0",
            "_model_name": "HBoxModel",
            "_view_count": null,
            "_view_module": "@jupyter-widgets/controls",
            "_view_module_version": "1.5.0",
            "_view_name": "HBoxView",
            "box_style": "",
            "children": [
              "IPY_MODEL_c7ff9352f2ac46118a30e1f07834ccf3",
              "IPY_MODEL_6059ed2107324e78bafddbd3c06a14c0",
              "IPY_MODEL_a44a6fde5ea34c459b6d921cb65f49bc"
            ],
            "layout": "IPY_MODEL_1556ceeef7d5411e86c1896505513e4d"
          }
        },
        "c7ff9352f2ac46118a30e1f07834ccf3": {
          "model_module": "@jupyter-widgets/controls",
          "model_name": "HTMLModel",
          "model_module_version": "1.5.0",
          "state": {
            "_dom_classes": [],
            "_model_module": "@jupyter-widgets/controls",
            "_model_module_version": "1.5.0",
            "_model_name": "HTMLModel",
            "_view_count": null,
            "_view_module": "@jupyter-widgets/controls",
            "_view_module_version": "1.5.0",
            "_view_name": "HTMLView",
            "description": "",
            "description_tooltip": null,
            "layout": "IPY_MODEL_0076051ba3aa418c9027268a551b2171",
            "placeholder": "​",
            "style": "IPY_MODEL_6bed6df654ef420691de365de4969aef",
            "value": "Downloading: 100%"
          }
        },
        "6059ed2107324e78bafddbd3c06a14c0": {
          "model_module": "@jupyter-widgets/controls",
          "model_name": "FloatProgressModel",
          "model_module_version": "1.5.0",
          "state": {
            "_dom_classes": [],
            "_model_module": "@jupyter-widgets/controls",
            "_model_module_version": "1.5.0",
            "_model_name": "FloatProgressModel",
            "_view_count": null,
            "_view_module": "@jupyter-widgets/controls",
            "_view_module_version": "1.5.0",
            "_view_name": "ProgressView",
            "bar_style": "success",
            "description": "",
            "description_tooltip": null,
            "layout": "IPY_MODEL_a58eb022e4c64403af89889c29f31242",
            "max": 312087009,
            "min": 0,
            "orientation": "horizontal",
            "style": "IPY_MODEL_290e86a6a8b24c30b6936eea422b9fcb",
            "value": 312087009
          }
        },
        "a44a6fde5ea34c459b6d921cb65f49bc": {
          "model_module": "@jupyter-widgets/controls",
          "model_name": "HTMLModel",
          "model_module_version": "1.5.0",
          "state": {
            "_dom_classes": [],
            "_model_module": "@jupyter-widgets/controls",
            "_model_module_version": "1.5.0",
            "_model_name": "HTMLModel",
            "_view_count": null,
            "_view_module": "@jupyter-widgets/controls",
            "_view_module_version": "1.5.0",
            "_view_name": "HTMLView",
            "description": "",
            "description_tooltip": null,
            "layout": "IPY_MODEL_34346a01cb6a45339cf7d54b328514f0",
            "placeholder": "​",
            "style": "IPY_MODEL_ba7d1cb1be3e41ef87c328b818627a72",
            "value": " 298M/298M [00:11&lt;00:00, 31.9MB/s]"
          }
        },
        "1556ceeef7d5411e86c1896505513e4d": {
          "model_module": "@jupyter-widgets/base",
          "model_name": "LayoutModel",
          "model_module_version": "1.2.0",
          "state": {
            "_model_module": "@jupyter-widgets/base",
            "_model_module_version": "1.2.0",
            "_model_name": "LayoutModel",
            "_view_count": null,
            "_view_module": "@jupyter-widgets/base",
            "_view_module_version": "1.2.0",
            "_view_name": "LayoutView",
            "align_content": null,
            "align_items": null,
            "align_self": null,
            "border": null,
            "bottom": null,
            "display": null,
            "flex": null,
            "flex_flow": null,
            "grid_area": null,
            "grid_auto_columns": null,
            "grid_auto_flow": null,
            "grid_auto_rows": null,
            "grid_column": null,
            "grid_gap": null,
            "grid_row": null,
            "grid_template_areas": null,
            "grid_template_columns": null,
            "grid_template_rows": null,
            "height": null,
            "justify_content": null,
            "justify_items": null,
            "left": null,
            "margin": null,
            "max_height": null,
            "max_width": null,
            "min_height": null,
            "min_width": null,
            "object_fit": null,
            "object_position": null,
            "order": null,
            "overflow": null,
            "overflow_x": null,
            "overflow_y": null,
            "padding": null,
            "right": null,
            "top": null,
            "visibility": null,
            "width": null
          }
        },
        "0076051ba3aa418c9027268a551b2171": {
          "model_module": "@jupyter-widgets/base",
          "model_name": "LayoutModel",
          "model_module_version": "1.2.0",
          "state": {
            "_model_module": "@jupyter-widgets/base",
            "_model_module_version": "1.2.0",
            "_model_name": "LayoutModel",
            "_view_count": null,
            "_view_module": "@jupyter-widgets/base",
            "_view_module_version": "1.2.0",
            "_view_name": "LayoutView",
            "align_content": null,
            "align_items": null,
            "align_self": null,
            "border": null,
            "bottom": null,
            "display": null,
            "flex": null,
            "flex_flow": null,
            "grid_area": null,
            "grid_auto_columns": null,
            "grid_auto_flow": null,
            "grid_auto_rows": null,
            "grid_column": null,
            "grid_gap": null,
            "grid_row": null,
            "grid_template_areas": null,
            "grid_template_columns": null,
            "grid_template_rows": null,
            "height": null,
            "justify_content": null,
            "justify_items": null,
            "left": null,
            "margin": null,
            "max_height": null,
            "max_width": null,
            "min_height": null,
            "min_width": null,
            "object_fit": null,
            "object_position": null,
            "order": null,
            "overflow": null,
            "overflow_x": null,
            "overflow_y": null,
            "padding": null,
            "right": null,
            "top": null,
            "visibility": null,
            "width": null
          }
        },
        "6bed6df654ef420691de365de4969aef": {
          "model_module": "@jupyter-widgets/controls",
          "model_name": "DescriptionStyleModel",
          "model_module_version": "1.5.0",
          "state": {
            "_model_module": "@jupyter-widgets/controls",
            "_model_module_version": "1.5.0",
            "_model_name": "DescriptionStyleModel",
            "_view_count": null,
            "_view_module": "@jupyter-widgets/base",
            "_view_module_version": "1.2.0",
            "_view_name": "StyleView",
            "description_width": ""
          }
        },
        "a58eb022e4c64403af89889c29f31242": {
          "model_module": "@jupyter-widgets/base",
          "model_name": "LayoutModel",
          "model_module_version": "1.2.0",
          "state": {
            "_model_module": "@jupyter-widgets/base",
            "_model_module_version": "1.2.0",
            "_model_name": "LayoutModel",
            "_view_count": null,
            "_view_module": "@jupyter-widgets/base",
            "_view_module_version": "1.2.0",
            "_view_name": "LayoutView",
            "align_content": null,
            "align_items": null,
            "align_self": null,
            "border": null,
            "bottom": null,
            "display": null,
            "flex": null,
            "flex_flow": null,
            "grid_area": null,
            "grid_auto_columns": null,
            "grid_auto_flow": null,
            "grid_auto_rows": null,
            "grid_column": null,
            "grid_gap": null,
            "grid_row": null,
            "grid_template_areas": null,
            "grid_template_columns": null,
            "grid_template_rows": null,
            "height": null,
            "justify_content": null,
            "justify_items": null,
            "left": null,
            "margin": null,
            "max_height": null,
            "max_width": null,
            "min_height": null,
            "min_width": null,
            "object_fit": null,
            "object_position": null,
            "order": null,
            "overflow": null,
            "overflow_x": null,
            "overflow_y": null,
            "padding": null,
            "right": null,
            "top": null,
            "visibility": null,
            "width": null
          }
        },
        "290e86a6a8b24c30b6936eea422b9fcb": {
          "model_module": "@jupyter-widgets/controls",
          "model_name": "ProgressStyleModel",
          "model_module_version": "1.5.0",
          "state": {
            "_model_module": "@jupyter-widgets/controls",
            "_model_module_version": "1.5.0",
            "_model_name": "ProgressStyleModel",
            "_view_count": null,
            "_view_module": "@jupyter-widgets/base",
            "_view_module_version": "1.2.0",
            "_view_name": "StyleView",
            "bar_color": null,
            "description_width": ""
          }
        },
        "34346a01cb6a45339cf7d54b328514f0": {
          "model_module": "@jupyter-widgets/base",
          "model_name": "LayoutModel",
          "model_module_version": "1.2.0",
          "state": {
            "_model_module": "@jupyter-widgets/base",
            "_model_module_version": "1.2.0",
            "_model_name": "LayoutModel",
            "_view_count": null,
            "_view_module": "@jupyter-widgets/base",
            "_view_module_version": "1.2.0",
            "_view_name": "LayoutView",
            "align_content": null,
            "align_items": null,
            "align_self": null,
            "border": null,
            "bottom": null,
            "display": null,
            "flex": null,
            "flex_flow": null,
            "grid_area": null,
            "grid_auto_columns": null,
            "grid_auto_flow": null,
            "grid_auto_rows": null,
            "grid_column": null,
            "grid_gap": null,
            "grid_row": null,
            "grid_template_areas": null,
            "grid_template_columns": null,
            "grid_template_rows": null,
            "height": null,
            "justify_content": null,
            "justify_items": null,
            "left": null,
            "margin": null,
            "max_height": null,
            "max_width": null,
            "min_height": null,
            "min_width": null,
            "object_fit": null,
            "object_position": null,
            "order": null,
            "overflow": null,
            "overflow_x": null,
            "overflow_y": null,
            "padding": null,
            "right": null,
            "top": null,
            "visibility": null,
            "width": null
          }
        },
        "ba7d1cb1be3e41ef87c328b818627a72": {
          "model_module": "@jupyter-widgets/controls",
          "model_name": "DescriptionStyleModel",
          "model_module_version": "1.5.0",
          "state": {
            "_model_module": "@jupyter-widgets/controls",
            "_model_module_version": "1.5.0",
            "_model_name": "DescriptionStyleModel",
            "_view_count": null,
            "_view_module": "@jupyter-widgets/base",
            "_view_module_version": "1.2.0",
            "_view_name": "StyleView",
            "description_width": ""
          }
        }
      }
    }
  },
  "cells": [
    {
      "cell_type": "markdown",
      "metadata": {
        "id": "9O35L1Bcd2rU"
      },
      "source": [
        "## Translation as Language Modeling\n",
        "\n",
        "Goals:\n",
        "\n",
        "* Practice getting data into and out of a language model.\n",
        "    * embeddings (input and output)\n",
        "    * logits for next words\n",
        "    * cross-entropy loss\n",
        "* Explore different methods of *decoding* for sequence generation\n",
        "* Explain how data flows between the encoder and decoder in a sequence-to-sequence model\n",
        "* Interpret *attention weights*."
      ]
    },
    {
      "cell_type": "markdown",
      "metadata": {
        "id": "5ZNlX5Kbe3_R"
      },
      "source": [
        "## Setup"
      ]
    },
    {
      "cell_type": "markdown",
      "metadata": {
        "id": "ZyDS4bzee5Rq"
      },
      "source": [
        "Install libraries."
      ]
    },
    {
      "cell_type": "code",
      "metadata": {
        "id": "xPTTlj3uW9FZ"
      },
      "source": [
        "%pip install -q datasets transformers[sentencepiece]"
      ],
      "execution_count": 66,
      "outputs": []
    },
    {
      "cell_type": "markdown",
      "metadata": {
        "id": "QHHEJjq3fCqC"
      },
      "source": [
        "Import PyTorch and the HuggingFace Transformers library."
      ]
    },
    {
      "cell_type": "code",
      "metadata": {
        "id": "ueA5Mqomo95h"
      },
      "source": [
        "import torch\n",
        "import torch.nn as nn\n",
        "import torch.nn.functional as F\n",
        "import transformers\n",
        "import pandas as pd\n",
        "import matplotlib.pyplot as plt\n",
        "%matplotlib inline\n",
        "\n",
        "device = torch.device(\"cuda\" if torch.cuda.is_available() else \"cpu\")"
      ],
      "execution_count": 2,
      "outputs": []
    },
    {
      "cell_type": "markdown",
      "metadata": {
        "id": "uegQ3XfbfNGS"
      },
      "source": [
        "Load a [Marian Machine Translation](https://huggingface.co/transformers/model_doc/marian.html) model.\n",
        "\n",
        "Specifically, we're using one that was trained on the OPUS corpus (`opus-mt`) to translate text in any romance language (`ROMANCE`) to English (`en`)."
      ]
    },
    {
      "cell_type": "code",
      "metadata": {
        "colab": {
          "base_uri": "https://localhost:8080/",
          "height": 227,
          "referenced_widgets": [
            "103cf625273e437a861ffcb276b60417",
            "fb4ee74914264c6295cdb25de47bedf7",
            "0d4ce5f06380422ab6993cfeca1f4d0e",
            "37f25e16709041b9bd15f6e28e1a67aa",
            "aa08d2af16854091bcd504138d5a23ed",
            "1165bfd84f33441ba7b826c6ea738404",
            "022e7d42a69349579a0c318fe8ce3456",
            "bda12f7ee05547aa89bc8cd9e6ebe766",
            "1bafd8ae8bb34371a30c5e1a98aa2c7f",
            "d31617a865c04430a4fd9d89fd463c9d",
            "743458816ed4438e95a350acb77a1ed9",
            "92d425ab0b74433ca5f58ddbca5b0aac",
            "b79f425bff5145539e6cbc79f057a00b",
            "ff65b9819451494f8e0fcdc18845a6eb",
            "e50c7f1557c7416bb46332bea35a2e4c",
            "5c23d16848cf428db6e5ab919d7f330d",
            "4e565a160f0140d8be3a3e7d3a71d5a6",
            "64e238340e814e8ba68f4eb3e3f92236",
            "a89dea4aedfd47d1af3790947f235592",
            "bfb36fd29cf149878d3da9c52f984b2c",
            "7d5b4f7df1b349548c7018f7ab60eb19",
            "c3ddaca006bd40598bd3d2f577d6c433",
            "3379efa33ed84b8fa5198955c2763c34",
            "66c9f40b5445496082b7371129789db3",
            "361c9d10105f4191a2e66ecb6f19d49a",
            "2a7b28600cb8438790e1e05bedcd02ab",
            "eafa8f3a00e548bda56460c1b242ba0e",
            "6b5ae1bf6251431b826cf4a1574ccc42",
            "a9410f2983f343c8b9c55096761df076",
            "f29ce9f71d0e4791a7eaeab511038c83",
            "9d2d00fcf982463382d861123974d1bf",
            "9e9e568d07ad4416ab3a4a13ef0c439f",
            "c296ce0fe60d40eaac1b3e3d92efa7ae",
            "6241288e90004dceb56498272d76af14",
            "edffeffee7cf4da7aa006609bd01b306",
            "3f2baff07c5e42478d49dc996fdc8222",
            "113d9f5677e54d6587fa25b709e331af",
            "00130d1e77a24e4cbf2b0b5263f6fdfc",
            "080060ec55934c839e97d0e200588444",
            "7994b7846d7c4eeda6d32209890736e6",
            "8c6d216b69ab41e29e37989fbaaf49a8",
            "79cbcf958b9b48b1af2c12ad9d505570",
            "5b3740d3d7664df8bedd145dfa268e45",
            "ceb7b9a6c7f147d4820b58e816a6d5b9",
            "cc5fdcf2464a4d0d83463871fbdf9c3d",
            "60dd1e7911e944fd94b8c58e1e39bc2a",
            "f73b432f420e4d4cbe33202f409dc593",
            "229e90c092c342eba32ec90ad5731b18",
            "d3e0b17011e6438aa78c7e738701e114",
            "1ba578a93bdc44099e0bdfe4ae5b0150",
            "01e4b682cc1546a8a2d564ba2332ea55",
            "35943f215e39476baada398fef03bd60",
            "c832f702d0524c9285afe01638d981dc",
            "01e02eed4ae04ba9b7b5e9e27aa73863",
            "06215b9e85f04655917b8292611edaae",
            "a24f572c83154528ad3eaaa6dfd4f040",
            "c7ff9352f2ac46118a30e1f07834ccf3",
            "6059ed2107324e78bafddbd3c06a14c0",
            "a44a6fde5ea34c459b6d921cb65f49bc",
            "1556ceeef7d5411e86c1896505513e4d",
            "0076051ba3aa418c9027268a551b2171",
            "6bed6df654ef420691de365de4969aef",
            "a58eb022e4c64403af89889c29f31242",
            "290e86a6a8b24c30b6936eea422b9fcb",
            "34346a01cb6a45339cf7d54b328514f0",
            "ba7d1cb1be3e41ef87c328b818627a72"
          ]
        },
        "id": "oXDwrEx8nTj7",
        "outputId": "3a2eb85f-274b-4bac-ec63-2181ee433b95"
      },
      "source": [
        "from transformers import MarianMTModel, MarianTokenizer\n",
        "model_name = 'Helsinki-NLP/opus-mt-ROMANCE-en'\n",
        "tokenizer = MarianTokenizer.from_pretrained(model_name)\n",
        "model = MarianMTModel.from_pretrained(model_name).to(device)\n",
        "print(f\"The model has {model.num_parameters():,d} parameters.\")"
      ],
      "execution_count": 3,
      "outputs": [
        {
          "output_type": "display_data",
          "data": {
            "text/plain": [
              "Downloading:   0%|          | 0.00/781k [00:00<?, ?B/s]"
            ],
            "application/vnd.jupyter.widget-view+json": {
              "version_major": 2,
              "version_minor": 0,
              "model_id": "103cf625273e437a861ffcb276b60417"
            }
          },
          "metadata": {}
        },
        {
          "output_type": "display_data",
          "data": {
            "text/plain": [
              "Downloading:   0%|          | 0.00/761k [00:00<?, ?B/s]"
            ],
            "application/vnd.jupyter.widget-view+json": {
              "version_major": 2,
              "version_minor": 0,
              "model_id": "92d425ab0b74433ca5f58ddbca5b0aac"
            }
          },
          "metadata": {}
        },
        {
          "output_type": "display_data",
          "data": {
            "text/plain": [
              "Downloading:   0%|          | 0.00/1.39M [00:00<?, ?B/s]"
            ],
            "application/vnd.jupyter.widget-view+json": {
              "version_major": 2,
              "version_minor": 0,
              "model_id": "3379efa33ed84b8fa5198955c2763c34"
            }
          },
          "metadata": {}
        },
        {
          "output_type": "display_data",
          "data": {
            "text/plain": [
              "Downloading:   0%|          | 0.00/265 [00:00<?, ?B/s]"
            ],
            "application/vnd.jupyter.widget-view+json": {
              "version_major": 2,
              "version_minor": 0,
              "model_id": "6241288e90004dceb56498272d76af14"
            }
          },
          "metadata": {}
        },
        {
          "output_type": "display_data",
          "data": {
            "text/plain": [
              "Downloading:   0%|          | 0.00/1.09k [00:00<?, ?B/s]"
            ],
            "application/vnd.jupyter.widget-view+json": {
              "version_major": 2,
              "version_minor": 0,
              "model_id": "cc5fdcf2464a4d0d83463871fbdf9c3d"
            }
          },
          "metadata": {}
        },
        {
          "output_type": "display_data",
          "data": {
            "text/plain": [
              "Downloading:   0%|          | 0.00/298M [00:00<?, ?B/s]"
            ],
            "application/vnd.jupyter.widget-view+json": {
              "version_major": 2,
              "version_minor": 0,
              "model_id": "a24f572c83154528ad3eaaa6dfd4f040"
            }
          },
          "metadata": {}
        },
        {
          "output_type": "stream",
          "name": "stdout",
          "text": [
            "The model has 77,943,296 parameters.\n"
          ]
        }
      ]
    },
    {
      "cell_type": "markdown",
      "metadata": {
        "id": "3NDajxTdhLAp"
      },
      "source": [
        "Finally, these wrappers will make the code below easier to understand (you should completely ignore them)."
      ]
    },
    {
      "cell_type": "code",
      "metadata": {
        "id": "sEgzyR1ShKjr"
      },
      "source": [
        "from functools import partial\n",
        "from transformers.models.marian.modeling_marian import shift_tokens_right\n",
        "prepend_start_token = partial(\n",
        "    shift_tokens_right,\n",
        "    pad_token_id = model.config.pad_token_id, decoder_start_token_id = model.config.decoder_start_token_id)\n",
        "encoder = model.get_encoder()\n",
        "decoder = model.get_decoder()\n",
        "encoder.forward = partial(encoder.forward, output_attentions=True, output_hidden_states=True)\n",
        "decoder.forward = partial(decoder.forward, output_attentions=True, output_hidden_states=True)\n"
      ],
      "execution_count": 4,
      "outputs": []
    },
    {
      "cell_type": "markdown",
      "metadata": {
        "id": "H4D35Lumfqsr"
      },
      "source": [
        "## Warm-up\n",
        "\n",
        "Let's practice with the tokenizer. This should be mostly review, but we'll do it in the way that the HuggingFace docs do it."
      ]
    },
    {
      "cell_type": "code",
      "metadata": {
        "colab": {
          "base_uri": "https://localhost:8080/"
        },
        "id": "zZL-PQ5BosDz",
        "outputId": "86f75716-037c-4817-a7d3-0aea294b665b"
      },
      "source": [
        "spanish_text = \"Yo les doy vida eterna.\"\n",
        "spanish_batch = tokenizer(spanish_text, return_tensors='pt', padding=True).to(device)\n",
        "spanish_batch"
      ],
      "execution_count": 5,
      "outputs": [
        {
          "output_type": "execute_result",
          "data": {
            "text/plain": [
              "{'input_ids': tensor([[ 2554,    29,    73,   131,   860, 21658,     3,     0]]), 'attention_mask': tensor([[1, 1, 1, 1, 1, 1, 1, 1]])}"
            ]
          },
          "metadata": {},
          "execution_count": 5
        }
      ]
    },
    {
      "cell_type": "markdown",
      "metadata": {
        "id": "aKUhKBeAgVXf"
      },
      "source": [
        "Since we're only translating one sentence, we can ignore `attention_mask` (which just helps ignore padding tokens) and the extra initial dimension of the `input_ids`."
      ]
    },
    {
      "cell_type": "code",
      "metadata": {
        "colab": {
          "base_uri": "https://localhost:8080/"
        },
        "id": "fIh9u_gEsbPm",
        "outputId": "6d52f3ed-c90e-4173-a52e-857095de9aa8"
      },
      "source": [
        "input_ids = spanish_batch.input_ids\n",
        "input_ids.shape"
      ],
      "execution_count": 6,
      "outputs": [
        {
          "output_type": "execute_result",
          "data": {
            "text/plain": [
              "torch.Size([1, 8])"
            ]
          },
          "metadata": {},
          "execution_count": 6
        }
      ]
    },
    {
      "cell_type": "code",
      "metadata": {
        "colab": {
          "base_uri": "https://localhost:8080/"
        },
        "id": "exn_PoiHgjS-",
        "outputId": "1be82555-e860-4adf-c2fa-b61e37626cd4"
      },
      "source": [
        "tokenizer.convert_ids_to_tokens(input_ids[0])"
      ],
      "execution_count": 7,
      "outputs": [
        {
          "output_type": "execute_result",
          "data": {
            "text/plain": [
              "['▁Yo', '▁les', '▁do', 'y', '▁vida', '▁eterna', '.', '</s>']"
            ]
          },
          "metadata": {},
          "execution_count": 7
        }
      ]
    },
    {
      "cell_type": "markdown",
      "metadata": {
        "id": "Khl1_BY3gG9W"
      },
      "source": [
        "Now let's ask the model to generate a translation. Lots of magic happens here; we'll peel back the layers shortly."
      ]
    },
    {
      "cell_type": "code",
      "metadata": {
        "colab": {
          "base_uri": "https://localhost:8080/"
        },
        "id": "4Q9a07LDnw-y",
        "outputId": "f6b24b3f-9b94-4891-9a60-865f89b33ce8"
      },
      "source": [
        "translated = model.generate(input_ids = input_ids, num_beams=1, do_sample=False)\n",
        "translated.shape"
      ],
      "execution_count": 47,
      "outputs": [
        {
          "output_type": "execute_result",
          "data": {
            "text/plain": [
              "torch.Size([1, 8])"
            ]
          },
          "metadata": {},
          "execution_count": 47
        }
      ]
    },
    {
      "cell_type": "markdown",
      "metadata": {
        "id": "9BTxglJpgm4Z"
      },
      "source": [
        "Decode the result!"
      ]
    },
    {
      "cell_type": "code",
      "metadata": {
        "colab": {
          "base_uri": "https://localhost:8080/",
          "height": 36
        },
        "id": "IMz_2_OjrzHg",
        "outputId": "5ec05b53-a6ca-487b-e5b2-f9ab16633de5"
      },
      "source": [
        "with tokenizer.as_target_tokenizer():\n",
        "    english_text = tokenizer.decode(translated[0][1:])\n",
        "english_text"
      ],
      "execution_count": 48,
      "outputs": [
        {
          "output_type": "execute_result",
          "data": {
            "text/plain": [
              "'I give them eternal life.'"
            ],
            "application/vnd.google.colaboratory.intrinsic+json": {
              "type": "string"
            }
          },
          "metadata": {},
          "execution_count": 48
        }
      ]
    },
    {
      "cell_type": "code",
      "metadata": {
        "id": "MFgxHsTruVLi"
      },
      "source": [
        "#with tokenizer.as_target_tokenizer():\n",
        "#    english_batch = tokenizer(english_text, return_tensors='pt', padding=True).to(device)\n",
        "#decoder_input_ids = torch.tensor([model.config.decoder_start_token_id]).unsqueeze(0)\n",
        "#outputs = model(input_ids=spanish_batch.input_ids, decoder_input_ids=decoder_input_ids)\n",
        "#outputs.logits.shape"
      ],
      "execution_count": 67,
      "outputs": []
    },
    {
      "cell_type": "markdown",
      "source": [
        "## Predict Next Token"
      ],
      "metadata": {
        "id": "5ap6YNNpG9hX"
      }
    },
    {
      "cell_type": "code",
      "source": [
        "def predict_next_token(source_input_ids, decoded_so_far=[], k=5):\n",
        "    decoder_input_ids = torch.tensor([model.config.decoder_start_token_id] + decoded_so_far).unsqueeze(0)\n",
        "    assert input_ids.shape[0] == 1\n",
        "    with torch.no_grad(): # This tells PyTorch we don't need it to compute gradients for us.\n",
        "        model_output = model(input_ids = source_input_ids, decoder_input_ids=decoder_input_ids)\n",
        "    last_token_logits = model_output.logits[0, -1]\n",
        "    assert len(last_token_logits.shape) == 1\n",
        "    most_likely_tokens = last_token_logits.topk(k)\n",
        "    with tokenizer.as_target_tokenizer():\n",
        "        probs = most_likely_tokens.values.softmax(dim=0)\n",
        "        return pd.DataFrame({\n",
        "            'token': [tokenizer.decode(token_id) for token_id in most_likely_tokens.indices],\n",
        "            'id': most_likely_tokens.indices,\n",
        "            'probability': probs,\n",
        "            'logprob': probs.log(),\n",
        "            'cumulative probability': probs.cumsum(0)\n",
        "        })\n",
        "\n",
        "\n",
        "predict_next_token(spanish_batch.input_ids, [20, 685, 224, 16762, 482, 3, 0])"
      ],
      "metadata": {
        "colab": {
          "base_uri": "https://localhost:8080/",
          "height": 206
        },
        "id": "jKd1cWlqAWJE",
        "outputId": "f4e3044a-53cf-4926-e1d2-c2fb879335d9"
      },
      "execution_count": 65,
      "outputs": [
        {
          "output_type": "execute_result",
          "data": {
            "text/plain": [
              "  token  id  probability   logprob  cumulative probability\n",
              "0  </s>   0     0.950323 -0.050953                0.950323\n",
              "1        39     0.025043 -3.687144                0.975367\n",
              "2     .   3     0.015829 -4.145927                0.991196\n",
              "3     -  14     0.006279 -5.070520                0.997475\n",
              "4     I  20     0.002525 -5.981452                1.000000"
            ],
            "text/html": [
              "\n",
              "  <div id=\"df-364529dd-a44f-43bb-ae1a-3089330ec659\">\n",
              "    <div class=\"colab-df-container\">\n",
              "      <div>\n",
              "<style scoped>\n",
              "    .dataframe tbody tr th:only-of-type {\n",
              "        vertical-align: middle;\n",
              "    }\n",
              "\n",
              "    .dataframe tbody tr th {\n",
              "        vertical-align: top;\n",
              "    }\n",
              "\n",
              "    .dataframe thead th {\n",
              "        text-align: right;\n",
              "    }\n",
              "</style>\n",
              "<table border=\"1\" class=\"dataframe\">\n",
              "  <thead>\n",
              "    <tr style=\"text-align: right;\">\n",
              "      <th></th>\n",
              "      <th>token</th>\n",
              "      <th>id</th>\n",
              "      <th>probability</th>\n",
              "      <th>logprob</th>\n",
              "      <th>cumulative probability</th>\n",
              "    </tr>\n",
              "  </thead>\n",
              "  <tbody>\n",
              "    <tr>\n",
              "      <th>0</th>\n",
              "      <td>&lt;/s&gt;</td>\n",
              "      <td>0</td>\n",
              "      <td>0.950323</td>\n",
              "      <td>-0.050953</td>\n",
              "      <td>0.950323</td>\n",
              "    </tr>\n",
              "    <tr>\n",
              "      <th>1</th>\n",
              "      <td></td>\n",
              "      <td>39</td>\n",
              "      <td>0.025043</td>\n",
              "      <td>-3.687144</td>\n",
              "      <td>0.975367</td>\n",
              "    </tr>\n",
              "    <tr>\n",
              "      <th>2</th>\n",
              "      <td>.</td>\n",
              "      <td>3</td>\n",
              "      <td>0.015829</td>\n",
              "      <td>-4.145927</td>\n",
              "      <td>0.991196</td>\n",
              "    </tr>\n",
              "    <tr>\n",
              "      <th>3</th>\n",
              "      <td>-</td>\n",
              "      <td>14</td>\n",
              "      <td>0.006279</td>\n",
              "      <td>-5.070520</td>\n",
              "      <td>0.997475</td>\n",
              "    </tr>\n",
              "    <tr>\n",
              "      <th>4</th>\n",
              "      <td>I</td>\n",
              "      <td>20</td>\n",
              "      <td>0.002525</td>\n",
              "      <td>-5.981452</td>\n",
              "      <td>1.000000</td>\n",
              "    </tr>\n",
              "  </tbody>\n",
              "</table>\n",
              "</div>\n",
              "      <button class=\"colab-df-convert\" onclick=\"convertToInteractive('df-364529dd-a44f-43bb-ae1a-3089330ec659')\"\n",
              "              title=\"Convert this dataframe to an interactive table.\"\n",
              "              style=\"display:none;\">\n",
              "        \n",
              "  <svg xmlns=\"http://www.w3.org/2000/svg\" height=\"24px\"viewBox=\"0 0 24 24\"\n",
              "       width=\"24px\">\n",
              "    <path d=\"M0 0h24v24H0V0z\" fill=\"none\"/>\n",
              "    <path d=\"M18.56 5.44l.94 2.06.94-2.06 2.06-.94-2.06-.94-.94-2.06-.94 2.06-2.06.94zm-11 1L8.5 8.5l.94-2.06 2.06-.94-2.06-.94L8.5 2.5l-.94 2.06-2.06.94zm10 10l.94 2.06.94-2.06 2.06-.94-2.06-.94-.94-2.06-.94 2.06-2.06.94z\"/><path d=\"M17.41 7.96l-1.37-1.37c-.4-.4-.92-.59-1.43-.59-.52 0-1.04.2-1.43.59L10.3 9.45l-7.72 7.72c-.78.78-.78 2.05 0 2.83L4 21.41c.39.39.9.59 1.41.59.51 0 1.02-.2 1.41-.59l7.78-7.78 2.81-2.81c.8-.78.8-2.07 0-2.86zM5.41 20L4 18.59l7.72-7.72 1.47 1.35L5.41 20z\"/>\n",
              "  </svg>\n",
              "      </button>\n",
              "      \n",
              "  <style>\n",
              "    .colab-df-container {\n",
              "      display:flex;\n",
              "      flex-wrap:wrap;\n",
              "      gap: 12px;\n",
              "    }\n",
              "\n",
              "    .colab-df-convert {\n",
              "      background-color: #E8F0FE;\n",
              "      border: none;\n",
              "      border-radius: 50%;\n",
              "      cursor: pointer;\n",
              "      display: none;\n",
              "      fill: #1967D2;\n",
              "      height: 32px;\n",
              "      padding: 0 0 0 0;\n",
              "      width: 32px;\n",
              "    }\n",
              "\n",
              "    .colab-df-convert:hover {\n",
              "      background-color: #E2EBFA;\n",
              "      box-shadow: 0px 1px 2px rgba(60, 64, 67, 0.3), 0px 1px 3px 1px rgba(60, 64, 67, 0.15);\n",
              "      fill: #174EA6;\n",
              "    }\n",
              "\n",
              "    [theme=dark] .colab-df-convert {\n",
              "      background-color: #3B4455;\n",
              "      fill: #D2E3FC;\n",
              "    }\n",
              "\n",
              "    [theme=dark] .colab-df-convert:hover {\n",
              "      background-color: #434B5C;\n",
              "      box-shadow: 0px 1px 3px 1px rgba(0, 0, 0, 0.15);\n",
              "      filter: drop-shadow(0px 1px 2px rgba(0, 0, 0, 0.3));\n",
              "      fill: #FFFFFF;\n",
              "    }\n",
              "  </style>\n",
              "\n",
              "      <script>\n",
              "        const buttonEl =\n",
              "          document.querySelector('#df-364529dd-a44f-43bb-ae1a-3089330ec659 button.colab-df-convert');\n",
              "        buttonEl.style.display =\n",
              "          google.colab.kernel.accessAllowed ? 'block' : 'none';\n",
              "\n",
              "        async function convertToInteractive(key) {\n",
              "          const element = document.querySelector('#df-364529dd-a44f-43bb-ae1a-3089330ec659');\n",
              "          const dataTable =\n",
              "            await google.colab.kernel.invokeFunction('convertToInteractive',\n",
              "                                                     [key], {});\n",
              "          if (!dataTable) return;\n",
              "\n",
              "          const docLinkHtml = 'Like what you see? Visit the ' +\n",
              "            '<a target=\"_blank\" href=https://colab.research.google.com/notebooks/data_table.ipynb>data table notebook</a>'\n",
              "            + ' to learn more about interactive tables.';\n",
              "          element.innerHTML = '';\n",
              "          dataTable['output_type'] = 'display_data';\n",
              "          await google.colab.output.renderOutput(dataTable, element);\n",
              "          const docLink = document.createElement('div');\n",
              "          docLink.innerHTML = docLinkHtml;\n",
              "          element.appendChild(docLink);\n",
              "        }\n",
              "      </script>\n",
              "    </div>\n",
              "  </div>\n",
              "  "
            ]
          },
          "metadata": {},
          "execution_count": 65
        }
      ]
    },
    {
      "cell_type": "markdown",
      "metadata": {
        "id": "l-suuWxoskRW"
      },
      "source": [
        "## Dig In!\n",
        "\n",
        "Ok now how did it do that?\n",
        "\n",
        "You may find it helpful to have the [documentation for the MarianMT model in HuggingFace Transformers](https://huggingface.co/transformers/model_doc/marian.html#transformers.MarianMTModel.forward) open. But you can do all of this without referring to it."
      ]
    },
    {
      "cell_type": "markdown",
      "metadata": {
        "id": "ky84KWXGhcnj"
      },
      "source": [
        "First, let's look at the *loss* that the model gives. We'll compare the correct translation with an incorrect one:"
      ]
    },
    {
      "cell_type": "code",
      "metadata": {
        "colab": {
          "base_uri": "https://localhost:8080/"
        },
        "id": "U7c5J26Dt6jZ",
        "outputId": "b911d599-0970-46ca-c2c8-7b259aef49ec"
      },
      "source": [
        "with tokenizer.as_target_tokenizer():\n",
        "    wrong_target = \"I give them eternal death.\"\n",
        "    wrong_target_batch = tokenizer(wrong_target, return_tensors='pt', padding=True).to(device)\n",
        "wrong_target_batch"
      ],
      "execution_count": 11,
      "outputs": [
        {
          "output_type": "execute_result",
          "data": {
            "text/plain": [
              "{'input_ids': tensor([[   20,   685,   224, 16762,  1743,     3,     0]]), 'attention_mask': tensor([[1, 1, 1, 1, 1, 1, 1]])}"
            ]
          },
          "metadata": {},
          "execution_count": 11
        }
      ]
    },
    {
      "cell_type": "markdown",
      "metadata": {
        "id": "Vh9Px6rtRgDr"
      },
      "source": [
        "Let's **run a forward pass through the full model** (encoder and decoder) with the complete candidate translation. First, the correct translation:"
      ]
    },
    {
      "cell_type": "code",
      "metadata": {
        "colab": {
          "base_uri": "https://localhost:8080/"
        },
        "id": "gYaAPmpRSX5S",
        "outputId": "2bafd185-724c-4155-b232-1e422d43504e"
      },
      "source": [
        "with torch.no_grad():\n",
        "    model_outputs = model(\n",
        "        input_ids = spanish_batch.input_ids,\n",
        "        labels = english_batch.input_ids\n",
        "    )\n",
        "model_outputs.loss"
      ],
      "execution_count": 12,
      "outputs": [
        {
          "output_type": "execute_result",
          "data": {
            "text/plain": [
              "tensor(0.2088)"
            ]
          },
          "metadata": {},
          "execution_count": 12
        }
      ]
    },
    {
      "cell_type": "markdown",
      "metadata": {
        "id": "pWbjU4Z4h8Ju"
      },
      "source": [
        "Now (**your turn**) the incorrect translation:"
      ]
    },
    {
      "cell_type": "code",
      "metadata": {
        "colab": {
          "base_uri": "https://localhost:8080/"
        },
        "id": "2GRCRvyMW7u7",
        "outputId": "ca48ec81-cf87-49dd-cbc9-508e4e4ec99c"
      },
      "source": [
        "# your code here\n",
        "with torch.no_grad():\n",
        "    model_outputs = model(\n",
        "        input_ids = spanish_batch.input_ids,\n",
        "        labels = wrong_target_batch.input_ids\n",
        "    )\n",
        "model_outputs.loss"
      ],
      "execution_count": 13,
      "outputs": [
        {
          "output_type": "execute_result",
          "data": {
            "text/plain": [
              "tensor(1.3203)"
            ]
          },
          "metadata": {},
          "execution_count": 13
        }
      ]
    },
    {
      "cell_type": "markdown",
      "metadata": {
        "id": "HHyWeU3SiHdm"
      },
      "source": [
        "### The guts of the model\n",
        "\n",
        "I've ripped out all the plumbing code and things you only need in special situations to just show the guts of the model below. **Study this code carefully** with the help of the questions below it. **Add comments** to describe what each line does. Include, where applicable, the *shape* of the tensors involved."
      ]
    },
    {
      "cell_type": "code",
      "metadata": {
        "colab": {
          "base_uri": "https://localhost:8080/"
        },
        "id": "2U_cPjWunaTA",
        "outputId": "4db9d997-8078-4161-a1f1-2a339e8f40b3"
      },
      "source": [
        "encoder_input_ids = spanish_batch.input_ids\n",
        "target_ids = english_batch.input_ids\n",
        "decoder_input_ids = prepend_start_token(target_ids)\n",
        "\n",
        "with torch.no_grad():\n",
        "    encoder_outputs = encoder(input_ids = encoder_input_ids)\n",
        "    # (Aside: an alternative to the above)\n",
        "    # encoder_input_embeddings = encoder.embed_tokens(encoder_input_ids) * encoder.embed_scale\n",
        "    # encoder_outputs = encoder(inputs_embeds = encoder_input_embeddings)\n",
        "\n",
        "    decoder_outputs = decoder(\n",
        "        input_ids = decoder_input_ids,\n",
        "        encoder_hidden_states = encoder_outputs.last_hidden_state\n",
        "    )\n",
        "\n",
        "    output_embedding = decoder_outputs.last_hidden_state\n",
        "    token_embeddings = model.lm_head.weight\n",
        "    logits = output_embedding @ token_embeddings.t()\n",
        "    logits += model.final_logits_bias\n",
        "\n",
        "    # ignore the batch dimension.\n",
        "    logits = logits[0]\n",
        "\n",
        "nlls_of_correct_tokens = F.cross_entropy(logits, target_ids[0], reduction='none')\n",
        "nlls_of_correct_tokens.mean()"
      ],
      "execution_count": 14,
      "outputs": [
        {
          "output_type": "execute_result",
          "data": {
            "text/plain": [
              "tensor(0.2088)"
            ]
          },
          "metadata": {},
          "execution_count": 14
        }
      ]
    },
    {
      "cell_type": "markdown",
      "metadata": {
        "id": "4b6mUhLkier6"
      },
      "source": [
        "**Explain `logits.shape`**."
      ]
    },
    {
      "cell_type": "code",
      "metadata": {
        "colab": {
          "base_uri": "https://localhost:8080/"
        },
        "id": "CrqgcDuvZXig",
        "outputId": "0c085f29-33fd-46a1-9aa3-f4f0a1a735dd"
      },
      "source": [
        "logits.shape"
      ],
      "execution_count": 15,
      "outputs": [
        {
          "output_type": "execute_result",
          "data": {
            "text/plain": [
              "torch.Size([7, 65001])"
            ]
          },
          "metadata": {},
          "execution_count": 15
        }
      ]
    },
    {
      "cell_type": "markdown",
      "metadata": {
        "id": "4AJavHl0ik-D"
      },
      "source": [
        "*your narrative answer here*\n"
      ]
    },
    {
      "cell_type": "code",
      "metadata": {
        "colab": {
          "base_uri": "https://localhost:8080/"
        },
        "id": "F7lk2zRdZapr",
        "outputId": "88002490-9be6-4d82-e53c-8874c5f571f4"
      },
      "source": [
        "tokenizer.convert_ids_to_tokens(logits.argmax(dim=1))"
      ],
      "execution_count": 16,
      "outputs": [
        {
          "output_type": "execute_result",
          "data": {
            "text/plain": [
              "['▁I', '▁give', '▁them', '▁eternal', '▁life', '.', '</s>']"
            ]
          },
          "metadata": {},
          "execution_count": 16
        }
      ]
    },
    {
      "cell_type": "code",
      "metadata": {
        "colab": {
          "base_uri": "https://localhost:8080/"
        },
        "id": "kpcAYSzWaPKw",
        "outputId": "a27a51ce-511f-4cb7-d319-42443b627539"
      },
      "source": [
        "tokenizer.convert_ids_to_tokens(target_ids[0])"
      ],
      "execution_count": 17,
      "outputs": [
        {
          "output_type": "execute_result",
          "data": {
            "text/plain": [
              "['▁I', '▁give', '▁them', '▁eternal', '▁life', '.', '</s>']"
            ]
          },
          "metadata": {},
          "execution_count": 17
        }
      ]
    },
    {
      "cell_type": "markdown",
      "metadata": {
        "id": "kPojgCC_Y4w6"
      },
      "source": [
        "**What tensor contains all of the information from the Spanish sentence that is used to generate the English sentence? Explain each element of the shape of that tensor.**\n",
        "\n",
        "(The leading \"1\" is the batch dimension; you can ignore this unless you're translating multiple sentence simultaneously.)"
      ]
    },
    {
      "cell_type": "markdown",
      "metadata": {
        "id": "D7POLGH8Ni_a"
      },
      "source": [
        "**What is the \"shape\" of this model?** Specifically:\n",
        "\n",
        "1. What is the dimensionality of the hidden vectors it uses to represent everything? (How does this relate to the dimensionality of the token embeddings?)\n",
        "2. How many internal layers does the model have?"
      ]
    },
    {
      "cell_type": "code",
      "metadata": {
        "colab": {
          "base_uri": "https://localhost:8080/"
        },
        "id": "h3pIYTlgWXjy",
        "outputId": "d1d2ed3a-d7e2-4f37-a902-c2929c2a06f7"
      },
      "source": [
        "encoder_outputs.last_hidden_state.shape"
      ],
      "execution_count": 18,
      "outputs": [
        {
          "output_type": "execute_result",
          "data": {
            "text/plain": [
              "torch.Size([1, 8, 512])"
            ]
          },
          "metadata": {},
          "execution_count": 18
        }
      ]
    },
    {
      "cell_type": "code",
      "metadata": {
        "colab": {
          "base_uri": "https://localhost:8080/"
        },
        "id": "NAL9E2RVvY3f",
        "outputId": "bf4c9f0e-4e65-4924-84a7-d1504df25b91"
      },
      "source": [
        "model.config.num_hidden_layers"
      ],
      "execution_count": 19,
      "outputs": [
        {
          "output_type": "execute_result",
          "data": {
            "text/plain": [
              "6"
            ]
          },
          "metadata": {},
          "execution_count": 19
        }
      ]
    },
    {
      "cell_type": "markdown",
      "metadata": {
        "id": "JoQm5WSMvd6a"
      },
      "source": [
        "## Visualize attentions\n",
        "\n",
        "Read these as: the row token looks at the column token.\n",
        "\n",
        "There are actually 8 attention heads for each of the 6 layers, so to visualize simply, we take the mean over the attention weights (which are all positive)."
      ]
    },
    {
      "cell_type": "code",
      "metadata": {
        "colab": {
          "base_uri": "https://localhost:8080/"
        },
        "id": "YtC2auFF-bVr",
        "outputId": "21f1ee4e-954e-4389-eb3a-1d5d9d8f0c02"
      },
      "source": [
        "decoder_outputs.cross_attentions[0].shape"
      ],
      "execution_count": 20,
      "outputs": [
        {
          "output_type": "execute_result",
          "data": {
            "text/plain": [
              "torch.Size([1, 8, 7, 8])"
            ]
          },
          "metadata": {},
          "execution_count": 20
        }
      ]
    },
    {
      "cell_type": "code",
      "metadata": {
        "colab": {
          "base_uri": "https://localhost:8080/",
          "height": 281
        },
        "id": "OXXjXCbGvTd7",
        "outputId": "a2a94beb-02a3-4adc-fa4d-4865004d5622"
      },
      "source": [
        "layer = 1\n",
        "plt.pcolormesh(decoder_outputs.cross_attentions[layer][0].mean(dim=0).cpu().numpy())\n",
        "plt.title(f\"Cross-Attention Weights for layer {layer} (avg over all {model.config.num_attention_heads} heads)\")\n",
        "plt.xticks(torch.arange(8)+.5, tokenizer.convert_ids_to_tokens(encoder_input_ids[0]))\n",
        "plt.yticks(torch.arange(7)+.5, tokenizer.convert_ids_to_tokens(decoder_input_ids[0]))\n",
        "plt.colorbar();"
      ],
      "execution_count": 21,
      "outputs": [
        {
          "output_type": "display_data",
          "data": {
            "text/plain": [
              "<Figure size 432x288 with 2 Axes>"
            ],
            "image/png": "[encoded data removed]"
          },
          "metadata": {
            "needs_background": "light"
          }
        }
      ]
    },
    {
      "cell_type": "code",
      "metadata": {
        "colab": {
          "base_uri": "https://localhost:8080/",
          "height": 281
        },
        "id": "QISHPryfjGLP",
        "outputId": "3eabca9f-18dc-4227-b888-b2ae70fcfe1d"
      },
      "source": [
        "layer = -1\n",
        "plt.pcolormesh(encoder_outputs.attentions[layer][0].mean(dim=0).cpu().numpy())\n",
        "plt.title(f\"Encoder Self-Attention Weights for layer {layer} (avg over all {model.config.num_attention_heads} heads)\")\n",
        "plt.xticks(torch.arange(8)+.5, tokenizer.convert_ids_to_tokens(encoder_input_ids[0]))\n",
        "plt.yticks(torch.arange(8)+.5, tokenizer.convert_ids_to_tokens(encoder_input_ids[0]))\n",
        "plt.colorbar();"
      ],
      "execution_count": 22,
      "outputs": [
        {
          "output_type": "display_data",
          "data": {
            "text/plain": [
              "<Figure size 432x288 with 2 Axes>"
            ],
            "image/png": "[encoded data removed]"
          },
          "metadata": {
            "needs_background": "light"
          }
        }
      ]
    },
    {
      "cell_type": "code",
      "metadata": {
        "colab": {
          "base_uri": "https://localhost:8080/",
          "height": 281
        },
        "id": "K3Vgm5LDH3z7",
        "outputId": "a3a96f93-45dc-46c1-b7e6-dab6b9bb19ec"
      },
      "source": [
        "layer = 0\n",
        "plt.pcolormesh(decoder_outputs.attentions[layer][0].mean(dim=0).cpu().numpy())\n",
        "plt.title(f\"Decoder Self-Attention Weights for layer {layer} (avg over all {model.config.num_attention_heads} heads)\")\n",
        "plt.xticks(torch.arange(7)+.5, tokenizer.convert_ids_to_tokens(decoder_input_ids[0]))\n",
        "plt.yticks(torch.arange(7)+.5, tokenizer.convert_ids_to_tokens(decoder_input_ids[0]))\n",
        "plt.colorbar();"
      ],
      "execution_count": 23,
      "outputs": [
        {
          "output_type": "display_data",
          "data": {
            "text/plain": [
              "<Figure size 432x288 with 2 Axes>"
            ],
            "image/png": "[encoded data removed]"
          },
          "metadata": {
            "needs_background": "light"
          }
        }
      ]
    },
    {
      "cell_type": "markdown",
      "metadata": {
        "id": "feICCpckNMyE"
      },
      "source": [
        "## Similarity\n",
        "\n",
        "Notice that the last step of the model is a dot product with all the token embeddings. Recall that a dot product is a measure of similarity. Let's look at similarity in embedding space."
      ]
    },
    {
      "cell_type": "code",
      "metadata": {
        "id": "7Gm31JRPPGnb"
      },
      "source": [
        "normalized_token_embeddings = token_embeddings / token_embeddings.norm(p=2, dim=1, keepdim=True)"
      ],
      "execution_count": 24,
      "outputs": []
    },
    {
      "cell_type": "code",
      "metadata": {
        "colab": {
          "base_uri": "https://localhost:8080/"
        },
        "id": "sjLZvKHRNMqY",
        "outputId": "0518ea51-79d9-4440-c3d6-a27a57e425d7"
      },
      "source": [
        "query_word = \"London\"\n",
        "with tokenizer.as_target_tokenizer():\n",
        "    query_ids = tokenizer.encode(query_word, add_special_tokens=False)\n",
        "print(query_ids)\n",
        "query = token_embeddings[query_ids].mean(dim=0)\n",
        "similarities = query @ normalized_token_embeddings.t()\n",
        "most_similar_indices = similarities.topk(50).indices\n",
        "tokenizer.convert_ids_to_tokens(most_similar_indices)"
      ],
      "execution_count": 25,
      "outputs": [
        {
          "output_type": "stream",
          "name": "stdout",
          "text": [
            "[5226]\n"
          ]
        },
        {
          "output_type": "execute_result",
          "data": {
            "text/plain": [
              "['<pad>',\n",
              " '▁London',\n",
              " '▁Moscow',\n",
              " '▁Cambridge',\n",
              " '▁Kingston',\n",
              " '▁Bremen',\n",
              " '▁Windsor',\n",
              " '▁Philadelphia',\n",
              " '▁Melbourne',\n",
              " '▁Baltimore',\n",
              " '▁Bristol',\n",
              " '▁Cleveland',\n",
              " '▁Houston',\n",
              " '▁Belfast',\n",
              " '▁Denver',\n",
              " '▁Baghdad',\n",
              " '▁Liverpool',\n",
              " '▁Oregon',\n",
              " '▁England',\n",
              " '▁Edinburgh',\n",
              " '▁Tripoli',\n",
              " '▁Missouri',\n",
              " '▁Flanders',\n",
              " '▁Mumbai',\n",
              " '▁Churchill',\n",
              " '▁Istanbul',\n",
              " '▁Bermuda',\n",
              " '▁Barcelona',\n",
              " '▁Kentucky',\n",
              " '▁Detroit',\n",
              " '▁Honda',\n",
              " '▁Lorraine',\n",
              " '▁Tibet',\n",
              " '▁Brussels',\n",
              " '▁Lusaka',\n",
              " '▁Honduran',\n",
              " '▁Madison',\n",
              " '▁Bordeaux',\n",
              " '▁Mormon',\n",
              " '▁Maryland',\n",
              " '▁Alabama',\n",
              " '▁Damascus',\n",
              " '▁Tibetan',\n",
              " '▁Versailles',\n",
              " '▁Iowa',\n",
              " '▁Orleans',\n",
              " '▁Burgundy',\n",
              " '▁Naples',\n",
              " '▁Murcia',\n",
              " '▁Glasgow']"
            ]
          },
          "metadata": {},
          "execution_count": 25
        }
      ]
    },
    {
      "cell_type": "markdown",
      "metadata": {
        "id": "nwmyxQSWS23W"
      },
      "source": [
        "**Your turn**: now, take query vectors from the `output_embeddings` that were calculated above and find the most similar token embeddings.\n",
        "\n",
        "Compare the results with the translation output you saw from the model earlier."
      ]
    },
    {
      "cell_type": "code",
      "metadata": {
        "colab": {
          "base_uri": "https://localhost:8080/"
        },
        "id": "vU1LuB7LSnWx",
        "outputId": "4b712d7f-1971-4895-882b-bf99fb1b7d68"
      },
      "source": [
        "# your code here\n",
        "query = output_embedding[0, 2]\n",
        "similarities = query @ token_embeddings.t()\n",
        "most_similar_indices = similarities.topk(50).indices\n",
        "tokenizer.convert_ids_to_tokens(most_similar_indices)"
      ],
      "execution_count": 26,
      "outputs": [
        {
          "output_type": "execute_result",
          "data": {
            "text/plain": [
              "['▁them',\n",
              " '▁you',\n",
              " '▁eternal',\n",
              " \"▁'\",\n",
              " '▁to',\n",
              " '▁everlasting',\n",
              " '▁it',\n",
              " '▁the',\n",
              " \"'\",\n",
              " ',',\n",
              " '▁these',\n",
              " '▁unto',\n",
              " '▁[',\n",
              " '▁him',\n",
              " '▁forever',\n",
              " '▁all',\n",
              " '▁that',\n",
              " '▁their',\n",
              " '▁those',\n",
              " '▁up',\n",
              " '▁life',\n",
              " '▁they',\n",
              " '▁for',\n",
              " '▁y',\n",
              " '▁You',\n",
              " '▁ye',\n",
              " '▁out',\n",
              " '▁Oh',\n",
              " '▁I',\n",
              " '▁your',\n",
              " '▁an',\n",
              " '▁people',\n",
              " '▁-',\n",
              " '▁eternity',\n",
              " '▁\"',\n",
              " '▁(',\n",
              " '▁YOU',\n",
              " '▁such',\n",
              " '▁her',\n",
              " '▁birth',\n",
              " '▁us',\n",
              " '▁perpetual',\n",
              " '▁forth',\n",
              " '▁of',\n",
              " '▁this',\n",
              " '▁a',\n",
              " '▁lasting',\n",
              " '▁Eternal',\n",
              " '▁lifelong',\n",
              " '▁Him']"
            ]
          },
          "metadata": {},
          "execution_count": 26
        }
      ]
    },
    {
      "cell_type": "markdown",
      "metadata": {
        "id": "Na17o8LBNMi1"
      },
      "source": [
        "## The Logit Lens (optional)\n",
        "\n",
        "This is an exploration inspired by [this article](https://www.lesswrong.com/posts/AcKRB8wDpdaN6v6ru/interpreting-gpt-the-logit-lens). Intuition: the Transformer iteratively refines a guess."
      ]
    },
    {
      "cell_type": "code",
      "metadata": {
        "id": "c5Fe4bPBonSp"
      },
      "source": [
        "# http://stephantul.github.io/python/pytorch/2020/09/18/fast_topk/\n",
        "def get_ranks(values, indices):\n",
        "    targets = values[range(len(values)), indices]\n",
        "    return (values > targets[:, None]).long().sum(dim=1)"
      ],
      "execution_count": 27,
      "outputs": []
    },
    {
      "cell_type": "code",
      "metadata": {
        "colab": {
          "base_uri": "https://localhost:8080/"
        },
        "id": "GllA5Shlk6AC",
        "outputId": "bdf0cdc1-b91a-4b3e-ac18-c4a18b08c819"
      },
      "source": [
        "ranks = []\n",
        "print(tokenizer.convert_ids_to_tokens(decoder_input_ids[0]))\n",
        "for hidden in decoder_outputs.hidden_states[1:]:\n",
        "    x = model.lm_head(hidden)[0]\n",
        "    print(tokenizer.convert_ids_to_tokens(x.argmax(dim=1)))\n",
        "    ranks.append(get_ranks(x, target_ids[0]))\n",
        "torch.stack(ranks[::-1])\n"
      ],
      "execution_count": 28,
      "outputs": [
        {
          "output_type": "stream",
          "name": "stdout",
          "text": [
            "['<pad>', '▁I', '▁give', '▁them', '▁eternal', '▁life', '.']\n",
            "['▁prevailed', 'oping', '▁give', '▁them', '▁MR', '▁life', 'dog']\n",
            "['▁foi', 'quarter', '▁give', '▁themselves', '▁Basket', '▁life', 'com']\n",
            "['▁foi', \"'\", '▁them', '▁a', 'ly', '▁-', '▁It']\n",
            "['▁foi', \"'\", '▁them', '▁all', 'ly', ',', '▁[']\n",
            "['▁\"', \"'\", '▁them', '▁life', '▁life', ',', '▁[']\n",
            "['▁I', '▁give', '▁them', '▁eternal', '▁life', ',', '▁-']\n"
          ]
        },
        {
          "output_type": "execute_result",
          "data": {
            "text/plain": [
              "tensor([[    0,     0,     0,     0,     0,     3,    10],\n",
              "        [    4,     1,     0,    17,     0,   131,    48],\n",
              "        [  123,   197,     0, 15263,     3, 12010,   613],\n",
              "        [ 1519,  1556,     0, 21065,    60, 22421,  2793],\n",
              "        [ 9279, 15847,     4, 12473,   109, 21495,  9482],\n",
              "        [40330,  5603,  6987, 18888, 12455, 26906, 25097]])"
            ]
          },
          "metadata": {},
          "execution_count": 28
        }
      ]
    },
    {
      "cell_type": "code",
      "metadata": {
        "id": "wpORbu30m6Nx"
      },
      "source": [
        ""
      ],
      "execution_count": null,
      "outputs": []
    }
  ]
}