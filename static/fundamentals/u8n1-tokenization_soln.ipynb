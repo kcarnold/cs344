{
  "cells": [
    {
      "cell_type": "markdown",
      "metadata": {
        "id": "3jc8Qlh1TEgC"
      },
      "source": [
        "# Tokenization\n",
        "\n",
        "Task: Convert text to numbers; interpret subword tokenization.\n",
        "\n",
        "There are various different ways of converting text to numbers. This assignment works with one popular approach: assign numbers to parts of words."
      ]
    },
    {
      "cell_type": "markdown",
      "metadata": {
        "id": "f8_8RWp3TX-8"
      },
      "source": [
        "## Setup"
      ]
    },
    {
      "cell_type": "markdown",
      "metadata": {
        "id": "aUvTIxyWTdBF"
      },
      "source": [
        "We'll be using the HuggingFace Transformers library, which provides a (mostly) consistent interface to many different language models. We'll focus on the OpenAI GPT-2 model, famous for OpenAI's assertion that it was \"too dangerous\" to release in full.\n",
        "\n",
        "[Documentation](https://huggingface.co/transformers/model_doc/gpt2.html) for the model and tokenizer."
      ]
    },
    {
      "cell_type": "code",
      "execution_count": 1,
      "metadata": {
        "colab": {
          "base_uri": "https://localhost:8080/"
        },
        "id": "vWy--2nwhWPy",
        "outputId": "44b8e674-7e8b-4cf6-a1e9-1f8d62740382"
      },
      "outputs": [],
      "source": [
        "!pip install -q transformers"
      ]
    },
    {
      "cell_type": "code",
      "execution_count": 2,
      "metadata": {
        "id": "osKgPaDwhaN4"
      },
      "outputs": [],
      "source": [
        "import torch\n",
        "from torch import tensor"
      ]
    },
    {
      "cell_type": "markdown",
      "metadata": {
        "id": "UiNKbIh8hyDg"
      },
      "source": [
        "### Download and load the model"
      ]
    },
    {
      "cell_type": "code",
      "execution_count": 3,
      "metadata": {
        "id": "IM5o_4w1hfyV"
      },
      "outputs": [],
      "source": [
        "from transformers import AutoTokenizer, AutoModelForCausalLM\n",
        "tokenizer = AutoTokenizer.from_pretrained(\"distilgpt2\", add_prefix_space=True) # smaller version of GPT-2\n",
        "# Alternative to add_prefix_space is to use `is_split_into_words=True`\n",
        "# add the EOS token as PAD token to avoid warnings\n",
        "model = AutoModelForCausalLM.from_pretrained(\"distilgpt2\", pad_token_id=tokenizer.eos_token_id)"
      ]
    },
    {
      "cell_type": "code",
      "execution_count": 4,
      "metadata": {
        "colab": {
          "base_uri": "https://localhost:8080/"
        },
        "id": "m-Z9_U0LUEVQ",
        "outputId": "1d639faf-5b56-4bb2-81e5-054ee086ef0a"
      },
      "outputs": [
        {
          "name": "stdout",
          "output_type": "stream",
          "text": [
            "The tokenizer has 50257 strings in its vocabulary.\n",
            "The model has 81,912,576 parameters.\n"
          ]
        }
      ],
      "source": [
        "print(f\"The tokenizer has {len(tokenizer.get_vocab())} strings in its vocabulary.\")\n",
        "print(f\"The model has {model.num_parameters():,d} parameters.\")"
      ]
    },
    {
      "cell_type": "markdown",
      "metadata": {
        "id": "OOUiz_PsUZgS"
      },
      "source": [
        "## Task\n",
        "\n",
        "Consider the following phrase:"
      ]
    },
    {
      "cell_type": "code",
      "execution_count": 5,
      "metadata": {
        "id": "JS7Z-DjoUiLK"
      },
      "outputs": [],
      "source": [
        "phrase = \"I visited Muskegon\"\n",
        "# Another one to try later. This was a famous early example of the GPT-2 model:\n",
        "# phrase = \"In a shocking finding, scientists discovered a herd of unicorns living in\""
      ]
    },
    {
      "cell_type": "markdown",
      "metadata": {},
      "source": [
        "### Getting familiar with tokens\n",
        "\n",
        "1: Use `tokenizer.tokenize` to convert the phrase into a list of tokens. (What do you think the `Ġ` means?)"
      ]
    },
    {
      "cell_type": "code",
      "execution_count": 6,
      "metadata": {
        "colab": {
          "base_uri": "https://localhost:8080/"
        },
        "id": "hyq-5XWSUx_8",
        "outputId": "22efb7a8-37c5-46f0-e230-c3b8e5ad6bdc"
      },
      "outputs": [
        {
          "data": {
            "text/plain": [
              "['ĠI', 'Ġvisited', 'ĠMus', 'ke', 'gon']"
            ]
          },
          "execution_count": 6,
          "metadata": {},
          "output_type": "execute_result"
        }
      ],
      "source": [
        "# your code here\n",
        "tokens = tokenizer.tokenize(phrase)\n",
        "tokens\n"
      ]
    },
    {
      "cell_type": "markdown",
      "metadata": {},
      "source": [
        "2: Use `tokenizer.convert_tokens_to_string` to convert the tokens back into a string.\n"
      ]
    },
    {
      "cell_type": "code",
      "execution_count": 7,
      "metadata": {},
      "outputs": [
        {
          "data": {
            "text/plain": [
              "' I visited Muskegon'"
            ]
          },
          "execution_count": 7,
          "metadata": {},
          "output_type": "execute_result"
        }
      ],
      "source": [
        "# your code here\n",
        "tokenizer.convert_tokens_to_string(tokens)"
      ]
    },
    {
      "cell_type": "markdown",
      "metadata": {},
      "source": [
        "3: Use `tokenizer.encode` to convert the original phrase into token ids. (*Note: this is equivalent to `tokenize` followed by `convert_tokens_to_ids`*.) Call the result `input_ids`.\n"
      ]
    },
    {
      "cell_type": "code",
      "execution_count": 8,
      "metadata": {
        "colab": {
          "base_uri": "https://localhost:8080/"
        },
        "id": "GkaoLSFMiHzb",
        "outputId": "18c6391e-a9aa-4d4c-dace-d49f8bbcba7a"
      },
      "outputs": [
        {
          "data": {
            "text/plain": [
              "[314, 8672, 2629, 365, 14520]"
            ]
          },
          "execution_count": 8,
          "metadata": {},
          "output_type": "execute_result"
        }
      ],
      "source": [
        "# your code here\n",
        "input_ids = tokenizer.encode(phrase)\n",
        "input_ids"
      ]
    },
    {
      "cell_type": "markdown",
      "metadata": {},
      "source": [
        "4: Turn `input_ids` back into a readable string. Try this two ways: (1) using `convert_ids_to_tokens` and (2) using `tokenizer.decode`."
      ]
    },
    {
      "cell_type": "code",
      "execution_count": 9,
      "metadata": {},
      "outputs": [
        {
          "data": {
            "text/plain": [
              "' I visited Muskegon'"
            ]
          },
          "execution_count": 9,
          "metadata": {},
          "output_type": "execute_result"
        }
      ],
      "source": [
        "# using convert_ids_to_tokens\n",
        "# your code here\n",
        "tokenizer.convert_tokens_to_string(tokenizer.convert_ids_to_tokens(input_ids))"
      ]
    },
    {
      "cell_type": "code",
      "execution_count": 10,
      "metadata": {
        "colab": {
          "base_uri": "https://localhost:8080/",
          "height": 36
        },
        "id": "ncSRaBaZix8R",
        "outputId": "204670f9-d7c4-4856-c804-a038b77ccd1c"
      },
      "outputs": [
        {
          "data": {
            "text/plain": [
              "' I visited Muskegon'"
            ]
          },
          "execution_count": 10,
          "metadata": {},
          "output_type": "execute_result"
        }
      ],
      "source": [
        "# your code here\n",
        "tokenizer.decode(input_ids)"
      ]
    },
    {
      "cell_type": "markdown",
      "metadata": {},
      "source": [
        "### Applying what you learned\n",
        "\n",
        "5: Use `model.generate(tensor([input_ids]))` to generate a completion of this phrase. (Note that we needed to add `[]`s to give a \"batch\" dimension to the input.) Call the result `output_ids`.\n"
      ]
    },
    {
      "cell_type": "code",
      "execution_count": 11,
      "metadata": {
        "colab": {
          "base_uri": "https://localhost:8080/"
        },
        "id": "5PZm3eIjjKCJ",
        "outputId": "1c4b1a63-de00-44f9-eee7-85714012dbc6"
      },
      "outputs": [
        {
          "data": {
            "text/plain": [
              "tensor([[  314,  8672,  2629,   365, 14520,    11,   290,   314,   373,  6655,\n",
              "           284,  1064,   326,   262,  1748,   550,   407,   587,  1498,   284]])"
            ]
          },
          "execution_count": 11,
          "metadata": {},
          "output_type": "execute_result"
        }
      ],
      "source": [
        "# your code here\n",
        "output_ids = model.generate(tensor([input_ids]))\n",
        "output_ids"
      ]
    },
    {
      "cell_type": "markdown",
      "metadata": {},
      "source": [
        "6: Convert your `output_ids` into a readable form. (Note: it has an extra \"batch\" dimension, so you'll need to use `output_ids[0]`.)"
      ]
    },
    {
      "cell_type": "code",
      "execution_count": 12,
      "metadata": {
        "colab": {
          "base_uri": "https://localhost:8080/",
          "height": 36
        },
        "id": "2kKJ8rvijVez",
        "outputId": "386df167-0e88-45f1-b1a0-01beab1f0bc8"
      },
      "outputs": [
        {
          "data": {
            "text/plain": [
              "' I visited Muskegon, and I was surprised to find that the city had not been able to'"
            ]
          },
          "execution_count": 12,
          "metadata": {},
          "output_type": "execute_result"
        }
      ],
      "source": [
        "# your code here\n",
        "tokenizer.decode(output_ids[0])"
      ]
    },
    {
      "cell_type": "markdown",
      "metadata": {},
      "source": [
        "Note: `generate` uses a greedy decoding by default, but it's highly customizable. We'll play more with it in later exercises. For now, if you want more interesting results, try:\n",
        "\n",
        "- Turn on `do_sample=True`. Run it a few times to see what it gives.\n",
        "- Set `top_k=5`. Or 50."
      ]
    },
    {
      "cell_type": "markdown",
      "metadata": {},
      "source": [
        "## Analysis"
      ]
    },
    {
      "cell_type": "markdown",
      "metadata": {},
      "source": [
        "Q1: Write a brief explanation of what a tokenizer does. Note that we worked with two parts of a tokenizer in this exercise (one that deals only with strings, and another that deals with numbers); make sure your explanation addresses both parts."
      ]
    },
    {
      "cell_type": "markdown",
      "metadata": {},
      "source": [
        "*your response here*"
      ]
    },
    {
      "cell_type": "markdown",
      "metadata": {},
      "source": [
        "Q2: What are the smallest and largest numbers you've seen in `input_ids`? How does this relate to the number of words in the tokenizer's vocabulary? (See the `print` statement just after loading the model.)"
      ]
    },
    {
      "cell_type": "markdown",
      "metadata": {},
      "source": [
        "*your response here*"
      ]
    },
    {
      "cell_type": "markdown",
      "metadata": {},
      "source": [
        "Q3: What do you think the `Ġ` means? (Hint: it replaces a single well-known character.)"
      ]
    },
    {
      "cell_type": "markdown",
      "metadata": {},
      "source": [
        "*your response here*"
      ]
    },
    {
      "cell_type": "markdown",
      "metadata": {},
      "source": [
        "Q4: Suppose you add some personal flair to your writing by adding some extra syllables to the end of some words. Explain what this tokenizer will do with your embellished writing."
      ]
    },
    {
      "cell_type": "markdown",
      "metadata": {},
      "source": [
        "*your response here*"
      ]
    }
  ],
  "metadata": {
    "colab": {
      "authorship_tag": "ABX9TyNS7mRS03a7VSFcbdUnYf/k",
      "collapsed_sections": [],
      "include_colab_link": true,
      "name": "012-tokenization.ipynb",
      "provenance": []
    },
    "kernelspec": {
      "display_name": "Python 3",
      "name": "python3"
    },
    "language_info": {
      "codemirror_mode": {
        "name": "ipython",
        "version": 3
      },
      "file_extension": ".py",
      "mimetype": "text/x-python",
      "name": "python",
      "nbconvert_exporter": "python",
      "pygments_lexer": "ipython3",
      "version": "3.9.9"
    }
  },
  "nbformat": 4,
  "nbformat_minor": 0
}
