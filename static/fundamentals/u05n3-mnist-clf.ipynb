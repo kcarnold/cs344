{
 "cells": [
  {
   "attachments": {},
   "cell_type": "markdown",
   "id": "96848edf",
   "metadata": {},
   "source": [
    "# Train Simple Image Classifier\n",
    "\n",
    "Task: Train a simple image classifier using logistic regression and cross-entropy loss"
   ]
  },
  {
   "cell_type": "markdown",
   "id": "900e7193",
   "metadata": {},
   "source": [
    "## Setup"
   ]
  },
  {
   "cell_type": "code",
   "execution_count": 1,
   "id": "abf51f02",
   "metadata": {},
   "outputs": [],
   "source": [
    "from fastai.vision.all import *\n",
    "from fastbook import *\n",
    "\n",
    "# Input tensors get tagged as `TensorImageBW`, and they keep that tag even after going through the model.\n",
    "# I'm not sure how you're supposed to drop that tag, but this works around a type dispatch error.\n",
    "TensorImageBW.register_func(F.cross_entropy, TensorImageBW, TensorCategory)\n",
    "\n",
    "import sys\n",
    "if sys.platform == \"darwin\":\n",
    "    # https://stackoverflow.com/a/64855500/69707\n",
    "    import os\n",
    "    os.environ['OMP_NUM_THREADS'] = '1'"
   ]
  },
  {
   "cell_type": "markdown",
   "id": "5717f1e8",
   "metadata": {},
   "source": [
    "Load up the MNIST dataset. It has 10 digits."
   ]
  },
  {
   "cell_type": "code",
   "execution_count": 2,
   "id": "9095b4ae",
   "metadata": {},
   "outputs": [
    {
     "data": {
      "text/plain": [
       "Path('/Users/ka37/.fastai/data/mnist_png')"
      ]
     },
     "execution_count": 2,
     "metadata": {},
     "output_type": "execute_result"
    }
   ],
   "source": [
    "path = untar_data(URLs.MNIST)\n",
    "path"
   ]
  },
  {
   "cell_type": "markdown",
   "id": "ba9a4ef8",
   "metadata": {},
   "source": [
    "Create a subset of the images, so we train faster. We do this by taking 500 random images of each digit."
   ]
  },
  {
   "cell_type": "code",
   "execution_count": 3,
   "id": "8392fed5",
   "metadata": {},
   "outputs": [],
   "source": [
    "set_seed(0)\n",
    "num_imgs_per_digit = 500\n",
    "items = L([\n",
    "    p\n",
    "    for split in ['training', 'testing']\n",
    "    for digit in range(10)\n",
    "    for p in (path/split/str(digit)).ls().shuffle()[:num_imgs_per_digit]\n",
    "])"
   ]
  },
  {
   "cell_type": "markdown",
   "id": "4899684d",
   "metadata": {},
   "source": [
    "Create the `dataloaders`. We need a slightly special `ImageBlock` because we want grayscale images."
   ]
  },
  {
   "cell_type": "code",
   "execution_count": 4,
   "id": "a850997e",
   "metadata": {},
   "outputs": [
    {
     "name": "stdout",
     "output_type": "stream",
     "text": [
      "5000 training images, 5000 validation images\n"
     ]
    }
   ],
   "source": [
    "block = DataBlock(\n",
    "    blocks=(ImageBlock(PILImageBW), CategoryBlock),\n",
    "    get_y = parent_label,\n",
    "    splitter=GrandparentSplitter(train_name='training', valid_name=\"testing\"),\n",
    ")\n",
    "dataloaders = block.dataloaders(items, bs=16)\n",
    "print(f\"{dataloaders.train.n} training images, {dataloaders.valid.n} validation images\")"
   ]
  },
  {
   "cell_type": "markdown",
   "id": "6e3944a3",
   "metadata": {},
   "source": [
    "Let's inspect a batch of data."
   ]
  },
  {
   "cell_type": "code",
   "execution_count": 5,
   "id": "ec5b8f40",
   "metadata": {},
   "outputs": [
    {
     "data": {
      "image/png": "[encoded data removed]",
      "text/plain": [
       "<Figure size 900x900 with 9 Axes>"
      ]
     },
     "metadata": {},
     "output_type": "display_data"
    }
   ],
   "source": [
    "dataloaders.train.show_batch()"
   ]
  },
  {
   "cell_type": "code",
   "execution_count": 6,
   "id": "8d3439f0",
   "metadata": {},
   "outputs": [
    {
     "name": "stdout",
     "output_type": "stream",
     "text": [
      "Available categories: ['0', '1', '2', '3', '4', '5', '6', '7', '8', '9']\n"
     ]
    }
   ],
   "source": [
    "print(f\"Available categories: {dataloaders.train.vocab}\")"
   ]
  },
  {
   "cell_type": "markdown",
   "id": "edee9e07",
   "metadata": {},
   "source": [
    "## Task\n",
    "\n"
   ]
  },
  {
   "cell_type": "markdown",
   "id": "ad47e197",
   "metadata": {},
   "source": [
    "Let's make a neural network to predict which digit was written, using the raw pixel values. We'll keep it at a *single* layer today, so this is actually just a fancy way of doing *logistic regression*. But it'll give us a chance to work with minibatches and loss functions."
   ]
  },
  {
   "cell_type": "markdown",
   "id": "addf7b5e",
   "metadata": {},
   "source": [
    "Step 1: Create a linear layer of the appropriate dimensionality.\n",
    "\n",
    "- Like we did in Homework 4, we'll flatten the images before giving them to the linear layer. They are 28 pixels square.\n",
    "- Unlike in Homework 4, we're trying to predict which of 10 digits. So think about the output dimensionality.\n",
    "- We'll turn `bias` off because it's redundant in this setting."
   ]
  },
  {
   "cell_type": "code",
   "execution_count": 7,
   "id": "ca205bd4",
   "metadata": {},
   "outputs": [],
   "source": [
    "linear_1 = nn.Linear(in_features=..., out_features=..., bias=False)\n",
    "model = nn.Sequential(\n",
    "    nn.Flatten(),\n",
    "    linear_1,\n",
    ")"
   ]
  },
  {
   "cell_type": "markdown",
   "id": "694ad101",
   "metadata": {},
   "source": [
    "We test out our model on one batch of data."
   ]
  },
  {
   "cell_type": "code",
   "execution_count": 8,
   "id": "69d16764",
   "metadata": {},
   "outputs": [
    {
     "data": {
      "text/plain": [
       "torch.Size([16, 1, 28, 28])"
      ]
     },
     "execution_count": 8,
     "metadata": {},
     "output_type": "execute_result"
    }
   ],
   "source": [
    "images, labels = dataloaders.train.one_batch()\n",
    "images = cast(images, Tensor) # work around a fastai quirk\n",
    "labels = cast(labels, Tensor)\n",
    "images.shape"
   ]
  },
  {
   "cell_type": "code",
   "execution_count": 9,
   "id": "07a0cbd1",
   "metadata": {},
   "outputs": [
    {
     "data": {
      "text/plain": [
       "torch.Size([16, 10])"
      ]
     },
     "execution_count": 9,
     "metadata": {},
     "output_type": "execute_result"
    }
   ],
   "source": [
    "logits = model(images)\n",
    "assert logits.shape == (16, 10)\n",
    "logits.shape"
   ]
  },
  {
   "cell_type": "markdown",
   "id": "31fdf1c1",
   "metadata": {},
   "source": [
    "Think about why `logits.shape` contains those two numbers. "
   ]
  },
  {
   "cell_type": "code",
   "execution_count": 10,
   "id": "dbfeb6ad",
   "metadata": {},
   "outputs": [
    {
     "data": {
      "text/plain": [
       "tensor([0, 9, 8, 6, 0, 6, 8, 3, 1, 6, 5, 0, 0, 7, 7, 9])"
      ]
     },
     "execution_count": 10,
     "metadata": {},
     "output_type": "execute_result"
    }
   ],
   "source": [
    "labels"
   ]
  },
  {
   "cell_type": "markdown",
   "id": "c9e61fdf",
   "metadata": {},
   "source": [
    "Now let's compute the cross-entropy loss. We'll use [`F.cross_entropy`](https://pytorch.org/docs/stable/generated/torch.nn.functional.cross_entropy.html#torch.nn.functional.cross_entropy) from PyTorch, which has the following basic signature (simplified somewhat from the official docs):\n",
    "\n",
    "```python\n",
    "F.cross_entropy(\n",
    "  logits: Tensor[Batch, Categories], # the unnormalized scores of each class, for each item in the batch\n",
    "  target: TensorCategory[Batch],     # the correct label index (an int) for each item in the class\n",
    "  reduction: str = 'mean'            # whether to return a single number for the average loss across the batch ('mean') or not ('none')\n",
    "  label_smoothing: float = 0.0       # how much label smoothing to apply (none by default)\n",
    ")\n",
    "```"
   ]
  },
  {
   "cell_type": "markdown",
   "id": "96f96448",
   "metadata": {},
   "source": [
    "Let's try it on our logits and labels for this batch. (I'm unsure why it's still a `TensorCategory`, it should just be a normal `Tensor`.)"
   ]
  },
  {
   "cell_type": "code",
   "execution_count": 11,
   "id": "dd41ab3c",
   "metadata": {},
   "outputs": [
    {
     "data": {
      "text/plain": [
       "tensor([2.0180, 2.3951, 2.3039, 2.3982, 2.2578, 2.4168, 2.3230, 2.6104, 2.3172, 2.4635, 2.2687, 2.5000, 2.4471, 2.2569, 2.2255, 2.2964], grad_fn=<NllLossBackward0>)"
      ]
     },
     "execution_count": 11,
     "metadata": {},
     "output_type": "execute_result"
    }
   ],
   "source": [
    "loss = F.cross_entropy(logits, labels, reduction='none')\n",
    "loss"
   ]
  },
  {
   "cell_type": "code",
   "execution_count": 12,
   "id": "9be673ad",
   "metadata": {},
   "outputs": [
    {
     "data": {
      "text/plain": [
       "tensor(2.3437, grad_fn=<MeanBackward0>)"
      ]
     },
     "execution_count": 12,
     "metadata": {},
     "output_type": "execute_result"
    }
   ],
   "source": [
    "loss.mean()"
   ]
  },
  {
   "cell_type": "markdown",
   "id": "35a7c27f",
   "metadata": {},
   "source": [
    "We can use `argmax` to ask *which* category got the highest probability for each label. This will be useful for compting a *metric* like accuracy."
   ]
  },
  {
   "cell_type": "code",
   "execution_count": 13,
   "id": "3fee3a27",
   "metadata": {},
   "outputs": [
    {
     "name": "stdout",
     "output_type": "stream",
     "text": [
      "torch.Size([16])\n"
     ]
    },
    {
     "data": {
      "text/plain": [
       "tensor([4, 8, 1, 5, 1, 0, 9, 1, 5, 1, 4, 4, 2, 2, 1, 2])"
      ]
     },
     "execution_count": 13,
     "metadata": {},
     "output_type": "execute_result"
    }
   ],
   "source": [
    "predictions = logits.argmax(dim=1)\n",
    "print(predictions.shape)\n",
    "predictions"
   ]
  },
  {
   "attachments": {},
   "cell_type": "markdown",
   "id": "b2a72c32",
   "metadata": {},
   "source": [
    "Now, fill in the blanks in the code below to train the model. **Make sure you understand what each line is doing.**"
   ]
  },
  {
   "cell_type": "code",
   "execution_count": 14,
   "id": "429d4708",
   "metadata": {},
   "outputs": [
    {
     "name": "stdout",
     "output_type": "stream",
     "text": [
      "Epoch  0: loss=1.44, train accuracy 3552/4992\n",
      "Epoch  1: loss=1.14, train accuracy 4204/4992\n",
      "Epoch  2: loss=0.98, train accuracy 4301/4992\n",
      "Epoch  3: loss=0.88, train accuracy 4355/4992\n",
      "Epoch  4: loss=0.81, train accuracy 4394/4992\n",
      "Epoch  5: loss=0.76, train accuracy 4419/4992\n",
      "Epoch  6: loss=0.72, train accuracy 4434/4992\n",
      "Epoch  7: loss=0.68, train accuracy 4452/4992\n",
      "Epoch  8: loss=0.66, train accuracy 4474/4992\n",
      "Epoch  9: loss=0.63, train accuracy 4494/4992\n"
     ]
    },
    {
     "data": {
      "image/png": "[encoded data removed]",
      "text/plain": [
       "<Figure size 640x480 with 1 Axes>"
      ]
     },
     "metadata": {},
     "output_type": "display_data"
    }
   ],
   "source": [
    "num_epochs = 10\n",
    "learning_rate = .01\n",
    "losses = []\n",
    "\n",
    "# Re-initialize the parameters of the model, so training restarts when this block starts.\n",
    "linear_1.reset_parameters()\n",
    "\n",
    "for epoch in range(num_epochs):\n",
    "    # Keep track of some things for each epoch.\n",
    "    total_images = 0\n",
    "    total_correct = 0\n",
    "\n",
    "    # Loop over the training data in batches.\n",
    "    for images, labels in dataloaders.train:\n",
    "        images = cast(images, Tensor) # work around a quirk in fastai, ignore this\n",
    "        labels = cast(labels, Tensor)\n",
    "        \n",
    "        logits = ...\n",
    "        loss = ...\n",
    "\n",
    "        # take an SGD step.\n",
    "        loss.backward()\n",
    "        for parameter in model.parameters():\n",
    "            parameter.data -= learning_rate * parameter.grad\n",
    "        model.zero_grad()\n",
    "\n",
    "        # Track metrics\n",
    "        predictions = logits.argmax(axis=1)\n",
    "        num_accurate = (predictions == labels).sum()\n",
    "        total_images += len(labels)\n",
    "        total_correct += num_accurate\n",
    "\n",
    "        # Track losses.\n",
    "        # The .item method converts a 1-element tensor to a Python number.\n",
    "        losses.append(loss.item())\n",
    "\n",
    "    # Epoch done, print some stats.\n",
    "    avg_loss_this_epoch = np.mean(losses[-total_images:])\n",
    "    print(f\"Epoch {epoch:2d}: loss={avg_loss_this_epoch:.2f}, train accuracy {total_correct:3d}/{total_images}\")\n",
    "\n",
    "# Plot the un-smoothed loss\n",
    "#plt.plot(losses)\n",
    "# Plot a smoothed version of the loss (easier to see the trend)\n",
    "pd.Series(losses).ewm(alpha = .1).mean().plot()\n",
    "plt.xlabel(\"Iteration\")\n",
    "plt.ylabel(\"Cross-Entropy Loss\");"
   ]
  },
  {
   "cell_type": "markdown",
   "id": "7ecd057b",
   "metadata": {},
   "source": [
    "Let's inspect the weights of our trained network. Since we have a single layer, it's relatively easy to do this. First, look at the weights of the `linear_1` layer:"
   ]
  },
  {
   "cell_type": "code",
   "execution_count": 15,
   "id": "74a00589",
   "metadata": {},
   "outputs": [
    {
     "data": {
      "text/plain": [
       "torch.Size([10, 784])"
      ]
     },
     "execution_count": 15,
     "metadata": {},
     "output_type": "execute_result"
    }
   ],
   "source": [
    "linear_1.weight.shape"
   ]
  },
  {
   "cell_type": "code",
   "execution_count": 16,
   "id": "f6fbba61",
   "metadata": {},
   "outputs": [
    {
     "data": {
      "image/png": "[encoded data removed]",
      "text/plain": [
       "<Figure size 3000x300 with 10 Axes>"
      ]
     },
     "metadata": {},
     "output_type": "display_data"
    }
   ],
   "source": [
    "weight_images = linear_1.weight.data.view((10, 28, 28))\n",
    "show_images(weight_images)"
   ]
  },
  {
   "cell_type": "markdown",
   "id": "ba85587b",
   "metadata": {},
   "source": [
    "## Analysis\n",
    "\n",
    "Q1: Why is `logits.shape` 16 by 10?"
   ]
  },
  {
   "cell_type": "markdown",
   "id": "cbb84e23",
   "metadata": {},
   "source": [
    "*your answer here*"
   ]
  },
  {
   "cell_type": "markdown",
   "id": "00138d95",
   "metadata": {},
   "source": [
    "Q2:  Before we trained the model (i.e., it just had random weights), the cross entropy was all about the same number. What was that number, and why? Hint:"
   ]
  },
  {
   "cell_type": "code",
   "execution_count": 17,
   "id": "c47dd44d",
   "metadata": {},
   "outputs": [
    {
     "data": {
      "text/plain": [
       "2.302585092994046"
      ]
     },
     "execution_count": 17,
     "metadata": {},
     "output_type": "execute_result"
    }
   ],
   "source": [
    "np.log(10)"
   ]
  },
  {
   "cell_type": "markdown",
   "id": "4c47e3ff",
   "metadata": {},
   "source": [
    "*your answer here*"
   ]
  },
  {
   "cell_type": "markdown",
   "id": "1445d056",
   "metadata": {},
   "source": [
    "Q3: Adjust the learning rate parameter. Give an example of a learning rate that is too high, one that is too low, and one that is good. For each, explain your answer by describing what the loss curve looks like; how do its *shape* and its *values* indicate good or bad training?"
   ]
  },
  {
   "cell_type": "markdown",
   "id": "26a24577",
   "metadata": {},
   "source": [
    "*your answer here*"
   ]
  },
  {
   "cell_type": "markdown",
   "id": "edd03044",
   "metadata": {},
   "source": [
    "Q4: Why the weight images look the way they do? (Why might they look similar to the digits in question? Why might they look not exactly like the digits in question?)"
   ]
  },
  {
   "cell_type": "markdown",
   "id": "11e347a0",
   "metadata": {},
   "source": [
    "*your answer here*"
   ]
  },
  {
   "cell_type": "markdown",
   "id": "5ddeb0c3",
   "metadata": {},
   "source": [
    "## Extension\n",
    "\n",
    "PyTorch gives us *optimizer* objects that do all the work of updating parameters. It not only saves code, it lets us swap in fancier optimizers. \n",
    "\n",
    "1. Compare this code with the code block above.\n",
    "2. Fill in the blanks in the same way and observe how you get the same result with fewer lines of code.\n",
    "3. Replace `SGD` with `AdamW` and compare the results."
   ]
  },
  {
   "cell_type": "code",
   "execution_count": null,
   "id": "563a6c37",
   "metadata": {},
   "outputs": [],
   "source": [
    "\n",
    "num_epochs = 10\n",
    "learning_rate = .01\n",
    "losses = []\n",
    "\n",
    "# Initialize the optimizer.\n",
    "optimizer = torch.optim.SGD(params=model.parameters(), lr=learning_rate)\n",
    "\n",
    "# Re-initialize the parameters of the model, so training restarts when this block starts.\n",
    "linear_1.reset_parameters()\n",
    "for epoch in range(num_epochs):\n",
    "    # Keep track of some things for each epoch.\n",
    "    total_images = 0\n",
    "    total_correct = 0\n",
    "    for images, labels in dataloaders.train:\n",
    "        images = TensorBase(images) # work around a quirk in fastai, ignore this\n",
    "        logits = ...\n",
    "        loss = ...\n",
    "\n",
    "        # take an SGD step.\n",
    "        loss.backward()\n",
    "        optimizer.step()\n",
    "        model.zero_grad()\n",
    "\n",
    "        # Track metrics\n",
    "        predictions = logits.argmax(axis=1)\n",
    "        num_accurate = (predictions == labels).sum()\n",
    "        total_images += len(labels)\n",
    "        total_correct += num_accurate\n",
    "\n",
    "        # Track losses.\n",
    "        losses.append(loss.item())\n",
    "\n",
    "    # Epoch done, print some stats.\n",
    "    avg_loss_this_epoch = np.mean(losses[-total_images:])\n",
    "    print(f\"Epoch {epoch:2d}: loss={avg_loss_this_epoch:.2f}, train accuracy {total_correct:3d}/{total_images}\")\n",
    "\n",
    "# Plot the un-smoothed loss\n",
    "#plt.plot(losses)\n",
    "# Plot a smoothed version of the loss (easier to see the trend)\n",
    "pd.Series(losses).ewm(alpha = .1).mean().plot()\n",
    "plt.xlabel(\"Iteration\")\n",
    "plt.ylabel(\"Cross-Entropy Loss\");"
   ]
  },
  {
   "attachments": {},
   "cell_type": "markdown",
   "id": "91090934",
   "metadata": {},
   "source": [
    "Comments from grading this assignment last year:\n",
    "\n",
    "- Why 10 output features? One score (logit) for each of the 10 digits.\n",
    "- Describe *why* you conclude that the loss curves are bad.\n",
    "- Learning rates: the basic shape will typically be something like 1/x, but with differences in shape and, most significantly, ending values.\n",
    "- Think more about why the weights sorta look like the digits in this case. See below.\n",
    "- The weight images won't look exactly like a digit even at convergence--why?\n",
    "\n",
    "Notes (mostly generic notes I'm giving to everyone):\n",
    "\n",
    "- The initialization was good because the predicted probabilities before training ended up approximately equal across the 10 categories, so the model was rightly telling us \"I don't know\" before training. We could see that because the cross-entropy (log loss) was about -ln(1/10), so whatever the true digit was, the classifier was giving it a probability of about 1/10. So the loss wasn't huge early in training, so the gradient updates weren't huge either.\n",
    "- Look at both the shape of the loss curve and also the values it achieves. Note, for example, that both too-small and too-large learning rates end up with loss values that are much higher than what you see with a reasonable learning rate, though they take a different trajectory to get there. (Why?)\n",
    "  - Importantly: the problem with learning rates like 1.0 or 0.5 isn't the steep initial descent (actually that can be a good thing!), it's the fact that the weights jump around too much between batches so the weights never get close enough to their best values. You can see this because the loss jumps around too.\n",
    "- The weight images *do* look like the digits because the dot product that `linear_1` does is basically comparing them with the input images, pixel-by-pixel, to see how much overlap there is.\n",
    "- The weight images *don't* look like the digits because:\n",
    "  - they're trained on the *differences* between the digit images, not the images themselves (think about how this relates to the softmax properties we studied in hw5),\n",
    "  - all of the values could have been shifted up or down by a constant without affecting the result, so negative values aren't meaningful per se (if we had used any kind of *regularization* this wouldn't be true anymore), and\n",
    "  - some digits can be drawn in different ways. Without any hidden layers to build up representations, the only thing this network can do with digits that are drawn different ways is to take the average of the two.\n",
    "- This model massively underfits--much better performance is possible. (But hm, look at the weight images... could it have also been *overfitting*? Yes you can have both at the same time.)\n"
   ]
  },
  {
   "cell_type": "code",
   "execution_count": null,
   "id": "311dbd6b",
   "metadata": {},
   "outputs": [],
   "source": []
  }
 ],
 "metadata": {
  "kernelspec": {
   "display_name": "Python 3",
   "language": "python",
   "name": "python3"
  },
  "language_info": {
   "codemirror_mode": {
    "name": "ipython",
    "version": 3
   },
   "file_extension": ".py",
   "mimetype": "text/x-python",
   "name": "python",
   "nbconvert_exporter": "python",
   "pygments_lexer": "ipython3",
   "version": "3.10.5"
  }
 },
 "nbformat": 4,
 "nbformat_minor": 5
}
