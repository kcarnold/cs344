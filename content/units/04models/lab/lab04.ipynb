{
 "cells": [
  {
   "cell_type": "markdown",
   "metadata": {},
   "source": [
    "## Setup"
   ]
  },
  {
   "cell_type": "code",
   "execution_count": 1,
   "metadata": {},
   "outputs": [],
   "source": [
    "import torch\n",
    "from torch import tensor\n",
    "import ipywidgets as widgets\n",
    "import matplotlib.pyplot as plt\n",
    "%matplotlib inline"
   ]
  },
  {
   "cell_type": "markdown",
   "metadata": {},
   "source": [
    "## Task"
   ]
  },
  {
   "cell_type": "markdown",
   "metadata": {},
   "source": [
    "Suppose we have a dataset with just a single feature `x` and continuous outcome variable `y`.\n",
    "\n",
    "In general we're going to be faced with a dataset with an unknown and probably nonlinear relationship. But for now let's use a simple dataset with a known linear relationship:"
   ]
  },
  {
   "cell_type": "code",
   "execution_count": 14,
   "metadata": {},
   "outputs": [
    {
     "data": {
      "image/png": "[encoded data removed]",
      "text/plain": [
       "<Figure size 640x480 with 1 Axes>"
      ]
     },
     "metadata": {},
     "output_type": "display_data"
    }
   ],
   "source": [
    "# This code just makes the data; don't worry about how it works!\n",
    "true_weights = 4.0 # <-- pretend you didn't see this number.\n",
    "true_bias = 2.0   # <-- this one too.\n",
    "\n",
    "# Make the randomness consistent\n",
    "torch.manual_seed(0)\n",
    "# Use random x values\n",
    "x = torch.rand(100, 1)\n",
    "# Generate random noise, same shape as *x*, that has some outliers.\n",
    "noise = torch.distributions.studentT.StudentT(2.0).sample(x.shape)\n",
    "# For a simpler variant, use  torch.randn_like(x).\n",
    "#print(f\"Noise mean: {noise.mean()}, noise variance {noise.var()}\")\n",
    "# Generate true y values \n",
    "y_true = true_weights * x + noise + true_bias\n",
    "# Make a scatterplot. The semicolon at the end says to ignore the return value.\n",
    "plt.scatter(x, y_true);"
   ]
  },
  {
   "cell_type": "code",
   "execution_count": 23,
   "metadata": {},
   "outputs": [
    {
     "data": {
      "text/plain": [
       "tensor([0., 0., 0., 0., 0., 0., 0., 0., 0., 0., 0., 0., 0., 0., 0., 0., 0., 0., 0., 0., 0., 0., 0., 0.,\n",
       "        0., 0., 0., 0., 0., 0., 0., 0., 0., 0., 0., 0., 0., 0., 0., 0., 0., 0., 0., 0., 0., 0., 0., 0.,\n",
       "        0., 0., 0., 0., 0., 0., 0., 0., 0., 0., 0., 0., 0., 0., 0., 0., 0., 0., 0., 0., 0., 0., 0., 0.,\n",
       "        0., 0., 0., 0., 0., 0., 0., 0., 0., 0., 0., 0., 0., 0., 0., 0., 0., 0., 0., 0., 0., 0., 0., 0.,\n",
       "        0., 0., 0., 0.])"
      ]
     },
     "execution_count": 23,
     "metadata": {},
     "output_type": "execute_result"
    }
   ],
   "source": [
    "class Linear:\n",
    "    def __init__(self, weights, bias):\n",
    "        self.weights = weights\n",
    "        self.bias = bias\n",
    "        \n",
    "    def forward(self, x):\n",
    "        return x @ self.weights + self.bias\n",
    "\n",
    "layer = Linear(weights=torch.tensor([0.0]), bias=torch.tensor([0.0]))\n",
    "layer.forward(x)"
   ]
  },
  {
   "cell_type": "code",
   "execution_count": 22,
   "metadata": {},
   "outputs": [
    {
     "data": {
      "application/vnd.jupyter.widget-view+json": {
       "model_id": "623537bcaacc408c9d0f877440b04c4c",
       "version_major": 2,
       "version_minor": 0
      },
      "text/plain": [
       "interactive(children=(FloatSlider(value=0.0, description='bias', max=5.0, min=-5.0), Output()), _dom_classes=(…"
      ]
     },
     "metadata": {},
     "output_type": "display_data"
    }
   ],
   "source": [
    "@widgets.interact(bias=(-5.0, 5.0))\n",
    "def plot_linreg(bias):\n",
    "    layer.bias[0] = bias\n",
    "    y_pred = layer.forward(x)\n",
    "    plt.scatter(x, y_true); plt.plot(x, y_pred, 'r');\n",
    "    resid = 0.0 # TODO\n",
    "    mse = 0.0 # TODO\n",
    "    print(f\"MSE: {mse}\")"
   ]
  },
  {
   "attachments": {},
   "cell_type": "markdown",
   "metadata": {},
   "source": [
    "Bias that minimizes MSE: _____"
   ]
  },
  {
   "cell_type": "markdown",
   "metadata": {},
   "source": [
    "### Gradient\n"
   ]
  },
  {
   "cell_type": "code",
   "execution_count": null,
   "metadata": {},
   "outputs": [],
   "source": [
    "def linreg_mse(bias):\n",
    "    ...\n",
    "\n",
    "# test it out\n",
    "linreg_mse(0.0)"
   ]
  },
  {
   "cell_type": "code",
   "execution_count": null,
   "metadata": {},
   "outputs": [],
   "source": [
    "def compute_grad_wrt_bias(bias, eps = 1e-3):\n",
    "    ...\n",
    "\n",
    "# test it out.\n",
    "compute_grad_wrt_bias(0.0)"
   ]
  },
  {
   "cell_type": "markdown",
   "metadata": {},
   "source": [
    "### Gradient Descent"
   ]
  },
  {
   "cell_type": "code",
   "execution_count": null,
   "metadata": {},
   "outputs": [],
   "source": []
  }
 ],
 "metadata": {
  "kernelspec": {
   "display_name": "fa22",
   "language": "python",
   "name": "python3"
  },
  "language_info": {
   "codemirror_mode": {
    "name": "ipython",
    "version": 3
   },
   "file_extension": ".py",
   "mimetype": "text/x-python",
   "name": "python",
   "nbconvert_exporter": "python",
   "pygments_lexer": "ipython3",
   "version": "3.10.5"
  },
  "vscode": {
   "interpreter": {
    "hash": "74acacffd0749514a06dc7848c6df011b7a94ca944d93916dccfefa4cad34482"
   }
  }
 },
 "nbformat": 4,
 "nbformat_minor": 4
}
