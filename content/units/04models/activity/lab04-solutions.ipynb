{
 "cells": [
  {
   "cell_type": "markdown",
   "metadata": {},
   "source": [
    "---\n",
    "title: \"Lab 4: Linear Regression the Hard Way\"\n",
    "date: 2022-01-31\n",
    "---"
   ]
  },
  {
   "cell_type": "markdown",
   "metadata": {},
   "source": [
    "# Linear Regression from Scratch\n",
    "\n",
    "## Outcomes\n",
    "\n",
    "We're going to be working towards building up **our own neural net model from the ground up**. Here's the outline:\n",
    "\n",
    "1. Single linear regression **this activity**\n",
    "2. Multiple linear regression\n",
    "3. Logistic regression\n",
    "4. Multiple layers\n",
    "\n",
    "The process of completing this assignment will improve your ability to:\n",
    "\n",
    "- Describe the parameters and operation of a linear layer.\n",
    "- Identify the following loss functions: Mean Squared Error and Mean Absolute Difference.\n",
    "- Compute the gradients of programs with respect to parameters using one level of backpropagation\n"
   ]
  },
  {
   "cell_type": "markdown",
   "metadata": {},
   "source": [
    "## Setup"
   ]
  },
  {
   "cell_type": "code",
   "execution_count": 1,
   "metadata": {},
   "outputs": [],
   "source": [
    "import torch\n",
    "from torch import tensor\n",
    "import ipywidgets as widgets\n",
    "import matplotlib.pyplot as plt\n",
    "%matplotlib inline"
   ]
  },
  {
   "cell_type": "markdown",
   "metadata": {},
   "source": [
    "## Task"
   ]
  },
  {
   "cell_type": "markdown",
   "metadata": {},
   "source": [
    "Suppose we have a dataset with just a single feature `x` and continuous outcome variable `y`.\n",
    "\n",
    "In general we're going to be faced with a dataset with an unknown and probably nonlinear relationship. But for now let's use a simple dataset with a known linear relationship:"
   ]
  },
  {
   "cell_type": "code",
   "execution_count": 2,
   "metadata": {},
   "outputs": [
    {
     "data": {
      "image/png": "[encoded data removed]",
      "text/plain": [
       "<Figure size 432x288 with 1 Axes>"
      ]
     },
     "metadata": {
      "needs_background": "light"
     },
     "output_type": "display_data"
    }
   ],
   "source": [
    "true_weights = 4.0\n",
    "true_bias = -1.0\n",
    "\n",
    "# Make the randomness consistent\n",
    "torch.manual_seed(0)\n",
    "# Use random x values\n",
    "x = torch.rand(100)\n",
    "# Generate random noise, same shape as *x*, that has some outliers.\n",
    "noise = torch.distributions.studentT.StudentT(2.0).sample(x.shape)\n",
    "# For a simpler variant, use  torch.randn_like(x).\n",
    "#print(f\"Noise mean: {noise.mean()}, noise variance {noise.var()}\")\n",
    "# Generate true y values \n",
    "y_true = true_weights * x + noise + true_bias\n",
    "# Make a scatterplot. The semicolon at the end says to ignore the return value.\n",
    "plt.scatter(x, y_true);"
   ]
  },
  {
   "cell_type": "markdown",
   "metadata": {},
   "source": [
    "Let's fit a line to that!\n",
    "\n",
    "In linear regression, we predict an output by computing `y_pred = weights * x + bias`.\n",
    "\n",
    "This is a one-dimensional problem (each data point has only a single number, *x*), but the intuition we gain here will help us with multiple regression.\n",
    "\n",
    "In fact, to keep things simple, we're going to start with **bias == 0**: we're only going to fit a slope.\n",
    "\n",
    "Let's start with an arbitrary value for `weights` and see how it does."
   ]
  },
  {
   "cell_type": "code",
   "execution_count": 4,
   "metadata": {},
   "outputs": [
    {
     "data": {
      "image/png": "[encoded data removed]",
      "text/plain": [
       "<Figure size 432x288 with 1 Axes>"
      ]
     },
     "metadata": {
      "needs_background": "light"
     },
     "output_type": "display_data"
    }
   ],
   "source": [
    "slope = 3.5\n",
    "bias = 0.0\n",
    "y_pred = slope * x + bias\n",
    "plt.scatter(x, y_true); plt.plot(x, y_pred, 'r');"
   ]
  },
  {
   "cell_type": "markdown",
   "metadata": {},
   "source": [
    "Hm, we're close but not great. The line is *too high*, but we're sticking with a *0 bias* so we can't just shift it down. What change could we make to the slope to get it better?\n",
    "\n",
    "**Adjust the slope slider below until the line looks like it's fitting the data better.**"
   ]
  },
  {
   "cell_type": "code",
   "execution_count": 5,
   "metadata": {},
   "outputs": [
    {
     "data": {
      "application/vnd.jupyter.widget-view+json": {
       "model_id": "0286801b2df44617bc70313570f2d658",
       "version_major": 2,
       "version_minor": 0
      },
      "text/plain": [
       "interactive(children=(FloatSlider(value=0.0, description='slope', max=5.0, min=-5.0), Output()), _dom_classes=…"
      ]
     },
     "metadata": {},
     "output_type": "display_data"
    }
   ],
   "source": [
    "@widgets.interact(slope=(-5.0, 5.0))\n",
    "def plot_linreg(slope):\n",
    "    y_pred = slope * x + bias\n",
    "    plt.scatter(x, y_true); plt.plot(x, y_pred, 'r');\n",
    "    # TODO: have students add this:\n",
    "    resid = 0.0\n",
    "    resid = y_pred - y_true\n",
    "    mse = 0.0 # TODO\n",
    "    mse = resid.pow(2).mean()\n",
    "    mae = 0.0 # TODO\n",
    "    mae = resid.abs().mean()\n",
    "    print(f\"MSE: {mse}, MAE: {mae}\")"
   ]
  },
  {
   "cell_type": "markdown",
   "metadata": {},
   "source": [
    "### Loss Functions"
   ]
  },
  {
   "cell_type": "markdown",
   "metadata": {},
   "source": [
    "Did you get the best value for the slope? What about those outlier points?\n",
    "\n",
    "Hopefully this has convinced you that it would be a good idea to *quantify* the error. And maybe even that there might be multiple ways to quantify the error, based on whether we care about those outliers or not.\n",
    "\n",
    "We'll introduce two **loss functions**:\n",
    "\n",
    "- Mean Squared Error (abbreviated **MSE**, also known as the *L2 norm*): square the residual, take the mean.\n",
    "- Mean Absolute Error (abbreviated **MAE**, also known as the *L1 norm* or sometimes *mean absolute deviation* (MAD)): flip negative errors to be positive (absolute value), take the mean.\n",
    "\n",
    "Which one of them is more *sensitive* to outliers? Let's find out."
   ]
  },
  {
   "cell_type": "markdown",
   "metadata": {},
   "source": [
    "First: add correct computations of the `mse` and `mae` to the plot function above.\n",
    "Then: adjust the slider to minimize MSE. Then adjust it to minimize MAE.\n",
    "\n",
    "How would you describe the difference between the line that minimizes MSE and the line that minimizes MAE?"
   ]
  },
  {
   "cell_type": "markdown",
   "metadata": {},
   "source": [
    "### Gradient\n",
    "\n",
    "Estimate the gradient numerically, by hand and then in code."
   ]
  },
  {
   "cell_type": "markdown",
   "metadata": {},
   "source": [
    "Explain why the gradient for one parameter may initially seem to go in the wrong direction."
   ]
  },
  {
   "cell_type": "code",
   "execution_count": 18,
   "metadata": {},
   "outputs": [],
   "source": [
    "def linreg_mse(slope):\n",
    "    y_pred = slope * x + 0.0\n",
    "    return (y_pred - y_true).pow(2).mean()"
   ]
  },
  {
   "cell_type": "code",
   "execution_count": 14,
   "metadata": {},
   "outputs": [
    {
     "data": {
      "text/plain": [
       "tensor(490.7277)"
      ]
     },
     "execution_count": 14,
     "metadata": {},
     "output_type": "execute_result"
    }
   ],
   "source": [
    "linreg_mse(0.0)"
   ]
  },
  {
   "cell_type": "code",
   "execution_count": 15,
   "metadata": {},
   "outputs": [
    {
     "data": {
      "text/plain": [
       "tensor(427.4457)"
      ]
     },
     "execution_count": 15,
     "metadata": {},
     "output_type": "execute_result"
    }
   ],
   "source": [
    "linreg_mse(1.4)"
   ]
  },
  {
   "cell_type": "markdown",
   "metadata": {},
   "source": [
    "### Gradient Descent"
   ]
  },
  {
   "cell_type": "markdown",
   "metadata": {},
   "source": [
    "- Contrast the effects of gradient *ascent* and gradient *descent*.\n",
    "- Descend the estimated gradient until convergence."
   ]
  },
  {
   "cell_type": "code",
   "execution_count": 21,
   "metadata": {},
   "outputs": [
    {
     "data": {
      "text/plain": [
       "tensor(4.2745)"
      ]
     },
     "execution_count": 21,
     "metadata": {},
     "output_type": "execute_result"
    }
   ],
   "source": [
    "linreg_mse(1.4)"
   ]
  },
  {
   "cell_type": "code",
   "execution_count": 22,
   "metadata": {},
   "outputs": [
    {
     "data": {
      "text/plain": [
       "tensor(4.2745)"
      ]
     },
     "execution_count": 22,
     "metadata": {},
     "output_type": "execute_result"
    }
   ],
   "source": [
    "linreg_mse(1.39)"
   ]
  },
  {
   "cell_type": "code",
   "execution_count": 43,
   "metadata": {},
   "outputs": [
    {
     "data": {
      "text/plain": [
       "tensor(0.)"
      ]
     },
     "execution_count": 43,
     "metadata": {},
     "output_type": "execute_result"
    }
   ],
   "source": [
    "x0 = 1.39\n",
    "eps = 1e-4\n",
    "linreg_mse(x0 + eps) - linreg_mse(x0)"
   ]
  },
  {
   "cell_type": "markdown",
   "metadata": {},
   "source": [
    "### autograd\n",
    "\n",
    "Use `tensor([3.5], requires_grad=True)`\n",
    "\n",
    "Then use `loss.backward()`.\n"
   ]
  },
  {
   "cell_type": "code",
   "execution_count": 67,
   "metadata": {},
   "outputs": [
    {
     "data": {
      "text/plain": [
       "[<matplotlib.lines.Line2D at 0x7fe351d40f10>]"
      ]
     },
     "execution_count": 67,
     "metadata": {},
     "output_type": "execute_result"
    },
    {
     "data": {
      "image/png": "[encoded data removed]",
      "text/plain": [
       "<Figure size 432x288 with 1 Axes>"
      ]
     },
     "metadata": {
      "needs_background": "light"
     },
     "output_type": "display_data"
    }
   ],
   "source": [
    "grads = []\n",
    "grads_numerical = []\n",
    "grads_central_diff = []\n",
    "eps = 1e-2\n",
    "slopes = torch.linspace(1.3, 1.5, 500).numpy()\n",
    "for ww in slopes:\n",
    "    w = torch.tensor(ww, requires_grad=True)\n",
    "    y_pred = w * x\n",
    "    loss = (y_pred - y_true).pow(2).mean()\n",
    "    loss.backward()\n",
    "    grads.append(w.grad)\n",
    "    grads_numerical.append((linreg_mse(ww + eps) - linreg_mse(ww)) / eps)\n",
    "    grads_central_diff.append((linreg_mse(ww + eps) - linreg_mse(ww - eps)) / (2*eps))\n",
    "\n",
    "plt.plot(slopes, torch.stack(grads))\n",
    "#plt.plot(slopes, grads_numerical)\n",
    "plt.plot(slopes, grads_central_diff)"
   ]
  },
  {
   "cell_type": "code",
   "execution_count": null,
   "metadata": {},
   "outputs": [],
   "source": [
    "\n"
   ]
  }
 ],
 "metadata": {
  "kernelspec": {
   "display_name": "Python 3",
   "language": "python",
   "name": "python3"
  },
  "language_info": {
   "codemirror_mode": {
    "name": "ipython",
    "version": 3
   },
   "file_extension": ".py",
   "mimetype": "text/x-python",
   "name": "python",
   "nbconvert_exporter": "python",
   "pygments_lexer": "ipython3",
   "version": "3.8.8"
  }
 },
 "nbformat": 4,
 "nbformat_minor": 4
}
