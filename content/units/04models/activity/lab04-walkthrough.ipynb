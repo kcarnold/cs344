{
 "cells": [
  {
   "cell_type": "markdown",
   "metadata": {},
   "source": [
    "## Setup"
   ]
  },
  {
   "cell_type": "code",
   "execution_count": 1,
   "metadata": {},
   "outputs": [],
   "source": [
    "import torch\n",
    "from torch import tensor\n",
    "import ipywidgets as widgets\n",
    "import matplotlib.pyplot as plt\n",
    "%matplotlib inline"
   ]
  },
  {
   "cell_type": "markdown",
   "metadata": {},
   "source": [
    "## Task"
   ]
  },
  {
   "cell_type": "markdown",
   "metadata": {},
   "source": [
    "Suppose we have a dataset with just a single feature `x` and continuous outcome variable `y`.\n",
    "\n",
    "In general we're going to be faced with a dataset with an unknown and probably nonlinear relationship. But for now let's use a simple dataset with a known linear relationship:"
   ]
  },
  {
   "cell_type": "code",
   "execution_count": 2,
   "metadata": {},
   "outputs": [
    {
     "data": {
      "image/png": "[encoded data removed]",
      "text/plain": [
       "<Figure size 432x288 with 1 Axes>"
      ]
     },
     "metadata": {
      "needs_background": "light"
     },
     "output_type": "display_data"
    }
   ],
   "source": [
    "true_weights = 4.0\n",
    "true_bias = -1.0\n",
    "\n",
    "# Make the randomness consistent\n",
    "torch.manual_seed(0)\n",
    "# Use random x values\n",
    "x = torch.rand(100)\n",
    "# Generate random noise, same shape as *x*, that has some outliers.\n",
    "#noise = torch.randn_like(x)\n",
    "noise = torch.distributions.studentT.StudentT(2.0).sample(x.shape)\n",
    "#print(f\"Noise mean: {noise.mean()}, noise variance {noise.var()}\")\n",
    "# Generate true y values \n",
    "y_true = true_weights * x + true_bias + noise\n",
    "# Make a scatterplot. The semicolon at the end says to ignore the return value.\n",
    "plt.scatter(x, y_true); plt.ylim(-11, 6);"
   ]
  },
  {
   "cell_type": "code",
   "execution_count": 3,
   "metadata": {},
   "outputs": [],
   "source": [
    "bias = 0.0"
   ]
  },
  {
   "cell_type": "code",
   "execution_count": 4,
   "metadata": {},
   "outputs": [
    {
     "data": {
      "application/vnd.jupyter.widget-view+json": {
       "model_id": "07650c1f6c764b8db05b9e2fe4ae697a",
       "version_major": 2,
       "version_minor": 0
      },
      "text/plain": [
       "interactive(children=(FloatSlider(value=0.0, description='slope', max=5.0, min=-5.0), Output()), _dom_classes=…"
      ]
     },
     "metadata": {},
     "output_type": "display_data"
    }
   ],
   "source": [
    "@widgets.interact(slope=(-5.0, 5.0))\n",
    "def plot_linreg(slope):\n",
    "    y_pred = slope * x + bias\n",
    "    plt.scatter(x, y_true); plt.plot(x, y_pred, 'r');\n",
    "    resid = y_true - y_pred\n",
    "    mse = resid.pow(2).mean()\n",
    "    mae = resid.abs().mean()\n",
    "    print(f\"MSE: {mse}, MAE: {mae}\")"
   ]
  },
  {
   "cell_type": "markdown",
   "metadata": {},
   "source": [
    "- Slope that minimizes MSE: 1.4\n",
    "- Slope that minimizes MAE: 2.4\n",
    "- Description of the difference: MAE ignores outliers"
   ]
  },
  {
   "cell_type": "markdown",
   "metadata": {},
   "source": [
    "### Gradient\n"
   ]
  },
  {
   "cell_type": "markdown",
   "metadata": {},
   "source": [
    "Make a function that computes the MSE."
   ]
  },
  {
   "cell_type": "code",
   "execution_count": 5,
   "metadata": {},
   "outputs": [],
   "source": [
    "def linreg_mse(slope):\n",
    "    y_pred = slope * x + bias\n",
    "    resid = y_true - y_pred\n",
    "    return resid.pow(2).mean()"
   ]
  },
  {
   "cell_type": "code",
   "execution_count": 6,
   "metadata": {},
   "outputs": [
    {
     "data": {
      "text/plain": [
       "tensor(4.9073)"
      ]
     },
     "execution_count": 6,
     "metadata": {},
     "output_type": "execute_result"
    }
   ],
   "source": [
    "linreg_mse(0.0)"
   ]
  },
  {
   "cell_type": "code",
   "execution_count": 7,
   "metadata": {},
   "outputs": [
    {
     "data": {
      "text/plain": [
       "tensor(4.6011)"
      ]
     },
     "execution_count": 7,
     "metadata": {},
     "output_type": "execute_result"
    }
   ],
   "source": [
    "linreg_mse(2.4)"
   ]
  },
  {
   "cell_type": "code",
   "execution_count": 8,
   "metadata": {},
   "outputs": [
    {
     "data": {
      "text/plain": [
       "tensor(4.2745)"
      ]
     },
     "execution_count": 8,
     "metadata": {},
     "output_type": "execute_result"
    }
   ],
   "source": [
    "linreg_mse(1.4)"
   ]
  },
  {
   "cell_type": "markdown",
   "metadata": {},
   "source": [
    "Plot the MSE as a function of slope."
   ]
  },
  {
   "cell_type": "code",
   "execution_count": 9,
   "metadata": {},
   "outputs": [
    {
     "data": {
      "application/vnd.jupyter.widget-view+json": {
       "model_id": "f2f9d72806884029bf2b614883c7896d",
       "version_major": 2,
       "version_minor": 0
      },
      "text/plain": [
       "interactive(children=(FloatSlider(value=0.5, description='slope', max=2.0, min=-1.0), Output()), _dom_classes=…"
      ]
     },
     "metadata": {},
     "output_type": "display_data"
    }
   ],
   "source": [
    "slopes = torch.linspace(-1, 2, steps=100)\n",
    "mse_s = []\n",
    "for slope in slopes:\n",
    "    mse_s.append(linreg_mse(slope))\n",
    "    \n",
    "@widgets.interact(slope=(-1.0, 2.0))\n",
    "def plot_tangents(slope):\n",
    "    plt.plot(slopes, mse_s, label=\"MSE\"); plt.xlabel(\"slope\"); plt.ylabel(\"MSE\");\n",
    "\n",
    "    # finite difference method for numerically approximating a gradient\n",
    "    eps = .01\n",
    "    gradient = (linreg_mse(slope + eps) - linreg_mse(slope)) / eps\n",
    "    plt.plot(slopes, (slopes - slope) * gradient + linreg_mse(slope), label=f\"Tangent line at {slope:.3f}\");\n",
    "    print(gradient)\n",
    "    plt.ylim(4, 6.5)\n",
    "    plt.legend();\n"
   ]
  },
  {
   "cell_type": "code",
   "execution_count": 10,
   "metadata": {},
   "outputs": [
    {
     "data": {
      "text/plain": [
       "-0.9059905409812927"
      ]
     },
     "execution_count": 10,
     "metadata": {},
     "output_type": "execute_result"
    }
   ],
   "source": [
    "# finite difference method for numerically approximating a gradient\n",
    "slope = 0.0\n",
    "eps = 1e-3\n",
    "gradient = (linreg_mse(slope + eps) - linreg_mse(slope)) / eps\n",
    "gradient.item()"
   ]
  },
  {
   "cell_type": "markdown",
   "metadata": {},
   "source": [
    "### Gradient Descent"
   ]
  },
  {
   "cell_type": "code",
   "execution_count": 11,
   "metadata": {},
   "outputs": [
    {
     "data": {
      "text/plain": [
       "[<matplotlib.lines.Line2D at 0x7fe7538e5af0>]"
      ]
     },
     "execution_count": 11,
     "metadata": {},
     "output_type": "execute_result"
    },
    {
     "data": {
      "image/png": "[encoded data removed]",
      "text/plain": [
       "<Figure size 432x288 with 1 Axes>"
      ]
     },
     "metadata": {
      "needs_background": "light"
     },
     "output_type": "display_data"
    }
   ],
   "source": [
    "losses = []\n",
    "slope = 0.0\n",
    "N_ITER = 100\n",
    "for i in range(N_ITER):\n",
    "    loss = linreg_mse(slope)\n",
    "    gradient = (linreg_mse(slope + eps) - linreg_mse(slope)) / eps\n",
    "    slope -= .1 * gradient\n",
    "    #print(f\"slope = {slope:.3f}, Loss = {loss:.3f}, gradient = {gradient}\")\n",
    "    losses.append(loss)\n",
    "plt.plot(losses)"
   ]
  },
  {
   "cell_type": "code",
   "execution_count": 12,
   "metadata": {},
   "outputs": [
    {
     "data": {
      "text/plain": [
       "tensor(1.3945)"
      ]
     },
     "execution_count": 12,
     "metadata": {},
     "output_type": "execute_result"
    }
   ],
   "source": [
    "slope"
   ]
  },
  {
   "cell_type": "markdown",
   "metadata": {},
   "source": [
    "## Exact gradient"
   ]
  },
  {
   "cell_type": "markdown",
   "metadata": {},
   "source": [
    "get a batch of data:"
   ]
  },
  {
   "cell_type": "code",
   "execution_count": 13,
   "metadata": {},
   "outputs": [],
   "source": [
    "indices = torch.randperm(len(x))\n",
    "n = 5\n",
    "xx = x[indices[:n]]\n",
    "yy = y_true[indices[:n]]"
   ]
  },
  {
   "cell_type": "code",
   "execution_count": 14,
   "metadata": {},
   "outputs": [],
   "source": [
    "slope = 0.0\n",
    "bias = 0.0"
   ]
  },
  {
   "cell_type": "code",
   "execution_count": 15,
   "metadata": {},
   "outputs": [
    {
     "data": {
      "text/plain": [
       "tensor(26.8944)"
      ]
     },
     "execution_count": 15,
     "metadata": {},
     "output_type": "execute_result"
    }
   ],
   "source": [
    "y_pred = slope * xx + bias\n",
    "e = yy - y_pred\n",
    "ae = e.abs()     ; ae = e.pow(2)\n",
    "sae = ae.sum()\n",
    "mae = sae / n\n",
    "mae"
   ]
  },
  {
   "cell_type": "code",
   "execution_count": 16,
   "metadata": {},
   "outputs": [
    {
     "data": {
      "text/plain": [
       "1.0"
      ]
     },
     "execution_count": 16,
     "metadata": {},
     "output_type": "execute_result"
    }
   ],
   "source": [
    "dE_dE = 1.0          # 1 change in err gives 1 change in err\n",
    "dE_dE"
   ]
  },
  {
   "cell_type": "code",
   "execution_count": 17,
   "metadata": {},
   "outputs": [
    {
     "data": {
      "text/plain": [
       "0.2"
      ]
     },
     "execution_count": 17,
     "metadata": {},
     "output_type": "execute_result"
    }
   ],
   "source": [
    "dE_dsae = 1 / n            # constant multiple rule\n",
    "dE_dsae = dE_dE * dE_dsae  # 1 change in sae gives 1/n change in err\n",
    "dE_dsae"
   ]
  },
  {
   "cell_type": "code",
   "execution_count": 18,
   "metadata": {},
   "outputs": [
    {
     "data": {
      "text/plain": [
       "tensor([0.2000, 0.2000, 0.2000, 0.2000, 0.2000])"
      ]
     },
     "execution_count": 18,
     "metadata": {},
     "output_type": "execute_result"
    }
   ],
   "source": [
    "dsae_dae = torch.ones(n)    # a sum is equally sensitive to each each element\n",
    "dE_dae = dE_dsae * dsae_dae # 1 change in each of the absolute errs gives this change in mae\n",
    "dE_dae"
   ]
  },
  {
   "cell_type": "code",
   "execution_count": 19,
   "metadata": {},
   "outputs": [
    {
     "data": {
      "text/plain": [
       "tensor([ 1.5839, -4.1312,  0.0598,  1.3297,  0.4102])"
      ]
     },
     "execution_count": 19,
     "metadata": {},
     "output_type": "execute_result"
    }
   ],
   "source": [
    "dae_de = e.sign()  ;   dae_de = 2 * e\n",
    "dE_de = dE_dae * dae_de\n",
    "dE_de"
   ]
  },
  {
   "cell_type": "code",
   "execution_count": 20,
   "metadata": {},
   "outputs": [
    {
     "data": {
      "text/plain": [
       "tensor([-1.5839,  4.1312, -0.0598, -1.3297, -0.4102])"
      ]
     },
     "execution_count": 20,
     "metadata": {},
     "output_type": "execute_result"
    }
   ],
   "source": [
    "dE_dypred = dE_de * -1\n",
    "dE_dypred"
   ]
  },
  {
   "cell_type": "code",
   "execution_count": 21,
   "metadata": {},
   "outputs": [
    {
     "data": {
      "text/plain": [
       "tensor(0.7477)"
      ]
     },
     "execution_count": 21,
     "metadata": {},
     "output_type": "execute_result"
    }
   ],
   "source": [
    "dE_dbias = dE_dypred.sum()\n",
    "dE_dbias"
   ]
  },
  {
   "cell_type": "code",
   "execution_count": 22,
   "metadata": {},
   "outputs": [],
   "source": [
    "lr = 0.1\n",
    "bias -= lr * dE_dbias"
   ]
  },
  {
   "cell_type": "markdown",
   "metadata": {},
   "source": [
    "## PyTorch autograd"
   ]
  },
  {
   "cell_type": "code",
   "execution_count": 23,
   "metadata": {},
   "outputs": [
    {
     "data": {
      "text/plain": [
       "[<matplotlib.lines.Line2D at 0x7fe753972dc0>]"
      ]
     },
     "execution_count": 23,
     "metadata": {},
     "output_type": "execute_result"
    },
    {
     "data": {
      "image/png": "[encoded data removed]",
      "text/plain": [
       "<Figure size 432x288 with 1 Axes>"
      ]
     },
     "metadata": {
      "needs_background": "light"
     },
     "output_type": "display_data"
    }
   ],
   "source": [
    "eps = 1e-3\n",
    "gradients = []\n",
    "grads_finite_diff = []\n",
    "for slope in torch.linspace(1.3, 1.5, steps=100):\n",
    "    slope = torch.tensor(slope.item(), requires_grad=True)\n",
    "    loss = linreg_mse(slope)\n",
    "    loss.backward()\n",
    "    gradients.append(slope.grad.item())\n",
    "    grads_finite_diff.append(\n",
    "        (linreg_mse(slope.item() + eps) \n",
    "         -\n",
    "         linreg_mse(slope.item()))\n",
    "        / (eps))\n",
    "plt.plot(slopes, gradients)\n",
    "plt.plot(slopes, grads_finite_diff)"
   ]
  },
  {
   "cell_type": "markdown",
   "metadata": {},
   "source": [
    "## Our grad"
   ]
  },
  {
   "cell_type": "code",
   "execution_count": 44,
   "metadata": {},
   "outputs": [
    {
     "name": "stdout",
     "output_type": "stream",
     "text": [
      "tensor(0.0024, requires_grad=True) tensor(0.0030, requires_grad=True)\n"
     ]
    },
    {
     "data": {
      "image/png": "[encoded data removed]",
      "text/plain": [
       "<Figure size 432x288 with 1 Axes>"
      ]
     },
     "metadata": {
      "needs_background": "light"
     },
     "output_type": "display_data"
    }
   ],
   "source": [
    "class MSELoss:\n",
    "    def forward(self, y_true, y_pred):\n",
    "        resid = y_true - y_pred\n",
    "        result = resid.pow(2).mean()\n",
    "        def back():\n",
    "            y_pred.g = -2 * resid / len(y_true)\n",
    "            y_pred.back()\n",
    "        result.back = back\n",
    "        return result\n",
    "\n",
    "class MAELoss:\n",
    "    def forward(self, y_true, y_pred):\n",
    "        resid = y_true - y_pred\n",
    "        result = resid.abs().mean()\n",
    "        def back():\n",
    "            y_pred.g = -resid.sign() / len(y_true)\n",
    "            y_pred.back()\n",
    "        result.back = back\n",
    "        result.retain_grad()\n",
    "        return result\n",
    "\n",
    "class Linear:\n",
    "    def __init__(self):\n",
    "        self.w = torch.tensor(0.0, requires_grad=True)\n",
    "        self.b = torch.tensor(0.0, requires_grad=True)\n",
    "    \n",
    "    def forward(self, x):\n",
    "        result = self.w * x + self.b\n",
    "        def back():\n",
    "            self.w.g = result.g @ x\n",
    "            self.b.g = result.g.sum()\n",
    "        result.back = back\n",
    "        result.retain_grad()\n",
    "        return result\n",
    "\n",
    "losses = []\n",
    "linear = Linear()\n",
    "loss_layer = MAELoss()\n",
    "for i in range(1):\n",
    "    y_pred = linear.forward(x)\n",
    "    loss = loss_layer.forward(y_true, y_pred)\n",
    "    losses.append(loss.item())\n",
    "    loss.back(); loss.backward()\n",
    "    linear.b.data -= linear.b.g * 0.01\n",
    "    linear.w.data -= linear.w.g * 0.01\n",
    "plt.plot(losses)\n",
    "print(linear.w, linear.b)"
   ]
  },
  {
   "cell_type": "code",
   "execution_count": 45,
   "metadata": {},
   "outputs": [
    {
     "data": {
      "text/plain": [
       "(tensor([ 0.0100,  0.0100,  0.0100,  0.0100, -0.0100, -0.0100, -0.0100, -0.0100,\n",
       "         -0.0100, -0.0100, -0.0100,  0.0100,  0.0100,  0.0100,  0.0100, -0.0100,\n",
       "         -0.0100, -0.0100,  0.0100, -0.0100,  0.0100, -0.0100,  0.0100,  0.0100,\n",
       "         -0.0100, -0.0100, -0.0100, -0.0100, -0.0100, -0.0100, -0.0100,  0.0100,\n",
       "         -0.0100, -0.0100, -0.0100,  0.0100, -0.0100, -0.0100, -0.0100,  0.0100,\n",
       "         -0.0100,  0.0100, -0.0100,  0.0100, -0.0100, -0.0100,  0.0100, -0.0100,\n",
       "         -0.0100, -0.0100, -0.0100, -0.0100, -0.0100,  0.0100, -0.0100,  0.0100,\n",
       "         -0.0100,  0.0100,  0.0100, -0.0100, -0.0100, -0.0100, -0.0100, -0.0100,\n",
       "         -0.0100, -0.0100, -0.0100, -0.0100, -0.0100, -0.0100, -0.0100, -0.0100,\n",
       "         -0.0100, -0.0100, -0.0100, -0.0100, -0.0100,  0.0100,  0.0100, -0.0100,\n",
       "         -0.0100, -0.0100, -0.0100,  0.0100, -0.0100,  0.0100, -0.0100,  0.0100,\n",
       "          0.0100,  0.0100,  0.0100,  0.0100, -0.0100, -0.0100,  0.0100,  0.0100,\n",
       "         -0.0100, -0.0100,  0.0100,  0.0100]),\n",
       " tensor([ 0.0100,  0.0100,  0.0100,  0.0100, -0.0100, -0.0100, -0.0100, -0.0100,\n",
       "         -0.0100, -0.0100, -0.0100,  0.0100,  0.0100,  0.0100,  0.0100, -0.0100,\n",
       "         -0.0100, -0.0100,  0.0100, -0.0100,  0.0100, -0.0100,  0.0100,  0.0100,\n",
       "         -0.0100, -0.0100, -0.0100, -0.0100, -0.0100, -0.0100, -0.0100,  0.0100,\n",
       "         -0.0100, -0.0100, -0.0100,  0.0100, -0.0100, -0.0100, -0.0100,  0.0100,\n",
       "         -0.0100,  0.0100, -0.0100,  0.0100, -0.0100, -0.0100,  0.0100, -0.0100,\n",
       "         -0.0100, -0.0100, -0.0100, -0.0100, -0.0100,  0.0100, -0.0100,  0.0100,\n",
       "         -0.0100,  0.0100,  0.0100, -0.0100, -0.0100, -0.0100, -0.0100, -0.0100,\n",
       "         -0.0100, -0.0100, -0.0100, -0.0100, -0.0100, -0.0100, -0.0100, -0.0100,\n",
       "         -0.0100, -0.0100, -0.0100, -0.0100, -0.0100,  0.0100,  0.0100, -0.0100,\n",
       "         -0.0100, -0.0100, -0.0100,  0.0100, -0.0100,  0.0100, -0.0100,  0.0100,\n",
       "          0.0100,  0.0100,  0.0100,  0.0100, -0.0100, -0.0100,  0.0100,  0.0100,\n",
       "         -0.0100, -0.0100,  0.0100,  0.0100], grad_fn=<DivBackward0>))"
      ]
     },
     "execution_count": 45,
     "metadata": {},
     "output_type": "execute_result"
    }
   ],
   "source": [
    "y_pred.grad, y_pred.g"
   ]
  },
  {
   "cell_type": "code",
   "execution_count": 46,
   "metadata": {},
   "outputs": [
    {
     "data": {
      "text/plain": [
       "(tensor(-0.3000, grad_fn=<SumBackward0>), tensor(-0.3000))"
      ]
     },
     "execution_count": 46,
     "metadata": {},
     "output_type": "execute_result"
    }
   ],
   "source": [
    "linear.b.g, linear.b.grad"
   ]
  },
  {
   "cell_type": "code",
   "execution_count": 25,
   "metadata": {},
   "outputs": [],
   "source": [
    "loss.back()"
   ]
  },
  {
   "cell_type": "code",
   "execution_count": 26,
   "metadata": {},
   "outputs": [
    {
     "data": {
      "text/plain": [
       "tensor([ 0.2000,  0.2000,  0.2000, -0.2000, -0.2000, -0.2000, -0.2000, -0.2000,\n",
       "        -0.2000,  0.2000, -0.2000,  0.2000,  0.2000,  0.2000,  0.2000, -0.2000,\n",
       "        -0.2000, -0.2000,  0.2000,  0.2000,  0.2000, -0.2000,  0.2000,  0.2000,\n",
       "        -0.2000, -0.2000, -0.2000, -0.2000, -0.2000, -0.2000, -0.2000,  0.2000,\n",
       "        -0.2000, -0.2000, -0.2000,  0.2000, -0.2000, -0.2000, -0.2000,  0.2000,\n",
       "         0.2000,  0.2000,  0.2000,  0.2000, -0.2000, -0.2000,  0.2000, -0.2000,\n",
       "        -0.2000, -0.2000,  0.2000, -0.2000,  0.2000,  0.2000, -0.2000,  0.2000,\n",
       "         0.2000,  0.2000,  0.2000, -0.2000, -0.2000, -0.2000, -0.2000, -0.2000,\n",
       "        -0.2000,  0.2000, -0.2000, -0.2000,  0.2000,  0.2000, -0.2000, -0.2000,\n",
       "         0.2000,  0.2000, -0.2000,  0.2000, -0.2000, -0.2000,  0.2000, -0.2000,\n",
       "        -0.2000, -0.2000, -0.2000, -0.2000,  0.2000,  0.2000,  0.2000,  0.2000,\n",
       "         0.2000,  0.2000,  0.2000,  0.2000,  0.2000,  0.2000,  0.2000,  0.2000,\n",
       "         0.2000, -0.2000,  0.2000,  0.2000])"
      ]
     },
     "execution_count": 26,
     "metadata": {},
     "output_type": "execute_result"
    }
   ],
   "source": [
    "y_pred.g"
   ]
  },
  {
   "cell_type": "code",
   "execution_count": 27,
   "metadata": {},
   "outputs": [
    {
     "data": {
      "text/plain": [
       "tensor(-1.4901e-08)"
      ]
     },
     "execution_count": 27,
     "metadata": {},
     "output_type": "execute_result"
    }
   ],
   "source": [
    "linear.b.g"
   ]
  },
  {
   "cell_type": "code",
   "execution_count": 28,
   "metadata": {},
   "outputs": [],
   "source": [
    "linear.b -= linear.b.g * 0.01"
   ]
  },
  {
   "cell_type": "code",
   "execution_count": null,
   "metadata": {},
   "outputs": [],
   "source": []
  }
 ],
 "metadata": {
  "kernelspec": {
   "display_name": "Python 3",
   "language": "python",
   "name": "python3"
  },
  "language_info": {
   "codemirror_mode": {
    "name": "ipython",
    "version": 3
   },
   "file_extension": ".py",
   "mimetype": "text/x-python",
   "name": "python",
   "nbconvert_exporter": "python",
   "pygments_lexer": "ipython3",
   "version": "3.8.8"
  }
 },
 "nbformat": 4,
 "nbformat_minor": 4
}
