{
 "cells": [
  {
   "cell_type": "code",
   "execution_count": 1,
   "id": "31c70a0e",
   "metadata": {
    "_cell_guid": "b1076dfc-b9ad-4769-8c92-a6c4dae69d19",
    "_uuid": "8f2839f25d086af736a60e9eeb907d3b93b6e0e5",
    "execution": {
     "iopub.execute_input": "2023-02-03T18:25:39.697401Z",
     "iopub.status.busy": "2023-02-03T18:25:39.696869Z",
     "iopub.status.idle": "2023-02-03T18:25:43.589625Z",
     "shell.execute_reply": "2023-02-03T18:25:43.588563Z"
    },
    "papermill": {
     "duration": 3.904014,
     "end_time": "2023-02-03T18:25:43.592285",
     "exception": false,
     "start_time": "2023-02-03T18:25:39.688271",
     "status": "completed"
    },
    "tags": []
   },
   "outputs": [],
   "source": [
    "from fastai.vision.all import *\n",
    "set_seed(0)"
   ]
  },
  {
   "cell_type": "markdown",
   "id": "b3ee1a5b",
   "metadata": {
    "papermill": {
     "duration": 0.004633,
     "end_time": "2023-02-03T18:25:43.602000",
     "exception": false,
     "start_time": "2023-02-03T18:25:43.597367",
     "status": "completed"
    },
    "tags": []
   },
   "source": [
    "# Train the model\n",
    "\n",
    "Note: this is an intentionally poor model; yours will almost certainly be better because your data is better."
   ]
  },
  {
   "cell_type": "code",
   "execution_count": 2,
   "id": "49b69f83",
   "metadata": {
    "execution": {
     "iopub.execute_input": "2023-02-03T18:25:43.613482Z",
     "iopub.status.busy": "2023-02-03T18:25:43.612622Z",
     "iopub.status.idle": "2023-02-03T18:25:44.339365Z",
     "shell.execute_reply": "2023-02-03T18:25:44.338434Z"
    },
    "papermill": {
     "duration": 0.734666,
     "end_time": "2023-02-03T18:25:44.341465",
     "exception": false,
     "start_time": "2023-02-03T18:25:43.606799",
     "status": "completed"
    },
    "tags": []
   },
   "outputs": [
    {
     "data": {
      "text/html": [
       "\n",
       "<style>\n",
       "    /* Turns off some styling */\n",
       "    progress {\n",
       "        /* gets rid of default border in Firefox and Opera. */\n",
       "        border: none;\n",
       "        /* Needs to be in here for Safari polyfill so background images work as expected. */\n",
       "        background-size: auto;\n",
       "    }\n",
       "    progress:not([value]), progress:not([value])::-webkit-progress-bar {\n",
       "        background: repeating-linear-gradient(45deg, #7e7e7e, #7e7e7e 10px, #5c5c5c 10px, #5c5c5c 20px);\n",
       "    }\n",
       "    .progress-bar-interrupted, .progress-bar-interrupted::-webkit-progress-bar {\n",
       "        background: #F44336;\n",
       "    }\n",
       "</style>\n"
      ],
      "text/plain": [
       "<IPython.core.display.HTML object>"
      ]
     },
     "metadata": {},
     "output_type": "display_data"
    },
    {
     "data": {
      "text/html": [
       "\n",
       "    <div>\n",
       "      <progress value='114688' class='' max='111066' style='width:300px; height:20px; vertical-align: middle;'></progress>\n",
       "      103.26% [114688/111066 00:00&lt;00:00]\n",
       "    </div>\n",
       "    "
      ],
      "text/plain": [
       "<IPython.core.display.HTML object>"
      ]
     },
     "metadata": {},
     "output_type": "display_data"
    }
   ],
   "source": [
    "train_dataset_path = untar_data('https://students.cs.calvin.edu/~ka37/example_letter_images.zip')\n",
    "train_images = get_image_files(train_dataset_path)\n",
    "train_labels = [img.parent.name for img in train_images]"
   ]
  },
  {
   "cell_type": "code",
   "execution_count": null,
   "id": "d23ce34e",
   "metadata": {},
   "outputs": [],
   "source": [
    "Counter(train_labels)"
   ]
  },
  {
   "attachments": {},
   "cell_type": "markdown",
   "id": "e4b8dc90",
   "metadata": {},
   "source": [
    "TODO: Cleanly separate out the Homework 1 part from the Homework 2 part; see instructions posted on Ed."
   ]
  },
  {
   "cell_type": "code",
   "execution_count": 3,
   "id": "dd4482c1",
   "metadata": {
    "execution": {
     "iopub.execute_input": "2023-02-03T18:25:44.353454Z",
     "iopub.status.busy": "2023-02-03T18:25:44.353171Z",
     "iopub.status.idle": "2023-02-03T18:25:50.628416Z",
     "shell.execute_reply": "2023-02-03T18:25:50.627152Z"
    },
    "papermill": {
     "duration": 6.284764,
     "end_time": "2023-02-03T18:25:50.631521",
     "exception": false,
     "start_time": "2023-02-03T18:25:44.346757",
     "status": "completed"
    },
    "tags": []
   },
   "outputs": [
    {
     "data": {
      "image/png": "[encoded data removed]",
      "text/plain": [
       "<Figure size 432x216 with 2 Axes>"
      ]
     },
     "metadata": {
      "needs_background": "light"
     },
     "output_type": "display_data"
    }
   ],
   "source": [
    "dataloaders = ImageDataLoaders.from_lists(\n",
    "    path = train_dataset_path, fnames=train_images, labels=train_labels,\n",
    "    valid_pct=0.2,\n",
    "    seed=42,\n",
    "    bs=2,\n",
    "    item_tfms=RandomResizedCrop(224),\n",
    "    # Use data augmentation\n",
    "    batch_tfms=aug_transforms(size=224)\n",
    ")\n",
    "dataloaders.show_batch()"
   ]
  },
  {
   "cell_type": "code",
   "execution_count": 4,
   "id": "d0e4d01e",
   "metadata": {
    "execution": {
     "iopub.execute_input": "2023-02-03T18:25:50.643404Z",
     "iopub.status.busy": "2023-02-03T18:25:50.643120Z",
     "iopub.status.idle": "2023-02-03T18:25:50.649495Z",
     "shell.execute_reply": "2023-02-03T18:25:50.648472Z"
    },
    "papermill": {
     "duration": 0.014462,
     "end_time": "2023-02-03T18:25:50.651434",
     "exception": false,
     "start_time": "2023-02-03T18:25:50.636972",
     "status": "completed"
    },
    "tags": []
   },
   "outputs": [
    {
     "data": {
      "text/plain": [
       "21"
      ]
     },
     "execution_count": 4,
     "metadata": {},
     "output_type": "execute_result"
    }
   ],
   "source": [
    "dataloaders.train.n"
   ]
  },
  {
   "cell_type": "code",
   "execution_count": 5,
   "id": "01598da1",
   "metadata": {
    "execution": {
     "iopub.execute_input": "2023-02-03T18:25:50.664571Z",
     "iopub.status.busy": "2023-02-03T18:25:50.663027Z",
     "iopub.status.idle": "2023-02-03T18:25:50.952289Z",
     "shell.execute_reply": "2023-02-03T18:25:50.951117Z"
    },
    "papermill": {
     "duration": 0.298198,
     "end_time": "2023-02-03T18:25:50.955012",
     "exception": false,
     "start_time": "2023-02-03T18:25:50.656814",
     "status": "completed"
    },
    "tags": []
   },
   "outputs": [
    {
     "name": "stdout",
     "output_type": "stream",
     "text": [
      "26 total images: 21 in train set, 5 in valid set\n",
      "Training data loader gave us 10 batches in an epoch\n",
      "Each batch had {2} images.\n",
      "So the learner will get trained on a total of 20 images.\n"
     ]
    }
   ],
   "source": [
    "sizes_of_images_in_batch = [image_batch.shape[0] for image_batch, label_batch in dataloaders.train]\n",
    "print(f'{len(train_images)} total images: {dataloaders.train.n} in train set, {dataloaders.valid.n} in valid set')\n",
    "print(f'Training data loader gave us {len(sizes_of_images_in_batch)} batches in an epoch')\n",
    "print(f'Each batch had {set(sizes_of_images_in_batch)} images.')\n",
    "print(f'So the learner will get trained on a total of {sum(sizes_of_images_in_batch)} images.')"
   ]
  },
  {
   "cell_type": "code",
   "execution_count": 6,
   "id": "f509fd90",
   "metadata": {
    "execution": {
     "iopub.execute_input": "2023-02-03T18:25:50.968239Z",
     "iopub.status.busy": "2023-02-03T18:25:50.967462Z",
     "iopub.status.idle": "2023-02-03T18:25:57.189483Z",
     "shell.execute_reply": "2023-02-03T18:25:57.188584Z"
    },
    "papermill": {
     "duration": 6.231222,
     "end_time": "2023-02-03T18:25:57.191905",
     "exception": false,
     "start_time": "2023-02-03T18:25:50.960683",
     "status": "completed"
    },
    "tags": []
   },
   "outputs": [
    {
     "name": "stderr",
     "output_type": "stream",
     "text": [
      "Downloading: \"https://download.pytorch.org/models/resnet18-f37072fd.pth\" to /root/.cache/torch/hub/checkpoints/resnet18-f37072fd.pth\n"
     ]
    },
    {
     "data": {
      "application/vnd.jupyter.widget-view+json": {
       "model_id": "278bddc7ef2444a38c18a61566b9ac0b",
       "version_major": 2,
       "version_minor": 0
      },
      "text/plain": [
       "  0%|          | 0.00/44.7M [00:00<?, ?B/s]"
      ]
     },
     "metadata": {},
     "output_type": "display_data"
    }
   ],
   "source": [
    "learn = vision_learner(\n",
    "    dls = dataloaders,\n",
    "    arch=resnet18,\n",
    "    metrics=[accuracy]\n",
    ")"
   ]
  },
  {
   "cell_type": "code",
   "execution_count": 7,
   "id": "d270aa4f",
   "metadata": {
    "execution": {
     "iopub.execute_input": "2023-02-03T18:25:57.205087Z",
     "iopub.status.busy": "2023-02-03T18:25:57.204799Z",
     "iopub.status.idle": "2023-02-03T18:26:11.718570Z",
     "shell.execute_reply": "2023-02-03T18:26:11.717483Z"
    },
    "papermill": {
     "duration": 14.522864,
     "end_time": "2023-02-03T18:26:11.720796",
     "exception": false,
     "start_time": "2023-02-03T18:25:57.197932",
     "status": "completed"
    },
    "tags": []
   },
   "outputs": [
    {
     "name": "stdout",
     "output_type": "stream",
     "text": [
      "Running fine-tuning\n"
     ]
    },
    {
     "data": {
      "text/html": [
       "\n",
       "<style>\n",
       "    /* Turns off some styling */\n",
       "    progress {\n",
       "        /* gets rid of default border in Firefox and Opera. */\n",
       "        border: none;\n",
       "        /* Needs to be in here for Safari polyfill so background images work as expected. */\n",
       "        background-size: auto;\n",
       "    }\n",
       "    progress:not([value]), progress:not([value])::-webkit-progress-bar {\n",
       "        background: repeating-linear-gradient(45deg, #7e7e7e, #7e7e7e 10px, #5c5c5c 10px, #5c5c5c 20px);\n",
       "    }\n",
       "    .progress-bar-interrupted, .progress-bar-interrupted::-webkit-progress-bar {\n",
       "        background: #F44336;\n",
       "    }\n",
       "</style>\n"
      ],
      "text/plain": [
       "<IPython.core.display.HTML object>"
      ]
     },
     "metadata": {},
     "output_type": "display_data"
    },
    {
     "data": {
      "text/html": [
       "<table border=\"1\" class=\"dataframe\">\n",
       "  <thead>\n",
       "    <tr style=\"text-align: left;\">\n",
       "      <th>epoch</th>\n",
       "      <th>train_loss</th>\n",
       "      <th>valid_loss</th>\n",
       "      <th>accuracy</th>\n",
       "      <th>time</th>\n",
       "    </tr>\n",
       "  </thead>\n",
       "  <tbody>\n",
       "    <tr>\n",
       "      <td>0</td>\n",
       "      <td>1.427542</td>\n",
       "      <td>1.204675</td>\n",
       "      <td>0.400000</td>\n",
       "      <td>00:05</td>\n",
       "    </tr>\n",
       "  </tbody>\n",
       "</table>"
      ],
      "text/plain": [
       "<IPython.core.display.HTML object>"
      ]
     },
     "metadata": {},
     "output_type": "display_data"
    },
    {
     "data": {
      "text/html": [
       "\n",
       "<style>\n",
       "    /* Turns off some styling */\n",
       "    progress {\n",
       "        /* gets rid of default border in Firefox and Opera. */\n",
       "        border: none;\n",
       "        /* Needs to be in here for Safari polyfill so background images work as expected. */\n",
       "        background-size: auto;\n",
       "    }\n",
       "    progress:not([value]), progress:not([value])::-webkit-progress-bar {\n",
       "        background: repeating-linear-gradient(45deg, #7e7e7e, #7e7e7e 10px, #5c5c5c 10px, #5c5c5c 20px);\n",
       "    }\n",
       "    .progress-bar-interrupted, .progress-bar-interrupted::-webkit-progress-bar {\n",
       "        background: #F44336;\n",
       "    }\n",
       "</style>\n"
      ],
      "text/plain": [
       "<IPython.core.display.HTML object>"
      ]
     },
     "metadata": {},
     "output_type": "display_data"
    },
    {
     "data": {
      "text/html": [
       "<table border=\"1\" class=\"dataframe\">\n",
       "  <thead>\n",
       "    <tr style=\"text-align: left;\">\n",
       "      <th>epoch</th>\n",
       "      <th>train_loss</th>\n",
       "      <th>valid_loss</th>\n",
       "      <th>accuracy</th>\n",
       "      <th>time</th>\n",
       "    </tr>\n",
       "  </thead>\n",
       "  <tbody>\n",
       "    <tr>\n",
       "      <td>0</td>\n",
       "      <td>1.140317</td>\n",
       "      <td>0.691164</td>\n",
       "      <td>0.600000</td>\n",
       "      <td>00:01</td>\n",
       "    </tr>\n",
       "    <tr>\n",
       "      <td>1</td>\n",
       "      <td>1.484382</td>\n",
       "      <td>0.387477</td>\n",
       "      <td>0.800000</td>\n",
       "      <td>00:00</td>\n",
       "    </tr>\n",
       "    <tr>\n",
       "      <td>2</td>\n",
       "      <td>1.547534</td>\n",
       "      <td>0.572340</td>\n",
       "      <td>0.600000</td>\n",
       "      <td>00:00</td>\n",
       "    </tr>\n",
       "    <tr>\n",
       "      <td>3</td>\n",
       "      <td>1.446050</td>\n",
       "      <td>0.660998</td>\n",
       "      <td>0.800000</td>\n",
       "      <td>00:01</td>\n",
       "    </tr>\n",
       "    <tr>\n",
       "      <td>4</td>\n",
       "      <td>1.446995</td>\n",
       "      <td>0.613119</td>\n",
       "      <td>0.800000</td>\n",
       "      <td>00:00</td>\n",
       "    </tr>\n",
       "    <tr>\n",
       "      <td>5</td>\n",
       "      <td>1.395874</td>\n",
       "      <td>0.627853</td>\n",
       "      <td>0.800000</td>\n",
       "      <td>00:00</td>\n",
       "    </tr>\n",
       "    <tr>\n",
       "      <td>6</td>\n",
       "      <td>1.380330</td>\n",
       "      <td>0.485403</td>\n",
       "      <td>0.800000</td>\n",
       "      <td>00:00</td>\n",
       "    </tr>\n",
       "    <tr>\n",
       "      <td>7</td>\n",
       "      <td>1.356561</td>\n",
       "      <td>0.420344</td>\n",
       "      <td>0.800000</td>\n",
       "      <td>00:00</td>\n",
       "    </tr>\n",
       "    <tr>\n",
       "      <td>8</td>\n",
       "      <td>1.269402</td>\n",
       "      <td>0.440142</td>\n",
       "      <td>0.800000</td>\n",
       "      <td>00:00</td>\n",
       "    </tr>\n",
       "    <tr>\n",
       "      <td>9</td>\n",
       "      <td>1.277924</td>\n",
       "      <td>0.311430</td>\n",
       "      <td>0.800000</td>\n",
       "      <td>00:00</td>\n",
       "    </tr>\n",
       "  </tbody>\n",
       "</table>"
      ],
      "text/plain": [
       "<IPython.core.display.HTML object>"
      ]
     },
     "metadata": {},
     "output_type": "display_data"
    },
    {
     "data": {
      "image/png": "[encoded data removed]",
      "text/plain": [
       "<Figure size 432x288 with 1 Axes>"
      ]
     },
     "metadata": {
      "needs_background": "light"
     },
     "output_type": "display_data"
    }
   ],
   "source": [
    "saved_clf_filename = 'classifier.pth'\n",
    "try:\n",
    "    learn.load(saved_clf_filename)\n",
    "    print(\"Loaded saved learner\")\n",
    "except FileNotFoundError:\n",
    "    # Note that save/load is odd; it actually saves and loads from (learn.path/learn.model_dir/filename).\n",
    "    # Maybe we should be using learn.export()?\n",
    "    print(\"Running fine-tuning\")\n",
    "    learn.fine_tune(epochs=10)\n",
    "    learn.recorder.plot_loss()\n",
    "    learn.save(saved_clf_filename)"
   ]
  },
  {
   "cell_type": "markdown",
   "id": "766e977a",
   "metadata": {
    "papermill": {
     "duration": 0.006198,
     "end_time": "2023-02-03T18:26:11.733829",
     "exception": false,
     "start_time": "2023-02-03T18:26:11.727631",
     "status": "completed"
    },
    "tags": []
   },
   "source": [
    "# Load the test set\n",
    "\n",
    "Here's the code for getting the test set loaded. The basic approach is the same as constructing the DataLoaders above, but instead of making brand new dataloaders, we make a new dataloader that's like the original one but using a new set of images. (This is different than creating a new `dataloaders` because we don't want to split the new data into a training set and validation set; we want to use the whole thing.)\n",
    "\n",
    "We're giving it the labels so that we can diagnose the results. In a Kaggle-style competition format, you won't get the true labels, so you'll just use `dataloaders.test_dls(test_images, with_labels=False)`."
   ]
  },
  {
   "cell_type": "code",
   "execution_count": 8,
   "id": "11b9d5a3",
   "metadata": {
    "execution": {
     "iopub.execute_input": "2023-02-03T18:26:11.750030Z",
     "iopub.status.busy": "2023-02-03T18:26:11.748477Z",
     "iopub.status.idle": "2023-02-03T18:26:17.986291Z",
     "shell.execute_reply": "2023-02-03T18:26:17.985318Z"
    },
    "papermill": {
     "duration": 6.247588,
     "end_time": "2023-02-03T18:26:17.988688",
     "exception": false,
     "start_time": "2023-02-03T18:26:11.741100",
     "status": "completed"
    },
    "tags": []
   },
   "outputs": [
    {
     "data": {
      "text/html": [
       "\n",
       "<style>\n",
       "    /* Turns off some styling */\n",
       "    progress {\n",
       "        /* gets rid of default border in Firefox and Opera. */\n",
       "        border: none;\n",
       "        /* Needs to be in here for Safari polyfill so background images work as expected. */\n",
       "        background-size: auto;\n",
       "    }\n",
       "    progress:not([value]), progress:not([value])::-webkit-progress-bar {\n",
       "        background: repeating-linear-gradient(45deg, #7e7e7e, #7e7e7e 10px, #5c5c5c 10px, #5c5c5c 20px);\n",
       "    }\n",
       "    .progress-bar-interrupted, .progress-bar-interrupted::-webkit-progress-bar {\n",
       "        background: #F44336;\n",
       "    }\n",
       "</style>\n"
      ],
      "text/plain": [
       "<IPython.core.display.HTML object>"
      ]
     },
     "metadata": {},
     "output_type": "display_data"
    },
    {
     "data": {
      "text/html": [
       "\n",
       "    <div>\n",
       "      <progress value='52699136' class='' max='52695272' style='width:300px; height:20px; vertical-align: middle;'></progress>\n",
       "      100.01% [52699136/52695272 00:05&lt;00:00]\n",
       "    </div>\n",
       "    "
      ],
      "text/plain": [
       "<IPython.core.display.HTML object>"
      ]
     },
     "metadata": {},
     "output_type": "display_data"
    }
   ],
   "source": [
    "test_url = 'https://students.cs.calvin.edu/~ka37/letter_images_dataset_v0.zip'\n",
    "test_dataset_path = untar_data(test_url)"
   ]
  },
  {
   "cell_type": "code",
   "execution_count": 9,
   "id": "c0668d0a",
   "metadata": {
    "execution": {
     "iopub.execute_input": "2023-02-03T18:26:18.003848Z",
     "iopub.status.busy": "2023-02-03T18:26:18.003234Z",
     "iopub.status.idle": "2023-02-03T18:26:18.017495Z",
     "shell.execute_reply": "2023-02-03T18:26:18.016686Z"
    },
    "papermill": {
     "duration": 0.023923,
     "end_time": "2023-02-03T18:26:18.019496",
     "exception": false,
     "start_time": "2023-02-03T18:26:17.995573",
     "status": "completed"
    },
    "tags": []
   },
   "outputs": [],
   "source": [
    "test_images = get_image_files(test_dataset_path)\n",
    "test_labels = [img.parent.name.upper() for img in test_images]"
   ]
  },
  {
   "cell_type": "code",
   "execution_count": 10,
   "id": "828ca244",
   "metadata": {
    "execution": {
     "iopub.execute_input": "2023-02-03T18:26:18.033929Z",
     "iopub.status.busy": "2023-02-03T18:26:18.033160Z",
     "iopub.status.idle": "2023-02-03T18:26:18.039516Z",
     "shell.execute_reply": "2023-02-03T18:26:18.038512Z"
    },
    "papermill": {
     "duration": 0.015933,
     "end_time": "2023-02-03T18:26:18.041842",
     "exception": false,
     "start_time": "2023-02-03T18:26:18.025909",
     "status": "completed"
    },
    "tags": []
   },
   "outputs": [
    {
     "data": {
      "text/plain": [
       "(#944) [Path('/root/.fastai/data/letter_images_dataset_v0/c/group_5_c3.jpg'),Path('/root/.fastai/data/letter_images_dataset_v0/c/group_9_lower_c_1.png'),Path('/root/.fastai/data/letter_images_dataset_v0/c/group_4_C_0.png'),Path('/root/.fastai/data/letter_images_dataset_v0/c/group_0_C_30.png'),Path('/root/.fastai/data/letter_images_dataset_v0/c/group_0_C_7.png'),Path('/root/.fastai/data/letter_images_dataset_v0/c/group_10_c20.png'),Path('/root/.fastai/data/letter_images_dataset_v0/c/group_1_C_34.png'),Path('/root/.fastai/data/letter_images_dataset_v0/c/group_8_c13.png'),Path('/root/.fastai/data/letter_images_dataset_v0/c/group_1_C_4.png'),Path('/root/.fastai/data/letter_images_dataset_v0/c/group_3_C_0.png')...]"
      ]
     },
     "execution_count": 10,
     "metadata": {},
     "output_type": "execute_result"
    }
   ],
   "source": [
    "test_images"
   ]
  },
  {
   "cell_type": "code",
   "execution_count": 11,
   "id": "efd02e3e",
   "metadata": {
    "execution": {
     "iopub.execute_input": "2023-02-03T18:26:18.056479Z",
     "iopub.status.busy": "2023-02-03T18:26:18.056226Z",
     "iopub.status.idle": "2023-02-03T18:26:18.061888Z",
     "shell.execute_reply": "2023-02-03T18:26:18.060915Z"
    },
    "papermill": {
     "duration": 0.014919,
     "end_time": "2023-02-03T18:26:18.063765",
     "exception": false,
     "start_time": "2023-02-03T18:26:18.048846",
     "status": "completed"
    },
    "tags": []
   },
   "outputs": [],
   "source": [
    "# Note: we need to \"zip\" the filenames together with the corresponding filenames.\n",
    "# To see how `zip` works, try looking at the output of `list(zip(test_images[:5], test_labels))`.\n",
    "test_dl = dataloaders.test_dl(list(zip(test_images, test_labels)), with_labels=True)"
   ]
  },
  {
   "cell_type": "code",
   "execution_count": 12,
   "id": "ff7d0d0c",
   "metadata": {
    "execution": {
     "iopub.execute_input": "2023-02-03T18:26:18.078572Z",
     "iopub.status.busy": "2023-02-03T18:26:18.077822Z",
     "iopub.status.idle": "2023-02-03T18:26:18.244930Z",
     "shell.execute_reply": "2023-02-03T18:26:18.243821Z"
    },
    "papermill": {
     "duration": 0.177168,
     "end_time": "2023-02-03T18:26:18.247635",
     "exception": false,
     "start_time": "2023-02-03T18:26:18.070467",
     "status": "completed"
    },
    "tags": []
   },
   "outputs": [
    {
     "data": {
      "image/png": "[encoded data removed]",
      "text/plain": [
       "<Figure size 432x216 with 2 Axes>"
      ]
     },
     "metadata": {
      "needs_background": "light"
     },
     "output_type": "display_data"
    }
   ],
   "source": [
    "test_dl.show_batch()"
   ]
  },
  {
   "cell_type": "markdown",
   "id": "d058da5c",
   "metadata": {
    "papermill": {
     "duration": 0.010534,
     "end_time": "2023-02-03T18:26:18.275248",
     "exception": false,
     "start_time": "2023-02-03T18:26:18.264714",
     "status": "completed"
    },
    "tags": []
   },
   "source": [
    "# Evaluate our learner on the testing data\n",
    "\n",
    "Once we have the test `DataLoader`, we can use it for `ClassificationInterpretation`. By default, the *validation* set is used, but we can tell it to use `test_dl` instead:\n"
   ]
  },
  {
   "cell_type": "code",
   "execution_count": 13,
   "id": "46fc0984",
   "metadata": {
    "execution": {
     "iopub.execute_input": "2023-02-03T18:26:18.289815Z",
     "iopub.status.busy": "2023-02-03T18:26:18.289497Z",
     "iopub.status.idle": "2023-02-03T18:26:28.790396Z",
     "shell.execute_reply": "2023-02-03T18:26:28.789377Z"
    },
    "papermill": {
     "duration": 10.510923,
     "end_time": "2023-02-03T18:26:28.792850",
     "exception": false,
     "start_time": "2023-02-03T18:26:18.281927",
     "status": "completed"
    },
    "tags": []
   },
   "outputs": [
    {
     "data": {
      "text/html": [
       "\n",
       "<style>\n",
       "    /* Turns off some styling */\n",
       "    progress {\n",
       "        /* gets rid of default border in Firefox and Opera. */\n",
       "        border: none;\n",
       "        /* Needs to be in here for Safari polyfill so background images work as expected. */\n",
       "        background-size: auto;\n",
       "    }\n",
       "    progress:not([value]), progress:not([value])::-webkit-progress-bar {\n",
       "        background: repeating-linear-gradient(45deg, #7e7e7e, #7e7e7e 10px, #5c5c5c 10px, #5c5c5c 20px);\n",
       "    }\n",
       "    .progress-bar-interrupted, .progress-bar-interrupted::-webkit-progress-bar {\n",
       "        background: #F44336;\n",
       "    }\n",
       "</style>\n"
      ],
      "text/plain": [
       "<IPython.core.display.HTML object>"
      ]
     },
     "metadata": {},
     "output_type": "display_data"
    },
    {
     "data": {
      "text/html": [],
      "text/plain": [
       "<IPython.core.display.HTML object>"
      ]
     },
     "metadata": {},
     "output_type": "display_data"
    }
   ],
   "source": [
    "interp = ClassificationInterpretation.from_learner(learn, dl=test_dl)"
   ]
  },
  {
   "cell_type": "markdown",
   "id": "4e2dc1bd",
   "metadata": {
    "papermill": {
     "duration": 0.006758,
     "end_time": "2023-02-03T18:26:28.807054",
     "exception": false,
     "start_time": "2023-02-03T18:26:28.800296",
     "status": "completed"
    },
    "tags": []
   },
   "source": [
    "Here are three basic reports that you might want to look at. (See Chapter 2 of the book.)"
   ]
  },
  {
   "cell_type": "code",
   "execution_count": 14,
   "id": "e9fb703d",
   "metadata": {
    "execution": {
     "iopub.execute_input": "2023-02-03T18:26:28.822357Z",
     "iopub.status.busy": "2023-02-03T18:26:28.822051Z",
     "iopub.status.idle": "2023-02-03T18:26:39.561203Z",
     "shell.execute_reply": "2023-02-03T18:26:39.559739Z"
    },
    "papermill": {
     "duration": 10.749342,
     "end_time": "2023-02-03T18:26:39.563285",
     "exception": false,
     "start_time": "2023-02-03T18:26:28.813943",
     "status": "completed"
    },
    "tags": []
   },
   "outputs": [
    {
     "data": {
      "text/html": [
       "\n",
       "<style>\n",
       "    /* Turns off some styling */\n",
       "    progress {\n",
       "        /* gets rid of default border in Firefox and Opera. */\n",
       "        border: none;\n",
       "        /* Needs to be in here for Safari polyfill so background images work as expected. */\n",
       "        background-size: auto;\n",
       "    }\n",
       "    progress:not([value]), progress:not([value])::-webkit-progress-bar {\n",
       "        background: repeating-linear-gradient(45deg, #7e7e7e, #7e7e7e 10px, #5c5c5c 10px, #5c5c5c 20px);\n",
       "    }\n",
       "    .progress-bar-interrupted, .progress-bar-interrupted::-webkit-progress-bar {\n",
       "        background: #F44336;\n",
       "    }\n",
       "</style>\n"
      ],
      "text/plain": [
       "<IPython.core.display.HTML object>"
      ]
     },
     "metadata": {},
     "output_type": "display_data"
    },
    {
     "data": {
      "text/html": [],
      "text/plain": [
       "<IPython.core.display.HTML object>"
      ]
     },
     "metadata": {},
     "output_type": "display_data"
    },
    {
     "name": "stdout",
     "output_type": "stream",
     "text": [
      "              precision    recall  f1-score   support\n",
      "\n",
      "           A       0.54      0.48      0.51       332\n",
      "           B       0.63      0.12      0.21       346\n",
      "           C       0.40      0.88      0.55       266\n",
      "\n",
      "    accuracy                           0.46       944\n",
      "   macro avg       0.52      0.49      0.42       944\n",
      "weighted avg       0.53      0.46      0.41       944\n",
      "\n"
     ]
    }
   ],
   "source": [
    "interp.print_classification_report()"
   ]
  },
  {
   "cell_type": "code",
   "execution_count": 15,
   "id": "4943b845",
   "metadata": {
    "execution": {
     "iopub.execute_input": "2023-02-03T18:26:39.579460Z",
     "iopub.status.busy": "2023-02-03T18:26:39.579150Z",
     "iopub.status.idle": "2023-02-03T18:26:49.751825Z",
     "shell.execute_reply": "2023-02-03T18:26:49.750598Z"
    },
    "papermill": {
     "duration": 10.184204,
     "end_time": "2023-02-03T18:26:49.755051",
     "exception": false,
     "start_time": "2023-02-03T18:26:39.570847",
     "status": "completed"
    },
    "tags": []
   },
   "outputs": [
    {
     "data": {
      "text/html": [
       "\n",
       "<style>\n",
       "    /* Turns off some styling */\n",
       "    progress {\n",
       "        /* gets rid of default border in Firefox and Opera. */\n",
       "        border: none;\n",
       "        /* Needs to be in here for Safari polyfill so background images work as expected. */\n",
       "        background-size: auto;\n",
       "    }\n",
       "    progress:not([value]), progress:not([value])::-webkit-progress-bar {\n",
       "        background: repeating-linear-gradient(45deg, #7e7e7e, #7e7e7e 10px, #5c5c5c 10px, #5c5c5c 20px);\n",
       "    }\n",
       "    .progress-bar-interrupted, .progress-bar-interrupted::-webkit-progress-bar {\n",
       "        background: #F44336;\n",
       "    }\n",
       "</style>\n"
      ],
      "text/plain": [
       "<IPython.core.display.HTML object>"
      ]
     },
     "metadata": {},
     "output_type": "display_data"
    },
    {
     "data": {
      "text/html": [],
      "text/plain": [
       "<IPython.core.display.HTML object>"
      ]
     },
     "metadata": {},
     "output_type": "display_data"
    },
    {
     "data": {
      "image/png": "[encoded data removed]",
      "text/plain": [
       "<Figure size 432x288 with 1 Axes>"
      ]
     },
     "metadata": {
      "needs_background": "light"
     },
     "output_type": "display_data"
    }
   ],
   "source": [
    "interp.plot_confusion_matrix()"
   ]
  },
  {
   "cell_type": "code",
   "execution_count": 16,
   "id": "447e85e7",
   "metadata": {
    "execution": {
     "iopub.execute_input": "2023-02-03T18:26:49.796665Z",
     "iopub.status.busy": "2023-02-03T18:26:49.796100Z",
     "iopub.status.idle": "2023-02-03T18:26:51.625039Z",
     "shell.execute_reply": "2023-02-03T18:26:51.623969Z"
    },
    "papermill": {
     "duration": 1.854193,
     "end_time": "2023-02-03T18:26:51.628716",
     "exception": false,
     "start_time": "2023-02-03T18:26:49.774523",
     "status": "completed"
    },
    "tags": []
   },
   "outputs": [
    {
     "data": {
      "text/html": [
       "\n",
       "<style>\n",
       "    /* Turns off some styling */\n",
       "    progress {\n",
       "        /* gets rid of default border in Firefox and Opera. */\n",
       "        border: none;\n",
       "        /* Needs to be in here for Safari polyfill so background images work as expected. */\n",
       "        background-size: auto;\n",
       "    }\n",
       "    progress:not([value]), progress:not([value])::-webkit-progress-bar {\n",
       "        background: repeating-linear-gradient(45deg, #7e7e7e, #7e7e7e 10px, #5c5c5c 10px, #5c5c5c 20px);\n",
       "    }\n",
       "    .progress-bar-interrupted, .progress-bar-interrupted::-webkit-progress-bar {\n",
       "        background: #F44336;\n",
       "    }\n",
       "</style>\n"
      ],
      "text/plain": [
       "<IPython.core.display.HTML object>"
      ]
     },
     "metadata": {},
     "output_type": "display_data"
    },
    {
     "data": {
      "text/html": [],
      "text/plain": [
       "<IPython.core.display.HTML object>"
      ]
     },
     "metadata": {},
     "output_type": "display_data"
    },
    {
     "data": {
      "image/png": "[encoded data removed]",
      "text/plain": [
       "<Figure size 1080x1080 with 25 Axes>"
      ]
     },
     "metadata": {
      "needs_background": "light"
     },
     "output_type": "display_data"
    }
   ],
   "source": [
    "interp.plot_top_losses(25)"
   ]
  },
  {
   "cell_type": "markdown",
   "id": "79c5f999",
   "metadata": {
    "papermill": {
     "duration": 0.009504,
     "end_time": "2023-02-03T18:26:51.648306",
     "exception": false,
     "start_time": "2023-02-03T18:26:51.638802",
     "status": "completed"
    },
    "tags": []
   },
   "source": [
    "Aside: here's the code for getting the predictions manually. [docs](https://docs.fast.ai/learner.html#learner.get_preds)\n",
    "\n",
    "This works by treating a correct prediction as a 1 and an incorrect prediction as 0. (I call this the *sum-as-count pattern*) This code also demonstrates a clean way to spread out a Python expression over multiple lines: put everything in parentheses.\n"
   ]
  },
  {
   "cell_type": "code",
   "execution_count": 17,
   "id": "f709a801",
   "metadata": {
    "execution": {
     "iopub.execute_input": "2023-02-03T18:26:51.669146Z",
     "iopub.status.busy": "2023-02-03T18:26:51.668847Z",
     "iopub.status.idle": "2023-02-03T18:27:01.989324Z",
     "shell.execute_reply": "2023-02-03T18:27:01.988268Z"
    },
    "papermill": {
     "duration": 10.334004,
     "end_time": "2023-02-03T18:27:01.991963",
     "exception": false,
     "start_time": "2023-02-03T18:26:51.657959",
     "status": "completed"
    },
    "tags": []
   },
   "outputs": [
    {
     "data": {
      "text/html": [
       "\n",
       "<style>\n",
       "    /* Turns off some styling */\n",
       "    progress {\n",
       "        /* gets rid of default border in Firefox and Opera. */\n",
       "        border: none;\n",
       "        /* Needs to be in here for Safari polyfill so background images work as expected. */\n",
       "        background-size: auto;\n",
       "    }\n",
       "    progress:not([value]), progress:not([value])::-webkit-progress-bar {\n",
       "        background: repeating-linear-gradient(45deg, #7e7e7e, #7e7e7e 10px, #5c5c5c 10px, #5c5c5c 20px);\n",
       "    }\n",
       "    .progress-bar-interrupted, .progress-bar-interrupted::-webkit-progress-bar {\n",
       "        background: #F44336;\n",
       "    }\n",
       "</style>\n"
      ],
      "text/plain": [
       "<IPython.core.display.HTML object>"
      ]
     },
     "metadata": {},
     "output_type": "display_data"
    },
    {
     "data": {
      "text/html": [],
      "text/plain": [
       "<IPython.core.display.HTML object>"
      ]
     },
     "metadata": {},
     "output_type": "display_data"
    }
   ],
   "source": [
    "predicted_probs, targets = learn.get_preds(dl=test_dl, with_preds=True, with_targs=True)\n",
    "# Use the class with the highest predicted probability as the predicted class.\n",
    "predicted_classes = predicted_probs.argmax(axis=1)"
   ]
  },
  {
   "cell_type": "code",
   "execution_count": 18,
   "id": "9e1549ac",
   "metadata": {
    "execution": {
     "iopub.execute_input": "2023-02-03T18:27:02.013706Z",
     "iopub.status.busy": "2023-02-03T18:27:02.013367Z",
     "iopub.status.idle": "2023-02-03T18:27:02.023149Z",
     "shell.execute_reply": "2023-02-03T18:27:02.022287Z"
    },
    "papermill": {
     "duration": 0.022801,
     "end_time": "2023-02-03T18:27:02.025108",
     "exception": false,
     "start_time": "2023-02-03T18:27:02.002307",
     "status": "completed"
    },
    "tags": []
   },
   "outputs": [
    {
     "data": {
      "text/plain": [
       "TensorBase(0.4608, dtype=torch.float64)"
      ]
     },
     "execution_count": 18,
     "metadata": {},
     "output_type": "execute_result"
    }
   ],
   "source": [
    "(\n",
    "    # Make a Tensor of Trues and Falses, True if the classifier got the corresponding image right\n",
    "    (\n",
    "        # the predictions that the model made on the test set\n",
    "        predicted_classes\n",
    "        # compare with the target labels provided by the DataLoader (we got these from get_preds above)\n",
    "        == targets\n",
    "    )\n",
    "    # convert True to 1.0, False to 0.0\n",
    "    .to(float)\n",
    "    # Compute the fraction of True's.\n",
    "    .mean()\n",
    ")"
   ]
  },
  {
   "cell_type": "markdown",
   "id": "3d1d140c",
   "metadata": {
    "papermill": {
     "duration": 0.009538,
     "end_time": "2023-02-03T18:27:02.044387",
     "exception": false,
     "start_time": "2023-02-03T18:27:02.034849",
     "status": "completed"
    },
    "tags": []
   },
   "source": [
    "This also works:"
   ]
  },
  {
   "cell_type": "code",
   "execution_count": 19,
   "id": "2b1131e5",
   "metadata": {
    "execution": {
     "iopub.execute_input": "2023-02-03T18:27:02.066548Z",
     "iopub.status.busy": "2023-02-03T18:27:02.064905Z",
     "iopub.status.idle": "2023-02-03T18:27:02.074143Z",
     "shell.execute_reply": "2023-02-03T18:27:02.073296Z"
    },
    "papermill": {
     "duration": 0.022055,
     "end_time": "2023-02-03T18:27:02.076174",
     "exception": false,
     "start_time": "2023-02-03T18:27:02.054119",
     "status": "completed"
    },
    "tags": []
   },
   "outputs": [
    {
     "data": {
      "text/plain": [
       "TensorBase(0.4608)"
      ]
     },
     "execution_count": 19,
     "metadata": {},
     "output_type": "execute_result"
    }
   ],
   "source": [
    "accuracy(predicted_probs, targets)"
   ]
  }
 ],
 "metadata": {
  "kernelspec": {
   "display_name": "Python 3",
   "language": "python",
   "name": "python3"
  },
  "language_info": {
   "codemirror_mode": {
    "name": "ipython",
    "version": 3
   },
   "file_extension": ".py",
   "mimetype": "text/x-python",
   "name": "python",
   "nbconvert_exporter": "python",
   "pygments_lexer": "ipython3",
   "version": "3.7.12"
  },
  "papermill": {
   "default_parameters": {},
   "duration": 92.134935,
   "end_time": "2023-02-03T18:27:03.911247",
   "environment_variables": {},
   "exception": null,
   "input_path": "__notebook__.ipynb",
   "output_path": "__notebook__.ipynb",
   "parameters": {},
   "start_time": "2023-02-03T18:25:31.776312",
   "version": "2.3.4"
  },
  "widgets": {
   "application/vnd.jupyter.widget-state+json": {
    "state": {
     "0de41d0ac0924e329ce4cd70b692e286": {
      "model_module": "@jupyter-widgets/controls",
      "model_module_version": "1.5.0",
      "model_name": "ProgressStyleModel",
      "state": {
       "_model_module": "@jupyter-widgets/controls",
       "_model_module_version": "1.5.0",
       "_model_name": "ProgressStyleModel",
       "_view_count": null,
       "_view_module": "@jupyter-widgets/base",
       "_view_module_version": "1.2.0",
       "_view_name": "StyleView",
       "bar_color": null,
       "description_width": ""
      }
     },
     "0ea401778c674d71af78c468decf1def": {
      "model_module": "@jupyter-widgets/base",
      "model_module_version": "1.2.0",
      "model_name": "LayoutModel",
      "state": {
       "_model_module": "@jupyter-widgets/base",
       "_model_module_version": "1.2.0",
       "_model_name": "LayoutModel",
       "_view_count": null,
       "_view_module": "@jupyter-widgets/base",
       "_view_module_version": "1.2.0",
       "_view_name": "LayoutView",
       "align_content": null,
       "align_items": null,
       "align_self": null,
       "border": null,
       "bottom": null,
       "display": null,
       "flex": null,
       "flex_flow": null,
       "grid_area": null,
       "grid_auto_columns": null,
       "grid_auto_flow": null,
       "grid_auto_rows": null,
       "grid_column": null,
       "grid_gap": null,
       "grid_row": null,
       "grid_template_areas": null,
       "grid_template_columns": null,
       "grid_template_rows": null,
       "height": null,
       "justify_content": null,
       "justify_items": null,
       "left": null,
       "margin": null,
       "max_height": null,
       "max_width": null,
       "min_height": null,
       "min_width": null,
       "object_fit": null,
       "object_position": null,
       "order": null,
       "overflow": null,
       "overflow_x": null,
       "overflow_y": null,
       "padding": null,
       "right": null,
       "top": null,
       "visibility": null,
       "width": null
      }
     },
     "1f8e7dc6b3e1431395a86f70a17fc131": {
      "model_module": "@jupyter-widgets/controls",
      "model_module_version": "1.5.0",
      "model_name": "HTMLModel",
      "state": {
       "_dom_classes": [],
       "_model_module": "@jupyter-widgets/controls",
       "_model_module_version": "1.5.0",
       "_model_name": "HTMLModel",
       "_view_count": null,
       "_view_module": "@jupyter-widgets/controls",
       "_view_module_version": "1.5.0",
       "_view_name": "HTMLView",
       "description": "",
       "description_tooltip": null,
       "layout": "IPY_MODEL_0ea401778c674d71af78c468decf1def",
       "placeholder": "​",
       "style": "IPY_MODEL_957d8a8491ca4bb5b061562894dde3e5",
       "value": " 44.7M/44.7M [00:05&lt;00:00, 18.1MB/s]"
      }
     },
     "278bddc7ef2444a38c18a61566b9ac0b": {
      "model_module": "@jupyter-widgets/controls",
      "model_module_version": "1.5.0",
      "model_name": "HBoxModel",
      "state": {
       "_dom_classes": [],
       "_model_module": "@jupyter-widgets/controls",
       "_model_module_version": "1.5.0",
       "_model_name": "HBoxModel",
       "_view_count": null,
       "_view_module": "@jupyter-widgets/controls",
       "_view_module_version": "1.5.0",
       "_view_name": "HBoxView",
       "box_style": "",
       "children": [
        "IPY_MODEL_941ef8fee61e4a2288498f066350e03e",
        "IPY_MODEL_a6746f7b1f994fbd9bb369f7549fec6b",
        "IPY_MODEL_1f8e7dc6b3e1431395a86f70a17fc131"
       ],
       "layout": "IPY_MODEL_c538c32a1bf540af8c35cea39c396b0f"
      }
     },
     "5374d14417fd4804999f6ab7815b3b3b": {
      "model_module": "@jupyter-widgets/controls",
      "model_module_version": "1.5.0",
      "model_name": "DescriptionStyleModel",
      "state": {
       "_model_module": "@jupyter-widgets/controls",
       "_model_module_version": "1.5.0",
       "_model_name": "DescriptionStyleModel",
       "_view_count": null,
       "_view_module": "@jupyter-widgets/base",
       "_view_module_version": "1.2.0",
       "_view_name": "StyleView",
       "description_width": ""
      }
     },
     "8b96418162be4b7ebf1f38b34bb2304d": {
      "model_module": "@jupyter-widgets/base",
      "model_module_version": "1.2.0",
      "model_name": "LayoutModel",
      "state": {
       "_model_module": "@jupyter-widgets/base",
       "_model_module_version": "1.2.0",
       "_model_name": "LayoutModel",
       "_view_count": null,
       "_view_module": "@jupyter-widgets/base",
       "_view_module_version": "1.2.0",
       "_view_name": "LayoutView",
       "align_content": null,
       "align_items": null,
       "align_self": null,
       "border": null,
       "bottom": null,
       "display": null,
       "flex": null,
       "flex_flow": null,
       "grid_area": null,
       "grid_auto_columns": null,
       "grid_auto_flow": null,
       "grid_auto_rows": null,
       "grid_column": null,
       "grid_gap": null,
       "grid_row": null,
       "grid_template_areas": null,
       "grid_template_columns": null,
       "grid_template_rows": null,
       "height": null,
       "justify_content": null,
       "justify_items": null,
       "left": null,
       "margin": null,
       "max_height": null,
       "max_width": null,
       "min_height": null,
       "min_width": null,
       "object_fit": null,
       "object_position": null,
       "order": null,
       "overflow": null,
       "overflow_x": null,
       "overflow_y": null,
       "padding": null,
       "right": null,
       "top": null,
       "visibility": null,
       "width": null
      }
     },
     "941ef8fee61e4a2288498f066350e03e": {
      "model_module": "@jupyter-widgets/controls",
      "model_module_version": "1.5.0",
      "model_name": "HTMLModel",
      "state": {
       "_dom_classes": [],
       "_model_module": "@jupyter-widgets/controls",
       "_model_module_version": "1.5.0",
       "_model_name": "HTMLModel",
       "_view_count": null,
       "_view_module": "@jupyter-widgets/controls",
       "_view_module_version": "1.5.0",
       "_view_name": "HTMLView",
       "description": "",
       "description_tooltip": null,
       "layout": "IPY_MODEL_e438fd2bab584d28aed9b9cfbccbe726",
       "placeholder": "​",
       "style": "IPY_MODEL_5374d14417fd4804999f6ab7815b3b3b",
       "value": "100%"
      }
     },
     "957d8a8491ca4bb5b061562894dde3e5": {
      "model_module": "@jupyter-widgets/controls",
      "model_module_version": "1.5.0",
      "model_name": "DescriptionStyleModel",
      "state": {
       "_model_module": "@jupyter-widgets/controls",
       "_model_module_version": "1.5.0",
       "_model_name": "DescriptionStyleModel",
       "_view_count": null,
       "_view_module": "@jupyter-widgets/base",
       "_view_module_version": "1.2.0",
       "_view_name": "StyleView",
       "description_width": ""
      }
     },
     "a6746f7b1f994fbd9bb369f7549fec6b": {
      "model_module": "@jupyter-widgets/controls",
      "model_module_version": "1.5.0",
      "model_name": "FloatProgressModel",
      "state": {
       "_dom_classes": [],
       "_model_module": "@jupyter-widgets/controls",
       "_model_module_version": "1.5.0",
       "_model_name": "FloatProgressModel",
       "_view_count": null,
       "_view_module": "@jupyter-widgets/controls",
       "_view_module_version": "1.5.0",
       "_view_name": "ProgressView",
       "bar_style": "success",
       "description": "",
       "description_tooltip": null,
       "layout": "IPY_MODEL_8b96418162be4b7ebf1f38b34bb2304d",
       "max": 46830571,
       "min": 0,
       "orientation": "horizontal",
       "style": "IPY_MODEL_0de41d0ac0924e329ce4cd70b692e286",
       "value": 46830571
      }
     },
     "c538c32a1bf540af8c35cea39c396b0f": {
      "model_module": "@jupyter-widgets/base",
      "model_module_version": "1.2.0",
      "model_name": "LayoutModel",
      "state": {
       "_model_module": "@jupyter-widgets/base",
       "_model_module_version": "1.2.0",
       "_model_name": "LayoutModel",
       "_view_count": null,
       "_view_module": "@jupyter-widgets/base",
       "_view_module_version": "1.2.0",
       "_view_name": "LayoutView",
       "align_content": null,
       "align_items": null,
       "align_self": null,
       "border": null,
       "bottom": null,
       "display": null,
       "flex": null,
       "flex_flow": null,
       "grid_area": null,
       "grid_auto_columns": null,
       "grid_auto_flow": null,
       "grid_auto_rows": null,
       "grid_column": null,
       "grid_gap": null,
       "grid_row": null,
       "grid_template_areas": null,
       "grid_template_columns": null,
       "grid_template_rows": null,
       "height": null,
       "justify_content": null,
       "justify_items": null,
       "left": null,
       "margin": null,
       "max_height": null,
       "max_width": null,
       "min_height": null,
       "min_width": null,
       "object_fit": null,
       "object_position": null,
       "order": null,
       "overflow": null,
       "overflow_x": null,
       "overflow_y": null,
       "padding": null,
       "right": null,
       "top": null,
       "visibility": null,
       "width": null
      }
     },
     "e438fd2bab584d28aed9b9cfbccbe726": {
      "model_module": "@jupyter-widgets/base",
      "model_module_version": "1.2.0",
      "model_name": "LayoutModel",
      "state": {
       "_model_module": "@jupyter-widgets/base",
       "_model_module_version": "1.2.0",
       "_model_name": "LayoutModel",
       "_view_count": null,
       "_view_module": "@jupyter-widgets/base",
       "_view_module_version": "1.2.0",
       "_view_name": "LayoutView",
       "align_content": null,
       "align_items": null,
       "align_self": null,
       "border": null,
       "bottom": null,
       "display": null,
       "flex": null,
       "flex_flow": null,
       "grid_area": null,
       "grid_auto_columns": null,
       "grid_auto_flow": null,
       "grid_auto_rows": null,
       "grid_column": null,
       "grid_gap": null,
       "grid_row": null,
       "grid_template_areas": null,
       "grid_template_columns": null,
       "grid_template_rows": null,
       "height": null,
       "justify_content": null,
       "justify_items": null,
       "left": null,
       "margin": null,
       "max_height": null,
       "max_width": null,
       "min_height": null,
       "min_width": null,
       "object_fit": null,
       "object_position": null,
       "order": null,
       "overflow": null,
       "overflow_x": null,
       "overflow_y": null,
       "padding": null,
       "right": null,
       "top": null,
       "visibility": null,
       "width": null
      }
     }
    },
    "version_major": 2,
    "version_minor": 0
   }
  }
 },
 "nbformat": 4,
 "nbformat_minor": 5
}
