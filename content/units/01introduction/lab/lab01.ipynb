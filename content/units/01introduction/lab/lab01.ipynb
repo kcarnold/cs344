{
 "cells": [
  {
   "attachments": {},
   "cell_type": "markdown",
   "id": "f22c40bb",
   "metadata": {},
   "source": [
    "# Jupyter Notebook Warmup"
   ]
  },
  {
   "cell_type": "markdown",
   "id": "267023a4",
   "metadata": {},
   "source": [
    "## Environment check\n",
    "\n",
    "Run the following cell to check that your environment is set up properly."
   ]
  },
  {
   "cell_type": "code",
   "execution_count": null,
   "id": "366c98f1",
   "metadata": {
    "vscode": {
     "languageId": "python"
    }
   },
   "outputs": [],
   "source": [
    "from fastbook import *\n",
    "pip_path = !which pip\n",
    "assert 'conda' in pip_path[0], \"pip path should include conda\""
   ]
  },
  {
   "cell_type": "markdown",
   "id": "e3312381",
   "metadata": {},
   "source": [
    "On the lab computers, this should display `True`:"
   ]
  },
  {
   "cell_type": "code",
   "execution_count": null,
   "id": "bd49fe15",
   "metadata": {
    "vscode": {
     "languageId": "python"
    }
   },
   "outputs": [],
   "source": [
    "torch.cuda.is_available()"
   ]
  },
  {
   "cell_type": "markdown",
   "id": "9be596c7",
   "metadata": {},
   "source": [
    "Anyone running locally on macOS CPU will need this code; generally you should be using the lab machines though:"
   ]
  },
  {
   "cell_type": "code",
   "execution_count": null,
   "id": "2349e595",
   "metadata": {
    "vscode": {
     "languageId": "python"
    }
   },
   "outputs": [],
   "source": [
    "import sys\n",
    "if sys.platform == \"darwin\":\n",
    "    # https://stackoverflow.com/a/64855500/69707\n",
    "    import os\n",
    "    os.environ['OMP_NUM_THREADS'] = '1'"
   ]
  },
  {
   "cell_type": "markdown",
   "id": "076d3d3e",
   "metadata": {},
   "source": [
    "## Jupyter Notebooks"
   ]
  },
  {
   "cell_type": "markdown",
   "id": "9af9bc54",
   "metadata": {},
   "source": [
    "Add your code and Markdown cells here. Delete this cell."
   ]
  }
 ],
 "metadata": {
  "kernelspec": {
   "display_name": "sp22",
   "language": "python",
   "name": "sp22"
  }
 },
 "nbformat": 4,
 "nbformat_minor": 5
}
