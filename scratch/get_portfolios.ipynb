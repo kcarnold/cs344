{
 "cells": [
  {
   "cell_type": "code",
   "execution_count": null,
   "metadata": {},
   "outputs": [],
   "source": [
    "import pandas as pd\n",
    "from pathlib import Path"
   ]
  },
  {
   "cell_type": "code",
   "execution_count": null,
   "metadata": {},
   "outputs": [],
   "source": [
    "root = Path('~/non-dropbox-docs/student_data/cs344/23sp').expanduser().resolve()\n",
    "repos = root / 'repos'\n",
    "repos.mkdir(parents=True, exist_ok=True)\n",
    "main_repo = repos / 'main'\n",
    "main_repo.mkdir(parents=True, exist_ok=True)"
   ]
  },
  {
   "cell_type": "code",
   "execution_count": null,
   "metadata": {},
   "outputs": [],
   "source": [
    "repos"
   ]
  },
  {
   "cell_type": "code",
   "execution_count": null,
   "metadata": {},
   "outputs": [],
   "source": [
    "ghclass_data = pd.read_csv(root / 'portfolio-repo-grades-23sp.csv')\n",
    "ghclass_data.head()"
   ]
  },
  {
   "cell_type": "code",
   "execution_count": null,
   "metadata": {},
   "outputs": [],
   "source": [
    "import re\n",
    "\n",
    "student_name_re = re.compile(r'^(.+) \\((.+)\\)$')\n",
    "\n",
    "def get_remote_name(student_name_field):\n",
    "    if pd.isna(student_name_field):\n",
    "        return None\n",
    "    student_name, student_id = student_name_re.match(student_name_field).groups()\n",
    "    return f'{student_id}_{student_name.replace(\" \", \"_\")}'"
   ]
  },
  {
   "cell_type": "code",
   "execution_count": null,
   "metadata": {},
   "outputs": [],
   "source": [
    "ghclass_data['remote_name'] = [get_remote_name(x) for x in ghclass_data['roster_identifier']]"
   ]
  },
  {
   "attachments": {},
   "cell_type": "markdown",
   "metadata": {},
   "source": [
    "# Initial setup"
   ]
  },
  {
   "attachments": {},
   "cell_type": "markdown",
   "metadata": {},
   "source": [
    "Clone the template repository."
   ]
  },
  {
   "cell_type": "code",
   "execution_count": null,
   "metadata": {},
   "outputs": [],
   "source": [
    "template_repo = ghclass_data['starter_code_url'][0]\n",
    "template_repo = '/'.join(template_repo.rsplit('/', 2)[-2:])\n",
    "template_repo"
   ]
  },
  {
   "cell_type": "code",
   "execution_count": null,
   "metadata": {},
   "outputs": [],
   "source": [
    "# Clone this repo into the root directory\n",
    "!git clone git@github.com:{template_repo} {main_repo}"
   ]
  },
  {
   "attachments": {},
   "cell_type": "markdown",
   "metadata": {},
   "source": [
    "Add all of the student repos as remotes."
   ]
  },
  {
   "cell_type": "code",
   "execution_count": null,
   "metadata": {},
   "outputs": [],
   "source": [
    "for i in range(len(ghclass_data)):\n",
    "    student_name = ghclass_data['roster_identifier'].iloc[i]\n",
    "    if pd.isna(student_name):\n",
    "        continue\n",
    "    remote_name = ghclass_data['remote_name'].iloc[i]\n",
    "    student_repo = ghclass_data['student_repository_url'].iloc[i].replace('https://github.com/', 'git@github.com:')\n",
    "    print(remote_name)\n",
    "    !cd {main_repo} && git remote add {remote_name} {student_repo}"
   ]
  },
  {
   "attachments": {},
   "cell_type": "markdown",
   "metadata": {},
   "source": [
    "Add a worktree for each remote."
   ]
  },
  {
   "cell_type": "code",
   "execution_count": null,
   "metadata": {},
   "outputs": [],
   "source": [
    "for i in range(len(ghclass_data)):\n",
    "    remote_name = ghclass_data['remote_name'].iloc[i]\n",
    "    if pd.isna(remote_name): continue\n",
    "    print(remote_name)\n",
    "    #!cd {main_repo} && git worktree add --track -b {remote_name}-main {repos}/{remote_name} {remote_name}/main\n",
    "    !cd {main_repo} && git worktree add --track -B {remote_name}-main {repos}/{remote_name} {remote_name}/main\n",
    "    #!cd {main_repo} && git worktree remove {repos}/{remote_name}"
   ]
  },
  {
   "attachments": {},
   "cell_type": "markdown",
   "metadata": {},
   "source": [
    "Fetch all remotes."
   ]
  },
  {
   "cell_type": "code",
   "execution_count": null,
   "metadata": {},
   "outputs": [],
   "source": [
    "for i in range(len(ghclass_data)):\n",
    "    remote_name = ghclass_data['remote_name'].iloc[i]\n",
    "    if pd.isna(remote_name):\n",
    "        continue\n",
    "    print(remote_name)\n",
    "    !cd {main_repo} && git fetch {remote_name}\n"
   ]
  },
  {
   "cell_type": "code",
   "execution_count": null,
   "metadata": {},
   "outputs": [],
   "source": [
    "!cd {main_repo} && git gc"
   ]
  },
  {
   "attachments": {},
   "cell_type": "markdown",
   "metadata": {},
   "source": [
    "The below is for getting Homework 1 stuff."
   ]
  },
  {
   "cell_type": "code",
   "execution_count": null,
   "metadata": {},
   "outputs": [],
   "source": [
    "import re\n",
    "url_re = re.compile(r'https://students.cs.calvin.edu/.+(\\.zip|\\.tgz|\\.tar.gz)')"
   ]
  },
  {
   "cell_type": "code",
   "execution_count": null,
   "metadata": {},
   "outputs": [],
   "source": [
    "moodle_assignments = [x for x in Path('../student_data/23sp/23SP CS-344-A-Homework 1-1575205/').glob('**/onlinetext.html')]\n",
    "for f in moodle_assignments:\n",
    "    x = f.read_text()\n",
    "    if 'http' in x:\n",
    "        print(x)\n",
    "    if m := url_re.search(x):\n",
    "        print(m)"
   ]
  },
  {
   "attachments": {},
   "cell_type": "markdown",
   "metadata": {},
   "source": [
    "Grep those files for students.cs.calvin.edu links."
   ]
  },
  {
   "attachments": {},
   "cell_type": "markdown",
   "metadata": {},
   "source": [
    "Download all the links"
   ]
  },
  {
   "cell_type": "markdown",
   "metadata": {},
   "source": []
  }
 ],
 "metadata": {
  "kernelspec": {
   "display_name": "fa22",
   "language": "python",
   "name": "python3"
  },
  "language_info": {
   "codemirror_mode": {
    "name": "ipython",
    "version": 3
   },
   "file_extension": ".py",
   "mimetype": "text/x-python",
   "name": "python",
   "nbconvert_exporter": "python",
   "pygments_lexer": "ipython3",
   "version": "3.10.5"
  },
  "orig_nbformat": 4,
  "vscode": {
   "interpreter": {
    "hash": "74acacffd0749514a06dc7848c6df011b7a94ca944d93916dccfefa4cad34482"
   }
  }
 },
 "nbformat": 4,
 "nbformat_minor": 2
}
