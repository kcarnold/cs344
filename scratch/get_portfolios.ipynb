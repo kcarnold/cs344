{
 "cells": [
  {
   "cell_type": "code",
   "execution_count": 1,
   "metadata": {},
   "outputs": [],
   "source": [
    "import pandas as pd\n",
    "from pathlib import Path"
   ]
  },
  {
   "cell_type": "code",
   "execution_count": 2,
   "metadata": {},
   "outputs": [],
   "source": [
    "ghclass = Path('../student_data/23sp/portfolio-repo-grades-1674941210.csv')"
   ]
  },
  {
   "cell_type": "code",
   "execution_count": 7,
   "metadata": {},
   "outputs": [],
   "source": [
    "import re\n",
    "url_re = re.compile(r'https://students.cs.calvin.edu/.+(\\.zip|\\.tgz|\\.tar.gz)')"
   ]
  },
  {
   "cell_type": "code",
   "execution_count": 9,
   "metadata": {},
   "outputs": [
    {
     "name": "stdout",
     "output_type": "stream",
     "text": [
      "<!DOCTYPE html><html><head><meta charset=\"UTF-8\"></head><body><p dir=\"ltr\" style=\"text-align: left;\">GitHub:&nbsp;https://github.com/Calvin-CS344-23SP/portfolio-repo-ashill1470/blob/main/hw/Homework1/homework1.ipynb</p><p dir=\"ltr\" style=\"text-align: left;\">Dataset:&nbsp;<span style=\"font-size: 1rem;\">https://students.cs.calvin.edu/~ash37/letters.zip</span></p><p dir=\"ltr\" style=\"text-align: left;\"><span style=\"font-size: 1rem;\"><br></span></p><p></p></body></html>\n",
      "<re.Match object; span=(303, 352), match='https://students.cs.calvin.edu/~ash37/letters.zip>\n",
      "<!DOCTYPE html><html><head><meta charset=\"UTF-8\"></head><body><p dir=\"ltr\" style=\"text-align: left;\">https://github.com/Calvin-CS344-23SP/portfolio-repo-hlg5/blob/804e6ae8783593e9e90679abfd9e662a8823cea9/homework1.ipynb<br></p></body></html>\n",
      "<!DOCTYPE html><html><head><meta charset=\"UTF-8\"></head><body><p dir=\"ltr\" style=\"text-align: left;\"><a href=\"https://github.com/Calvin-CS344-23SP/portfolio-repo-TheBguy87/blob/main/hw/hw1/hw1.ipynb\">https://github.com/Calvin-CS344-23SP/portfolio-repo-TheBguy87/blob/main/hw/hw1/hw1.ipynb</a><br></p></body></html>\n",
      "<!DOCTYPE html><html><head><meta charset=\"UTF-8\"></head><body><p dir=\"ltr\" style=\"text-align: left;\">https://github.com/Calvin-CS344-23SP/portfolio-repo-samhoog/blob/main/hw/hw1/homework01.ipynb<br></p></body></html>\n",
      "<!DOCTYPE html><html><head><meta charset=\"UTF-8\"></head><body><p dir=\"ltr\" style=\"text-align: left;\">https://github.com/Calvin-CS344-23SP/portfolio-repo-MatthewWalstra/blob/main/hw/hw1.ipynb<br></p></body></html>\n",
      "<!DOCTYPE html><html><head><meta charset=\"UTF-8\"></head><body><p dir=\"ltr\" style=\"text-align: left;\">https://github.com/Calvin-CS344-23SP/portfolio-repo-EleanorLee42/blob/main/hw/hw01/u02n1-abc.ipynb<br></p></body></html>\n",
      "<!DOCTYPE html><html><head><meta charset=\"UTF-8\"></head><body><p dir=\"ltr\" style=\"text-align: left;\">https://github.com/Calvin-CS344-23SP/portfolio-repo-lhumphrey3511/blob/main/hw/homework1.ipynb<br></p></body></html>\n",
      "<!DOCTYPE html><html><head><meta charset=\"UTF-8\"></head><body><p dir=\"ltr\" style=\"text-align: left;\">Notebook File on GitHub:&nbsp;https://github.com/Calvin-CS344-23SP/portfolio-repo-aellxx/blob/main/hw/hw01/homework01-notebook.ipynb</p><p dir=\"ltr\" style=\"text-align: left;\">Link to images:&nbsp;&nbsp;<span style=\"color: rgb(33, 37, 41); font-family: SFMono-Regular, Menlo, Monaco, Consolas, &quot;Liberation Mono&quot;, &quot;Courier New&quot;, monospace; font-size: 14px;\">https://students.cs.calvin.edu/~al87/images.zip</span></p><p></p></body></html>\n",
      "<re.Match object; span=(477, 524), match='https://students.cs.calvin.edu/~al87/images.zip'>\n",
      "<!DOCTYPE html><html><head><meta charset=\"UTF-8\"></head><body><p dir=\"ltr\" style=\"text-align: left;\">https://github.com/Calvin-CS344-23SP/portfolio-repo-kangk9908/blob/main/hw/hw01/hw01-ImageClassifier.ipynb<br></p><p dir=\"ltr\" style=\"text-align: left;\">https://students.cs.calvin.edu/~kk58/images.zip<br></p></body></html>\n",
      "<re.Match object; span=(254, 301), match='https://students.cs.calvin.edu/~kk58/images.zip'>\n",
      "<!DOCTYPE html><html><head><meta charset=\"UTF-8\"></head><body><p dir=\"ltr\" style=\"text-align: left;\">https://github.com/Calvin-CS344-23SP/portfolio-repo-yeomyeong01/blob/main/hw/homework01.ipynb<br></p></body></html>\n",
      "<!DOCTYPE html><html><head><meta charset=\"UTF-8\"></head><body><p dir=\"ltr\" style=\"text-align: left;\">https://github.com/Calvin-CS344-23SP/portfolio-repo-charlesduimstra/blob/main/hw/u02n0-hmwk1.ipynb<br></p></body></html>\n",
      "<!DOCTYPE html><html><head><meta charset=\"UTF-8\"></head><body>https://github.com/Calvin-CS344-23SP/portfolio-repo-samuelth47/blob/main/hw/homework1.ipynb<br><br>4.<br><ul><li>The classifier is 40% accurate.</li><li>It is most successful at classifying the letter \"B.\"</li><li>It is mistaking the letter \"A\" most frequently.</li><li><img src=\"image.png\" alt=\"\" width=\"350\" height=\"200\" class=\"atto_image_button_text-bottom\"></li><li>This could be because of the type of images it took for validation and training sets and because the training sets were not good enough to train the classifier.</li><li>My classifier would be able to get someone else's image right at about 40% accuracy, or 4 times out of 10.</li><li><span style=\"font-size:1rem;\">I could have created a better set of images of the letters that were bigger and better. Moreover, if there were a way to specify the training images to be the best images in the set, I would do that.</span><br></li><li><span style=\"font-size:1rem;\">The classifier would be better are recognizing the letters and have a higher accuracy rate if it had better images to train on.</span></li></ul></body></html>\n",
      "<!DOCTYPE html><html><head><meta charset=\"UTF-8\"></head><body><p dir=\"ltr\" style=\"text-align: left;\"></p><ul><li>https://github.com/Calvin-CS344-23SP/portfolio-repo-adhamrishmawi1-lab/blob/main/hw/u01n0-hw1.ipynb<br></li><li>&nbsp;*the zip file might have some issues so just manually download them*</li><li>How accurate is the classifier overall?: it was fairly accurate and had an accuracy rate of 75%</li><li>Which letter is it most successful at classifying? Give an example of a correctly classified image (show a specific image file and its classification):&nbsp; I would say A's because it has the most characteristics.<img src=\"image.png\" alt=\"\" role=\"presentation\" class=\"img-fluid\"></li><li>What mistakes does it make most frequently? Give an example of a mistake (show a specific image file and its classification).: the biggest mistake is the B's</li><li>For the previous 3 questions, any ideas about&nbsp;<em>why</em>?: no not really!</li><li>Suppose someone else gave you one of their images. How likely do you think your classifier would be to get it right?&nbsp;<em>report your answer in terms of a percentage, either overall or by letter</em>. B+</li><li>What choices did you have to make in the process of collecting data, processing it, and analyzing the results?: how I made my data and which classifier I used!<ul><li>What are one or two choices that you could have made differently?: I don't know yet!</li><li>What do you expect would be different if you made that different choice?: the quality of the data and more realistic data!</li></ul></li></ul><br><p></p></body></html>\n",
      "<!DOCTYPE html><html><head><meta charset=\"UTF-8\"></head><body><p dir=\"ltr\" style=\"text-align: left;\">https://github.com/Calvin-CS344-23SP/portfolio-repo-ifeanyiko/tree/main/hw<br></p></body></html>\n",
      "<!DOCTYPE html><html><head><meta charset=\"UTF-8\"></head><body><p dir=\"ltr\" style=\"text-align: left;\">https://github.com/Calvin-CS344-23SP/portfolio-repo-zhartsuff/blob/main/hw/Hw1.ipynb</p><p dir=\"ltr\" style=\"text-align: left;\"><a href=\"images.zip?time=1674876903907\">images.zip?time=1674876903907</a><br></p></body></html>\n",
      "<!DOCTYPE html><html><head><meta charset=\"UTF-8\"></head><body><p dir=\"ltr\" style=\"text-align: left;\">https://github.com/Calvin-CS344-23SP/portfolio-repo-agritter/blob/main/hw/u02h1-abcclassifier.ipynb<br></p></body></html>\n"
     ]
    }
   ],
   "source": [
    "moodle_assignments = [x for x in Path('../student_data/23sp/23SP CS-344-A-Homework 1-1575205/').glob('**/onlinetext.html')]\n",
    "for f in moodle_assignments:\n",
    "    x = f.read_text()\n",
    "    if 'http' in x:\n",
    "        print(x)\n",
    "    if m := url_re.search(x):\n",
    "        print(m)"
   ]
  },
  {
   "attachments": {},
   "cell_type": "markdown",
   "metadata": {},
   "source": [
    "Grep those files for students.cs.calvin.edu links."
   ]
  },
  {
   "attachments": {},
   "cell_type": "markdown",
   "metadata": {},
   "source": [
    "Download all the links"
   ]
  },
  {
   "cell_type": "markdown",
   "metadata": {},
   "source": []
  }
 ],
 "metadata": {
  "kernelspec": {
   "display_name": "fa22",
   "language": "python",
   "name": "python3"
  },
  "language_info": {
   "codemirror_mode": {
    "name": "ipython",
    "version": 3
   },
   "file_extension": ".py",
   "mimetype": "text/x-python",
   "name": "python",
   "nbconvert_exporter": "python",
   "pygments_lexer": "ipython3",
   "version": "3.10.5 | packaged by conda-forge | (main, Jun 14 2022, 07:03:09) [Clang 13.0.1 ]"
  },
  "orig_nbformat": 4,
  "vscode": {
   "interpreter": {
    "hash": "74acacffd0749514a06dc7848c6df011b7a94ca944d93916dccfefa4cad34482"
   }
  }
 },
 "nbformat": 4,
 "nbformat_minor": 2
}
